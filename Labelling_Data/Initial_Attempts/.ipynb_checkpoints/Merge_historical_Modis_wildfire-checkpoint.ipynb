{
 "cells": [
  {
   "cell_type": "code",
   "execution_count": 2,
   "metadata": {},
   "outputs": [],
   "source": [
    "import pandas as pd\n",
    "import numpy as np\n",
    "import sqlite3\n",
    "\n",
    "viirs_url = 'https://firms.modaps.eosdis.nasa.gov/data/active_fire/viirs/csv/VNP14IMGTDL_NRT_USA_contiguous_and_Hawaii_24h.csv'\n",
    "modis_url = 'https://firms.modaps.eosdis.nasa.gov/data/active_fire/c6/csv/MODIS_C6_USA_contiguous_and_Hawaii_24h.csv'\n",
    "\n",
    "# SQL data from here: https://www.kaggle.com/rtatman/188-million-us-wildfires\n",
    "\n",
    "# Create the connection\n",
    "cnx = sqlite3.connect('FPA_FOD_20170508.sqlite')\n",
    "\n",
    "# create the dataframe from a query\n",
    "# Fire Program Analysis (FPA) system\n",
    "df = pd.read_sql_query(\"\"\"SELECT LATITUDE, LONGITUDE, FIRE_NAME, DISCOVERY_DATE, FIRE_YEAR, \n",
    "                       DISCOVERY_DOY, STAT_CAUSE_DESCR, FIRE_SIZE FROM Fires WHERE FIRE_YEAR > 2001\"\"\", cnx)"
   ]
  },
  {
   "cell_type": "code",
   "execution_count": 3,
   "metadata": {},
   "outputs": [
    {
     "data": {
      "text/plain": [
       "((1125314, 8), (1780524, 15))"
      ]
     },
     "execution_count": 3,
     "metadata": {},
     "output_type": "execute_result"
    }
   ],
   "source": [
    "modis_df = pd.read_csv('DL_FIRE_M6_66499/fire_archive_M6_66499.csv')\n",
    "df.shape, modis_df.shape"
   ]
  },
  {
   "cell_type": "code",
   "execution_count": 5,
   "metadata": {},
   "outputs": [
    {
     "data": {
      "text/plain": [
       "<matplotlib.axes._subplots.AxesSubplot at 0x7fa524722630>"
      ]
     },
     "execution_count": 5,
     "metadata": {},
     "output_type": "execute_result"
    },
    {
     "data": {
      "image/png": "[encoded data removed]",
      "text/plain": [
       "<Figure size 432x288 with 1 Axes>"
      ]
     },
     "metadata": {
      "needs_background": "light"
     },
     "output_type": "display_data"
    }
   ],
   "source": [
    "# becaust fire year and DDOY are not a sufficiently good date, we'll construct better dates \n",
    "df['DISCOVERY_DOY'].hist()"
   ]
  },
  {
   "cell_type": "code",
   "execution_count": 4,
   "metadata": {},
   "outputs": [],
   "source": [
    "# create datetime objects and then year and month\n",
    "import datetime\n",
    "\n",
    "fire_year = df[\"FIRE_YEAR\"].tolist()\n",
    "day_of_year = df[\"DISCOVERY_DOY\"].tolist()\n",
    "\n",
    "fire_dates = tuple(zip(fire_year, day_of_year))\n",
    "\n",
    "def to_date(fire_dates):\n",
    "    dates = []\n",
    "    for row in fire_dates:\n",
    "        dates.append(datetime.datetime(row[0], 1, 1) + datetime.timedelta(row[1] - 1))\n",
    "    return dates\n",
    "\n",
    "dates = to_date(fire_dates)\n",
    "df['DATE'] = dates\n",
    "df['MONTH'] = df['DATE'].dt.month"
   ]
  },
  {
   "cell_type": "code",
   "execution_count": 5,
   "metadata": {},
   "outputs": [],
   "source": [
    "# the goal is to match modus and FPA data by date, and rounded lat/long 1\n",
    "\n",
    "# create rounded latitudes\n",
    "df[\"LAT_ROUND_1\"] = round(df[\"LATITUDE\"], 1)\n",
    "df[\"LON_ROUND_1\"] = round(df[\"LONGITUDE\"], 1)\n",
    "modis_df[\"LAT_ROUND_1\"] = round(modis_df[\"latitude\"], 1)\n",
    "modis_df[\"LON_ROUND_1\"] = round(modis_df[\"longitude\"], 1)"
   ]
  },
  {
   "cell_type": "code",
   "execution_count": 6,
   "metadata": {},
   "outputs": [],
   "source": [
    "# change the modis date format into something matchable to to the FPA df\n",
    "modis_df['DATE']= pd.to_datetime(modis_df['acq_date'])\n",
    "modis_df['FIRE_YEAR'] = modis_df['DATE'].dt.year\n",
    "modis_df['MONTH'] = modis_df['DATE'].dt.month\n",
    "# def date_to_days(month, day):\n",
    "        \n",
    "#     date = month * 30 + day\n",
    "    \n",
    "#     #this deals with december\n",
    "#     if date > 366:\n",
    "#         date -= 30\n",
    "    \n",
    "#     return date\n",
    "\n",
    "# modis_df['DISCOVERY_DOY'] = modis_df['acq_date'].apply(lambda x: date_to_days(x.month, x.day))"
   ]
  },
  {
   "cell_type": "code",
   "execution_count": 7,
   "metadata": {},
   "outputs": [],
   "source": [
    "merged = pd.merge(modis_df, df[['STAT_CAUSE_DESCR', 'LAT_ROUND_1', 'LON_ROUND_1', 'FIRE_YEAR', 'MONTH']], how='left', on=['LAT_ROUND_1', 'LON_ROUND_1', 'FIRE_YEAR', 'MONTH'])"
   ]
  },
  {
   "cell_type": "code",
   "execution_count": 8,
   "metadata": {},
   "outputs": [
    {
     "data": {
      "text/plain": [
       "(2037291, 21)"
      ]
     },
     "execution_count": 8,
     "metadata": {},
     "output_type": "execute_result"
    }
   ],
   "source": [
    "merged.shape"
   ]
  },
  {
   "cell_type": "code",
   "execution_count": 9,
   "metadata": {},
   "outputs": [
    {
     "data": {
      "text/plain": [
       "latitude                  0\n",
       "longitude                 0\n",
       "brightness                0\n",
       "scan                      0\n",
       "track                     0\n",
       "acq_date                  0\n",
       "acq_time                  0\n",
       "satellite                 0\n",
       "instrument                0\n",
       "confidence                0\n",
       "version                   0\n",
       "bright_t31                0\n",
       "frp                       0\n",
       "daynight                  0\n",
       "type                      0\n",
       "LAT_ROUND_1               0\n",
       "LON_ROUND_1               0\n",
       "DATE                      0\n",
       "FIRE_YEAR                 0\n",
       "MONTH                     0\n",
       "STAT_CAUSE_DESCR    1434244\n",
       "dtype: int64"
      ]
     },
     "execution_count": 9,
     "metadata": {},
     "output_type": "execute_result"
    }
   ],
   "source": [
    "merged.isna().sum()"
   ]
  },
  {
   "cell_type": "code",
   "execution_count": 10,
   "metadata": {},
   "outputs": [
    {
     "data": {
      "text/plain": [
       "(603047, 0.2960043508757463)"
      ]
     },
     "execution_count": 10,
     "metadata": {},
     "output_type": "execute_result"
    }
   ],
   "source": [
    "positive = len(merged) - merged.STAT_CAUSE_DESCR.isna().sum() #number of positive matches/ % of positives\n",
    "\n",
    "positive, positive/len(merged)"
   ]
  },
  {
   "cell_type": "code",
   "execution_count": 11,
   "metadata": {},
   "outputs": [],
   "source": [
    "# label and clean\n",
    "\n",
    "# Label fires as rows without NANs in the STAT_CAUSE_DESCR column\n",
    "merged.loc[merged['STAT_CAUSE_DESCR'].isna() != True, 'isFire'] = 1\n",
    "merged.loc[merged['STAT_CAUSE_DESCR'].isna() == True, 'isFire'] = 0\n",
    "\n",
    "\n",
    "# build more time features\n",
    "merged['WEEK'] = merged['DATE'].dt.weekofyear\n",
    "merged['DAY'] = merged['DATE'].dt.day\n",
    "\n",
    "# drop excess columns\n",
    "merged.drop(columns = ['LAT_ROUND_1', 'LON_ROUND_1', 'STAT_CAUSE_DESCR', 'instrument', 'acq_date'], inplace=True)"
   ]
  },
  {
   "cell_type": "code",
   "execution_count": 12,
   "metadata": {},
   "outputs": [
    {
     "data": {
      "text/plain": [
       "(2037291, 19)"
      ]
     },
     "execution_count": 12,
     "metadata": {},
     "output_type": "execute_result"
    }
   ],
   "source": [
    "merged.shape"
   ]
  },
  {
   "cell_type": "code",
   "execution_count": 13,
   "metadata": {},
   "outputs": [],
   "source": [
    "# I'll save merged now\n",
    "merged.to_csv('labelled_historical_modus_1_decimal_lat_long.csv')"
   ]
  },
  {
   "cell_type": "markdown",
   "metadata": {},
   "source": [
    "## The saved Merged file is the main contribution of this notbook, below is some exploratory data analysis"
   ]
  },
  {
   "cell_type": "code",
   "execution_count": 120,
   "metadata": {},
   "outputs": [
    {
     "data": {
      "image/png": "[encoded data removed]",
      "text/plain": [
       "<Figure size 432x288 with 1 Axes>"
      ]
     },
     "metadata": {
      "needs_background": "light"
     },
     "output_type": "display_data"
    }
   ],
   "source": [
    "# this is a very low rate of overlap between our modis data and fps data, I'm going to explore an instance that 'should' appear in both and see where the mismatch is\n",
    "# almost half of all fsa fires are missing a name,\n",
    "# df['FIRE_NAME'].isna().sum()/len(df)\n",
    "# but they all have a cause so I'm going to assume the causes are correct\n",
    "# df['STAT_CAUSE_DESCR'].value_counts()\n",
    "\n",
    "dfilter02 = (df['FIRE_YEAR'] == 2002) & (df['DISCOVERY_DOY'] == 150)\n",
    "\n",
    "# df[dfilter02]\n",
    "\n",
    "mfilter02 = (modis_df['FIRE_YEAR'] == 2002) & (modis_df['DISCOVERY_DOY'] == 150)\n",
    "latlong = ['LAT_ROUND','LON_ROUND']\n",
    "\n",
    "m02coords = modis_df[mfilter02][latlong]\n",
    "d02coords = df[dfilter02][latlong]\n",
    "\n",
    "# now plot them together\n",
    "\n",
    "import matplotlib.pyplot as plt\n",
    "\n",
    "# blot them together:\n",
    "plt.scatter(m02coords['LON_ROUND'], m02coords['LAT_ROUND'], label='modus', color='r')\n",
    "plt.scatter(d02coords['LON_ROUND'], d02coords['LAT_ROUND'], label='fps', color='b', alpha=0.4)\n",
    "plt.xlabel('Lon')\n",
    "plt.ylabel('Lat')\n",
    "plt.legend()\n",
    "plt.show();"
   ]
  },
  {
   "cell_type": "code",
   "execution_count": null,
   "metadata": {},
   "outputs": [],
   "source": []
  }
 ],
 "metadata": {
  "kernelspec": {
   "display_name": "Python 3",
   "language": "python",
   "name": "python3"
  },
  "language_info": {
   "codemirror_mode": {
    "name": "ipython",
    "version": 3
   },
   "file_extension": ".py",
   "mimetype": "text/x-python",
   "name": "python",
   "nbconvert_exporter": "python",
   "pygments_lexer": "ipython3",
   "version": "3.7.3"
  }
 },
 "nbformat": 4,
 "nbformat_minor": 2
}
