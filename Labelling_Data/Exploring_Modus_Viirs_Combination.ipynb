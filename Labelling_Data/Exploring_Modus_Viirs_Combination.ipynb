{
 "cells": [
  {
   "cell_type": "code",
   "execution_count": 52,
   "metadata": {},
   "outputs": [],
   "source": [
    "# library imports\n",
    "import pandas as pd\n",
    "import numpy as np\n",
    "import matplotlib.pyplot as plt\n",
    "\n",
    "# current data\n",
    "viirs_url = 'https://firms.modaps.eosdis.nasa.gov/data/active_fire/viirs/csv/VNP14IMGTDL_NRT_USA_contiguous_and_Hawaii_24h.csv'\n",
    "modis_url = 'https://firms.modaps.eosdis.nasa.gov/data/active_fire/c6/csv/MODIS_C6_USA_contiguous_and_Hawaii_24h.csv'\n",
    "\n",
    "viirs_json = r'/home/nedderlander/datascience/burn notice/Data-Science/Data/Modis_viirs_json/DL_FIRE_V1_72242/fire_archive_V1_72242.json'"
   ]
  },
  {
   "cell_type": "markdown",
   "metadata": {},
   "source": [
    "## Summary of Data for FIRMS Active Fire\n",
    "\n",
    "Nasa provides two analysis ready data products that are appropriate for detecting wildfires, MCD14DL that I will refer to as MODIS and VNP14IMGTDL_NRT or VIIRS. \n",
    "\n",
    "MODIS is a data product generated from telometry from two satellites Aqua and Terra. It resolves the earth's surface into roughly 1km x 1km pixels and evaluates whether each pixel is on fire using a contextual algorithm that exploits the strong emission of mid-infrared radiation from fires.\n",
    "\n",
    "VIIRS has a smaller resolution and better global coverage (due to the Suomi-NPP satellite's orbit) and can resolve fire pixels down to 375m. \n",
    "\n",
    "Using both data sources should increase data coverage and potentially add a validation element to our model."
   ]
  },
  {
   "cell_type": "code",
   "execution_count": 54,
   "metadata": {},
   "outputs": [
    {
     "name": "stdout",
     "output_type": "stream",
     "text": [
      "\"[\\n\"\n",
      "\"    {\\n\"\n",
      "\"        \\\"latitude\\\": 39.21748,\\n\"\n",
      "\"        \\\"longitude\\\": -76.47753,\\n\"\n",
      "\"        \\\"acq_date\\\": 2012-01-20,\\n\"\n",
      "\"        \\\"acq_time\\\": 0619,\\n\"\n",
      "\"        \\\"frp\\\": 5.5,\\n\"\n",
      "\"        \\\"version\\\": 1,\\n\"\n",
      "\"        \\\"track\\\": 0.53,\\n\"\n",
      "\"        \\\"scan\\\": 0.59,\\n\"\n",
      "\"        \\\"confidence\\\": n,\\n\"\n",
      "\"        \\\"instrument\\\": VIIRS,\\n\"\n",
      "\"        \\\"bright_ti5\\\": 272.9,\\n\"\n",
      "\"        \\\"bright_ti4\\\": 328.3,\\n\"\n",
      "\"        \\\"satellite\\\": N,\\n\"\n",
      "\"        \\\"type\\\": 2\\n\"\n",
      "\"    },\\n\"\n",
      "\"    {\\n\"\n"
     ]
    }
   ],
   "source": [
    "import json\n",
    "data = []\n",
    "\n",
    "\n",
    "file = open(viirs_json, \"r\")\n",
    "\n",
    "limit = 18\n",
    "\n",
    "for index, line in zip(range(limit), file):\n",
    "    try:\n",
    "        line_data = json.dumps(line)\n",
    "        data.append(line_data)\n",
    "        print(line_data)\n",
    "    except Exception as e:\n",
    "        print(e)\n",
    "        continue\n",
    "file.close()\n"
   ]
  },
  {
   "cell_type": "markdown",
   "metadata": {},
   "source": [
    "The above cell shows that historical viirs data is missing the daynight feature. This feature is likely important for modis observations so we would like to keep it. This means that we will explore the modis data seperately from viirs."
   ]
  },
  {
   "cell_type": "code",
   "execution_count": 2,
   "metadata": {},
   "outputs": [],
   "source": [
    "v = pd.read_csv(viirs_url)\n",
    "m = pd.read_csv(modis_url)"
   ]
  },
  {
   "cell_type": "code",
   "execution_count": 3,
   "metadata": {},
   "outputs": [
    {
     "data": {
      "text/plain": [
       "((2132, 13), (691, 13))"
      ]
     },
     "execution_count": 3,
     "metadata": {},
     "output_type": "execute_result"
    }
   ],
   "source": [
    "v.shape, m.shape"
   ]
  },
  {
   "cell_type": "markdown",
   "metadata": {},
   "source": [
    "The hist of latitude between the two current data sources indicate that there may a non-overlapping component to their observations. This suggests that the two data sources may not be suitable for combining into a single dataset."
   ]
  },
  {
   "cell_type": "code",
   "execution_count": 50,
   "metadata": {},
   "outputs": [
    {
     "data": {
      "text/plain": [
       "<matplotlib.axes._subplots.AxesSubplot at 0x7f46493fb588>"
      ]
     },
     "execution_count": 50,
     "metadata": {},
     "output_type": "execute_result"
    },
    {
     "data": {
      "image/png": "[encoded data removed]",
      "text/plain": [
       "<Figure size 432x288 with 1 Axes>"
      ]
     },
     "metadata": {
      "needs_background": "light"
     },
     "output_type": "display_data"
    }
   ],
   "source": [
    "v.latitude.hist()"
   ]
  },
  {
   "cell_type": "code",
   "execution_count": 51,
   "metadata": {},
   "outputs": [
    {
     "data": {
      "text/plain": [
       "<matplotlib.axes._subplots.AxesSubplot at 0x7f465c3946a0>"
      ]
     },
     "execution_count": 51,
     "metadata": {},
     "output_type": "execute_result"
    },
    {
     "data": {
      "image/png": "[encoded data removed]",
      "text/plain": [
       "<Figure size 432x288 with 1 Axes>"
      ]
     },
     "metadata": {
      "needs_background": "light"
     },
     "output_type": "display_data"
    }
   ],
   "source": [
    "m.latitude.hist()"
   ]
  },
  {
   "cell_type": "code",
   "execution_count": 4,
   "metadata": {},
   "outputs": [
    {
     "data": {
      "text/html": [
       "<div>\n",
       "<style scoped>\n",
       "    .dataframe tbody tr th:only-of-type {\n",
       "        vertical-align: middle;\n",
       "    }\n",
       "\n",
       "    .dataframe tbody tr th {\n",
       "        vertical-align: top;\n",
       "    }\n",
       "\n",
       "    .dataframe thead th {\n",
       "        text-align: right;\n",
       "    }\n",
       "</style>\n",
       "<table border=\"1\" class=\"dataframe\">\n",
       "  <thead>\n",
       "    <tr style=\"text-align: right;\">\n",
       "      <th></th>\n",
       "      <th>latitude</th>\n",
       "      <th>longitude</th>\n",
       "      <th>bright_ti4</th>\n",
       "      <th>scan</th>\n",
       "      <th>track</th>\n",
       "      <th>acq_date</th>\n",
       "      <th>acq_time</th>\n",
       "      <th>satellite</th>\n",
       "      <th>confidence</th>\n",
       "      <th>version</th>\n",
       "      <th>bright_ti5</th>\n",
       "      <th>frp</th>\n",
       "      <th>daynight</th>\n",
       "    </tr>\n",
       "  </thead>\n",
       "  <tbody>\n",
       "    <tr>\n",
       "      <th>0</th>\n",
       "      <td>46.91339</td>\n",
       "      <td>-64.00330</td>\n",
       "      <td>299.0</td>\n",
       "      <td>0.43</td>\n",
       "      <td>0.38</td>\n",
       "      <td>2019-09-10</td>\n",
       "      <td>600</td>\n",
       "      <td>N</td>\n",
       "      <td>nominal</td>\n",
       "      <td>1.0NRT</td>\n",
       "      <td>280.1</td>\n",
       "      <td>0.7</td>\n",
       "      <td>N</td>\n",
       "    </tr>\n",
       "    <tr>\n",
       "      <th>1</th>\n",
       "      <td>46.90993</td>\n",
       "      <td>-64.00423</td>\n",
       "      <td>301.4</td>\n",
       "      <td>0.43</td>\n",
       "      <td>0.38</td>\n",
       "      <td>2019-09-10</td>\n",
       "      <td>600</td>\n",
       "      <td>N</td>\n",
       "      <td>nominal</td>\n",
       "      <td>1.0NRT</td>\n",
       "      <td>280.5</td>\n",
       "      <td>0.7</td>\n",
       "      <td>N</td>\n",
       "    </tr>\n",
       "    <tr>\n",
       "      <th>2</th>\n",
       "      <td>46.57857</td>\n",
       "      <td>-80.79469</td>\n",
       "      <td>297.2</td>\n",
       "      <td>0.77</td>\n",
       "      <td>0.77</td>\n",
       "      <td>2019-09-10</td>\n",
       "      <td>600</td>\n",
       "      <td>N</td>\n",
       "      <td>nominal</td>\n",
       "      <td>1.0NRT</td>\n",
       "      <td>277.5</td>\n",
       "      <td>1.2</td>\n",
       "      <td>N</td>\n",
       "    </tr>\n",
       "    <tr>\n",
       "      <th>3</th>\n",
       "      <td>20.58317</td>\n",
       "      <td>-76.13242</td>\n",
       "      <td>301.7</td>\n",
       "      <td>0.53</td>\n",
       "      <td>0.50</td>\n",
       "      <td>2019-09-10</td>\n",
       "      <td>612</td>\n",
       "      <td>N</td>\n",
       "      <td>nominal</td>\n",
       "      <td>1.0NRT</td>\n",
       "      <td>276.1</td>\n",
       "      <td>1.4</td>\n",
       "      <td>N</td>\n",
       "    </tr>\n",
       "    <tr>\n",
       "      <th>4</th>\n",
       "      <td>19.54364</td>\n",
       "      <td>-70.82060</td>\n",
       "      <td>315.3</td>\n",
       "      <td>0.41</td>\n",
       "      <td>0.37</td>\n",
       "      <td>2019-09-10</td>\n",
       "      <td>612</td>\n",
       "      <td>N</td>\n",
       "      <td>nominal</td>\n",
       "      <td>1.0NRT</td>\n",
       "      <td>286.0</td>\n",
       "      <td>1.7</td>\n",
       "      <td>N</td>\n",
       "    </tr>\n",
       "  </tbody>\n",
       "</table>\n",
       "</div>"
      ],
      "text/plain": [
       "   latitude  longitude  bright_ti4  scan  track    acq_date  acq_time  \\\n",
       "0  46.91339  -64.00330       299.0  0.43   0.38  2019-09-10       600   \n",
       "1  46.90993  -64.00423       301.4  0.43   0.38  2019-09-10       600   \n",
       "2  46.57857  -80.79469       297.2  0.77   0.77  2019-09-10       600   \n",
       "3  20.58317  -76.13242       301.7  0.53   0.50  2019-09-10       612   \n",
       "4  19.54364  -70.82060       315.3  0.41   0.37  2019-09-10       612   \n",
       "\n",
       "  satellite confidence version  bright_ti5  frp daynight  \n",
       "0         N    nominal  1.0NRT       280.1  0.7        N  \n",
       "1         N    nominal  1.0NRT       280.5  0.7        N  \n",
       "2         N    nominal  1.0NRT       277.5  1.2        N  \n",
       "3         N    nominal  1.0NRT       276.1  1.4        N  \n",
       "4         N    nominal  1.0NRT       286.0  1.7        N  "
      ]
     },
     "execution_count": 4,
     "metadata": {},
     "output_type": "execute_result"
    }
   ],
   "source": [
    "v.head()"
   ]
  },
  {
   "cell_type": "code",
   "execution_count": 5,
   "metadata": {},
   "outputs": [
    {
     "data": {
      "text/html": [
       "<div>\n",
       "<style scoped>\n",
       "    .dataframe tbody tr th:only-of-type {\n",
       "        vertical-align: middle;\n",
       "    }\n",
       "\n",
       "    .dataframe tbody tr th {\n",
       "        vertical-align: top;\n",
       "    }\n",
       "\n",
       "    .dataframe thead th {\n",
       "        text-align: right;\n",
       "    }\n",
       "</style>\n",
       "<table border=\"1\" class=\"dataframe\">\n",
       "  <thead>\n",
       "    <tr style=\"text-align: right;\">\n",
       "      <th></th>\n",
       "      <th>latitude</th>\n",
       "      <th>longitude</th>\n",
       "      <th>brightness</th>\n",
       "      <th>scan</th>\n",
       "      <th>track</th>\n",
       "      <th>acq_date</th>\n",
       "      <th>acq_time</th>\n",
       "      <th>satellite</th>\n",
       "      <th>confidence</th>\n",
       "      <th>version</th>\n",
       "      <th>bright_t31</th>\n",
       "      <th>frp</th>\n",
       "      <th>daynight</th>\n",
       "    </tr>\n",
       "  </thead>\n",
       "  <tbody>\n",
       "    <tr>\n",
       "      <th>0</th>\n",
       "      <td>32.130</td>\n",
       "      <td>-93.390</td>\n",
       "      <td>305.0</td>\n",
       "      <td>1.0</td>\n",
       "      <td>1.0</td>\n",
       "      <td>2019-09-10</td>\n",
       "      <td>420</td>\n",
       "      <td>T</td>\n",
       "      <td>62</td>\n",
       "      <td>6.0NRT</td>\n",
       "      <td>285.6</td>\n",
       "      <td>6.7</td>\n",
       "      <td>N</td>\n",
       "    </tr>\n",
       "    <tr>\n",
       "      <th>1</th>\n",
       "      <td>32.129</td>\n",
       "      <td>-93.400</td>\n",
       "      <td>325.0</td>\n",
       "      <td>1.0</td>\n",
       "      <td>1.0</td>\n",
       "      <td>2019-09-10</td>\n",
       "      <td>420</td>\n",
       "      <td>T</td>\n",
       "      <td>100</td>\n",
       "      <td>6.0NRT</td>\n",
       "      <td>289.5</td>\n",
       "      <td>23.2</td>\n",
       "      <td>N</td>\n",
       "    </tr>\n",
       "    <tr>\n",
       "      <th>2</th>\n",
       "      <td>32.223</td>\n",
       "      <td>-94.056</td>\n",
       "      <td>306.5</td>\n",
       "      <td>1.0</td>\n",
       "      <td>1.0</td>\n",
       "      <td>2019-09-10</td>\n",
       "      <td>420</td>\n",
       "      <td>T</td>\n",
       "      <td>68</td>\n",
       "      <td>6.0NRT</td>\n",
       "      <td>288.4</td>\n",
       "      <td>7.3</td>\n",
       "      <td>N</td>\n",
       "    </tr>\n",
       "    <tr>\n",
       "      <th>3</th>\n",
       "      <td>32.222</td>\n",
       "      <td>-94.067</td>\n",
       "      <td>305.8</td>\n",
       "      <td>1.0</td>\n",
       "      <td>1.0</td>\n",
       "      <td>2019-09-10</td>\n",
       "      <td>420</td>\n",
       "      <td>T</td>\n",
       "      <td>66</td>\n",
       "      <td>6.0NRT</td>\n",
       "      <td>289.3</td>\n",
       "      <td>6.7</td>\n",
       "      <td>N</td>\n",
       "    </tr>\n",
       "    <tr>\n",
       "      <th>4</th>\n",
       "      <td>37.136</td>\n",
       "      <td>-91.620</td>\n",
       "      <td>312.3</td>\n",
       "      <td>1.1</td>\n",
       "      <td>1.1</td>\n",
       "      <td>2019-09-10</td>\n",
       "      <td>420</td>\n",
       "      <td>T</td>\n",
       "      <td>84</td>\n",
       "      <td>6.0NRT</td>\n",
       "      <td>290.9</td>\n",
       "      <td>11.6</td>\n",
       "      <td>N</td>\n",
       "    </tr>\n",
       "  </tbody>\n",
       "</table>\n",
       "</div>"
      ],
      "text/plain": [
       "   latitude  longitude  brightness  scan  track    acq_date  acq_time  \\\n",
       "0    32.130    -93.390       305.0   1.0    1.0  2019-09-10       420   \n",
       "1    32.129    -93.400       325.0   1.0    1.0  2019-09-10       420   \n",
       "2    32.223    -94.056       306.5   1.0    1.0  2019-09-10       420   \n",
       "3    32.222    -94.067       305.8   1.0    1.0  2019-09-10       420   \n",
       "4    37.136    -91.620       312.3   1.1    1.1  2019-09-10       420   \n",
       "\n",
       "  satellite  confidence version  bright_t31   frp daynight  \n",
       "0         T          62  6.0NRT       285.6   6.7        N  \n",
       "1         T         100  6.0NRT       289.5  23.2        N  \n",
       "2         T          68  6.0NRT       288.4   7.3        N  \n",
       "3         T          66  6.0NRT       289.3   6.7        N  \n",
       "4         T          84  6.0NRT       290.9  11.6        N  "
      ]
     },
     "execution_count": 5,
     "metadata": {},
     "output_type": "execute_result"
    }
   ],
   "source": [
    "m.head()"
   ]
  },
  {
   "cell_type": "markdown",
   "metadata": {},
   "source": [
    "These are the current data outputs from modis and viirs, we will match our historical data to the shape of the current datastream."
   ]
  },
  {
   "cell_type": "code",
   "execution_count": 17,
   "metadata": {},
   "outputs": [],
   "source": [
    "mv_current = pd.merge(m.drop(columns='confidence'),v.drop(columns='confidence'), how='outer').fillna(0)\n",
    "\n",
    "# version denotes the sensor product i.e. Modis/virrs, we'll map this to the name for easier recognition\n",
    "# mapping names onto version\n",
    "version_to_names = {'6.0NRT' : 'modis', '1.0NRT' : 'viirs'}\n",
    "\n",
    "mv_current['version'] = mv_current['version'].map(version_to_names)"
   ]
  },
  {
   "cell_type": "code",
   "execution_count": 24,
   "metadata": {},
   "outputs": [
    {
     "data": {
      "image/png": "[encoded data removed]",
      "text/plain": [
       "<Figure size 720x432 with 1 Axes>"
      ]
     },
     "metadata": {
      "needs_background": "light"
     },
     "output_type": "display_data"
    }
   ],
   "source": [
    "from matplotlib.pyplot import figure\n",
    "figure(num=1, figsize=(10,6))\n",
    "\n",
    "# set width of bar\n",
    "barWidth = 0.15\n",
    " \n",
    "# set height of bar\n",
    "bars1 = [v.bright_ti4.mean(), v.bright_ti5.mean()]\n",
    "bars2 = [vh.bright_ti4.mean(), vh.bright_ti5.mean()]\n",
    "bars3 = [m.brightness.mean(), m.bright_t31.mean()]\n",
    "bars4 = [mh.brightness.mean(), mh.bright_t31.mean()]\n",
    "\n",
    "#set error bars\n",
    "error1 = [v.bright_ti4.std(), v.bright_ti5.std()]\n",
    "error2 = [vh.bright_ti4.std(), vh.bright_ti5.std()]\n",
    "error3 = [m.brightness.std(), m.bright_t31.std()]\n",
    "error4 = [mh.brightness.std(), mh.bright_t31.std()]\n",
    " \n",
    "# Set position of bar on X axis\n",
    "r1 = np.arange(len(bars1))\n",
    "r2 = [x + barWidth for x in r1]\n",
    "r3 = [x + barWidth for x in r2]\n",
    "r4 = [x + barWidth for x in r3]\n",
    " \n",
    "# Make the plot\n",
    "plt.bar(r1, bars1, yerr=error1, color='#7f6d5f', width=barWidth, edgecolor='white', label='viirs_current')\n",
    "plt.bar(r2, bars2, yerr=error2, color='#557f2d', width=barWidth, edgecolor='white', label='viirs_historical')\n",
    "plt.bar(r3, bars3, yerr=error3, color='#2d7f5e', width=barWidth, edgecolor='white', label='modis_current')\n",
    "plt.bar(r4, bars4, yerr=error4, color='#bab86c', width=barWidth, edgecolor='white', label='modis_historical')\n",
    " \n",
    "# Add xticks on the middle of the group bars\n",
    "plt.xlabel('group', fontweight='bold')\n",
    "plt.xticks([r + barWidth for r in range(len(bars1))], ['bright_ti4/brightness', 'bright_ti5/bright_t31'])\n",
    " \n",
    "# Create legend & Show graphic\n",
    "plt.legend()\n",
    "plt.show()"
   ]
  },
  {
   "cell_type": "markdown",
   "metadata": {},
   "source": [
    "We are comparing the current and historical data to see if values/collection standards are within the same ranges. This result suggests that we can consolidate bright_ti4 and brightness into a single feature as well as bright_ti5 and bright_t31."
   ]
  },
  {
   "cell_type": "code",
   "execution_count": 30,
   "metadata": {},
   "outputs": [
    {
     "data": {
      "image/png": "[encoded data removed]",
      "text/plain": [
       "<Figure size 720x432 with 1 Axes>"
      ]
     },
     "metadata": {
      "needs_background": "light"
     },
     "output_type": "display_data"
    }
   ],
   "source": [
    "figure(num=1, figsize=(10,6))\n",
    "\n",
    "# set width of bar\n",
    "barWidth = 0.15\n",
    " \n",
    "# set height of bar\n",
    "bars1 = [v.scan.mean(), v.track.mean()]\n",
    "bars2 = [vh.scan.mean(), vh.track.mean()]\n",
    "bars3 = [m.scan.mean(), m.track.mean()]\n",
    "bars4 = [mh.scan.mean(), mh.track.mean()]\n",
    "\n",
    "#set error bars\n",
    "error1 = [v.scan.std(), v.track.std()]\n",
    "error2 = [vh.scan.std(), vh.track.std()]\n",
    "error3 = [m.scan.std(), m.track.std()]\n",
    "error4 = [mh.scan.std(), mh.track.std()]\n",
    " \n",
    "# Set position of bar on X axis\n",
    "r1 = np.arange(len(bars1))\n",
    "r2 = [x + barWidth for x in r1]\n",
    "r3 = [x + barWidth for x in r2]\n",
    "r4 = [x + barWidth for x in r3]\n",
    " \n",
    "# Make the plot\n",
    "plt.bar(r1, bars1, yerr=error1, color='#7f6d5f', width=barWidth, edgecolor='white', label='viirs_current')\n",
    "plt.bar(r2, bars2, yerr=error2, color='#557f2d', width=barWidth, edgecolor='white', label='viirs_historical')\n",
    "plt.bar(r3, bars3, yerr=error3, color='#2d7f5e', width=barWidth, edgecolor='white', label='modis_current')\n",
    "plt.bar(r4, bars4, yerr=error4, color='#bab86c', width=barWidth, edgecolor='white', label='modis_historical')\n",
    " \n",
    "# Add xticks on the middle of the group bars\n",
    "plt.xlabel('Modis/Viirs Current/historical', fontweight='bold')\n",
    "plt.xticks([r + barWidth for r in range(len(bars1))], ['scan', 'track'])\n",
    " \n",
    "# Create legend & Show graphic\n",
    "plt.legend()\n",
    "plt.show()"
   ]
  },
  {
   "cell_type": "markdown",
   "metadata": {},
   "source": [
    "The differing values of scan and track likely relate to the different pixel resolution of the modis and viirs instruments. Modis resolves to 1km x 1km ( https://earthdata.nasa.gov/earth-observation-data/near-real-time/firms/c6-mcd14dl ) while viirs at .375 km x 375km ( https://earthdata.nasa.gov/earth-observation-data/near-real-time/firms/v1-vnp14imgt ). \n",
    "\n",
    "To check if the values are absolute measures, we can try normalizing the modus scan and track to .375, which should make these values very similar."
   ]
  },
  {
   "cell_type": "code",
   "execution_count": 29,
   "metadata": {},
   "outputs": [
    {
     "data": {
      "image/png": "[encoded data removed]",
      "text/plain": [
       "<Figure size 720x432 with 1 Axes>"
      ]
     },
     "metadata": {
      "needs_background": "light"
     },
     "output_type": "display_data"
    }
   ],
   "source": [
    "figure(num=1, figsize=(10,6))\n",
    "\n",
    "# set width of bar\n",
    "barWidth = 0.15\n",
    " \n",
    "# set height of bar\n",
    "bars1 = [v.scan.mean(), v.track.mean()]\n",
    "bars2 = [vh.scan.mean(), vh.track.mean()]\n",
    "bars3 = [m.scan.apply(lambda x: x*.375).mean(), m.track.apply(lambda x: x*.375).mean()]\n",
    "bars4 = [mh.scan.apply(lambda x: x*.375).mean(), mh.track.apply(lambda x: x*.375).mean()]\n",
    "\n",
    "#set error bars\n",
    "error1 = [v.scan.std(), v.track.std()]\n",
    "error2 = [vh.scan.std(), vh.track.std()]\n",
    "error3 = [m.scan.apply(lambda x: x*.375).std(), m.track.apply(lambda x: x*.375).std()]\n",
    "error4 = [mh.scan.apply(lambda x: x*.375).std(), mh.track.apply(lambda x: x*.375).std()]\n",
    " \n",
    "# Set position of bar on X axis\n",
    "r1 = np.arange(len(bars1))\n",
    "r2 = [x + barWidth for x in r1]\n",
    "r3 = [x + barWidth for x in r2]\n",
    "r4 = [x + barWidth for x in r3]\n",
    " \n",
    "# Make the plot\n",
    "plt.bar(r1, bars1, yerr=error1, color='#7f6d5f', width=barWidth, edgecolor='white', label='viirs_current')\n",
    "plt.bar(r2, bars2, yerr=error2, color='#557f2d', width=barWidth, edgecolor='white', label='viirs_historical')\n",
    "plt.bar(r3, bars3, yerr=error3, color='#2d7f5e', width=barWidth, edgecolor='white', label='modis_current')\n",
    "plt.bar(r4, bars4, yerr=error4, color='#bab86c', width=barWidth, edgecolor='white', label='modis_historical')\n",
    " \n",
    "# Add xticks on the middle of the group bars\n",
    "plt.xlabel('scaled modus scan and track', fontweight='bold')\n",
    "plt.xticks([r + barWidth for r in range(len(bars1))], ['scan', 'track'])\n",
    " \n",
    "# Create legend & Show graphic\n",
    "plt.legend()\n",
    "plt.show()"
   ]
  },
  {
   "cell_type": "markdown",
   "metadata": {},
   "source": [
    "The values look more similar now so we will conclude that our understanding is sufficient and treat these measurements as from the same scale."
   ]
  },
  {
   "cell_type": "code",
   "execution_count": 31,
   "metadata": {},
   "outputs": [
    {
     "data": {
      "image/png": "[encoded data removed]",
      "text/plain": [
       "<Figure size 432x288 with 1 Axes>"
      ]
     },
     "metadata": {
      "needs_background": "light"
     },
     "output_type": "display_data"
    }
   ],
   "source": [
    "#figure(num=1, figsize=(8,4))\n",
    "\n",
    "# set width of bar\n",
    "barWidth = 0.15\n",
    " \n",
    "# set height of bar\n",
    "bars1 = [v.frp.mean()]\n",
    "bars2 = [vh.frp.mean()]\n",
    "bars3 = [m.frp.mean()]\n",
    "bars4 = [mh.frp.mean()]\n",
    "\n",
    "#set error bars\n",
    "error1 = [v.frp.std()]\n",
    "error2 = [vh.frp.std()]\n",
    "error3 = [m.frp.std()]\n",
    "error4 = [mh.frp.std()]\n",
    " \n",
    "# Set position of bar on X axis\n",
    "r1 = np.arange(len(bars1))\n",
    "r2 = [x + barWidth for x in r1]\n",
    "r3 = [x + barWidth for x in r2]\n",
    "r4 = [x + barWidth for x in r3]\n",
    " \n",
    "# Make the plot\n",
    "plt.bar(r1, bars1, yerr=error1, color='#7f6d5f', width=barWidth, edgecolor='white', label='viirs_current')\n",
    "plt.bar(r2, bars2, yerr=error2, color='#557f2d', width=barWidth, edgecolor='white', label='viirs_historical')\n",
    "plt.bar(r3, bars3, yerr=error3, color='#2d7f5e', width=barWidth, edgecolor='white', label='modis_current')\n",
    "plt.bar(r4, bars4, yerr=error4, color='#bab86c', width=barWidth, edgecolor='white', label='modis_historical')\n",
    " \n",
    "# Add xticks on the middle of the group bars\n",
    "plt.xlabel('Modis/Viirs Current/historical', fontweight='bold')\n",
    "plt.xticks([r + barWidth for r in range(len(bars1))], ['frp'])\n",
    " \n",
    "# Create legend & Show graphic\n",
    "plt.legend(loc='upper left')\n",
    "plt.show()"
   ]
  },
  {
   "cell_type": "markdown",
   "metadata": {},
   "source": [
    "FRP is a measure of fire intensity/energy, viirs actually cannot measure medium band fire intensity due to the wavelength that the sensor uses. This biases FRP for viirs downwards.\n",
    "\n",
    "This feature will have to be managed and perhaps dropped in our simple model"
   ]
  },
  {
   "cell_type": "code",
   "execution_count": 45,
   "metadata": {},
   "outputs": [
    {
     "data": {
      "text/plain": [
       "((3623813, 14), (1780524, 15))"
      ]
     },
     "execution_count": 45,
     "metadata": {},
     "output_type": "execute_result"
    }
   ],
   "source": [
    "# historical modus and viirs data\n",
    "mh = pd.read_csv('~/datascience/burn notice/Data-Science/Data/DL_FIRE_M6_66499 - Historical Modis/fire_archive_M6_66499.csv')\n",
    "vh = pd.read_csv('~/datascience/burn notice/Data-Science/Data/fire_archive_V1_67178.csv')\n",
    "vh.shape, mh.shape"
   ]
  },
  {
   "cell_type": "code",
   "execution_count": 46,
   "metadata": {},
   "outputs": [
    {
     "data": {
      "text/html": [
       "<div>\n",
       "<style scoped>\n",
       "    .dataframe tbody tr th:only-of-type {\n",
       "        vertical-align: middle;\n",
       "    }\n",
       "\n",
       "    .dataframe tbody tr th {\n",
       "        vertical-align: top;\n",
       "    }\n",
       "\n",
       "    .dataframe thead th {\n",
       "        text-align: right;\n",
       "    }\n",
       "</style>\n",
       "<table border=\"1\" class=\"dataframe\">\n",
       "  <thead>\n",
       "    <tr style=\"text-align: right;\">\n",
       "      <th></th>\n",
       "      <th>latitude</th>\n",
       "      <th>longitude</th>\n",
       "      <th>bright_ti4</th>\n",
       "      <th>scan</th>\n",
       "      <th>track</th>\n",
       "      <th>acq_date</th>\n",
       "      <th>acq_time</th>\n",
       "      <th>satellite</th>\n",
       "      <th>instrument</th>\n",
       "      <th>confidence</th>\n",
       "      <th>version</th>\n",
       "      <th>bright_ti5</th>\n",
       "      <th>frp</th>\n",
       "      <th>type</th>\n",
       "    </tr>\n",
       "  </thead>\n",
       "  <tbody>\n",
       "    <tr>\n",
       "      <th>0</th>\n",
       "      <td>39.21748</td>\n",
       "      <td>-76.47753</td>\n",
       "      <td>328.3</td>\n",
       "      <td>0.59</td>\n",
       "      <td>0.53</td>\n",
       "      <td>2012-01-20</td>\n",
       "      <td>619</td>\n",
       "      <td>N</td>\n",
       "      <td>VIIRS</td>\n",
       "      <td>n</td>\n",
       "      <td>1</td>\n",
       "      <td>272.9</td>\n",
       "      <td>5.5</td>\n",
       "      <td>2</td>\n",
       "    </tr>\n",
       "    <tr>\n",
       "      <th>1</th>\n",
       "      <td>39.21451</td>\n",
       "      <td>-76.47873</td>\n",
       "      <td>328.7</td>\n",
       "      <td>0.59</td>\n",
       "      <td>0.53</td>\n",
       "      <td>2012-01-20</td>\n",
       "      <td>619</td>\n",
       "      <td>N</td>\n",
       "      <td>VIIRS</td>\n",
       "      <td>n</td>\n",
       "      <td>1</td>\n",
       "      <td>271.7</td>\n",
       "      <td>5.2</td>\n",
       "      <td>2</td>\n",
       "    </tr>\n",
       "    <tr>\n",
       "      <th>2</th>\n",
       "      <td>40.39339</td>\n",
       "      <td>-79.85433</td>\n",
       "      <td>334.5</td>\n",
       "      <td>0.46</td>\n",
       "      <td>0.63</td>\n",
       "      <td>2012-01-20</td>\n",
       "      <td>619</td>\n",
       "      <td>N</td>\n",
       "      <td>VIIRS</td>\n",
       "      <td>n</td>\n",
       "      <td>1</td>\n",
       "      <td>265.8</td>\n",
       "      <td>5.0</td>\n",
       "      <td>2</td>\n",
       "    </tr>\n",
       "    <tr>\n",
       "      <th>3</th>\n",
       "      <td>34.37696</td>\n",
       "      <td>-79.88717</td>\n",
       "      <td>307.5</td>\n",
       "      <td>0.41</td>\n",
       "      <td>0.61</td>\n",
       "      <td>2012-01-20</td>\n",
       "      <td>620</td>\n",
       "      <td>N</td>\n",
       "      <td>VIIRS</td>\n",
       "      <td>n</td>\n",
       "      <td>1</td>\n",
       "      <td>273.3</td>\n",
       "      <td>1.0</td>\n",
       "      <td>2</td>\n",
       "    </tr>\n",
       "    <tr>\n",
       "      <th>4</th>\n",
       "      <td>34.37386</td>\n",
       "      <td>-79.89035</td>\n",
       "      <td>296.8</td>\n",
       "      <td>0.41</td>\n",
       "      <td>0.61</td>\n",
       "      <td>2012-01-20</td>\n",
       "      <td>620</td>\n",
       "      <td>N</td>\n",
       "      <td>VIIRS</td>\n",
       "      <td>n</td>\n",
       "      <td>1</td>\n",
       "      <td>273.7</td>\n",
       "      <td>1.4</td>\n",
       "      <td>2</td>\n",
       "    </tr>\n",
       "  </tbody>\n",
       "</table>\n",
       "</div>"
      ],
      "text/plain": [
       "   latitude  longitude  bright_ti4  scan  track    acq_date  acq_time  \\\n",
       "0  39.21748  -76.47753       328.3  0.59   0.53  2012-01-20       619   \n",
       "1  39.21451  -76.47873       328.7  0.59   0.53  2012-01-20       619   \n",
       "2  40.39339  -79.85433       334.5  0.46   0.63  2012-01-20       619   \n",
       "3  34.37696  -79.88717       307.5  0.41   0.61  2012-01-20       620   \n",
       "4  34.37386  -79.89035       296.8  0.41   0.61  2012-01-20       620   \n",
       "\n",
       "  satellite instrument confidence  version  bright_ti5  frp  type  \n",
       "0         N      VIIRS          n        1       272.9  5.5     2  \n",
       "1         N      VIIRS          n        1       271.7  5.2     2  \n",
       "2         N      VIIRS          n        1       265.8  5.0     2  \n",
       "3         N      VIIRS          n        1       273.3  1.0     2  \n",
       "4         N      VIIRS          n        1       273.7  1.4     2  "
      ]
     },
     "execution_count": 46,
     "metadata": {},
     "output_type": "execute_result"
    }
   ],
   "source": [
    "vh.head()"
   ]
  },
  {
   "cell_type": "code",
   "execution_count": 47,
   "metadata": {},
   "outputs": [
    {
     "data": {
      "text/html": [
       "<div>\n",
       "<style scoped>\n",
       "    .dataframe tbody tr th:only-of-type {\n",
       "        vertical-align: middle;\n",
       "    }\n",
       "\n",
       "    .dataframe tbody tr th {\n",
       "        vertical-align: top;\n",
       "    }\n",
       "\n",
       "    .dataframe thead th {\n",
       "        text-align: right;\n",
       "    }\n",
       "</style>\n",
       "<table border=\"1\" class=\"dataframe\">\n",
       "  <thead>\n",
       "    <tr style=\"text-align: right;\">\n",
       "      <th></th>\n",
       "      <th>latitude</th>\n",
       "      <th>longitude</th>\n",
       "      <th>brightness</th>\n",
       "      <th>scan</th>\n",
       "      <th>track</th>\n",
       "      <th>acq_date</th>\n",
       "      <th>acq_time</th>\n",
       "      <th>satellite</th>\n",
       "      <th>instrument</th>\n",
       "      <th>confidence</th>\n",
       "      <th>version</th>\n",
       "      <th>bright_t31</th>\n",
       "      <th>frp</th>\n",
       "      <th>daynight</th>\n",
       "      <th>type</th>\n",
       "    </tr>\n",
       "  </thead>\n",
       "  <tbody>\n",
       "    <tr>\n",
       "      <th>0</th>\n",
       "      <td>19.3530</td>\n",
       "      <td>-155.0576</td>\n",
       "      <td>400.1</td>\n",
       "      <td>1.0</td>\n",
       "      <td>1.0</td>\n",
       "      <td>2001-01-01</td>\n",
       "      <td>849</td>\n",
       "      <td>Terra</td>\n",
       "      <td>MODIS</td>\n",
       "      <td>100</td>\n",
       "      <td>6.2</td>\n",
       "      <td>311.8</td>\n",
       "      <td>255.8</td>\n",
       "      <td>N</td>\n",
       "      <td>2</td>\n",
       "    </tr>\n",
       "    <tr>\n",
       "      <th>1</th>\n",
       "      <td>19.3378</td>\n",
       "      <td>-155.0360</td>\n",
       "      <td>311.6</td>\n",
       "      <td>1.0</td>\n",
       "      <td>1.0</td>\n",
       "      <td>2001-01-01</td>\n",
       "      <td>849</td>\n",
       "      <td>Terra</td>\n",
       "      <td>MODIS</td>\n",
       "      <td>83</td>\n",
       "      <td>6.2</td>\n",
       "      <td>296.9</td>\n",
       "      <td>9.8</td>\n",
       "      <td>N</td>\n",
       "      <td>2</td>\n",
       "    </tr>\n",
       "    <tr>\n",
       "      <th>2</th>\n",
       "      <td>19.3544</td>\n",
       "      <td>-155.0482</td>\n",
       "      <td>322.2</td>\n",
       "      <td>1.0</td>\n",
       "      <td>1.0</td>\n",
       "      <td>2001-01-01</td>\n",
       "      <td>849</td>\n",
       "      <td>Terra</td>\n",
       "      <td>MODIS</td>\n",
       "      <td>100</td>\n",
       "      <td>6.2</td>\n",
       "      <td>293.6</td>\n",
       "      <td>19.6</td>\n",
       "      <td>N</td>\n",
       "      <td>2</td>\n",
       "    </tr>\n",
       "    <tr>\n",
       "      <th>3</th>\n",
       "      <td>19.3468</td>\n",
       "      <td>-155.0375</td>\n",
       "      <td>362.5</td>\n",
       "      <td>1.0</td>\n",
       "      <td>1.0</td>\n",
       "      <td>2001-01-01</td>\n",
       "      <td>849</td>\n",
       "      <td>Terra</td>\n",
       "      <td>MODIS</td>\n",
       "      <td>100</td>\n",
       "      <td>6.2</td>\n",
       "      <td>303.1</td>\n",
       "      <td>92.9</td>\n",
       "      <td>N</td>\n",
       "      <td>2</td>\n",
       "    </tr>\n",
       "    <tr>\n",
       "      <th>4</th>\n",
       "      <td>19.3516</td>\n",
       "      <td>-155.0670</td>\n",
       "      <td>313.6</td>\n",
       "      <td>1.0</td>\n",
       "      <td>1.0</td>\n",
       "      <td>2001-01-01</td>\n",
       "      <td>849</td>\n",
       "      <td>Terra</td>\n",
       "      <td>MODIS</td>\n",
       "      <td>87</td>\n",
       "      <td>6.2</td>\n",
       "      <td>291.4</td>\n",
       "      <td>11.8</td>\n",
       "      <td>N</td>\n",
       "      <td>2</td>\n",
       "    </tr>\n",
       "  </tbody>\n",
       "</table>\n",
       "</div>"
      ],
      "text/plain": [
       "   latitude  longitude  brightness  scan  track    acq_date  acq_time  \\\n",
       "0   19.3530  -155.0576       400.1   1.0    1.0  2001-01-01       849   \n",
       "1   19.3378  -155.0360       311.6   1.0    1.0  2001-01-01       849   \n",
       "2   19.3544  -155.0482       322.2   1.0    1.0  2001-01-01       849   \n",
       "3   19.3468  -155.0375       362.5   1.0    1.0  2001-01-01       849   \n",
       "4   19.3516  -155.0670       313.6   1.0    1.0  2001-01-01       849   \n",
       "\n",
       "  satellite instrument  confidence  version  bright_t31    frp daynight  type  \n",
       "0     Terra      MODIS         100      6.2       311.8  255.8        N     2  \n",
       "1     Terra      MODIS          83      6.2       296.9    9.8        N     2  \n",
       "2     Terra      MODIS         100      6.2       293.6   19.6        N     2  \n",
       "3     Terra      MODIS         100      6.2       303.1   92.9        N     2  \n",
       "4     Terra      MODIS          87      6.2       291.4   11.8        N     2  "
      ]
     },
     "execution_count": 47,
     "metadata": {},
     "output_type": "execute_result"
    }
   ],
   "source": [
    "mh.head()"
   ]
  },
  {
   "cell_type": "code",
   "execution_count": 48,
   "metadata": {},
   "outputs": [],
   "source": [
    "# unfortunately it seems that the historical viirs ds doesn't have a daynight column when the modern VIIRS datasource does\n",
    "mv_hist = pd.merge(mh.drop(columns=['confidence', 'daynight', 'type']),vh.drop(columns=['confidence','type']), how='outer').fillna(0)\n",
    "\n",
    "# drop instrument and rename version to match current data\n",
    "mv_hist.drop(columns='instrument', inplace=True)\n",
    "\n",
    "hversion_to_names = {'6.2' : 'modis', '1T' : 'viirs'}\n",
    "mv_hist['version'] = mv_hist['version'].map(hversion_to_names)"
   ]
  },
  {
   "cell_type": "code",
   "execution_count": 49,
   "metadata": {},
   "outputs": [
    {
     "data": {
      "text/html": [
       "<div>\n",
       "<style scoped>\n",
       "    .dataframe tbody tr th:only-of-type {\n",
       "        vertical-align: middle;\n",
       "    }\n",
       "\n",
       "    .dataframe tbody tr th {\n",
       "        vertical-align: top;\n",
       "    }\n",
       "\n",
       "    .dataframe thead th {\n",
       "        text-align: right;\n",
       "    }\n",
       "</style>\n",
       "<table border=\"1\" class=\"dataframe\">\n",
       "  <thead>\n",
       "    <tr style=\"text-align: right;\">\n",
       "      <th></th>\n",
       "      <th>latitude</th>\n",
       "      <th>longitude</th>\n",
       "      <th>brightness</th>\n",
       "      <th>scan</th>\n",
       "      <th>track</th>\n",
       "      <th>acq_date</th>\n",
       "      <th>acq_time</th>\n",
       "      <th>satellite</th>\n",
       "      <th>version</th>\n",
       "      <th>bright_t31</th>\n",
       "      <th>bright_ti4</th>\n",
       "      <th>bright_ti5</th>\n",
       "    </tr>\n",
       "  </thead>\n",
       "  <tbody>\n",
       "    <tr>\n",
       "      <th>0</th>\n",
       "      <td>32.13</td>\n",
       "      <td>-93.39</td>\n",
       "      <td>305.0</td>\n",
       "      <td>1.0</td>\n",
       "      <td>1.0</td>\n",
       "      <td>2019-09-10</td>\n",
       "      <td>420</td>\n",
       "      <td>T</td>\n",
       "      <td>modis</td>\n",
       "      <td>285.6</td>\n",
       "      <td>0.0</td>\n",
       "      <td>0.0</td>\n",
       "    </tr>\n",
       "  </tbody>\n",
       "</table>\n",
       "</div>"
      ],
      "text/plain": [
       "   latitude  longitude  brightness  scan  track    acq_date  acq_time  \\\n",
       "0     32.13     -93.39       305.0   1.0    1.0  2019-09-10       420   \n",
       "\n",
       "  satellite version  bright_t31  bright_ti4  bright_ti5  \n",
       "0         T   modis       285.6         0.0         0.0  "
      ]
     },
     "execution_count": 49,
     "metadata": {},
     "output_type": "execute_result"
    }
   ],
   "source": [
    "mv_current.head(1)"
   ]
  },
  {
   "cell_type": "code",
   "execution_count": null,
   "metadata": {},
   "outputs": [],
   "source": [
    "# drop frp and daynight from current\n",
    "mv_hist.drop(columns='frp', inplace=True)\n",
    "mv_current.drop(columns=['frp', 'daynight'], inplace=True)"
   ]
  },
  {
   "cell_type": "code",
   "execution_count": null,
   "metadata": {},
   "outputs": [],
   "source": [
    "# test to see if our features are the same\n",
    "cf = set(mv_current.columns.tolist())\n",
    "hf = set(mv_hist.columns.tolist())"
   ]
  },
  {
   "cell_type": "code",
   "execution_count": null,
   "metadata": {},
   "outputs": [],
   "source": [
    "ques = [cf, hf]\n",
    "for x in ques:\n",
    "    print(len(x))"
   ]
  }
 ],
 "metadata": {
  "kernelspec": {
   "display_name": "Python 3",
   "language": "python",
   "name": "python3"
  },
  "language_info": {
   "codemirror_mode": {
    "name": "ipython",
    "version": 3
   },
   "file_extension": ".py",
   "mimetype": "text/x-python",
   "name": "python",
   "nbconvert_exporter": "python",
   "pygments_lexer": "ipython3",
   "version": "3.7.3"
  }
 },
 "nbformat": 4,
 "nbformat_minor": 2
}
