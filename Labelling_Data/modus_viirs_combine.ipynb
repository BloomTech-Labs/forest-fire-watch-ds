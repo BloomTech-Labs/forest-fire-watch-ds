{
 "cells": [
  {
   "cell_type": "code",
   "execution_count": 1,
   "metadata": {},
   "outputs": [],
   "source": [
    "import pandas as pd\n",
    "import numpy as np\n",
    "\n",
    "viirs_url = 'https://firms.modaps.eosdis.nasa.gov/data/active_fire/viirs/csv/VNP14IMGTDL_NRT_USA_contiguous_and_Hawaii_24h.csv'\n",
    "modis_url = 'https://firms.modaps.eosdis.nasa.gov/data/active_fire/c6/csv/MODIS_C6_USA_contiguous_and_Hawaii_24h.csv'"
   ]
  },
  {
   "cell_type": "markdown",
   "metadata": {},
   "source": [
    "## Summary of Data for FIRMS Active Fire\n",
    "\n",
    "Nasa provides two analysis ready data products that are appropriate for detecting wildfires, MCD14DL that I will refer to as MODIS and VNP14IMGTDL_NRT or VIIRS. \n",
    "\n",
    "MODIS is a data product generated from telometry from two satellites Aqua and Terra. It resolves the earth's surface into roughly 1km x 1km pixels and evaluates whether each pixel is on fire using a contextual algorithm that exploits the strong emission of mid-infrared radiation from fires.\n",
    "\n",
    "VIIRS has a smaller resolution and better global coverage (due to the Suomi-NPP satellite's orbit) and can resolve fire pixels down to 375m. \n",
    "\n",
    "Using both data sources should increase data coverage and potentially add a validation element to our model."
   ]
  },
  {
   "cell_type": "code",
   "execution_count": 2,
   "metadata": {},
   "outputs": [],
   "source": [
    "v = pd.read_csv(viirs_url)\n",
    "m = pd.read_csv(modis_url)"
   ]
  },
  {
   "cell_type": "code",
   "execution_count": 3,
   "metadata": {},
   "outputs": [
    {
     "data": {
      "text/plain": [
       "((2085, 13), (404, 13))"
      ]
     },
     "execution_count": 3,
     "metadata": {},
     "output_type": "execute_result"
    }
   ],
   "source": [
    "v.shape, m.shape"
   ]
  },
  {
   "cell_type": "code",
   "execution_count": 4,
   "metadata": {},
   "outputs": [
    {
     "data": {
      "text/html": [
       "<div>\n",
       "<style scoped>\n",
       "    .dataframe tbody tr th:only-of-type {\n",
       "        vertical-align: middle;\n",
       "    }\n",
       "\n",
       "    .dataframe tbody tr th {\n",
       "        vertical-align: top;\n",
       "    }\n",
       "\n",
       "    .dataframe thead th {\n",
       "        text-align: right;\n",
       "    }\n",
       "</style>\n",
       "<table border=\"1\" class=\"dataframe\">\n",
       "  <thead>\n",
       "    <tr style=\"text-align: right;\">\n",
       "      <th></th>\n",
       "      <th>latitude</th>\n",
       "      <th>longitude</th>\n",
       "      <th>bright_ti4</th>\n",
       "      <th>scan</th>\n",
       "      <th>track</th>\n",
       "      <th>acq_date</th>\n",
       "      <th>acq_time</th>\n",
       "      <th>satellite</th>\n",
       "      <th>confidence</th>\n",
       "      <th>version</th>\n",
       "      <th>bright_ti5</th>\n",
       "      <th>frp</th>\n",
       "      <th>daynight</th>\n",
       "    </tr>\n",
       "  </thead>\n",
       "  <tbody>\n",
       "    <tr>\n",
       "      <th>0</th>\n",
       "      <td>46.91339</td>\n",
       "      <td>-64.00330</td>\n",
       "      <td>299.0</td>\n",
       "      <td>0.43</td>\n",
       "      <td>0.38</td>\n",
       "      <td>2019-09-10</td>\n",
       "      <td>600</td>\n",
       "      <td>N</td>\n",
       "      <td>nominal</td>\n",
       "      <td>1.0NRT</td>\n",
       "      <td>280.1</td>\n",
       "      <td>0.7</td>\n",
       "      <td>N</td>\n",
       "    </tr>\n",
       "    <tr>\n",
       "      <th>1</th>\n",
       "      <td>46.90993</td>\n",
       "      <td>-64.00423</td>\n",
       "      <td>301.4</td>\n",
       "      <td>0.43</td>\n",
       "      <td>0.38</td>\n",
       "      <td>2019-09-10</td>\n",
       "      <td>600</td>\n",
       "      <td>N</td>\n",
       "      <td>nominal</td>\n",
       "      <td>1.0NRT</td>\n",
       "      <td>280.5</td>\n",
       "      <td>0.7</td>\n",
       "      <td>N</td>\n",
       "    </tr>\n",
       "    <tr>\n",
       "      <th>2</th>\n",
       "      <td>46.57857</td>\n",
       "      <td>-80.79469</td>\n",
       "      <td>297.2</td>\n",
       "      <td>0.77</td>\n",
       "      <td>0.77</td>\n",
       "      <td>2019-09-10</td>\n",
       "      <td>600</td>\n",
       "      <td>N</td>\n",
       "      <td>nominal</td>\n",
       "      <td>1.0NRT</td>\n",
       "      <td>277.5</td>\n",
       "      <td>1.2</td>\n",
       "      <td>N</td>\n",
       "    </tr>\n",
       "    <tr>\n",
       "      <th>3</th>\n",
       "      <td>20.58317</td>\n",
       "      <td>-76.13242</td>\n",
       "      <td>301.7</td>\n",
       "      <td>0.53</td>\n",
       "      <td>0.50</td>\n",
       "      <td>2019-09-10</td>\n",
       "      <td>612</td>\n",
       "      <td>N</td>\n",
       "      <td>nominal</td>\n",
       "      <td>1.0NRT</td>\n",
       "      <td>276.1</td>\n",
       "      <td>1.4</td>\n",
       "      <td>N</td>\n",
       "    </tr>\n",
       "    <tr>\n",
       "      <th>4</th>\n",
       "      <td>19.54364</td>\n",
       "      <td>-70.82060</td>\n",
       "      <td>315.3</td>\n",
       "      <td>0.41</td>\n",
       "      <td>0.37</td>\n",
       "      <td>2019-09-10</td>\n",
       "      <td>612</td>\n",
       "      <td>N</td>\n",
       "      <td>nominal</td>\n",
       "      <td>1.0NRT</td>\n",
       "      <td>286.0</td>\n",
       "      <td>1.7</td>\n",
       "      <td>N</td>\n",
       "    </tr>\n",
       "  </tbody>\n",
       "</table>\n",
       "</div>"
      ],
      "text/plain": [
       "   latitude  longitude  bright_ti4  scan  track    acq_date  acq_time  \\\n",
       "0  46.91339  -64.00330       299.0  0.43   0.38  2019-09-10       600   \n",
       "1  46.90993  -64.00423       301.4  0.43   0.38  2019-09-10       600   \n",
       "2  46.57857  -80.79469       297.2  0.77   0.77  2019-09-10       600   \n",
       "3  20.58317  -76.13242       301.7  0.53   0.50  2019-09-10       612   \n",
       "4  19.54364  -70.82060       315.3  0.41   0.37  2019-09-10       612   \n",
       "\n",
       "  satellite confidence version  bright_ti5  frp daynight  \n",
       "0         N    nominal  1.0NRT       280.1  0.7        N  \n",
       "1         N    nominal  1.0NRT       280.5  0.7        N  \n",
       "2         N    nominal  1.0NRT       277.5  1.2        N  \n",
       "3         N    nominal  1.0NRT       276.1  1.4        N  \n",
       "4         N    nominal  1.0NRT       286.0  1.7        N  "
      ]
     },
     "execution_count": 4,
     "metadata": {},
     "output_type": "execute_result"
    }
   ],
   "source": [
    "v.head()"
   ]
  },
  {
   "cell_type": "code",
   "execution_count": 5,
   "metadata": {},
   "outputs": [
    {
     "data": {
      "text/html": [
       "<div>\n",
       "<style scoped>\n",
       "    .dataframe tbody tr th:only-of-type {\n",
       "        vertical-align: middle;\n",
       "    }\n",
       "\n",
       "    .dataframe tbody tr th {\n",
       "        vertical-align: top;\n",
       "    }\n",
       "\n",
       "    .dataframe thead th {\n",
       "        text-align: right;\n",
       "    }\n",
       "</style>\n",
       "<table border=\"1\" class=\"dataframe\">\n",
       "  <thead>\n",
       "    <tr style=\"text-align: right;\">\n",
       "      <th></th>\n",
       "      <th>latitude</th>\n",
       "      <th>longitude</th>\n",
       "      <th>brightness</th>\n",
       "      <th>scan</th>\n",
       "      <th>track</th>\n",
       "      <th>acq_date</th>\n",
       "      <th>acq_time</th>\n",
       "      <th>satellite</th>\n",
       "      <th>confidence</th>\n",
       "      <th>version</th>\n",
       "      <th>bright_t31</th>\n",
       "      <th>frp</th>\n",
       "      <th>daynight</th>\n",
       "    </tr>\n",
       "  </thead>\n",
       "  <tbody>\n",
       "    <tr>\n",
       "      <th>0</th>\n",
       "      <td>32.130</td>\n",
       "      <td>-93.390</td>\n",
       "      <td>305.0</td>\n",
       "      <td>1.0</td>\n",
       "      <td>1.0</td>\n",
       "      <td>2019-09-10</td>\n",
       "      <td>420</td>\n",
       "      <td>T</td>\n",
       "      <td>62</td>\n",
       "      <td>6.0NRT</td>\n",
       "      <td>285.6</td>\n",
       "      <td>6.7</td>\n",
       "      <td>N</td>\n",
       "    </tr>\n",
       "    <tr>\n",
       "      <th>1</th>\n",
       "      <td>32.129</td>\n",
       "      <td>-93.400</td>\n",
       "      <td>325.0</td>\n",
       "      <td>1.0</td>\n",
       "      <td>1.0</td>\n",
       "      <td>2019-09-10</td>\n",
       "      <td>420</td>\n",
       "      <td>T</td>\n",
       "      <td>100</td>\n",
       "      <td>6.0NRT</td>\n",
       "      <td>289.5</td>\n",
       "      <td>23.2</td>\n",
       "      <td>N</td>\n",
       "    </tr>\n",
       "    <tr>\n",
       "      <th>2</th>\n",
       "      <td>32.223</td>\n",
       "      <td>-94.056</td>\n",
       "      <td>306.5</td>\n",
       "      <td>1.0</td>\n",
       "      <td>1.0</td>\n",
       "      <td>2019-09-10</td>\n",
       "      <td>420</td>\n",
       "      <td>T</td>\n",
       "      <td>68</td>\n",
       "      <td>6.0NRT</td>\n",
       "      <td>288.4</td>\n",
       "      <td>7.3</td>\n",
       "      <td>N</td>\n",
       "    </tr>\n",
       "    <tr>\n",
       "      <th>3</th>\n",
       "      <td>32.222</td>\n",
       "      <td>-94.067</td>\n",
       "      <td>305.8</td>\n",
       "      <td>1.0</td>\n",
       "      <td>1.0</td>\n",
       "      <td>2019-09-10</td>\n",
       "      <td>420</td>\n",
       "      <td>T</td>\n",
       "      <td>66</td>\n",
       "      <td>6.0NRT</td>\n",
       "      <td>289.3</td>\n",
       "      <td>6.7</td>\n",
       "      <td>N</td>\n",
       "    </tr>\n",
       "    <tr>\n",
       "      <th>4</th>\n",
       "      <td>37.136</td>\n",
       "      <td>-91.620</td>\n",
       "      <td>312.3</td>\n",
       "      <td>1.1</td>\n",
       "      <td>1.1</td>\n",
       "      <td>2019-09-10</td>\n",
       "      <td>420</td>\n",
       "      <td>T</td>\n",
       "      <td>84</td>\n",
       "      <td>6.0NRT</td>\n",
       "      <td>290.9</td>\n",
       "      <td>11.6</td>\n",
       "      <td>N</td>\n",
       "    </tr>\n",
       "  </tbody>\n",
       "</table>\n",
       "</div>"
      ],
      "text/plain": [
       "   latitude  longitude  brightness  scan  track    acq_date  acq_time  \\\n",
       "0    32.130    -93.390       305.0   1.0    1.0  2019-09-10       420   \n",
       "1    32.129    -93.400       325.0   1.0    1.0  2019-09-10       420   \n",
       "2    32.223    -94.056       306.5   1.0    1.0  2019-09-10       420   \n",
       "3    32.222    -94.067       305.8   1.0    1.0  2019-09-10       420   \n",
       "4    37.136    -91.620       312.3   1.1    1.1  2019-09-10       420   \n",
       "\n",
       "  satellite  confidence version  bright_t31   frp daynight  \n",
       "0         T          62  6.0NRT       285.6   6.7        N  \n",
       "1         T         100  6.0NRT       289.5  23.2        N  \n",
       "2         T          68  6.0NRT       288.4   7.3        N  \n",
       "3         T          66  6.0NRT       289.3   6.7        N  \n",
       "4         T          84  6.0NRT       290.9  11.6        N  "
      ]
     },
     "execution_count": 5,
     "metadata": {},
     "output_type": "execute_result"
    }
   ],
   "source": [
    "m.head()"
   ]
  },
  {
   "cell_type": "markdown",
   "metadata": {},
   "source": [
    "These are the current data outputs from modis and viirs, we will match our historical data to the shape of the current datastream."
   ]
  },
  {
   "cell_type": "code",
   "execution_count": 6,
   "metadata": {},
   "outputs": [],
   "source": [
    "mv_current = pd.merge(m.drop(columns='confidence'),v.drop(columns='confidence'), how='outer').fillna(0)"
   ]
  },
  {
   "cell_type": "code",
   "execution_count": 11,
   "metadata": {},
   "outputs": [
    {
     "data": {
      "text/plain": [
       "((3623813, 14), (1780524, 15))"
      ]
     },
     "execution_count": 11,
     "metadata": {},
     "output_type": "execute_result"
    }
   ],
   "source": [
    "# historical modus and viirs data\n",
    "\n",
    "mh = pd.read_csv('~/datascience/burn notice/Data-Science/Data/DL_FIRE_M6_66499 - Historical Modis/fire_archive_M6_66499.csv')\n",
    "vh = pd.read_csv('~/datascience/burn notice/Data-Science/Data/fire_archive_V1_67178.csv')\n",
    "vh.shape, mh.shape"
   ]
  },
  {
   "cell_type": "code",
   "execution_count": 25,
   "metadata": {},
   "outputs": [
    {
     "data": {
      "text/html": [
       "<div>\n",
       "<style scoped>\n",
       "    .dataframe tbody tr th:only-of-type {\n",
       "        vertical-align: middle;\n",
       "    }\n",
       "\n",
       "    .dataframe tbody tr th {\n",
       "        vertical-align: top;\n",
       "    }\n",
       "\n",
       "    .dataframe thead th {\n",
       "        text-align: right;\n",
       "    }\n",
       "</style>\n",
       "<table border=\"1\" class=\"dataframe\">\n",
       "  <thead>\n",
       "    <tr style=\"text-align: right;\">\n",
       "      <th></th>\n",
       "      <th>latitude</th>\n",
       "      <th>longitude</th>\n",
       "      <th>bright_ti4</th>\n",
       "      <th>scan</th>\n",
       "      <th>track</th>\n",
       "      <th>acq_date</th>\n",
       "      <th>acq_time</th>\n",
       "      <th>satellite</th>\n",
       "      <th>instrument</th>\n",
       "      <th>confidence</th>\n",
       "      <th>version</th>\n",
       "      <th>bright_ti5</th>\n",
       "      <th>frp</th>\n",
       "      <th>type</th>\n",
       "    </tr>\n",
       "  </thead>\n",
       "  <tbody>\n",
       "    <tr>\n",
       "      <th>0</th>\n",
       "      <td>39.21748</td>\n",
       "      <td>-76.47753</td>\n",
       "      <td>328.3</td>\n",
       "      <td>0.59</td>\n",
       "      <td>0.53</td>\n",
       "      <td>2012-01-20</td>\n",
       "      <td>619</td>\n",
       "      <td>N</td>\n",
       "      <td>VIIRS</td>\n",
       "      <td>n</td>\n",
       "      <td>1</td>\n",
       "      <td>272.9</td>\n",
       "      <td>5.5</td>\n",
       "      <td>2</td>\n",
       "    </tr>\n",
       "    <tr>\n",
       "      <th>1</th>\n",
       "      <td>39.21451</td>\n",
       "      <td>-76.47873</td>\n",
       "      <td>328.7</td>\n",
       "      <td>0.59</td>\n",
       "      <td>0.53</td>\n",
       "      <td>2012-01-20</td>\n",
       "      <td>619</td>\n",
       "      <td>N</td>\n",
       "      <td>VIIRS</td>\n",
       "      <td>n</td>\n",
       "      <td>1</td>\n",
       "      <td>271.7</td>\n",
       "      <td>5.2</td>\n",
       "      <td>2</td>\n",
       "    </tr>\n",
       "    <tr>\n",
       "      <th>2</th>\n",
       "      <td>40.39339</td>\n",
       "      <td>-79.85433</td>\n",
       "      <td>334.5</td>\n",
       "      <td>0.46</td>\n",
       "      <td>0.63</td>\n",
       "      <td>2012-01-20</td>\n",
       "      <td>619</td>\n",
       "      <td>N</td>\n",
       "      <td>VIIRS</td>\n",
       "      <td>n</td>\n",
       "      <td>1</td>\n",
       "      <td>265.8</td>\n",
       "      <td>5.0</td>\n",
       "      <td>2</td>\n",
       "    </tr>\n",
       "    <tr>\n",
       "      <th>3</th>\n",
       "      <td>34.37696</td>\n",
       "      <td>-79.88717</td>\n",
       "      <td>307.5</td>\n",
       "      <td>0.41</td>\n",
       "      <td>0.61</td>\n",
       "      <td>2012-01-20</td>\n",
       "      <td>620</td>\n",
       "      <td>N</td>\n",
       "      <td>VIIRS</td>\n",
       "      <td>n</td>\n",
       "      <td>1</td>\n",
       "      <td>273.3</td>\n",
       "      <td>1.0</td>\n",
       "      <td>2</td>\n",
       "    </tr>\n",
       "    <tr>\n",
       "      <th>4</th>\n",
       "      <td>34.37386</td>\n",
       "      <td>-79.89035</td>\n",
       "      <td>296.8</td>\n",
       "      <td>0.41</td>\n",
       "      <td>0.61</td>\n",
       "      <td>2012-01-20</td>\n",
       "      <td>620</td>\n",
       "      <td>N</td>\n",
       "      <td>VIIRS</td>\n",
       "      <td>n</td>\n",
       "      <td>1</td>\n",
       "      <td>273.7</td>\n",
       "      <td>1.4</td>\n",
       "      <td>2</td>\n",
       "    </tr>\n",
       "  </tbody>\n",
       "</table>\n",
       "</div>"
      ],
      "text/plain": [
       "   latitude  longitude  bright_ti4  scan  track    acq_date  acq_time  \\\n",
       "0  39.21748  -76.47753       328.3  0.59   0.53  2012-01-20       619   \n",
       "1  39.21451  -76.47873       328.7  0.59   0.53  2012-01-20       619   \n",
       "2  40.39339  -79.85433       334.5  0.46   0.63  2012-01-20       619   \n",
       "3  34.37696  -79.88717       307.5  0.41   0.61  2012-01-20       620   \n",
       "4  34.37386  -79.89035       296.8  0.41   0.61  2012-01-20       620   \n",
       "\n",
       "  satellite instrument confidence  version  bright_ti5  frp  type  \n",
       "0         N      VIIRS          n        1       272.9  5.5     2  \n",
       "1         N      VIIRS          n        1       271.7  5.2     2  \n",
       "2         N      VIIRS          n        1       265.8  5.0     2  \n",
       "3         N      VIIRS          n        1       273.3  1.0     2  \n",
       "4         N      VIIRS          n        1       273.7  1.4     2  "
      ]
     },
     "execution_count": 25,
     "metadata": {},
     "output_type": "execute_result"
    }
   ],
   "source": [
    "vh.head()"
   ]
  },
  {
   "cell_type": "code",
   "execution_count": 29,
   "metadata": {},
   "outputs": [
    {
     "data": {
      "text/html": [
       "<div>\n",
       "<style scoped>\n",
       "    .dataframe tbody tr th:only-of-type {\n",
       "        vertical-align: middle;\n",
       "    }\n",
       "\n",
       "    .dataframe tbody tr th {\n",
       "        vertical-align: top;\n",
       "    }\n",
       "\n",
       "    .dataframe thead th {\n",
       "        text-align: right;\n",
       "    }\n",
       "</style>\n",
       "<table border=\"1\" class=\"dataframe\">\n",
       "  <thead>\n",
       "    <tr style=\"text-align: right;\">\n",
       "      <th></th>\n",
       "      <th>latitude</th>\n",
       "      <th>longitude</th>\n",
       "      <th>brightness</th>\n",
       "      <th>scan</th>\n",
       "      <th>track</th>\n",
       "      <th>acq_date</th>\n",
       "      <th>acq_time</th>\n",
       "      <th>satellite</th>\n",
       "      <th>instrument</th>\n",
       "      <th>confidence</th>\n",
       "      <th>version</th>\n",
       "      <th>bright_t31</th>\n",
       "      <th>frp</th>\n",
       "      <th>daynight</th>\n",
       "      <th>type</th>\n",
       "    </tr>\n",
       "  </thead>\n",
       "  <tbody>\n",
       "    <tr>\n",
       "      <th>0</th>\n",
       "      <td>19.3530</td>\n",
       "      <td>-155.0576</td>\n",
       "      <td>400.1</td>\n",
       "      <td>1.0</td>\n",
       "      <td>1.0</td>\n",
       "      <td>2001-01-01</td>\n",
       "      <td>849</td>\n",
       "      <td>Terra</td>\n",
       "      <td>MODIS</td>\n",
       "      <td>100</td>\n",
       "      <td>6.2</td>\n",
       "      <td>311.8</td>\n",
       "      <td>255.8</td>\n",
       "      <td>N</td>\n",
       "      <td>2</td>\n",
       "    </tr>\n",
       "    <tr>\n",
       "      <th>1</th>\n",
       "      <td>19.3378</td>\n",
       "      <td>-155.0360</td>\n",
       "      <td>311.6</td>\n",
       "      <td>1.0</td>\n",
       "      <td>1.0</td>\n",
       "      <td>2001-01-01</td>\n",
       "      <td>849</td>\n",
       "      <td>Terra</td>\n",
       "      <td>MODIS</td>\n",
       "      <td>83</td>\n",
       "      <td>6.2</td>\n",
       "      <td>296.9</td>\n",
       "      <td>9.8</td>\n",
       "      <td>N</td>\n",
       "      <td>2</td>\n",
       "    </tr>\n",
       "    <tr>\n",
       "      <th>2</th>\n",
       "      <td>19.3544</td>\n",
       "      <td>-155.0482</td>\n",
       "      <td>322.2</td>\n",
       "      <td>1.0</td>\n",
       "      <td>1.0</td>\n",
       "      <td>2001-01-01</td>\n",
       "      <td>849</td>\n",
       "      <td>Terra</td>\n",
       "      <td>MODIS</td>\n",
       "      <td>100</td>\n",
       "      <td>6.2</td>\n",
       "      <td>293.6</td>\n",
       "      <td>19.6</td>\n",
       "      <td>N</td>\n",
       "      <td>2</td>\n",
       "    </tr>\n",
       "    <tr>\n",
       "      <th>3</th>\n",
       "      <td>19.3468</td>\n",
       "      <td>-155.0375</td>\n",
       "      <td>362.5</td>\n",
       "      <td>1.0</td>\n",
       "      <td>1.0</td>\n",
       "      <td>2001-01-01</td>\n",
       "      <td>849</td>\n",
       "      <td>Terra</td>\n",
       "      <td>MODIS</td>\n",
       "      <td>100</td>\n",
       "      <td>6.2</td>\n",
       "      <td>303.1</td>\n",
       "      <td>92.9</td>\n",
       "      <td>N</td>\n",
       "      <td>2</td>\n",
       "    </tr>\n",
       "    <tr>\n",
       "      <th>4</th>\n",
       "      <td>19.3516</td>\n",
       "      <td>-155.0670</td>\n",
       "      <td>313.6</td>\n",
       "      <td>1.0</td>\n",
       "      <td>1.0</td>\n",
       "      <td>2001-01-01</td>\n",
       "      <td>849</td>\n",
       "      <td>Terra</td>\n",
       "      <td>MODIS</td>\n",
       "      <td>87</td>\n",
       "      <td>6.2</td>\n",
       "      <td>291.4</td>\n",
       "      <td>11.8</td>\n",
       "      <td>N</td>\n",
       "      <td>2</td>\n",
       "    </tr>\n",
       "  </tbody>\n",
       "</table>\n",
       "</div>"
      ],
      "text/plain": [
       "   latitude  longitude  brightness  scan  track    acq_date  acq_time  \\\n",
       "0   19.3530  -155.0576       400.1   1.0    1.0  2001-01-01       849   \n",
       "1   19.3378  -155.0360       311.6   1.0    1.0  2001-01-01       849   \n",
       "2   19.3544  -155.0482       322.2   1.0    1.0  2001-01-01       849   \n",
       "3   19.3468  -155.0375       362.5   1.0    1.0  2001-01-01       849   \n",
       "4   19.3516  -155.0670       313.6   1.0    1.0  2001-01-01       849   \n",
       "\n",
       "  satellite instrument  confidence  version  bright_t31    frp daynight  type  \n",
       "0     Terra      MODIS         100      6.2       311.8  255.8        N     2  \n",
       "1     Terra      MODIS          83      6.2       296.9    9.8        N     2  \n",
       "2     Terra      MODIS         100      6.2       293.6   19.6        N     2  \n",
       "3     Terra      MODIS         100      6.2       303.1   92.9        N     2  \n",
       "4     Terra      MODIS          87      6.2       291.4   11.8        N     2  "
      ]
     },
     "execution_count": 29,
     "metadata": {},
     "output_type": "execute_result"
    }
   ],
   "source": [
    "mh.head()"
   ]
  },
  {
   "cell_type": "code",
   "execution_count": 45,
   "metadata": {},
   "outputs": [
    {
     "data": {
      "text/plain": [
       "D    0.806254\n",
       "N    0.193746\n",
       "Name: daynight, dtype: float64"
      ]
     },
     "execution_count": 45,
     "metadata": {},
     "output_type": "execute_result"
    }
   ],
   "source": [
    "mh['daynight'].value_counts(normalize=True)"
   ]
  },
  {
   "cell_type": "code",
   "execution_count": 1,
   "metadata": {},
   "outputs": [
    {
     "ename": "NameError",
     "evalue": "name 'pd' is not defined",
     "output_type": "error",
     "traceback": [
      "\u001b[0;31m---------------------------------------------------------------------------\u001b[0m",
      "\u001b[0;31mNameError\u001b[0m                                 Traceback (most recent call last)",
      "\u001b[0;32m<ipython-input-1-836c181e7fe9>\u001b[0m in \u001b[0;36m<module>\u001b[0;34m\u001b[0m\n\u001b[1;32m      2\u001b[0m \u001b[0;31m#                           aggfunc='mean').round(0)\u001b[0m\u001b[0;34m\u001b[0m\u001b[0;34m\u001b[0m\u001b[0;34m\u001b[0m\u001b[0m\n\u001b[1;32m      3\u001b[0m \u001b[0;34m\u001b[0m\u001b[0m\n\u001b[0;32m----> 4\u001b[0;31m \u001b[0mpd\u001b[0m\u001b[0;34m.\u001b[0m\u001b[0mcrosstab\u001b[0m\u001b[0;34m(\u001b[0m\u001b[0mindex\u001b[0m\u001b[0;34m=\u001b[0m\u001b[0mmh\u001b[0m\u001b[0;34m[\u001b[0m\u001b[0;34m'acq_time'\u001b[0m\u001b[0;34m]\u001b[0m\u001b[0;34m,\u001b[0m \u001b[0mcolumns\u001b[0m\u001b[0;34m=\u001b[0m\u001b[0mmh\u001b[0m\u001b[0;34m[\u001b[0m\u001b[0;34m'daynight'\u001b[0m\u001b[0;34m]\u001b[0m\u001b[0;34m,\u001b[0m \u001b[0mnormalize\u001b[0m\u001b[0;34m=\u001b[0m\u001b[0;34m'index'\u001b[0m\u001b[0;34m)\u001b[0m\u001b[0;34m.\u001b[0m\u001b[0mhead\u001b[0m\u001b[0;34m(\u001b[0m\u001b[0;34m)\u001b[0m\u001b[0;34m\u001b[0m\u001b[0;34m\u001b[0m\u001b[0m\n\u001b[0m",
      "\u001b[0;31mNameError\u001b[0m: name 'pd' is not defined"
     ]
    }
   ],
   "source": [
    "# df2 = emp.pivot_table(index='dept', values='salary', \n",
    "#                           aggfunc='mean').round(0)\n",
    "\n",
    "pd.crosstab(index=mh['acq_time'], columns=mh['daynight'], normalize='index').head()"
   ]
  },
  {
   "cell_type": "code",
   "execution_count": null,
   "metadata": {},
   "outputs": [],
   "source": [
    "# mv_current.columns.tolist(), vh.columns.tolist(), mh.columns.tolist()\n",
    "\n",
    "\n",
    "\n",
    "pd.merge(mh.drop(columns=['confidence','instrument','type']),vh.drop(columns=['confidence','instrument','type']), how='outer').fillna(0)"
   ]
  },
  {
   "cell_type": "code",
   "execution_count": 23,
   "metadata": {},
   "outputs": [
    {
     "data": {
      "text/plain": [
       "latitude      float64\n",
       "longitude     float64\n",
       "bright_ti4    float64\n",
       "scan          float64\n",
       "track         float64\n",
       "acq_date       object\n",
       "acq_time        int64\n",
       "satellite      object\n",
       "instrument     object\n",
       "confidence     object\n",
       "version         int64\n",
       "bright_ti5    float64\n",
       "frp           float64\n",
       "type            int64\n",
       "dtype: object"
      ]
     },
     "execution_count": 23,
     "metadata": {},
     "output_type": "execute_result"
    }
   ],
   "source": [
    "vh.dtypes"
   ]
  },
  {
   "cell_type": "code",
   "execution_count": 24,
   "metadata": {},
   "outputs": [
    {
     "data": {
      "text/plain": [
       "latitude      float64\n",
       "longitude     float64\n",
       "brightness    float64\n",
       "scan          float64\n",
       "track         float64\n",
       "acq_date       object\n",
       "acq_time        int64\n",
       "satellite      object\n",
       "instrument     object\n",
       "confidence      int64\n",
       "version       float64\n",
       "bright_t31    float64\n",
       "frp           float64\n",
       "daynight       object\n",
       "type            int64\n",
       "dtype: object"
      ]
     },
     "execution_count": 24,
     "metadata": {},
     "output_type": "execute_result"
    }
   ],
   "source": [
    "mh.dtypes"
   ]
  },
  {
   "cell_type": "code",
   "execution_count": 17,
   "metadata": {},
   "outputs": [
    {
     "data": {
      "text/plain": [
       "D    1435555\n",
       "N     344969\n",
       "Name: daynight, dtype: int64"
      ]
     },
     "execution_count": 17,
     "metadata": {},
     "output_type": "execute_result"
    }
   ],
   "source": [
    "# we probably have to remove confidence b/c it's based on different scales, I can also map day/night to different values....or maybe drop it?\n",
    "\n",
    "mdf.daynight.value_counts()"
   ]
  },
  {
   "cell_type": "code",
   "execution_count": 15,
   "metadata": {},
   "outputs": [
    {
     "data": {
      "text/plain": [
       "0    436467\n",
       "2     78261\n",
       "3     27390\n",
       "1      2679\n",
       "Name: type, dtype: int64"
      ]
     },
     "execution_count": 15,
     "metadata": {},
     "output_type": "execute_result"
    }
   ],
   "source": [
    "vdf.type.value_counts()"
   ]
  },
  {
   "cell_type": "code",
   "execution_count": null,
   "metadata": {},
   "outputs": [],
   "source": []
  }
 ],
 "metadata": {
  "kernelspec": {
   "display_name": "Python 3",
   "language": "python",
   "name": "python3"
  },
  "language_info": {
   "codemirror_mode": {
    "name": "ipython",
    "version": 3
   },
   "file_extension": ".py",
   "mimetype": "text/x-python",
   "name": "python",
   "nbconvert_exporter": "python",
   "pygments_lexer": "ipython3",
   "version": "3.7.3"
  }
 },
 "nbformat": 4,
 "nbformat_minor": 2
}
