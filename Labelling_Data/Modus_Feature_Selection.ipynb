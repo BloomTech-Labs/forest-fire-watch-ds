{
 "cells": [
  {
   "cell_type": "code",
   "execution_count": 1,
   "metadata": {},
   "outputs": [],
   "source": [
    "# library imports\n",
    "import pandas as pd\n",
    "import numpy as np\n",
    "import matplotlib.pyplot as plt\n",
    "\n",
    "# current data\n",
    "# viirs_url = 'https://firms.modaps.eosdis.nasa.gov/data/active_fire/viirs/csv/VNP14IMGTDL_NRT_USA_contiguous_and_Hawaii_24h.csv'\n",
    "modis_url = 'https://firms.modaps.eosdis.nasa.gov/data/active_fire/c6/csv/MODIS_C6_USA_contiguous_and_Hawaii_24h.csv'"
   ]
  },
  {
   "cell_type": "markdown",
   "metadata": {},
   "source": [
    "## Summary of Data for FIRMS Active Fire\n",
    "\n",
    "Nasa provides two analysis ready data products that are appropriate for detecting wildfires, MCD14DL that I will refer to as MODIS and VNP14IMGTDL_NRT or VIIRS. \n",
    "\n",
    "MODIS is a data product generated from telometry from two satellites Aqua and Terra. It resolves the earth's surface into roughly 1km x 1km pixels and evaluates whether each pixel is on fire using a contextual algorithm that exploits the strong emission of mid-infrared radiation from fires.\n",
    "\n",
    "VIIRS has a smaller resolution and better global coverage (due to the Suomi-NPP satellite's orbit) and can resolve fire pixels down to 375m. \n",
    "\n",
    "Using both data sources should increase data coverage and potentially add a validation element to our model.\n",
    "\n",
    "However, historical viirs data is missing the daynight feature so we are focusing on modus initially."
   ]
  },
  {
   "cell_type": "code",
   "execution_count": 2,
   "metadata": {},
   "outputs": [
    {
     "data": {
      "text/plain": [
       "(550, 13)"
      ]
     },
     "execution_count": 2,
     "metadata": {},
     "output_type": "execute_result"
    }
   ],
   "source": [
    "# v = pd.read_csv(viirs_url)\n",
    "m = pd.read_csv(modis_url)\n",
    "m.shape"
   ]
  },
  {
   "cell_type": "code",
   "execution_count": 3,
   "metadata": {},
   "outputs": [
    {
     "data": {
      "text/html": [
       "<div>\n",
       "<style scoped>\n",
       "    .dataframe tbody tr th:only-of-type {\n",
       "        vertical-align: middle;\n",
       "    }\n",
       "\n",
       "    .dataframe tbody tr th {\n",
       "        vertical-align: top;\n",
       "    }\n",
       "\n",
       "    .dataframe thead th {\n",
       "        text-align: right;\n",
       "    }\n",
       "</style>\n",
       "<table border=\"1\" class=\"dataframe\">\n",
       "  <thead>\n",
       "    <tr style=\"text-align: right;\">\n",
       "      <th></th>\n",
       "      <th>latitude</th>\n",
       "      <th>longitude</th>\n",
       "      <th>brightness</th>\n",
       "      <th>scan</th>\n",
       "      <th>track</th>\n",
       "      <th>acq_date</th>\n",
       "      <th>acq_time</th>\n",
       "      <th>satellite</th>\n",
       "      <th>confidence</th>\n",
       "      <th>version</th>\n",
       "      <th>bright_t31</th>\n",
       "      <th>frp</th>\n",
       "      <th>daynight</th>\n",
       "    </tr>\n",
       "  </thead>\n",
       "  <tbody>\n",
       "    <tr>\n",
       "      <th>0</th>\n",
       "      <td>20.880</td>\n",
       "      <td>-156.660</td>\n",
       "      <td>314.2</td>\n",
       "      <td>4.2</td>\n",
       "      <td>1.9</td>\n",
       "      <td>2019-09-11</td>\n",
       "      <td>30</td>\n",
       "      <td>A</td>\n",
       "      <td>0</td>\n",
       "      <td>6.0NRT</td>\n",
       "      <td>301.5</td>\n",
       "      <td>70.7</td>\n",
       "      <td>D</td>\n",
       "    </tr>\n",
       "    <tr>\n",
       "      <th>1</th>\n",
       "      <td>36.357</td>\n",
       "      <td>-76.806</td>\n",
       "      <td>307.9</td>\n",
       "      <td>1.2</td>\n",
       "      <td>1.1</td>\n",
       "      <td>2019-09-11</td>\n",
       "      <td>325</td>\n",
       "      <td>T</td>\n",
       "      <td>73</td>\n",
       "      <td>6.0NRT</td>\n",
       "      <td>292.3</td>\n",
       "      <td>10.1</td>\n",
       "      <td>N</td>\n",
       "    </tr>\n",
       "    <tr>\n",
       "      <th>2</th>\n",
       "      <td>36.696</td>\n",
       "      <td>-81.184</td>\n",
       "      <td>313.5</td>\n",
       "      <td>1.0</td>\n",
       "      <td>1.0</td>\n",
       "      <td>2019-09-11</td>\n",
       "      <td>325</td>\n",
       "      <td>T</td>\n",
       "      <td>87</td>\n",
       "      <td>6.0NRT</td>\n",
       "      <td>290.7</td>\n",
       "      <td>13.1</td>\n",
       "      <td>N</td>\n",
       "    </tr>\n",
       "    <tr>\n",
       "      <th>3</th>\n",
       "      <td>40.390</td>\n",
       "      <td>-79.853</td>\n",
       "      <td>303.7</td>\n",
       "      <td>1.0</td>\n",
       "      <td>1.0</td>\n",
       "      <td>2019-09-11</td>\n",
       "      <td>325</td>\n",
       "      <td>T</td>\n",
       "      <td>56</td>\n",
       "      <td>6.0NRT</td>\n",
       "      <td>293.1</td>\n",
       "      <td>5.3</td>\n",
       "      <td>N</td>\n",
       "    </tr>\n",
       "    <tr>\n",
       "      <th>4</th>\n",
       "      <td>41.367</td>\n",
       "      <td>-84.923</td>\n",
       "      <td>302.4</td>\n",
       "      <td>1.2</td>\n",
       "      <td>1.1</td>\n",
       "      <td>2019-09-11</td>\n",
       "      <td>325</td>\n",
       "      <td>T</td>\n",
       "      <td>49</td>\n",
       "      <td>6.0NRT</td>\n",
       "      <td>290.9</td>\n",
       "      <td>5.6</td>\n",
       "      <td>N</td>\n",
       "    </tr>\n",
       "  </tbody>\n",
       "</table>\n",
       "</div>"
      ],
      "text/plain": [
       "   latitude  longitude  brightness  scan  track    acq_date  acq_time  \\\n",
       "0    20.880   -156.660       314.2   4.2    1.9  2019-09-11        30   \n",
       "1    36.357    -76.806       307.9   1.2    1.1  2019-09-11       325   \n",
       "2    36.696    -81.184       313.5   1.0    1.0  2019-09-11       325   \n",
       "3    40.390    -79.853       303.7   1.0    1.0  2019-09-11       325   \n",
       "4    41.367    -84.923       302.4   1.2    1.1  2019-09-11       325   \n",
       "\n",
       "  satellite  confidence version  bright_t31   frp daynight  \n",
       "0         A           0  6.0NRT       301.5  70.7        D  \n",
       "1         T          73  6.0NRT       292.3  10.1        N  \n",
       "2         T          87  6.0NRT       290.7  13.1        N  \n",
       "3         T          56  6.0NRT       293.1   5.3        N  \n",
       "4         T          49  6.0NRT       290.9   5.6        N  "
      ]
     },
     "execution_count": 3,
     "metadata": {},
     "output_type": "execute_result"
    }
   ],
   "source": [
    "m.head()"
   ]
  },
  {
   "cell_type": "code",
   "execution_count": 4,
   "metadata": {},
   "outputs": [],
   "source": [
    "# version denotes the sensor product i.e. Modis/virrs, we'll map this to the name for easier recognition\n",
    "# mapping names onto version\n",
    "version_to_names = {'6.0NRT' : 'modis', '1.0NRT' : 'viirs'}\n",
    "\n",
    "m['version'] = m['version'].map(version_to_names)"
   ]
  },
  {
   "cell_type": "code",
   "execution_count": 11,
   "metadata": {},
   "outputs": [
    {
     "data": {
      "text/plain": [
       "(1780524, 15)"
      ]
     },
     "execution_count": 11,
     "metadata": {},
     "output_type": "execute_result"
    }
   ],
   "source": [
    "# historical modus data\n",
    "mh = pd.read_csv('~/datascience/burn notice/Data-Science/Data/DL_FIRE_M6_66499 - Historical Modis/fire_archive_M6_66499.csv')\n",
    "# vh = pd.read_csv('~/datascience/burn notice/Data-Science/Data/fire_archive_V1_67178.csv')\n",
    "mh.shape"
   ]
  },
  {
   "cell_type": "code",
   "execution_count": 13,
   "metadata": {},
   "outputs": [],
   "source": [
    "# match historical features with current ones\n",
    "mh.drop(columns=['instrument', 'type'], inplace=True)\n",
    "type\n",
    "# remap version\n",
    "hversion_to_names = { 6.2 : 'modis', '1T' : 'viirs'}\n",
    "mh['version'] = mh['version'].map(hversion_to_names)"
   ]
  },
  {
   "cell_type": "markdown",
   "metadata": {},
   "source": [
    "Now we check to make sure that our features at the same in the historical and current data"
   ]
  },
  {
   "cell_type": "code",
   "execution_count": 14,
   "metadata": {},
   "outputs": [],
   "source": [
    "# test to see if our features are the same\n",
    "cf = set(m.columns.tolist())\n",
    "hf = set(mh.columns.tolist())\n",
    "assert cf == hf"
   ]
  },
  {
   "cell_type": "markdown",
   "metadata": {},
   "source": [
    "No assertion error means we're good."
   ]
  },
  {
   "cell_type": "code",
   "execution_count": 16,
   "metadata": {},
   "outputs": [],
   "source": [
    "# we'll save our feature engineered historical data-set, the current dataset is not important, o\n",
    "# nly the feature processing as we will need to apply that in our deployed model\n",
    "mh.to_pickle('~/datascience/burn notice/Data-Science/Data/clean_historical_modis.pkl')"
   ]
  },
  {
   "cell_type": "code",
   "execution_count": 16,
   "metadata": {},
   "outputs": [
    {
     "data": {
      "image/png": "[encoded data removed]",
      "text/plain": [
       "<Figure size 720x432 with 1 Axes>"
      ]
     },
     "metadata": {
      "needs_background": "light"
     },
     "output_type": "display_data"
    }
   ],
   "source": [
    "from matplotlib.pyplot import figure\n",
    "figure(num=1, figsize=(10,6))\n",
    "\n",
    "# set width of bar\n",
    "barWidth = 0.15\n",
    " \n",
    "# set height of bar\n",
    "bars3 = [m.brightness.mean(), m.bright_t31.mean()]\n",
    "bars4 = [mh.brightness.mean(), mh.bright_t31.mean()]\n",
    "\n",
    "#set error bars\n",
    "error3 = [m.brightness.std(), m.bright_t31.std()]\n",
    "error4 = [mh.brightness.std(), mh.bright_t31.std()]\n",
    " \n",
    "# Set position of bar on X axis\n",
    "r1 = np.arange(len(bars3))\n",
    "r2 = [x + barWidth for x in r1]\n",
    "\n",
    " \n",
    "# Make the plot\n",
    "plt.bar(r1, bars3, yerr=error3, color='#2d7f5e', width=barWidth, edgecolor='white', label='modis_current')\n",
    "plt.bar(r2, bars4, yerr=error4, color='#bab86c', width=barWidth, edgecolor='white', label='modis_historical')\n",
    " \n",
    "# Add xticks on the middle of the group bars\n",
    "plt.xlabel('Comparing historical and current brightness', fontweight='bold')\n",
    "plt.xticks([r + barWidth for r in range(len(bars3))], ['brightness', 'bright_t31'])\n",
    " \n",
    "# Create legend & Show graphic\n",
    "plt.legend()\n",
    "plt.show()"
   ]
  },
  {
   "cell_type": "markdown",
   "metadata": {},
   "source": [
    "We are comparing the current and historical data to see if values/collection standards are within the same ranges. "
   ]
  },
  {
   "cell_type": "code",
   "execution_count": 19,
   "metadata": {},
   "outputs": [
    {
     "data": {
      "image/png": "[encoded data removed]",
      "text/plain": [
       "<Figure size 720x432 with 1 Axes>"
      ]
     },
     "metadata": {
      "needs_background": "light"
     },
     "output_type": "display_data"
    }
   ],
   "source": [
    "figure(num=1, figsize=(10,6))\n",
    "\n",
    "# set width of bar\n",
    "barWidth = 0.15\n",
    " \n",
    "# set height of bar\n",
    "bars3 = [m.scan.mean(), m.track.mean()]\n",
    "bars4 = [mh.scan.mean(), mh.track.mean()]\n",
    "\n",
    "#set error bars\n",
    "error3 = [m.scan.std(), m.track.std()]\n",
    "error4 = [mh.scan.std(), mh.track.std()]\n",
    " \n",
    "# Set position of bar on X axis\n",
    "r1 = np.arange(len(bars3))\n",
    "r2 = [x + barWidth for x in r1]\n",
    " \n",
    "# Make the plot\n",
    "plt.bar(r1, bars3, yerr=error3, color='#2d7f5e', width=barWidth, edgecolor='white', label='modis_current')\n",
    "plt.bar(r2, bars4, yerr=error4, color='#bab86c', width=barWidth, edgecolor='white', label='modis_historical')\n",
    " \n",
    "# Add xticks on the middle of the group bars\n",
    "plt.xlabel('Modis Current/historical Scan/Track', fontweight='bold')\n",
    "plt.xticks([r + barWidth for r in range(len(bars3))], ['scan', 'track'])\n",
    " \n",
    "# Create legend & Show graphic\n",
    "plt.legend()\n",
    "plt.show()"
   ]
  },
  {
   "cell_type": "markdown",
   "metadata": {},
   "source": [
    "The values look more similar now so we will conclude that our understanding is sufficient and treat these measurements as from the same scale."
   ]
  },
  {
   "cell_type": "code",
   "execution_count": 21,
   "metadata": {},
   "outputs": [
    {
     "data": {
      "image/png": "[encoded data removed]",
      "text/plain": [
       "<Figure size 432x288 with 1 Axes>"
      ]
     },
     "metadata": {
      "needs_background": "light"
     },
     "output_type": "display_data"
    }
   ],
   "source": [
    "#figure(num=1, figsize=(8,4))\n",
    "\n",
    "# set width of bar\n",
    "barWidth = 0.15\n",
    " \n",
    "# set height of bar\n",
    "bars3 = [m.frp.mean()]\n",
    "bars4 = [mh.frp.mean()]\n",
    "\n",
    "#set error bars\n",
    "error3 = [m.frp.std()]\n",
    "error4 = [mh.frp.std()]\n",
    " \n",
    "# Set position of bar on X axis\n",
    "r1 = np.arange(len(bars3))\n",
    "r2 = [x + barWidth for x in r1]\n",
    " \n",
    "# Make the plot\n",
    "plt.bar(r1, bars3, yerr=error3, color='#2d7f5e', width=barWidth, edgecolor='white', label='modis_current')\n",
    "plt.bar(r2, bars4, yerr=error4, color='#bab86c', width=barWidth, edgecolor='white', label='modis_historical')\n",
    " \n",
    "# Add xticks on the middle of the group bars\n",
    "plt.xlabel('Modis Current/historical FRP', fontweight='bold')\n",
    "plt.xticks([r + barWidth for r in range(len(bars3))], ['frp'])\n",
    " \n",
    "# Create legend & Show graphic\n",
    "plt.legend(loc='upper left')\n",
    "plt.show()"
   ]
  }
 ],
 "metadata": {
  "kernelspec": {
   "display_name": "Python 3",
   "language": "python",
   "name": "python3"
  },
  "language_info": {
   "codemirror_mode": {
    "name": "ipython",
    "version": 3
   },
   "file_extension": ".py",
   "mimetype": "text/x-python",
   "name": "python",
   "nbconvert_exporter": "python",
   "pygments_lexer": "ipython3",
   "version": "3.7.3"
  }
 },
 "nbformat": 4,
 "nbformat_minor": 2
}
