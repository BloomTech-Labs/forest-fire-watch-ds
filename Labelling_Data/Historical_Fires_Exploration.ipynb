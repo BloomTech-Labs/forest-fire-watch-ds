{
 "cells": [
  {
   "cell_type": "code",
   "execution_count": 2,
   "metadata": {},
   "outputs": [],
   "source": [
    "import pandas as pd\n",
    "import numpy as np\n",
    "import sqlite3\n",
    "\n",
    "mh = pd.read_pickle('~/datascience/burn notice/Data-Science/Data/clean_historical_modis.pkl')"
   ]
  },
  {
   "cell_type": "code",
   "execution_count": 3,
   "metadata": {},
   "outputs": [
    {
     "data": {
      "text/plain": [
       "0         2001-01-01\n",
       "18        2001-01-01\n",
       "17        2001-01-01\n",
       "16        2001-01-01\n",
       "15        2001-01-01\n",
       "14        2001-01-01\n",
       "13        2001-01-01\n",
       "12        2001-01-01\n",
       "11        2001-01-01\n",
       "10        2001-01-01\n",
       "19        2001-01-01\n",
       "8         2001-01-01\n",
       "7         2001-01-01\n",
       "6         2001-01-01\n",
       "5         2001-01-01\n",
       "4         2001-01-01\n",
       "3         2001-01-01\n",
       "2         2001-01-01\n",
       "1         2001-01-01\n",
       "9         2001-01-01\n",
       "50        2001-01-02\n",
       "48        2001-01-02\n",
       "47        2001-01-02\n",
       "43        2001-01-02\n",
       "45        2001-01-02\n",
       "44        2001-01-02\n",
       "51        2001-01-02\n",
       "46        2001-01-02\n",
       "52        2001-01-02\n",
       "56        2001-01-02\n",
       "             ...    \n",
       "1780517   2016-01-01\n",
       "1780515   2016-01-01\n",
       "1780516   2016-01-01\n",
       "1780518   2016-01-01\n",
       "1780519   2016-01-01\n",
       "1780520   2016-01-01\n",
       "1780521   2016-01-01\n",
       "1780506   2016-01-01\n",
       "1780514   2016-01-01\n",
       "1780505   2016-01-01\n",
       "1780495   2016-01-01\n",
       "1780503   2016-01-01\n",
       "1780522   2016-01-01\n",
       "1780487   2016-01-01\n",
       "1780488   2016-01-01\n",
       "1780489   2016-01-01\n",
       "1780490   2016-01-01\n",
       "1780491   2016-01-01\n",
       "1780492   2016-01-01\n",
       "1780504   2016-01-01\n",
       "1780493   2016-01-01\n",
       "1780496   2016-01-01\n",
       "1780497   2016-01-01\n",
       "1780498   2016-01-01\n",
       "1780499   2016-01-01\n",
       "1780500   2016-01-01\n",
       "1780501   2016-01-01\n",
       "1780502   2016-01-01\n",
       "1780494   2016-01-01\n",
       "1780523   2016-01-01\n",
       "Name: acq_date, Length: 1780524, dtype: datetime64[ns]"
      ]
     },
     "execution_count": 3,
     "metadata": {},
     "output_type": "execute_result"
    }
   ],
   "source": [
    "# extract date range from historical modis\n",
    "mh['acq_date'] =pd.to_datetime(mh['acq_date'])\n",
    "mh['acq_date'].sort_values()"
   ]
  },
  {
   "cell_type": "code",
   "execution_count": 4,
   "metadata": {},
   "outputs": [
    {
     "data": {
      "text/plain": [
       "(0   2001-01-01\n",
       " Name: acq_date, dtype: datetime64[ns], 1780523   2016-01-01\n",
       " Name: acq_date, dtype: datetime64[ns])"
      ]
     },
     "execution_count": 4,
     "metadata": {},
     "output_type": "execute_result"
    }
   ],
   "source": [
    "mh['acq_date'][:1], mh['acq_date'][-1:]"
   ]
  },
  {
   "cell_type": "markdown",
   "metadata": {},
   "source": [
    "Our historical modis operations are between 2001-01-01 and 2016-01-01. We will extract the exact same date range from our kaggle labelled fires SQL database."
   ]
  },
  {
   "cell_type": "code",
   "execution_count": 5,
   "metadata": {},
   "outputs": [],
   "source": [
    "# FPA FOD data from here: https://www.kaggle.com/rtatman/188-million-us-wildfires\n",
    "# Create the connection\n",
    "cnx = sqlite3.connect('/home/nedderlander/datascience/burn notice/Data-Science/Data/FPA_FOD_20170508.sqlite')\n",
    "\n",
    "# create the dataframe from a query\n",
    "# Fire Program Analysis (FPA) system\n",
    "kdf = pd.read_sql_query(\"\"\"SELECT LATITUDE, LONGITUDE, DISCOVERY_DATE, FIRE_YEAR, \n",
    "                       DISCOVERY_DOY FROM Fires WHERE FIRE_YEAR > 2001\"\"\", cnx)"
   ]
  },
  {
   "cell_type": "markdown",
   "metadata": {},
   "source": [
    "kdf is a great source for labeling fires but it may be missing 'prescribed burns' which are fires that are intentioinally lit to control forrests. We will try to add in a dataset that includes so-called prescribed burns."
   ]
  },
  {
   "cell_type": "code",
   "execution_count": 6,
   "metadata": {},
   "outputs": [],
   "source": [
    "# https://wildfire.cr.usgs.gov/firehistory/ \n",
    "# Source for data that includes perscribed burns\n",
    "fh_path = '/home/nedderlander/datascience/burn notice/Data-Science/Data/fh_all_1980_2016.csv'\n",
    "fields = ['STARTDATED', 'DLATITUDE', 'DLONGITUDE' , 'YEAR_']\n",
    "\n",
    "fhf = pd.read_csv(fh_path, usecols=fields)"
   ]
  },
  {
   "cell_type": "markdown",
   "metadata": {},
   "source": [
    "Now we will match fhf and kdf to hopefully create a more comprehensive labelling source.\n",
    "\n",
    "This will involve turning the fhf date to datetime, creating a date from the kdf features Fire_year and DOY, and then fuzzy matching dates and rounded longitudes."
   ]
  },
  {
   "cell_type": "code",
   "execution_count": 7,
   "metadata": {},
   "outputs": [],
   "source": [
    "# For our kdf\n",
    "\n",
    "# create datetime objects and then year and month\n",
    "import datetime\n",
    "\n",
    "fire_year = kdf[\"FIRE_YEAR\"].tolist()\n",
    "day_of_year = kdf[\"DISCOVERY_DOY\"].tolist()\n",
    "\n",
    "fire_dates = tuple(zip(fire_year, day_of_year))\n",
    "\n",
    "def to_date(fire_dates):\n",
    "    dates = []\n",
    "    for row in fire_dates:\n",
    "        dates.append(datetime.datetime(row[0], 1, 1) + datetime.timedelta(row[1] - 1))\n",
    "    return dates\n",
    "\n",
    "dates = to_date(fire_dates)\n",
    "kdf['DATE'] = dates\n",
    "kdf['MONTH'] = kdf['DATE'].dt.month\n",
    "kdf['WEEK'] = kdf['DATE'].dt.weekofyear\n",
    "\n",
    "\n",
    "# rename FIREYEAR to year for simplicity\n",
    "kdf = kdf.rename(columns={'FIRE_YEAR' : 'YEAR'})\n"
   ]
  },
  {
   "cell_type": "code",
   "execution_count": 8,
   "metadata": {},
   "outputs": [],
   "source": [
    "# now that we have DATE and MONTH for kdf, we will produce the same features for fhf\n",
    "fhf['STARTDATED'] = fhf['STARTDATED'].str.replace(\" \", \"\")\n",
    "fhf['DATE'] = pd.to_datetime(fhf['STARTDATED'], format='%Y/%m/%d', errors='coerce')\n",
    "fhf['MONTH'] = fhf['DATE'].dt.month\n",
    "fhf['WEEK'] = fhf['DATE'].dt.weekofyear\n",
    "\n",
    "# rename YEAR_ to year for simplicity\n",
    "fhf = fhf.rename(columns={'YEAR_' : 'YEAR'})"
   ]
  },
  {
   "cell_type": "code",
   "execution_count": 9,
   "metadata": {},
   "outputs": [],
   "source": [
    "# now we will create rounded lat/longs and merge these datasets together\n",
    "dec = 1\n",
    "fhf[\"lat_r\"] = round(fhf[\"DLATITUDE\"], dec)\n",
    "fhf[\"lon_r\"] = round(fhf[\"DLONGITUDE\"], dec)\n",
    "kdf[\"lat_r\"] = round(kdf[\"LATITUDE\"], dec)\n",
    "kdf[\"lon_r\"] = round(kdf[\"LONGITUDE\"], dec)\n",
    "\n",
    "rounded = ['lat_r', 'lon_r', 'YEAR', 'MONTH', 'WEEK']\n",
    "\n",
    "known_fires = pd.merge(kdf[rounded], fhf[rounded], how= 'outer')\n",
    "\n",
    "known_fires['fire'] = 1"
   ]
  },
  {
   "cell_type": "code",
   "execution_count": 10,
   "metadata": {},
   "outputs": [
    {
     "data": {
      "text/plain": [
       "((2059496, 6),    lat_r  lon_r  YEAR  MONTH  WEEK  fire\n",
       " 0   40.0 -121.0  2005    2.0   5.0     1\n",
       " 1   38.9 -120.4  2004    5.0  20.0     1\n",
       " 2   39.0 -120.7  2004    5.0  23.0     1\n",
       " 3   38.6 -119.9  2004    6.0  27.0     1\n",
       " 4   38.6 -119.9  2004    6.0  27.0     1)"
      ]
     },
     "execution_count": 10,
     "metadata": {},
     "output_type": "execute_result"
    }
   ],
   "source": [
    "known_fires.shape, known_fires.head()"
   ]
  },
  {
   "cell_type": "markdown",
   "metadata": {},
   "source": [
    "Now that we havea large dataframe of known fires, we will merge this into our historical modis data in order to label the modis observations"
   ]
  },
  {
   "cell_type": "code",
   "execution_count": 11,
   "metadata": {},
   "outputs": [],
   "source": [
    "# mh.drop(columns='WEEK',inplace=True)"
   ]
  },
  {
   "cell_type": "code",
   "execution_count": 12,
   "metadata": {},
   "outputs": [],
   "source": [
    "# set our fire labels to zero b/c they are unkown at this point\n",
    "mh[\"lat_r\"] = round(mh[\"latitude\"], dec)\n",
    "mh[\"lon_r\"] = round(mh[\"longitude\"], dec)\n",
    "\n",
    "# create date features to match on as well\n",
    "mh['YEAR'] = mh['acq_date'].dt.year\n",
    "mh['MONTH'] = mh['acq_date'].dt.month"
   ]
  },
  {
   "cell_type": "code",
   "execution_count": 13,
   "metadata": {},
   "outputs": [],
   "source": [
    "label_merge = ['lat_r', 'lon_r', 'YEAR', 'MONTH']\n",
    "\n",
    "labeled_mh = pd.merge(mh, known_fires, how='left', on = label_merge)"
   ]
  },
  {
   "cell_type": "code",
   "execution_count": 14,
   "metadata": {},
   "outputs": [
    {
     "data": {
      "text/html": [
       "<div>\n",
       "<style scoped>\n",
       "    .dataframe tbody tr th:only-of-type {\n",
       "        vertical-align: middle;\n",
       "    }\n",
       "\n",
       "    .dataframe tbody tr th {\n",
       "        vertical-align: top;\n",
       "    }\n",
       "\n",
       "    .dataframe thead th {\n",
       "        text-align: right;\n",
       "    }\n",
       "</style>\n",
       "<table border=\"1\" class=\"dataframe\">\n",
       "  <thead>\n",
       "    <tr style=\"text-align: right;\">\n",
       "      <th></th>\n",
       "      <th>latitude</th>\n",
       "      <th>longitude</th>\n",
       "      <th>brightness</th>\n",
       "      <th>scan</th>\n",
       "      <th>track</th>\n",
       "      <th>acq_date</th>\n",
       "      <th>acq_time</th>\n",
       "      <th>satellite</th>\n",
       "      <th>confidence</th>\n",
       "      <th>version</th>\n",
       "      <th>bright_t31</th>\n",
       "      <th>frp</th>\n",
       "      <th>daynight</th>\n",
       "      <th>lat_r</th>\n",
       "      <th>lon_r</th>\n",
       "      <th>YEAR</th>\n",
       "      <th>MONTH</th>\n",
       "      <th>WEEK</th>\n",
       "      <th>fire</th>\n",
       "    </tr>\n",
       "  </thead>\n",
       "  <tbody>\n",
       "    <tr>\n",
       "      <th>0</th>\n",
       "      <td>19.3530</td>\n",
       "      <td>-155.0576</td>\n",
       "      <td>400.1</td>\n",
       "      <td>1.0</td>\n",
       "      <td>1.0</td>\n",
       "      <td>2001-01-01</td>\n",
       "      <td>849</td>\n",
       "      <td>Terra</td>\n",
       "      <td>100</td>\n",
       "      <td>modis</td>\n",
       "      <td>311.8</td>\n",
       "      <td>255.8</td>\n",
       "      <td>N</td>\n",
       "      <td>19.4</td>\n",
       "      <td>-155.1</td>\n",
       "      <td>2001</td>\n",
       "      <td>1</td>\n",
       "      <td>NaN</td>\n",
       "      <td>NaN</td>\n",
       "    </tr>\n",
       "    <tr>\n",
       "      <th>1</th>\n",
       "      <td>19.3378</td>\n",
       "      <td>-155.0360</td>\n",
       "      <td>311.6</td>\n",
       "      <td>1.0</td>\n",
       "      <td>1.0</td>\n",
       "      <td>2001-01-01</td>\n",
       "      <td>849</td>\n",
       "      <td>Terra</td>\n",
       "      <td>83</td>\n",
       "      <td>modis</td>\n",
       "      <td>296.9</td>\n",
       "      <td>9.8</td>\n",
       "      <td>N</td>\n",
       "      <td>19.3</td>\n",
       "      <td>-155.0</td>\n",
       "      <td>2001</td>\n",
       "      <td>1</td>\n",
       "      <td>NaN</td>\n",
       "      <td>NaN</td>\n",
       "    </tr>\n",
       "    <tr>\n",
       "      <th>2</th>\n",
       "      <td>19.3544</td>\n",
       "      <td>-155.0482</td>\n",
       "      <td>322.2</td>\n",
       "      <td>1.0</td>\n",
       "      <td>1.0</td>\n",
       "      <td>2001-01-01</td>\n",
       "      <td>849</td>\n",
       "      <td>Terra</td>\n",
       "      <td>100</td>\n",
       "      <td>modis</td>\n",
       "      <td>293.6</td>\n",
       "      <td>19.6</td>\n",
       "      <td>N</td>\n",
       "      <td>19.4</td>\n",
       "      <td>-155.0</td>\n",
       "      <td>2001</td>\n",
       "      <td>1</td>\n",
       "      <td>NaN</td>\n",
       "      <td>NaN</td>\n",
       "    </tr>\n",
       "    <tr>\n",
       "      <th>3</th>\n",
       "      <td>19.3468</td>\n",
       "      <td>-155.0375</td>\n",
       "      <td>362.5</td>\n",
       "      <td>1.0</td>\n",
       "      <td>1.0</td>\n",
       "      <td>2001-01-01</td>\n",
       "      <td>849</td>\n",
       "      <td>Terra</td>\n",
       "      <td>100</td>\n",
       "      <td>modis</td>\n",
       "      <td>303.1</td>\n",
       "      <td>92.9</td>\n",
       "      <td>N</td>\n",
       "      <td>19.3</td>\n",
       "      <td>-155.0</td>\n",
       "      <td>2001</td>\n",
       "      <td>1</td>\n",
       "      <td>NaN</td>\n",
       "      <td>NaN</td>\n",
       "    </tr>\n",
       "    <tr>\n",
       "      <th>4</th>\n",
       "      <td>19.3516</td>\n",
       "      <td>-155.0670</td>\n",
       "      <td>313.6</td>\n",
       "      <td>1.0</td>\n",
       "      <td>1.0</td>\n",
       "      <td>2001-01-01</td>\n",
       "      <td>849</td>\n",
       "      <td>Terra</td>\n",
       "      <td>87</td>\n",
       "      <td>modis</td>\n",
       "      <td>291.4</td>\n",
       "      <td>11.8</td>\n",
       "      <td>N</td>\n",
       "      <td>19.4</td>\n",
       "      <td>-155.1</td>\n",
       "      <td>2001</td>\n",
       "      <td>1</td>\n",
       "      <td>NaN</td>\n",
       "      <td>NaN</td>\n",
       "    </tr>\n",
       "  </tbody>\n",
       "</table>\n",
       "</div>"
      ],
      "text/plain": [
       "   latitude  longitude  brightness  scan  track   acq_date  acq_time  \\\n",
       "0   19.3530  -155.0576       400.1   1.0    1.0 2001-01-01       849   \n",
       "1   19.3378  -155.0360       311.6   1.0    1.0 2001-01-01       849   \n",
       "2   19.3544  -155.0482       322.2   1.0    1.0 2001-01-01       849   \n",
       "3   19.3468  -155.0375       362.5   1.0    1.0 2001-01-01       849   \n",
       "4   19.3516  -155.0670       313.6   1.0    1.0 2001-01-01       849   \n",
       "\n",
       "  satellite  confidence version  bright_t31    frp daynight  lat_r  lon_r  \\\n",
       "0     Terra         100   modis       311.8  255.8        N   19.4 -155.1   \n",
       "1     Terra          83   modis       296.9    9.8        N   19.3 -155.0   \n",
       "2     Terra         100   modis       293.6   19.6        N   19.4 -155.0   \n",
       "3     Terra         100   modis       303.1   92.9        N   19.3 -155.0   \n",
       "4     Terra          87   modis       291.4   11.8        N   19.4 -155.1   \n",
       "\n",
       "   YEAR  MONTH  WEEK  fire  \n",
       "0  2001      1   NaN   NaN  \n",
       "1  2001      1   NaN   NaN  \n",
       "2  2001      1   NaN   NaN  \n",
       "3  2001      1   NaN   NaN  \n",
       "4  2001      1   NaN   NaN  "
      ]
     },
     "execution_count": 14,
     "metadata": {},
     "output_type": "execute_result"
    }
   ],
   "source": [
    "labeled_mh.head()"
   ]
  },
  {
   "cell_type": "code",
   "execution_count": 15,
   "metadata": {},
   "outputs": [],
   "source": [
    "# we will also remap fires so that nans = 0\n",
    "labeled_mh = labeled_mh.fillna(0)\n",
    "\n",
    "# and drop the columns used for labelling\n",
    "labeled_mh.drop(columns=['YEAR','WEEK', 'MONTH', 'WEEK', 'lat_r', 'lon_r'],inplace=True)"
   ]
  },
  {
   "cell_type": "code",
   "execution_count": 16,
   "metadata": {},
   "outputs": [
    {
     "data": {
      "text/plain": [
       "0.0    0.556728\n",
       "1.0    0.443272\n",
       "Name: fire, dtype: float64"
      ]
     },
     "execution_count": 16,
     "metadata": {},
     "output_type": "execute_result"
    }
   ],
   "source": [
    "labeled_mh['fire'].value_counts(normalize=True)"
   ]
  },
  {
   "cell_type": "markdown",
   "metadata": {},
   "source": [
    "Now we have a labelled fire dataset with the same features as our near realtime modis data. We can begin machine learning.\n",
    "\n",
    "However, the dataset is pretty large, I'm going to downcast it for convenience."
   ]
  },
  {
   "cell_type": "code",
   "execution_count": 17,
   "metadata": {},
   "outputs": [
    {
     "name": "stdout",
     "output_type": "stream",
     "text": [
      "<class 'pandas.core.frame.DataFrame'>\n",
      "Int64Index: 2540268 entries, 0 to 2540267\n",
      "Data columns (total 14 columns):\n",
      "latitude      float64\n",
      "longitude     float64\n",
      "brightness    float64\n",
      "scan          float64\n",
      "track         float64\n",
      "acq_date      datetime64[ns]\n",
      "acq_time      int64\n",
      "satellite     object\n",
      "confidence    int64\n",
      "version       object\n",
      "bright_t31    float64\n",
      "frp           float64\n",
      "daynight      object\n",
      "fire          float64\n",
      "dtypes: datetime64[ns](1), float64(8), int64(2), object(3)\n",
      "memory usage: 691.6 MB\n"
     ]
    }
   ],
   "source": [
    "labeled_mh.info(memory_usage='deep')"
   ]
  },
  {
   "cell_type": "code",
   "execution_count": 18,
   "metadata": {},
   "outputs": [],
   "source": [
    "# memory downcasting system\n",
    "\n",
    "def float_to_int(ser):\n",
    "    try:\n",
    "        int_ser = ser.astype(int)\n",
    "        if (ser == int_ser).all():\n",
    "            return int_ser\n",
    "        else:\n",
    "            return ser\n",
    "    except ValueError:\n",
    "        return ser\n",
    "    \n",
    "def all_float_to_int(df):\n",
    "    df_to_use = df.copy()\n",
    "    transform_fn = float_to_int\n",
    "    condition = lambda x: list(x\n",
    "                    .select_dtypes(include=[\"float\"])\n",
    "                    .columns)    \n",
    "    \n",
    "    return multi_assign(df_to_use, transform_fn, condition)\n",
    "\n",
    "def multi_assign(df, transform_fn, condition):\n",
    "    df_to_use = df.copy()\n",
    "    \n",
    "    return (df_to_use\n",
    "        .assign(\n",
    "            **{col: transform_fn(df_to_use[col])\n",
    "               for col in condition(df_to_use)})\n",
    "           )\n",
    "\n",
    "def downcast_all(df, target_type, inital_type=None):\n",
    "    #Gotta specify floats, unsigned, or integer\n",
    "    #If integer, gotta be 'integer', not 'int'\n",
    "    #Unsigned should look for Ints\n",
    "    if inital_type is None:\n",
    "        inital_type = target_type\n",
    "    \n",
    "    df_to_use = df.copy()\n",
    "    \n",
    "    transform_fn = lambda x: pd.to_numeric(x, \n",
    "                                downcast=target_type)\n",
    "    \n",
    "    condition = lambda x: list(x\n",
    "                    .select_dtypes(include=[inital_type])\n",
    "                    .columns) \n",
    "    \n",
    "    return multi_assign(df_to_use, transform_fn, condition)\n",
    "\n",
    "labeled_mh = (labeled_mh\n",
    "     .pipe(all_float_to_int)\n",
    "     .pipe(downcast_all, \"float\")\n",
    "     .pipe(downcast_all, \"integer\")\n",
    "     .pipe(downcast_all,  \n",
    "           target_type = \"unsigned\", \n",
    "           inital_type = \"integer\")\n",
    ")"
   ]
  },
  {
   "cell_type": "code",
   "execution_count": 19,
   "metadata": {},
   "outputs": [
    {
     "name": "stdout",
     "output_type": "stream",
     "text": [
      "<class 'pandas.core.frame.DataFrame'>\n",
      "Int64Index: 2540268 entries, 0 to 2540267\n",
      "Data columns (total 14 columns):\n",
      "latitude      float32\n",
      "longitude     float32\n",
      "brightness    float32\n",
      "scan          float32\n",
      "track         float32\n",
      "acq_date      datetime64[ns]\n",
      "acq_time      uint16\n",
      "satellite     object\n",
      "confidence    uint8\n",
      "version       object\n",
      "bright_t31    float32\n",
      "frp           float32\n",
      "daynight      object\n",
      "fire          uint8\n",
      "dtypes: datetime64[ns](1), float32(7), object(3), uint16(1), uint8(2)\n",
      "memory usage: 575.3 MB\n"
     ]
    }
   ],
   "source": [
    "labeled_mh.info(memory_usage='deep')"
   ]
  },
  {
   "cell_type": "markdown",
   "metadata": {},
   "source": [
    "This reduced memory usage by over 100mb so pretty cool. I will now save this dataframe for use in model training."
   ]
  },
  {
   "cell_type": "code",
   "execution_count": 20,
   "metadata": {},
   "outputs": [],
   "source": [
    "# I'll save merged now\n",
    "labeled_mh.to_pickle('/home/nedderlander/datascience/burn notice/Data-Science/Data/Cleaned_Modus_Historical/labeled_mh_r1.pkl')"
   ]
  },
  {
   "cell_type": "markdown",
   "metadata": {},
   "source": [
    "Below is a correlation matrix of the saved features, what's interesting is the very low correlation with fire. This sugests that the problem may be suitable for a decision tree / random forrest classifier."
   ]
  },
  {
   "cell_type": "code",
   "execution_count": 21,
   "metadata": {},
   "outputs": [
    {
     "data": {
      "image/png": "[encoded data removed]",
      "text/plain": [
       "<Figure size 1440x1152 with 2 Axes>"
      ]
     },
     "metadata": {
      "needs_background": "light"
     },
     "output_type": "display_data"
    }
   ],
   "source": [
    "import matplotlib.pyplot as plt\n",
    "import seaborn as sns\n",
    "\n",
    "f, ax = plt.subplots(figsize=(20, 16))\n",
    "corr = labeled_mh.corr()\n",
    "sns.heatmap(corr, mask=np.zeros_like(corr, dtype=np.bool), cmap=sns.diverging_palette(220, 10, as_cmap=True),\n",
    "            square=True, ax=ax);"
   ]
  },
  {
   "cell_type": "code",
   "execution_count": null,
   "metadata": {},
   "outputs": [],
   "source": []
  }
 ],
 "metadata": {
  "kernelspec": {
   "display_name": "Python 3",
   "language": "python",
   "name": "python3"
  },
  "language_info": {
   "codemirror_mode": {
    "name": "ipython",
    "version": 3
   },
   "file_extension": ".py",
   "mimetype": "text/x-python",
   "name": "python",
   "nbconvert_exporter": "python",
   "pygments_lexer": "ipython3",
   "version": "3.7.3"
  }
 },
 "nbformat": 4,
 "nbformat_minor": 2
}
