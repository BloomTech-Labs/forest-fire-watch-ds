{
 "cells": [
  {
   "cell_type": "code",
   "execution_count": null,
   "metadata": {},
   "outputs": [],
   "source": [
    "import numpy as np, pandas as pd\n",
    "import warnings\n",
    "import psutil, os\n",
    "warnings.filterwarnings('ignore')\n",
    "\n",
    "# going on 1 decimal matching\n",
    "path2 = 'Data/labelled_historical_modus_1_decimal_lat_long.csv'\n",
    "\n",
    "\n",
    "# I'm going to sample 10% of values\n",
    "# n = 10  # every 10th line = 10% of the lines\n",
    "# df = pd.read_csv(path2, index_col=0, skiprows=lambda i: i % n != 0)\n",
    "\n",
    "\n",
    "df = pd.read_csv(path2, index_col=0)\n",
    "\n",
    "df.drop(columns = ['version', 'DATE'], inplace=True)\n",
    "\n",
    "# initial memory usage\n",
    "df.info(memory_usage='deep')"
   ]
  },
  {
   "cell_type": "code",
   "execution_count": 2,
   "metadata": {},
   "outputs": [
    {
     "data": {
      "text/plain": [
       "pmem(rss=170303488, vms=880713728, shared=39342080, text=2342912, lib=0, data=200003584, dirty=0)"
      ]
     },
     "execution_count": 2,
     "metadata": {},
     "output_type": "execute_result"
    }
   ],
   "source": [
    "import psutil, os\n",
    "psutil.Process(os.getpid()).memory_info()"
   ]
  },
  {
   "cell_type": "code",
   "execution_count": 3,
   "metadata": {},
   "outputs": [],
   "source": [
    "# memory downcasting system\n",
    "\n",
    "def float_to_int(ser):\n",
    "    try:\n",
    "        int_ser = ser.astype(int)\n",
    "        if (ser == int_ser).all():\n",
    "            return int_ser\n",
    "        else:\n",
    "            return ser\n",
    "    except ValueError:\n",
    "        return ser\n",
    "    \n",
    "def all_float_to_int(df):\n",
    "    df_to_use = df.copy()\n",
    "    transform_fn = float_to_int\n",
    "    condition = lambda x: list(x\n",
    "                    .select_dtypes(include=[\"float\"])\n",
    "                    .columns)    \n",
    "    \n",
    "    return multi_assign(df_to_use, transform_fn, condition)\n",
    "\n",
    "def multi_assign(df, transform_fn, condition):\n",
    "    df_to_use = df.copy()\n",
    "    \n",
    "    return (df_to_use\n",
    "        .assign(\n",
    "            **{col: transform_fn(df_to_use[col])\n",
    "               for col in condition(df_to_use)})\n",
    "           )\n",
    "\n",
    "def downcast_all(df, target_type, inital_type=None):\n",
    "    #Gotta specify floats, unsigned, or integer\n",
    "    #If integer, gotta be 'integer', not 'int'\n",
    "    #Unsigned should look for Ints\n",
    "    if inital_type is None:\n",
    "        inital_type = target_type\n",
    "    \n",
    "    df_to_use = df.copy()\n",
    "    \n",
    "    transform_fn = lambda x: pd.to_numeric(x, \n",
    "                                downcast=target_type)\n",
    "    \n",
    "    condition = lambda x: list(x\n",
    "                    .select_dtypes(include=[inital_type])\n",
    "                    .columns) \n",
    "    \n",
    "    return multi_assign(df_to_use, transform_fn, condition)"
   ]
  },
  {
   "cell_type": "code",
   "execution_count": 4,
   "metadata": {},
   "outputs": [],
   "source": [
    "df = (df\n",
    "     .pipe(all_float_to_int)\n",
    "     .pipe(downcast_all, \"float\")\n",
    "     .pipe(downcast_all, \"integer\")\n",
    "     .pipe(downcast_all,  \n",
    "           target_type = \"unsigned\", \n",
    "           inital_type = \"integer\")\n",
    ")"
   ]
  },
  {
   "cell_type": "code",
   "execution_count": 5,
   "metadata": {},
   "outputs": [
    {
     "name": "stdout",
     "output_type": "stream",
     "text": [
      "<class 'pandas.core.frame.DataFrame'>\n",
      "Int64Index: 203729 entries, 9 to 2037289\n",
      "Data columns (total 17 columns):\n",
      "latitude      203729 non-null float32\n",
      "longitude     203729 non-null float32\n",
      "brightness    203729 non-null float32\n",
      "scan          203729 non-null float32\n",
      "track         203729 non-null float32\n",
      "acq_time      203729 non-null uint16\n",
      "satellite     203729 non-null object\n",
      "confidence    203729 non-null uint8\n",
      "bright_t31    203729 non-null float32\n",
      "frp           203729 non-null float32\n",
      "daynight      203729 non-null object\n",
      "type          203729 non-null uint8\n",
      "FIRE_YEAR     203729 non-null uint16\n",
      "MONTH         203729 non-null uint8\n",
      "isFire        203729 non-null uint8\n",
      "WEEK          203729 non-null uint8\n",
      "DAY           203729 non-null uint8\n",
      "dtypes: float32(7), object(2), uint16(2), uint8(6)\n",
      "memory usage: 33.7 MB\n"
     ]
    }
   ],
   "source": [
    "# new memory usage\n",
    "df.info(memory_usage='deep')"
   ]
  },
  {
   "cell_type": "code",
   "execution_count": 6,
   "metadata": {},
   "outputs": [
    {
     "data": {
      "text/plain": [
       "0.42074395380624285"
      ]
     },
     "execution_count": 6,
     "metadata": {},
     "output_type": "execute_result"
    }
   ],
   "source": [
    "df['isFire'].value_counts()[1] / df['isFire'].value_counts()[0]"
   ]
  },
  {
   "cell_type": "code",
   "execution_count": 7,
   "metadata": {},
   "outputs": [],
   "source": [
    "random_state = 314\n",
    "\n",
    "X = df.drop(columns = 'isFire')\n",
    "y = df[['FIRE_YEAR', 'isFire']]\n",
    "\n",
    "\n",
    "X_train = X[X['FIRE_YEAR'] <= 2014]\n",
    "y_train = y[y['FIRE_YEAR'] <= 2014].drop(columns = 'FIRE_YEAR')\n",
    "\n",
    "X_test = X[X['FIRE_YEAR'] > 2014]\n",
    "y_test = y[y['FIRE_YEAR'] > 2014].drop(columns = 'FIRE_YEAR')"
   ]
  },
  {
   "cell_type": "code",
   "execution_count": 8,
   "metadata": {},
   "outputs": [],
   "source": [
    "X_train.to_pickle('Data/X_train_small.pkl')\n",
    "y_train.to_pickle('Data/y_train_small.pkl')\n",
    "X_test.to_pickle('Data/X_test_small.pkl')\n",
    "y_test.to_pickle('Data/y_test_small.pkl')"
   ]
  },
  {
   "cell_type": "code",
   "execution_count": null,
   "metadata": {},
   "outputs": [],
   "source": []
  }
 ],
 "metadata": {
  "kernelspec": {
   "display_name": "Python 3",
   "language": "python",
   "name": "python3"
  },
  "language_info": {
   "codemirror_mode": {
    "name": "ipython",
    "version": 3
   },
   "file_extension": ".py",
   "mimetype": "text/x-python",
   "name": "python",
   "nbconvert_exporter": "python",
   "pygments_lexer": "ipython3",
   "version": "3.7.3"
  }
 },
 "nbformat": 4,
 "nbformat_minor": 2
}
