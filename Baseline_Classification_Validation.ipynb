{
 "cells": [
  {
   "cell_type": "code",
   "execution_count": 1,
   "metadata": {},
   "outputs": [],
   "source": [
    "import numpy as np, pandas as pd\n",
    "import warnings\n",
    "from sklearn.externals import joblib\n",
    "warnings.filterwarnings('ignore')\n",
    "\n",
    "# scikit-learn pipelines\n",
    "from sklearn.pipeline import Pipeline, make_pipeline\n",
    "from sklearn.compose import ColumnTransformer\n",
    "from sklearn.preprocessing import FunctionTransformer\n",
    "\n",
    "# feature processing\n",
    "import category_encoders as ce\n",
    "from sklearn.preprocessing import StandardScaler\n",
    "# baselinemodel\n",
    "from sklearn.tree import DecisionTreeClassifier\n",
    "\n",
    "# define the pipeline used\n",
    "# pre-processing pipeline\n",
    "column_trans = ColumnTransformer(\n",
    "    [('onehot', ce.OneHotEncoder(), ['satellite', 'daynight', 'type']),\n",
    "    ('scale', StandardScaler(), ['brightness', 'track', 'scan', 'acq_time', 'confidence', 'bright_t31', 'frp'])],\n",
    "    remainder='passthrough')\n",
    "\n",
    "# Full Dataset for validation\n",
    "# X_train = pd.read_pickle('Data/X_train_full.pkl')\n",
    "# y_train = pd.read_pickle('Data/y_train_full.pkl')\n",
    "X_test = pd.read_pickle('Data/X_test_full.pkl')\n",
    "y_test = pd.read_pickle('Data/y_test_full.pkl')"
   ]
  },
  {
   "cell_type": "code",
   "execution_count": 2,
   "metadata": {},
   "outputs": [
    {
     "data": {
      "text/html": [
       "<div>\n",
       "<style scoped>\n",
       "    .dataframe tbody tr th:only-of-type {\n",
       "        vertical-align: middle;\n",
       "    }\n",
       "\n",
       "    .dataframe tbody tr th {\n",
       "        vertical-align: top;\n",
       "    }\n",
       "\n",
       "    .dataframe thead th {\n",
       "        text-align: right;\n",
       "    }\n",
       "</style>\n",
       "<table border=\"1\" class=\"dataframe\">\n",
       "  <thead>\n",
       "    <tr style=\"text-align: right;\">\n",
       "      <th></th>\n",
       "      <th>latitude</th>\n",
       "      <th>longitude</th>\n",
       "      <th>brightness</th>\n",
       "      <th>scan</th>\n",
       "      <th>track</th>\n",
       "      <th>acq_time</th>\n",
       "      <th>satellite</th>\n",
       "      <th>confidence</th>\n",
       "      <th>bright_t31</th>\n",
       "      <th>frp</th>\n",
       "      <th>daynight</th>\n",
       "      <th>type</th>\n",
       "      <th>FIRE_YEAR</th>\n",
       "      <th>MONTH</th>\n",
       "      <th>WEEK</th>\n",
       "      <th>DAY</th>\n",
       "    </tr>\n",
       "  </thead>\n",
       "  <tbody>\n",
       "    <tr>\n",
       "      <th>1865983</th>\n",
       "      <td>19.410400</td>\n",
       "      <td>-155.277100</td>\n",
       "      <td>306.399994</td>\n",
       "      <td>1.1</td>\n",
       "      <td>1.1</td>\n",
       "      <td>830</td>\n",
       "      <td>Terra</td>\n",
       "      <td>68</td>\n",
       "      <td>284.000000</td>\n",
       "      <td>12.100000</td>\n",
       "      <td>N</td>\n",
       "      <td>2</td>\n",
       "      <td>2015</td>\n",
       "      <td>1</td>\n",
       "      <td>1</td>\n",
       "      <td>1</td>\n",
       "    </tr>\n",
       "    <tr>\n",
       "      <th>1865984</th>\n",
       "      <td>19.442499</td>\n",
       "      <td>-155.004700</td>\n",
       "      <td>324.100006</td>\n",
       "      <td>1.1</td>\n",
       "      <td>1.0</td>\n",
       "      <td>830</td>\n",
       "      <td>Terra</td>\n",
       "      <td>100</td>\n",
       "      <td>286.000000</td>\n",
       "      <td>29.000000</td>\n",
       "      <td>N</td>\n",
       "      <td>2</td>\n",
       "      <td>2015</td>\n",
       "      <td>1</td>\n",
       "      <td>1</td>\n",
       "      <td>1</td>\n",
       "    </tr>\n",
       "    <tr>\n",
       "      <th>1865985</th>\n",
       "      <td>19.460100</td>\n",
       "      <td>-154.992493</td>\n",
       "      <td>313.000000</td>\n",
       "      <td>1.1</td>\n",
       "      <td>1.0</td>\n",
       "      <td>830</td>\n",
       "      <td>Terra</td>\n",
       "      <td>86</td>\n",
       "      <td>288.000000</td>\n",
       "      <td>16.700001</td>\n",
       "      <td>N</td>\n",
       "      <td>2</td>\n",
       "      <td>2015</td>\n",
       "      <td>1</td>\n",
       "      <td>1</td>\n",
       "      <td>1</td>\n",
       "    </tr>\n",
       "    <tr>\n",
       "      <th>1865986</th>\n",
       "      <td>19.408701</td>\n",
       "      <td>-155.287598</td>\n",
       "      <td>309.799988</td>\n",
       "      <td>1.1</td>\n",
       "      <td>1.1</td>\n",
       "      <td>830</td>\n",
       "      <td>Terra</td>\n",
       "      <td>78</td>\n",
       "      <td>284.000000</td>\n",
       "      <td>14.800000</td>\n",
       "      <td>N</td>\n",
       "      <td>2</td>\n",
       "      <td>2015</td>\n",
       "      <td>1</td>\n",
       "      <td>1</td>\n",
       "      <td>1</td>\n",
       "    </tr>\n",
       "    <tr>\n",
       "      <th>1865987</th>\n",
       "      <td>41.633301</td>\n",
       "      <td>-87.136101</td>\n",
       "      <td>301.000000</td>\n",
       "      <td>1.9</td>\n",
       "      <td>1.3</td>\n",
       "      <td>1717</td>\n",
       "      <td>Terra</td>\n",
       "      <td>33</td>\n",
       "      <td>270.700012</td>\n",
       "      <td>22.700001</td>\n",
       "      <td>D</td>\n",
       "      <td>2</td>\n",
       "      <td>2015</td>\n",
       "      <td>1</td>\n",
       "      <td>1</td>\n",
       "      <td>1</td>\n",
       "    </tr>\n",
       "  </tbody>\n",
       "</table>\n",
       "</div>"
      ],
      "text/plain": [
       "          latitude   longitude  brightness  scan  track  acq_time satellite  \\\n",
       "1865983  19.410400 -155.277100  306.399994   1.1    1.1       830     Terra   \n",
       "1865984  19.442499 -155.004700  324.100006   1.1    1.0       830     Terra   \n",
       "1865985  19.460100 -154.992493  313.000000   1.1    1.0       830     Terra   \n",
       "1865986  19.408701 -155.287598  309.799988   1.1    1.1       830     Terra   \n",
       "1865987  41.633301  -87.136101  301.000000   1.9    1.3      1717     Terra   \n",
       "\n",
       "         confidence  bright_t31        frp daynight  type  FIRE_YEAR  MONTH  \\\n",
       "1865983          68  284.000000  12.100000        N     2       2015      1   \n",
       "1865984         100  286.000000  29.000000        N     2       2015      1   \n",
       "1865985          86  288.000000  16.700001        N     2       2015      1   \n",
       "1865986          78  284.000000  14.800000        N     2       2015      1   \n",
       "1865987          33  270.700012  22.700001        D     2       2015      1   \n",
       "\n",
       "         WEEK  DAY  \n",
       "1865983     1    1  \n",
       "1865984     1    1  \n",
       "1865985     1    1  \n",
       "1865986     1    1  \n",
       "1865987     1    1  "
      ]
     },
     "execution_count": 2,
     "metadata": {},
     "output_type": "execute_result"
    }
   ],
   "source": [
    "X_test.head()"
   ]
  },
  {
   "cell_type": "code",
   "execution_count": 2,
   "metadata": {},
   "outputs": [],
   "source": [
    "# Load pre-trained baseline model\n",
    "pickle_path = 'Models/Baseline/dtc_baseline_full.pkl'\n",
    "\n",
    "# decision tree model\n",
    "dtm = joblib.load(pickle_path)"
   ]
  },
  {
   "cell_type": "code",
   "execution_count": 3,
   "metadata": {},
   "outputs": [
    {
     "data": {
      "text/plain": [
       "{'memory': None,\n",
       " 'steps': [('columntransformer',\n",
       "   ColumnTransformer(n_jobs=None, remainder='passthrough', sparse_threshold=0.3,\n",
       "            transformer_weights=None,\n",
       "            transformers=[('onehot', OneHotEncoder(cols=None, drop_invariant=False, handle_missing='value',\n",
       "          handle_unknown='value', return_df=True, use_cat_names=False,\n",
       "          verbose=0), ['satellite', 'daynight', 'type']), ('scale', StandardScaler(copy=True, with_mean=True, with_std=True), ['brightness', 'track', 'scan', 'acq_time', 'confidence', 'bright_t31', 'frp'])])),\n",
       "  ('decisiontreeclassifier',\n",
       "   DecisionTreeClassifier(class_weight=None, criterion='entropy', max_depth=None,\n",
       "               max_features=None, max_leaf_nodes=None,\n",
       "               min_impurity_decrease=0.0, min_impurity_split=None,\n",
       "               min_samples_leaf=10, min_samples_split=5,\n",
       "               min_weight_fraction_leaf=0.0, presort=False, random_state=314,\n",
       "               splitter='best'))],\n",
       " 'columntransformer': ColumnTransformer(n_jobs=None, remainder='passthrough', sparse_threshold=0.3,\n",
       "          transformer_weights=None,\n",
       "          transformers=[('onehot', OneHotEncoder(cols=None, drop_invariant=False, handle_missing='value',\n",
       "        handle_unknown='value', return_df=True, use_cat_names=False,\n",
       "        verbose=0), ['satellite', 'daynight', 'type']), ('scale', StandardScaler(copy=True, with_mean=True, with_std=True), ['brightness', 'track', 'scan', 'acq_time', 'confidence', 'bright_t31', 'frp'])]),\n",
       " 'decisiontreeclassifier': DecisionTreeClassifier(class_weight=None, criterion='entropy', max_depth=None,\n",
       "             max_features=None, max_leaf_nodes=None,\n",
       "             min_impurity_decrease=0.0, min_impurity_split=None,\n",
       "             min_samples_leaf=10, min_samples_split=5,\n",
       "             min_weight_fraction_leaf=0.0, presort=False, random_state=314,\n",
       "             splitter='best'),\n",
       " 'columntransformer__n_jobs': None,\n",
       " 'columntransformer__remainder': 'passthrough',\n",
       " 'columntransformer__sparse_threshold': 0.3,\n",
       " 'columntransformer__transformer_weights': None,\n",
       " 'columntransformer__transformers': [('onehot',\n",
       "   OneHotEncoder(cols=None, drop_invariant=False, handle_missing='value',\n",
       "          handle_unknown='value', return_df=True, use_cat_names=False,\n",
       "          verbose=0),\n",
       "   ['satellite', 'daynight', 'type']),\n",
       "  ('scale',\n",
       "   StandardScaler(copy=True, with_mean=True, with_std=True),\n",
       "   ['brightness',\n",
       "    'track',\n",
       "    'scan',\n",
       "    'acq_time',\n",
       "    'confidence',\n",
       "    'bright_t31',\n",
       "    'frp'])],\n",
       " 'columntransformer__onehot': OneHotEncoder(cols=None, drop_invariant=False, handle_missing='value',\n",
       "        handle_unknown='value', return_df=True, use_cat_names=False,\n",
       "        verbose=0),\n",
       " 'columntransformer__scale': StandardScaler(copy=True, with_mean=True, with_std=True),\n",
       " 'columntransformer__onehot__cols': None,\n",
       " 'columntransformer__onehot__drop_invariant': False,\n",
       " 'columntransformer__onehot__handle_missing': 'value',\n",
       " 'columntransformer__onehot__handle_unknown': 'value',\n",
       " 'columntransformer__onehot__return_df': True,\n",
       " 'columntransformer__onehot__use_cat_names': False,\n",
       " 'columntransformer__onehot__verbose': 0,\n",
       " 'columntransformer__scale__copy': True,\n",
       " 'columntransformer__scale__with_mean': True,\n",
       " 'columntransformer__scale__with_std': True,\n",
       " 'decisiontreeclassifier__class_weight': None,\n",
       " 'decisiontreeclassifier__criterion': 'entropy',\n",
       " 'decisiontreeclassifier__max_depth': None,\n",
       " 'decisiontreeclassifier__max_features': None,\n",
       " 'decisiontreeclassifier__max_leaf_nodes': None,\n",
       " 'decisiontreeclassifier__min_impurity_decrease': 0.0,\n",
       " 'decisiontreeclassifier__min_impurity_split': None,\n",
       " 'decisiontreeclassifier__min_samples_leaf': 10,\n",
       " 'decisiontreeclassifier__min_samples_split': 5,\n",
       " 'decisiontreeclassifier__min_weight_fraction_leaf': 0.0,\n",
       " 'decisiontreeclassifier__presort': False,\n",
       " 'decisiontreeclassifier__random_state': 314,\n",
       " 'decisiontreeclassifier__splitter': 'best'}"
      ]
     },
     "execution_count": 3,
     "metadata": {},
     "output_type": "execute_result"
    }
   ],
   "source": [
    "dtm.get_params()"
   ]
  },
  {
   "cell_type": "code",
   "execution_count": 4,
   "metadata": {},
   "outputs": [
    {
     "data": {
      "text/html": [
       "<div>\n",
       "<style scoped>\n",
       "    .dataframe tbody tr th:only-of-type {\n",
       "        vertical-align: middle;\n",
       "    }\n",
       "\n",
       "    .dataframe tbody tr th {\n",
       "        vertical-align: top;\n",
       "    }\n",
       "\n",
       "    .dataframe thead th {\n",
       "        text-align: right;\n",
       "    }\n",
       "</style>\n",
       "<table border=\"1\" class=\"dataframe\">\n",
       "  <thead>\n",
       "    <tr style=\"text-align: right;\">\n",
       "      <th></th>\n",
       "      <th>latitude</th>\n",
       "      <th>longitude</th>\n",
       "      <th>brightness</th>\n",
       "      <th>scan</th>\n",
       "      <th>track</th>\n",
       "      <th>acq_time</th>\n",
       "      <th>satellite</th>\n",
       "      <th>confidence</th>\n",
       "      <th>bright_t31</th>\n",
       "      <th>frp</th>\n",
       "      <th>daynight</th>\n",
       "      <th>type</th>\n",
       "      <th>FIRE_YEAR</th>\n",
       "      <th>MONTH</th>\n",
       "      <th>WEEK</th>\n",
       "      <th>DAY</th>\n",
       "    </tr>\n",
       "  </thead>\n",
       "  <tbody>\n",
       "    <tr>\n",
       "      <th>1865983</th>\n",
       "      <td>19.410400</td>\n",
       "      <td>-155.277100</td>\n",
       "      <td>306.399994</td>\n",
       "      <td>1.1</td>\n",
       "      <td>1.1</td>\n",
       "      <td>830</td>\n",
       "      <td>Terra</td>\n",
       "      <td>68</td>\n",
       "      <td>284.000000</td>\n",
       "      <td>12.100000</td>\n",
       "      <td>N</td>\n",
       "      <td>2</td>\n",
       "      <td>2015</td>\n",
       "      <td>1</td>\n",
       "      <td>1</td>\n",
       "      <td>1</td>\n",
       "    </tr>\n",
       "    <tr>\n",
       "      <th>1865984</th>\n",
       "      <td>19.442499</td>\n",
       "      <td>-155.004700</td>\n",
       "      <td>324.100006</td>\n",
       "      <td>1.1</td>\n",
       "      <td>1.0</td>\n",
       "      <td>830</td>\n",
       "      <td>Terra</td>\n",
       "      <td>100</td>\n",
       "      <td>286.000000</td>\n",
       "      <td>29.000000</td>\n",
       "      <td>N</td>\n",
       "      <td>2</td>\n",
       "      <td>2015</td>\n",
       "      <td>1</td>\n",
       "      <td>1</td>\n",
       "      <td>1</td>\n",
       "    </tr>\n",
       "    <tr>\n",
       "      <th>1865985</th>\n",
       "      <td>19.460100</td>\n",
       "      <td>-154.992493</td>\n",
       "      <td>313.000000</td>\n",
       "      <td>1.1</td>\n",
       "      <td>1.0</td>\n",
       "      <td>830</td>\n",
       "      <td>Terra</td>\n",
       "      <td>86</td>\n",
       "      <td>288.000000</td>\n",
       "      <td>16.700001</td>\n",
       "      <td>N</td>\n",
       "      <td>2</td>\n",
       "      <td>2015</td>\n",
       "      <td>1</td>\n",
       "      <td>1</td>\n",
       "      <td>1</td>\n",
       "    </tr>\n",
       "    <tr>\n",
       "      <th>1865986</th>\n",
       "      <td>19.408701</td>\n",
       "      <td>-155.287598</td>\n",
       "      <td>309.799988</td>\n",
       "      <td>1.1</td>\n",
       "      <td>1.1</td>\n",
       "      <td>830</td>\n",
       "      <td>Terra</td>\n",
       "      <td>78</td>\n",
       "      <td>284.000000</td>\n",
       "      <td>14.800000</td>\n",
       "      <td>N</td>\n",
       "      <td>2</td>\n",
       "      <td>2015</td>\n",
       "      <td>1</td>\n",
       "      <td>1</td>\n",
       "      <td>1</td>\n",
       "    </tr>\n",
       "    <tr>\n",
       "      <th>1865987</th>\n",
       "      <td>41.633301</td>\n",
       "      <td>-87.136101</td>\n",
       "      <td>301.000000</td>\n",
       "      <td>1.9</td>\n",
       "      <td>1.3</td>\n",
       "      <td>1717</td>\n",
       "      <td>Terra</td>\n",
       "      <td>33</td>\n",
       "      <td>270.700012</td>\n",
       "      <td>22.700001</td>\n",
       "      <td>D</td>\n",
       "      <td>2</td>\n",
       "      <td>2015</td>\n",
       "      <td>1</td>\n",
       "      <td>1</td>\n",
       "      <td>1</td>\n",
       "    </tr>\n",
       "  </tbody>\n",
       "</table>\n",
       "</div>"
      ],
      "text/plain": [
       "          latitude   longitude  brightness  scan  track  acq_time satellite  \\\n",
       "1865983  19.410400 -155.277100  306.399994   1.1    1.1       830     Terra   \n",
       "1865984  19.442499 -155.004700  324.100006   1.1    1.0       830     Terra   \n",
       "1865985  19.460100 -154.992493  313.000000   1.1    1.0       830     Terra   \n",
       "1865986  19.408701 -155.287598  309.799988   1.1    1.1       830     Terra   \n",
       "1865987  41.633301  -87.136101  301.000000   1.9    1.3      1717     Terra   \n",
       "\n",
       "         confidence  bright_t31        frp daynight  type  FIRE_YEAR  MONTH  \\\n",
       "1865983          68  284.000000  12.100000        N     2       2015      1   \n",
       "1865984         100  286.000000  29.000000        N     2       2015      1   \n",
       "1865985          86  288.000000  16.700001        N     2       2015      1   \n",
       "1865986          78  284.000000  14.800000        N     2       2015      1   \n",
       "1865987          33  270.700012  22.700001        D     2       2015      1   \n",
       "\n",
       "         WEEK  DAY  \n",
       "1865983     1    1  \n",
       "1865984     1    1  \n",
       "1865985     1    1  \n",
       "1865986     1    1  \n",
       "1865987     1    1  "
      ]
     },
     "execution_count": 4,
     "metadata": {},
     "output_type": "execute_result"
    }
   ],
   "source": [
    "X_test.head()"
   ]
  },
  {
   "cell_type": "code",
   "execution_count": 5,
   "metadata": {},
   "outputs": [
    {
     "data": {
      "text/plain": [
       "0.6731734653372873"
      ]
     },
     "execution_count": 5,
     "metadata": {},
     "output_type": "execute_result"
    }
   ],
   "source": [
    "# test our loaded model\n",
    "dtm.score(X_test, y_test)"
   ]
  },
  {
   "cell_type": "code",
   "execution_count": 11,
   "metadata": {},
   "outputs": [],
   "source": [
    "# now I'll evaluate a fire prediction metric of confidence > 90 vs the model\n",
    "\n",
    "def predict_90(row):\n",
    "    \n",
    "    if row['confidence'] > 90:\n",
    "        return 1\n",
    "    else:\n",
    "        return 0\n",
    "\n",
    "y_pred_c90 = X_test.apply(lambda row : predict_90(row), axis=1)"
   ]
  },
  {
   "cell_type": "code",
   "execution_count": 18,
   "metadata": {},
   "outputs": [
    {
     "name": "stderr",
     "output_type": "stream",
     "text": [
      "/home/nedderlander/anaconda3/lib/python3.7/site-packages/sklearn/pipeline.py:605: DataConversionWarning: Data with input dtype uint8, uint16, float32 were all converted to float64 by StandardScaler.\n",
      "  res = transformer.transform(X)\n"
     ]
    },
    {
     "data": {
      "text/plain": [
       "0.5130123164706701"
      ]
     },
     "execution_count": 18,
     "metadata": {},
     "output_type": "execute_result"
    }
   ],
   "source": [
    "# validation imports\n",
    "from sklearn.metrics import f1_score, accuracy_score, confusion_matrix\n",
    "import seaborn as sn\n",
    "import pandas as pd\n",
    "import matplotlib.pyplot as plt\n",
    "\n",
    "# y_pred_proba = dtm.predict_proba(X_test)[:,1]\n",
    "\n",
    "y_pred = dtm.predict(X_test)\n",
    "\n",
    "f1_score(y_test, y_pred)"
   ]
  },
  {
   "cell_type": "code",
   "execution_count": 19,
   "metadata": {},
   "outputs": [
    {
     "data": {
      "text/plain": [
       "0.3017970844504021"
      ]
     },
     "execution_count": 19,
     "metadata": {},
     "output_type": "execute_result"
    }
   ],
   "source": [
    "f1_score(y_test, y_pred_c90)"
   ]
  },
  {
   "cell_type": "code",
   "execution_count": 21,
   "metadata": {},
   "outputs": [],
   "source": [
    "\n",
    "def normalized_confusion_matrix(y_test, y_pred, title):\n",
    "    cm = confusion_matrix(y_test, y_pred) \n",
    "    #normalize cm\n",
    "    array = cm.astype('float') / cm.sum(axis=1)[:, np.newaxis]\n",
    "    df_cm = pd.DataFrame(array, range(2),\n",
    "                      range(2))\n",
    "    #plt.figure(figsize = (10,7))\n",
    "    sn.set(font_scale=1.4)#for label size\n",
    "    ax = sn.heatmap(df_cm, annot=True,annot_kws={\"size\": 16})#.set_title('Normalized confusion matrix')# font size\n",
    "    ax.set(xlabel='Predicted Fires', ylabel='True Fires', title = title)\n",
    "    plt.show();"
   ]
  },
  {
   "cell_type": "code",
   "execution_count": 22,
   "metadata": {},
   "outputs": [
    {
     "data": {
      "image/png": "[encoded data removed]",
      "text/plain": [
       "<Figure size 432x288 with 2 Axes>"
      ]
     },
     "metadata": {},
     "output_type": "display_data"
    }
   ],
   "source": [
    "normalized_confusion_matrix(y_test, y_pred, 'Normalized confusion matrix for dtc')"
   ]
  },
  {
   "cell_type": "code",
   "execution_count": 23,
   "metadata": {},
   "outputs": [
    {
     "data": {
      "image/png": "[encoded data removed]",
      "text/plain": [
       "<Figure size 432x288 with 2 Axes>"
      ]
     },
     "metadata": {},
     "output_type": "display_data"
    }
   ],
   "source": [
    "normalized_confusion_matrix(y_test, y_pred_c90, 'Normalized confusion matrix for y_pred>90')"
   ]
  },
  {
   "cell_type": "code",
   "execution_count": null,
   "metadata": {},
   "outputs": [],
   "source": [
    "# My take-away from this is that even a simple DTC is better than our CI>90 metric, \n",
    "# I think it's time to run scattershot small models and then use the output to tune a big model"
   ]
  }
 ],
 "metadata": {
  "kernelspec": {
   "display_name": "Python 3",
   "language": "python",
   "name": "python3"
  },
  "language_info": {
   "codemirror_mode": {
    "name": "ipython",
    "version": 3
   },
   "file_extension": ".py",
   "mimetype": "text/x-python",
   "name": "python",
   "nbconvert_exporter": "python",
   "pygments_lexer": "ipython3",
   "version": "3.7.3"
  }
 },
 "nbformat": 4,
 "nbformat_minor": 2
}
