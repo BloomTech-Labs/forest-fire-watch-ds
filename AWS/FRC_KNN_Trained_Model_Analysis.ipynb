{
 "cells": [
  {
   "cell_type": "code",
   "execution_count": 5,
   "metadata": {},
   "outputs": [],
   "source": [
    "import numpy as np, pandas as pd\n",
    "import warnings\n",
    "warnings.filterwarnings('ignore')\n",
    "\n",
    "X_test = pd.read_pickle('/home/nedderlander/datascience/burn notice/Data-Science/Data/X_test_full.pkl')\n",
    "y_test = pd.read_pickle('/home/nedderlander/datascience/burn notice/Data-Science/Data/y_test_full.pkl')"
   ]
  },
  {
   "cell_type": "code",
   "execution_count": 1,
   "metadata": {},
   "outputs": [
    {
     "ename": "FileNotFoundError",
     "evalue": "[Errno 2] No such file or directory: 'rfc_trained_full.pkl'",
     "output_type": "error",
     "traceback": [
      "\u001b[0;31m---------------------------------------------------------------------------\u001b[0m",
      "\u001b[0;31mFileNotFoundError\u001b[0m                         Traceback (most recent call last)",
      "\u001b[0;32m<ipython-input-1-7c3d30e88478>\u001b[0m in \u001b[0;36m<module>\u001b[0;34m\u001b[0m\n\u001b[1;32m      2\u001b[0m \u001b[0;32mfrom\u001b[0m \u001b[0msklearn\u001b[0m\u001b[0;34m.\u001b[0m\u001b[0mexternals\u001b[0m \u001b[0;32mimport\u001b[0m \u001b[0mjoblib\u001b[0m\u001b[0;34m\u001b[0m\u001b[0;34m\u001b[0m\u001b[0m\n\u001b[1;32m      3\u001b[0m \u001b[0;34m\u001b[0m\u001b[0m\n\u001b[0;32m----> 4\u001b[0;31m \u001b[0mrfc\u001b[0m \u001b[0;34m=\u001b[0m \u001b[0mjoblib\u001b[0m\u001b[0;34m.\u001b[0m\u001b[0mload\u001b[0m\u001b[0;34m(\u001b[0m\u001b[0;34m'rfc_trained_full.pkl'\u001b[0m\u001b[0;34m)\u001b[0m\u001b[0;34m\u001b[0m\u001b[0;34m\u001b[0m\u001b[0m\n\u001b[0m\u001b[1;32m      5\u001b[0m \u001b[0mrfc_results\u001b[0m \u001b[0;34m=\u001b[0m \u001b[0mjoblib\u001b[0m\u001b[0;34m.\u001b[0m\u001b[0mload\u001b[0m\u001b[0;34m(\u001b[0m\u001b[0;34m'rfc_training_results.pkl'\u001b[0m\u001b[0;34m)\u001b[0m\u001b[0;34m\u001b[0m\u001b[0;34m\u001b[0m\u001b[0m\n\u001b[1;32m      6\u001b[0m \u001b[0;34m\u001b[0m\u001b[0m\n",
      "\u001b[0;32m~/anaconda3/lib/python3.7/site-packages/sklearn/externals/joblib/numpy_pickle.py\u001b[0m in \u001b[0;36mload\u001b[0;34m(filename, mmap_mode)\u001b[0m\n\u001b[1;32m    588\u001b[0m             \u001b[0mobj\u001b[0m \u001b[0;34m=\u001b[0m \u001b[0m_unpickle\u001b[0m\u001b[0;34m(\u001b[0m\u001b[0mfobj\u001b[0m\u001b[0;34m)\u001b[0m\u001b[0;34m\u001b[0m\u001b[0;34m\u001b[0m\u001b[0m\n\u001b[1;32m    589\u001b[0m     \u001b[0;32melse\u001b[0m\u001b[0;34m:\u001b[0m\u001b[0;34m\u001b[0m\u001b[0;34m\u001b[0m\u001b[0m\n\u001b[0;32m--> 590\u001b[0;31m         \u001b[0;32mwith\u001b[0m \u001b[0mopen\u001b[0m\u001b[0;34m(\u001b[0m\u001b[0mfilename\u001b[0m\u001b[0;34m,\u001b[0m \u001b[0;34m'rb'\u001b[0m\u001b[0;34m)\u001b[0m \u001b[0;32mas\u001b[0m \u001b[0mf\u001b[0m\u001b[0;34m:\u001b[0m\u001b[0;34m\u001b[0m\u001b[0;34m\u001b[0m\u001b[0m\n\u001b[0m\u001b[1;32m    591\u001b[0m             \u001b[0;32mwith\u001b[0m \u001b[0m_read_fileobject\u001b[0m\u001b[0;34m(\u001b[0m\u001b[0mf\u001b[0m\u001b[0;34m,\u001b[0m \u001b[0mfilename\u001b[0m\u001b[0;34m,\u001b[0m \u001b[0mmmap_mode\u001b[0m\u001b[0;34m)\u001b[0m \u001b[0;32mas\u001b[0m \u001b[0mfobj\u001b[0m\u001b[0;34m:\u001b[0m\u001b[0;34m\u001b[0m\u001b[0;34m\u001b[0m\u001b[0m\n\u001b[1;32m    592\u001b[0m                 \u001b[0;32mif\u001b[0m \u001b[0misinstance\u001b[0m\u001b[0;34m(\u001b[0m\u001b[0mfobj\u001b[0m\u001b[0;34m,\u001b[0m \u001b[0m_basestring\u001b[0m\u001b[0;34m)\u001b[0m\u001b[0;34m:\u001b[0m\u001b[0;34m\u001b[0m\u001b[0;34m\u001b[0m\u001b[0m\n",
      "\u001b[0;31mFileNotFoundError\u001b[0m: [Errno 2] No such file or directory: 'rfc_trained_full.pkl'"
     ]
    }
   ],
   "source": [
    "# now to reload and examine\n",
    "from sklearn.externals import joblib\n",
    "\n",
    "rfc = joblib.load('datascience/burn notice/Data-Science/Models/rfc_training_results.pkl')\n",
    "rfc_results = joblib.load('rfc_training_results.pkl')\n",
    "\n",
    "# knn = joblib.load('knn_trained_full.pkl')\n",
    "# knn_results = joblib.load('knn_training_results.pkl')"
   ]
  },
  {
   "cell_type": "code",
   "execution_count": 7,
   "metadata": {},
   "outputs": [
    {
     "data": {
      "text/html": [
       "<div>\n",
       "<style scoped>\n",
       "    .dataframe tbody tr th:only-of-type {\n",
       "        vertical-align: middle;\n",
       "    }\n",
       "\n",
       "    .dataframe tbody tr th {\n",
       "        vertical-align: top;\n",
       "    }\n",
       "\n",
       "    .dataframe thead th {\n",
       "        text-align: right;\n",
       "    }\n",
       "</style>\n",
       "<table border=\"1\" class=\"dataframe\">\n",
       "  <thead>\n",
       "    <tr style=\"text-align: right;\">\n",
       "      <th></th>\n",
       "      <th>mean_fit_time</th>\n",
       "      <th>std_fit_time</th>\n",
       "      <th>mean_score_time</th>\n",
       "      <th>std_score_time</th>\n",
       "      <th>param_kneighborsclassifier__weights</th>\n",
       "      <th>param_kneighborsclassifier__n_neighbors</th>\n",
       "      <th>param_kneighborsclassifier__leaf_size</th>\n",
       "      <th>param_kneighborsclassifier__algorithm</th>\n",
       "      <th>params</th>\n",
       "      <th>split0_test_score</th>\n",
       "      <th>...</th>\n",
       "      <th>mean_test_score</th>\n",
       "      <th>std_test_score</th>\n",
       "      <th>rank_test_score</th>\n",
       "      <th>split0_train_score</th>\n",
       "      <th>split1_train_score</th>\n",
       "      <th>split2_train_score</th>\n",
       "      <th>split3_train_score</th>\n",
       "      <th>split4_train_score</th>\n",
       "      <th>mean_train_score</th>\n",
       "      <th>std_train_score</th>\n",
       "    </tr>\n",
       "  </thead>\n",
       "  <tbody>\n",
       "    <tr>\n",
       "      <th>0</th>\n",
       "      <td>5.290352</td>\n",
       "      <td>3.968715</td>\n",
       "      <td>114.839129</td>\n",
       "      <td>49.650512</td>\n",
       "      <td>distance</td>\n",
       "      <td>20</td>\n",
       "      <td>75</td>\n",
       "      <td>kd_tree</td>\n",
       "      <td>{'kneighborsclassifier__weights': 'distance', ...</td>\n",
       "      <td>0.413199</td>\n",
       "      <td>...</td>\n",
       "      <td>0.447639</td>\n",
       "      <td>0.048656</td>\n",
       "      <td>1</td>\n",
       "      <td>1.000000</td>\n",
       "      <td>1.000000</td>\n",
       "      <td>1.000000</td>\n",
       "      <td>1.000000</td>\n",
       "      <td>1.00000</td>\n",
       "      <td>1.000000</td>\n",
       "      <td>0.000000</td>\n",
       "    </tr>\n",
       "    <tr>\n",
       "      <th>1</th>\n",
       "      <td>5.703474</td>\n",
       "      <td>4.474398</td>\n",
       "      <td>986.181201</td>\n",
       "      <td>309.906147</td>\n",
       "      <td>distance</td>\n",
       "      <td>20</td>\n",
       "      <td>75</td>\n",
       "      <td>ball_tree</td>\n",
       "      <td>{'kneighborsclassifier__weights': 'distance', ...</td>\n",
       "      <td>0.413199</td>\n",
       "      <td>...</td>\n",
       "      <td>0.447639</td>\n",
       "      <td>0.048656</td>\n",
       "      <td>1</td>\n",
       "      <td>1.000000</td>\n",
       "      <td>1.000000</td>\n",
       "      <td>1.000000</td>\n",
       "      <td>1.000000</td>\n",
       "      <td>1.00000</td>\n",
       "      <td>1.000000</td>\n",
       "      <td>0.000000</td>\n",
       "    </tr>\n",
       "    <tr>\n",
       "      <th>8</th>\n",
       "      <td>5.225427</td>\n",
       "      <td>4.090277</td>\n",
       "      <td>89.449686</td>\n",
       "      <td>35.354136</td>\n",
       "      <td>distance</td>\n",
       "      <td>20</td>\n",
       "      <td>30</td>\n",
       "      <td>kd_tree</td>\n",
       "      <td>{'kneighborsclassifier__weights': 'distance', ...</td>\n",
       "      <td>0.413199</td>\n",
       "      <td>...</td>\n",
       "      <td>0.447639</td>\n",
       "      <td>0.048656</td>\n",
       "      <td>1</td>\n",
       "      <td>1.000000</td>\n",
       "      <td>1.000000</td>\n",
       "      <td>1.000000</td>\n",
       "      <td>1.000000</td>\n",
       "      <td>1.00000</td>\n",
       "      <td>1.000000</td>\n",
       "      <td>0.000000</td>\n",
       "    </tr>\n",
       "    <tr>\n",
       "      <th>9</th>\n",
       "      <td>5.217969</td>\n",
       "      <td>3.995042</td>\n",
       "      <td>59.329236</td>\n",
       "      <td>19.883145</td>\n",
       "      <td>distance</td>\n",
       "      <td>5</td>\n",
       "      <td>30</td>\n",
       "      <td>kd_tree</td>\n",
       "      <td>{'kneighborsclassifier__weights': 'distance', ...</td>\n",
       "      <td>0.397460</td>\n",
       "      <td>...</td>\n",
       "      <td>0.427559</td>\n",
       "      <td>0.043727</td>\n",
       "      <td>4</td>\n",
       "      <td>1.000000</td>\n",
       "      <td>1.000000</td>\n",
       "      <td>1.000000</td>\n",
       "      <td>1.000000</td>\n",
       "      <td>1.00000</td>\n",
       "      <td>1.000000</td>\n",
       "      <td>0.000000</td>\n",
       "    </tr>\n",
       "    <tr>\n",
       "      <th>5</th>\n",
       "      <td>4.827320</td>\n",
       "      <td>3.684388</td>\n",
       "      <td>83.962747</td>\n",
       "      <td>28.137784</td>\n",
       "      <td>uniform</td>\n",
       "      <td>10</td>\n",
       "      <td>45</td>\n",
       "      <td>kd_tree</td>\n",
       "      <td>{'kneighborsclassifier__weights': 'uniform', '...</td>\n",
       "      <td>0.399202</td>\n",
       "      <td>...</td>\n",
       "      <td>0.422663</td>\n",
       "      <td>0.048888</td>\n",
       "      <td>5</td>\n",
       "      <td>0.839419</td>\n",
       "      <td>0.807068</td>\n",
       "      <td>0.813333</td>\n",
       "      <td>0.804946</td>\n",
       "      <td>0.79688</td>\n",
       "      <td>0.812329</td>\n",
       "      <td>0.014531</td>\n",
       "    </tr>\n",
       "  </tbody>\n",
       "</table>\n",
       "<p>5 rows × 24 columns</p>\n",
       "</div>"
      ],
      "text/plain": [
       "   mean_fit_time  std_fit_time  mean_score_time  std_score_time  \\\n",
       "0       5.290352      3.968715       114.839129       49.650512   \n",
       "1       5.703474      4.474398       986.181201      309.906147   \n",
       "8       5.225427      4.090277        89.449686       35.354136   \n",
       "9       5.217969      3.995042        59.329236       19.883145   \n",
       "5       4.827320      3.684388        83.962747       28.137784   \n",
       "\n",
       "  param_kneighborsclassifier__weights param_kneighborsclassifier__n_neighbors  \\\n",
       "0                            distance                                      20   \n",
       "1                            distance                                      20   \n",
       "8                            distance                                      20   \n",
       "9                            distance                                       5   \n",
       "5                             uniform                                      10   \n",
       "\n",
       "  param_kneighborsclassifier__leaf_size param_kneighborsclassifier__algorithm  \\\n",
       "0                                    75                               kd_tree   \n",
       "1                                    75                             ball_tree   \n",
       "8                                    30                               kd_tree   \n",
       "9                                    30                               kd_tree   \n",
       "5                                    45                               kd_tree   \n",
       "\n",
       "                                              params  split0_test_score  ...  \\\n",
       "0  {'kneighborsclassifier__weights': 'distance', ...           0.413199  ...   \n",
       "1  {'kneighborsclassifier__weights': 'distance', ...           0.413199  ...   \n",
       "8  {'kneighborsclassifier__weights': 'distance', ...           0.413199  ...   \n",
       "9  {'kneighborsclassifier__weights': 'distance', ...           0.397460  ...   \n",
       "5  {'kneighborsclassifier__weights': 'uniform', '...           0.399202  ...   \n",
       "\n",
       "   mean_test_score  std_test_score  rank_test_score  split0_train_score  \\\n",
       "0         0.447639        0.048656                1            1.000000   \n",
       "1         0.447639        0.048656                1            1.000000   \n",
       "8         0.447639        0.048656                1            1.000000   \n",
       "9         0.427559        0.043727                4            1.000000   \n",
       "5         0.422663        0.048888                5            0.839419   \n",
       "\n",
       "   split1_train_score  split2_train_score  split3_train_score  \\\n",
       "0            1.000000            1.000000            1.000000   \n",
       "1            1.000000            1.000000            1.000000   \n",
       "8            1.000000            1.000000            1.000000   \n",
       "9            1.000000            1.000000            1.000000   \n",
       "5            0.807068            0.813333            0.804946   \n",
       "\n",
       "   split4_train_score  mean_train_score  std_train_score  \n",
       "0             1.00000          1.000000         0.000000  \n",
       "1             1.00000          1.000000         0.000000  \n",
       "8             1.00000          1.000000         0.000000  \n",
       "9             1.00000          1.000000         0.000000  \n",
       "5             0.79688          0.812329         0.014531  \n",
       "\n",
       "[5 rows x 24 columns]"
      ]
     },
     "execution_count": 7,
     "metadata": {},
     "output_type": "execute_result"
    }
   ],
   "source": [
    "# knn results\n",
    "knn_results.head()"
   ]
  },
  {
   "cell_type": "code",
   "execution_count": 8,
   "metadata": {},
   "outputs": [
    {
     "name": "stdout",
     "output_type": "stream",
     "text": [
      "ROC:  0.7159239384235421\n",
      "f1:  0.652666587936751\n"
     ]
    }
   ],
   "source": [
    "from sklearn.metrics import roc_auc_score, f1_score, confusion_matrix\n",
    "\n",
    "y_pred_proba = knn.predict_proba(X_test)[:,1]\n",
    "y_pred = knn.predict(X_test)\n",
    "print('ROC: ', roc_auc_score(y_test, y_pred_proba))\n",
    "print('f1: ', roc_auc_score(y_test, y_pred))\n"
   ]
  },
  {
   "cell_type": "code",
   "execution_count": 9,
   "metadata": {},
   "outputs": [
    {
     "name": "stdout",
     "output_type": "stream",
     "text": [
      "ROC:  0.7318510373577879\n",
      "f1:  0.6458607919762843\n"
     ]
    }
   ],
   "source": [
    "y_pred_proba = rfc.predict_proba(X_test)[:,1]\n",
    "y_pred = rfc.predict(X_test)\n",
    "print('ROC: ', roc_auc_score(y_test, y_pred_proba))\n",
    "print('f1: ', roc_auc_score(y_test, y_pred))\n"
   ]
  },
  {
   "cell_type": "code",
   "execution_count": 12,
   "metadata": {},
   "outputs": [],
   "source": [
    "import seaborn as sn\n",
    "import pandas as pd\n",
    "import matplotlib.pyplot as plt\n",
    "\n",
    "def normalized_confusion_matrix(y_test, y_pred, title):\n",
    "    cm = confusion_matrix(y_test, y_pred) \n",
    "    #normalize cm\n",
    "    array = cm.astype('float') / cm.sum(axis=1)[:, np.newaxis]\n",
    "    df_cm = pd.DataFrame(array, range(2),\n",
    "                      range(2))\n",
    "    #plt.figure(figsize = (10,7))\n",
    "    sn.set(font_scale=1.4)#for label size\n",
    "    ax = sn.heatmap(df_cm, annot=True,annot_kws={\"size\": 16})#.set_title('Normalized confusion matrix')# font size\n",
    "    ax.set(xlabel='Predicted Fires', ylabel='True Fires', title = title)\n",
    "    plt.show();"
   ]
  },
  {
   "cell_type": "code",
   "execution_count": 13,
   "metadata": {},
   "outputs": [
    {
     "data": {
      "image/png": "[encoded data removed]",
      "text/plain": [
       "<Figure size 432x288 with 2 Axes>"
      ]
     },
     "metadata": {},
     "output_type": "display_data"
    }
   ],
   "source": [
    "normalized_confusion_matrix(y_test, y_pred, 'Normalized confusion matrix for rfc')"
   ]
  },
  {
   "cell_type": "code",
   "execution_count": 14,
   "metadata": {},
   "outputs": [
    {
     "name": "stderr",
     "output_type": "stream",
     "text": [
      "/home/nedderlander/anaconda3/lib/python3.7/site-packages/sklearn/pipeline.py:605: DataConversionWarning: Data with input dtype uint8, uint16, float32 were all converted to float64 by StandardScaler.\n",
      "  res = transformer.transform(X)\n"
     ]
    },
    {
     "data": {
      "image/png": "[encoded data removed]",
      "text/plain": [
       "<Figure size 432x288 with 2 Axes>"
      ]
     },
     "metadata": {},
     "output_type": "display_data"
    }
   ],
   "source": [
    "normalized_confusion_matrix(y_test, knn.predict(X_test), 'Normalized confusion matrix for knn')"
   ]
  },
  {
   "cell_type": "code",
   "execution_count": null,
   "metadata": {},
   "outputs": [],
   "source": []
  }
 ],
 "metadata": {
  "kernelspec": {
   "display_name": "Python 3",
   "language": "python",
   "name": "python3"
  },
  "language_info": {
   "codemirror_mode": {
    "name": "ipython",
    "version": 3
   },
   "file_extension": ".py",
   "mimetype": "text/x-python",
   "name": "python",
   "nbconvert_exporter": "python",
   "pygments_lexer": "ipython3",
   "version": "3.7.3"
  }
 },
 "nbformat": 4,
 "nbformat_minor": 2
}
