{
 "cells": [
  {
   "cell_type": "code",
   "execution_count": 1,
   "metadata": {},
   "outputs": [],
   "source": [
    "import numpy as np, pandas as pd\n",
    "import warnings\n",
    "import psutil, os\n",
    "warnings.filterwarnings('ignore')\n",
    "\n",
    "# X_train = pd.read_csv('X_train.csv')\n",
    "# y_train = pd.read_csv('y_train.csv')\n",
    "# X_test = pd.read_csv('X_test.csv')\n",
    "# y_test = pd.read_csv('y_test.csv')\n",
    "\n",
    "# X_train = pd.read_csv('X_train_small.csv')\n",
    "# y_train = pd.read_csv('y_train_small.csv')\n",
    "# X_test = pd.read_csv('X_test_small.csv')\n",
    "# y_test = pd.read_csv('y_test_small.csv')\n",
    "\n",
    "X_train = pd.read_pickle('X_train_small.pkl')\n",
    "y_train = pd.read_pickle('y_train_small.pkl')\n",
    "X_test = pd.read_pickle('X_test_small.pkl')\n",
    "y_test = pd.read_pickle('y_test_small.pkl')"
   ]
  },
  {
   "cell_type": "code",
   "execution_count": 26,
   "metadata": {},
   "outputs": [],
   "source": [
    "# memory downcasting system\n",
    "\n",
    "def float_to_int(ser):\n",
    "    try:\n",
    "        int_ser = ser.astype(int)\n",
    "        if (ser == int_ser).all():\n",
    "            return int_ser\n",
    "        else:\n",
    "            return ser\n",
    "    except ValueError:\n",
    "        return ser\n",
    "    \n",
    "def all_float_to_int(df):\n",
    "    df_to_use = df.copy()\n",
    "    transform_fn = float_to_int\n",
    "    condition = lambda x: list(x\n",
    "                    .select_dtypes(include=[\"float\"])\n",
    "                    .columns)    \n",
    "    \n",
    "    return multi_assign(df_to_use, transform_fn, condition)\n",
    "\n",
    "def multi_assign(df, transform_fn, condition):\n",
    "    df_to_use = df.copy()\n",
    "    \n",
    "    return (df_to_use\n",
    "        .assign(\n",
    "            **{col: transform_fn(df_to_use[col])\n",
    "               for col in condition(df_to_use)})\n",
    "           )\n",
    "\n",
    "def downcast_all(df, target_type, inital_type=None):\n",
    "    #Gotta specify floats, unsigned, or integer\n",
    "    #If integer, gotta be 'integer', not 'int'\n",
    "    #Unsigned should look for Ints\n",
    "    if inital_type is None:\n",
    "        inital_type = target_type\n",
    "    \n",
    "    df_to_use = df.copy()\n",
    "    \n",
    "    transform_fn = lambda x: pd.to_numeric(x, \n",
    "                                downcast=target_type)\n",
    "    \n",
    "    condition = lambda x: list(x\n",
    "                    .select_dtypes(include=[inital_type])\n",
    "                    .columns) \n",
    "    \n",
    "    return multi_assign(df_to_use, transform_fn, condition)\n"
   ]
  },
  {
   "cell_type": "code",
   "execution_count": 28,
   "metadata": {},
   "outputs": [],
   "source": [
    "# Now I'll set up pipelines\n",
    "\n",
    "# scikit-learn pipelines\n",
    "from sklearn.pipeline import Pipeline, make_pipeline\n",
    "from sklearn.compose import ColumnTransformer\n",
    "from sklearn.preprocessing import FunctionTransformer\n",
    "\n",
    "# feature processing\n",
    "import category_encoders as ce\n",
    "from sklearn.preprocessing import StandardScaler\n",
    "\n",
    "# pre-processing pipeline\n",
    "column_trans = ColumnTransformer(\n",
    "    [('onehot', ce.OneHotEncoder(), ['satellite', 'daynight', 'type']),\n",
    "    ('scale', StandardScaler(), ['brightness', 'track', 'scan', 'acq_time', 'confidence', 'bright_t31', 'frp'])],\n",
    "    remainder='passthrough')\n",
    "\n",
    "preprocess = make_pipeline(column_trans, FunctionTransformer(all_float_to_int))\n",
    "# , \n",
    "#                            FunctionTransformer(downcast_all, \"float\"),\n",
    "#                           FunctionTransformer(downcast_all, \"integer\"),\n",
    "#                           FunctionTransformer(downcast_all, target_type = \"unsigned\", \n",
    "#                            inital_type = \"integer\"))\n"
   ]
  },
  {
   "cell_type": "code",
   "execution_count": 29,
   "metadata": {},
   "outputs": [
    {
     "data": {
      "text/plain": [
       "Pipeline(memory=None,\n",
       "     steps=[('columntransformer', ColumnTransformer(n_jobs=None, remainder='passthrough', sparse_threshold=0.3,\n",
       "         transformer_weights=None,\n",
       "         transformers=[('onehot', OneHotEncoder(cols=None, drop_invariant=False, handle_unknown='impute',\n",
       "       impute_missing=True, return_df=True, use_cat_...  inv_kw_args=None, inverse_func=None, kw_args=None,\n",
       "          pass_y='deprecated', validate=None))])"
      ]
     },
     "execution_count": 29,
     "metadata": {},
     "output_type": "execute_result"
    }
   ],
   "source": [
    "preprocess.fit(X_train)"
   ]
  },
  {
   "cell_type": "code",
   "execution_count": 31,
   "metadata": {},
   "outputs": [
    {
     "ename": "AttributeError",
     "evalue": "'numpy.ndarray' object has no attribute 'assign'",
     "output_type": "error",
     "traceback": [
      "\u001b[0;31m---------------------------------------------------------------------------\u001b[0m",
      "\u001b[0;31mAttributeError\u001b[0m                            Traceback (most recent call last)",
      "\u001b[0;32m<ipython-input-31-c483086e40a3>\u001b[0m in \u001b[0;36m<module>\u001b[0;34m\u001b[0m\n\u001b[0;32m----> 1\u001b[0;31m \u001b[0mpreprocess\u001b[0m\u001b[0;34m.\u001b[0m\u001b[0mtransform\u001b[0m\u001b[0;34m(\u001b[0m\u001b[0mX_train\u001b[0m\u001b[0;34m)\u001b[0m\u001b[0;34m\u001b[0m\u001b[0;34m\u001b[0m\u001b[0m\n\u001b[0m",
      "\u001b[0;32m~/anaconda3/lib/python3.7/site-packages/sklearn/pipeline.py\u001b[0m in \u001b[0;36m_transform\u001b[0;34m(self, X)\u001b[0m\n\u001b[1;32m    449\u001b[0m         \u001b[0;32mfor\u001b[0m \u001b[0mname\u001b[0m\u001b[0;34m,\u001b[0m \u001b[0mtransform\u001b[0m \u001b[0;32min\u001b[0m \u001b[0mself\u001b[0m\u001b[0;34m.\u001b[0m\u001b[0msteps\u001b[0m\u001b[0;34m:\u001b[0m\u001b[0;34m\u001b[0m\u001b[0;34m\u001b[0m\u001b[0m\n\u001b[1;32m    450\u001b[0m             \u001b[0;32mif\u001b[0m \u001b[0mtransform\u001b[0m \u001b[0;32mis\u001b[0m \u001b[0;32mnot\u001b[0m \u001b[0;32mNone\u001b[0m\u001b[0;34m:\u001b[0m\u001b[0;34m\u001b[0m\u001b[0;34m\u001b[0m\u001b[0m\n\u001b[0;32m--> 451\u001b[0;31m                 \u001b[0mXt\u001b[0m \u001b[0;34m=\u001b[0m \u001b[0mtransform\u001b[0m\u001b[0;34m.\u001b[0m\u001b[0mtransform\u001b[0m\u001b[0;34m(\u001b[0m\u001b[0mXt\u001b[0m\u001b[0;34m)\u001b[0m\u001b[0;34m\u001b[0m\u001b[0;34m\u001b[0m\u001b[0m\n\u001b[0m\u001b[1;32m    452\u001b[0m         \u001b[0;32mreturn\u001b[0m \u001b[0mXt\u001b[0m\u001b[0;34m\u001b[0m\u001b[0;34m\u001b[0m\u001b[0m\n\u001b[1;32m    453\u001b[0m \u001b[0;34m\u001b[0m\u001b[0m\n",
      "\u001b[0;32m~/anaconda3/lib/python3.7/site-packages/sklearn/preprocessing/_function_transformer.py\u001b[0m in \u001b[0;36mtransform\u001b[0;34m(self, X, y)\u001b[0m\n\u001b[1;32m    158\u001b[0m                           DeprecationWarning)\n\u001b[1;32m    159\u001b[0m \u001b[0;34m\u001b[0m\u001b[0m\n\u001b[0;32m--> 160\u001b[0;31m         \u001b[0;32mreturn\u001b[0m \u001b[0mself\u001b[0m\u001b[0;34m.\u001b[0m\u001b[0m_transform\u001b[0m\u001b[0;34m(\u001b[0m\u001b[0mX\u001b[0m\u001b[0;34m,\u001b[0m \u001b[0my\u001b[0m\u001b[0;34m=\u001b[0m\u001b[0my\u001b[0m\u001b[0;34m,\u001b[0m \u001b[0mfunc\u001b[0m\u001b[0;34m=\u001b[0m\u001b[0mself\u001b[0m\u001b[0;34m.\u001b[0m\u001b[0mfunc\u001b[0m\u001b[0;34m,\u001b[0m \u001b[0mkw_args\u001b[0m\u001b[0;34m=\u001b[0m\u001b[0mself\u001b[0m\u001b[0;34m.\u001b[0m\u001b[0mkw_args\u001b[0m\u001b[0;34m)\u001b[0m\u001b[0;34m\u001b[0m\u001b[0;34m\u001b[0m\u001b[0m\n\u001b[0m\u001b[1;32m    161\u001b[0m \u001b[0;34m\u001b[0m\u001b[0m\n\u001b[1;32m    162\u001b[0m     \u001b[0;32mdef\u001b[0m \u001b[0minverse_transform\u001b[0m\u001b[0;34m(\u001b[0m\u001b[0mself\u001b[0m\u001b[0;34m,\u001b[0m \u001b[0mX\u001b[0m\u001b[0;34m,\u001b[0m \u001b[0my\u001b[0m\u001b[0;34m=\u001b[0m\u001b[0;34m'deprecated'\u001b[0m\u001b[0;34m)\u001b[0m\u001b[0;34m:\u001b[0m\u001b[0;34m\u001b[0m\u001b[0;34m\u001b[0m\u001b[0m\n",
      "\u001b[0;32m~/anaconda3/lib/python3.7/site-packages/sklearn/preprocessing/_function_transformer.py\u001b[0m in \u001b[0;36m_transform\u001b[0;34m(self, X, y, func, kw_args)\u001b[0m\n\u001b[1;32m    199\u001b[0m \u001b[0;34m\u001b[0m\u001b[0m\n\u001b[1;32m    200\u001b[0m         return func(X, *((y,) if pass_y else ()),\n\u001b[0;32m--> 201\u001b[0;31m                     **(kw_args if kw_args else {}))\n\u001b[0m",
      "\u001b[0;32m<ipython-input-26-33a66861fabe>\u001b[0m in \u001b[0;36mall_float_to_int\u001b[0;34m(df)\u001b[0m\n\u001b[1;32m     18\u001b[0m                     .columns)    \n\u001b[1;32m     19\u001b[0m \u001b[0;34m\u001b[0m\u001b[0m\n\u001b[0;32m---> 20\u001b[0;31m     \u001b[0;32mreturn\u001b[0m \u001b[0mmulti_assign\u001b[0m\u001b[0;34m(\u001b[0m\u001b[0mdf_to_use\u001b[0m\u001b[0;34m,\u001b[0m \u001b[0mtransform_fn\u001b[0m\u001b[0;34m,\u001b[0m \u001b[0mcondition\u001b[0m\u001b[0;34m)\u001b[0m\u001b[0;34m\u001b[0m\u001b[0;34m\u001b[0m\u001b[0m\n\u001b[0m\u001b[1;32m     21\u001b[0m \u001b[0;34m\u001b[0m\u001b[0m\n\u001b[1;32m     22\u001b[0m \u001b[0;32mdef\u001b[0m \u001b[0mmulti_assign\u001b[0m\u001b[0;34m(\u001b[0m\u001b[0mdf\u001b[0m\u001b[0;34m,\u001b[0m \u001b[0mtransform_fn\u001b[0m\u001b[0;34m,\u001b[0m \u001b[0mcondition\u001b[0m\u001b[0;34m)\u001b[0m\u001b[0;34m:\u001b[0m\u001b[0;34m\u001b[0m\u001b[0;34m\u001b[0m\u001b[0m\n",
      "\u001b[0;32m<ipython-input-26-33a66861fabe>\u001b[0m in \u001b[0;36mmulti_assign\u001b[0;34m(df, transform_fn, condition)\u001b[0m\n\u001b[1;32m     23\u001b[0m     \u001b[0mdf_to_use\u001b[0m \u001b[0;34m=\u001b[0m \u001b[0mdf\u001b[0m\u001b[0;34m.\u001b[0m\u001b[0mcopy\u001b[0m\u001b[0;34m(\u001b[0m\u001b[0;34m)\u001b[0m\u001b[0;34m\u001b[0m\u001b[0;34m\u001b[0m\u001b[0m\n\u001b[1;32m     24\u001b[0m \u001b[0;34m\u001b[0m\u001b[0m\n\u001b[0;32m---> 25\u001b[0;31m     return (df_to_use\n\u001b[0m\u001b[1;32m     26\u001b[0m         .assign(\n\u001b[1;32m     27\u001b[0m             **{col: transform_fn(df_to_use[col])\n",
      "\u001b[0;31mAttributeError\u001b[0m: 'numpy.ndarray' object has no attribute 'assign'"
     ]
    }
   ],
   "source": [
    "preprocess.transform(X_train)"
   ]
  },
  {
   "cell_type": "code",
   "execution_count": null,
   "metadata": {},
   "outputs": [],
   "source": [
    "df = (df\n",
    "     .pipe(all_float_to_int)\n",
    "     .pipe(downcast_all, \"float\")\n",
    "     .pipe(downcast_all, \"integer\")\n",
    "     .pipe(downcast_all,  \n",
    "           target_type = \"unsigned\", \n",
    "           inital_type = \"integer\")\n",
    ")"
   ]
  },
  {
   "cell_type": "code",
   "execution_count": 3,
   "metadata": {},
   "outputs": [
    {
     "data": {
      "text/plain": [
       "pmem(rss=162553856, vms=887197696, shared=48627712, text=2342912, lib=0, data=183377920, dirty=0)"
      ]
     },
     "execution_count": 3,
     "metadata": {},
     "output_type": "execute_result"
    }
   ],
   "source": [
    "import psutil, os\n",
    "psutil.Process(os.getpid()).memory_info()"
   ]
  },
  {
   "cell_type": "code",
   "execution_count": 3,
   "metadata": {},
   "outputs": [
    {
     "name": "stdout",
     "output_type": "stream",
     "text": [
      "<class 'pandas.core.frame.DataFrame'>\n",
      "Int64Index: 186598 entries, 9 to 1865979\n",
      "Data columns (total 16 columns):\n",
      "latitude      186598 non-null float32\n",
      "longitude     186598 non-null float32\n",
      "brightness    186598 non-null float32\n",
      "scan          186598 non-null float32\n",
      "track         186598 non-null float32\n",
      "acq_time      186598 non-null uint16\n",
      "satellite     186598 non-null object\n",
      "confidence    186598 non-null uint8\n",
      "bright_t31    186598 non-null float32\n",
      "frp           186598 non-null float32\n",
      "daynight      186598 non-null object\n",
      "type          186598 non-null uint8\n",
      "FIRE_YEAR     186598 non-null uint16\n",
      "MONTH         186598 non-null uint8\n",
      "WEEK          186598 non-null uint8\n",
      "DAY           186598 non-null uint8\n",
      "dtypes: float32(7), object(2), uint16(2), uint8(5)\n",
      "memory usage: 30.7 MB\n"
     ]
    }
   ],
   "source": [
    "X_train.info(memory_usage='deep')"
   ]
  },
  {
   "cell_type": "code",
   "execution_count": 4,
   "metadata": {},
   "outputs": [
    {
     "name": "stdout",
     "output_type": "stream",
     "text": [
      "Fitting 3 folds for each of 10 candidates, totalling 30 fits\n"
     ]
    },
    {
     "name": "stderr",
     "output_type": "stream",
     "text": [
      "[Parallel(n_jobs=-1)]: Using backend LokyBackend with 4 concurrent workers.\n",
      "[Parallel(n_jobs=-1)]: Done   5 tasks      | elapsed:  8.4min\n",
      "[Parallel(n_jobs=-1)]: Done  10 tasks      | elapsed: 14.2min\n",
      "[Parallel(n_jobs=-1)]: Done  17 tasks      | elapsed: 20.0min\n",
      "[Parallel(n_jobs=-1)]: Done  27 out of  30 | elapsed: 41.3min remaining:  4.6min\n",
      "[Parallel(n_jobs=-1)]: Done  30 out of  30 | elapsed: 52.2min finished\n"
     ]
    },
    {
     "data": {
      "text/plain": [
       "RandomizedSearchCV(cv=TimeSeriesSplit(max_train_size=None, n_splits=3),\n",
       "          error_score='raise-deprecating',\n",
       "          estimator=Pipeline(memory=None,\n",
       "     steps=[('columntransformer', ColumnTransformer(n_jobs=None, remainder='passthrough', sparse_threshold=0.3,\n",
       "         transformer_weights=None,\n",
       "         transformers=[('onehot', OneHotEncoder(cols=None, drop_invariant=False, handle_unknown='impute',\n",
       "       impute_missing=True, return_df=True, use_cat_...s='warn', n_jobs=None,\n",
       "            oob_score=False, random_state=314, verbose=0, warm_start=False))]),\n",
       "          fit_params=None, iid='warn', n_iter=10, n_jobs=-1,\n",
       "          param_distributions={'randomforestclassifier__n_estimators': [200, 400, 600, 800, 1000, 1200, 1600], 'randomforestclassifier__max_features': ['auto', 'log2', None], 'randomforestclassifier__min_samples_leaf': [2, 5, 10], 'randomforestclassifier__min_samples_split': [2, 5, 10]},\n",
       "          pre_dispatch='2*n_jobs', random_state=None, refit=True,\n",
       "          return_train_score='warn', scoring='f1', verbose=10)"
      ]
     },
     "execution_count": 4,
     "metadata": {},
     "output_type": "execute_result"
    }
   ],
   "source": [
    "# try to tune RFC with timeseries split\n",
    "from sklearn.model_selection import TimeSeriesSplit, RandomizedSearchCV\n",
    "from sklearn.ensemble import RandomForestClassifier\n",
    "\n",
    "random_state = 314\n",
    "\n",
    "tscv = TimeSeriesSplit(n_splits=3)\n",
    "\n",
    "model =  make_pipeline(preprocess, RandomForestClassifier(random_state = random_state ))\n",
    "\n",
    "rfc_hyperparameters = { \n",
    "    'randomforestclassifier__n_estimators' : [200, 400, 600, 800, 1000, 1200, 1600],\n",
    "    'randomforestclassifier__max_features' : ['auto', 'log2', None],\n",
    "    'randomforestclassifier__min_samples_leaf' : [2, 5, 10],\n",
    "    'randomforestclassifier__min_samples_split' : [2,5,10]\n",
    "}\n",
    "\n",
    "search = RandomizedSearchCV(estimator=model, cv=tscv, scoring='f1',\n",
    "                           param_distributions=rfc_hyperparameters, n_jobs=-1, verbose=10)\n",
    "search.fit(X_train, y_train)"
   ]
  },
  {
   "cell_type": "code",
   "execution_count": 5,
   "metadata": {},
   "outputs": [
    {
     "data": {
      "text/plain": [
       "0.5052005943536403"
      ]
     },
     "execution_count": 5,
     "metadata": {},
     "output_type": "execute_result"
    }
   ],
   "source": [
    "search.score(X_test, y_test)"
   ]
  },
  {
   "cell_type": "code",
   "execution_count": 7,
   "metadata": {},
   "outputs": [
    {
     "data": {
      "text/html": [
       "<div>\n",
       "<style scoped>\n",
       "    .dataframe tbody tr th:only-of-type {\n",
       "        vertical-align: middle;\n",
       "    }\n",
       "\n",
       "    .dataframe tbody tr th {\n",
       "        vertical-align: top;\n",
       "    }\n",
       "\n",
       "    .dataframe thead th {\n",
       "        text-align: right;\n",
       "    }\n",
       "</style>\n",
       "<table border=\"1\" class=\"dataframe\">\n",
       "  <thead>\n",
       "    <tr style=\"text-align: right;\">\n",
       "      <th></th>\n",
       "      <th>mean_fit_time</th>\n",
       "      <th>std_fit_time</th>\n",
       "      <th>mean_score_time</th>\n",
       "      <th>std_score_time</th>\n",
       "      <th>param_randomforestclassifier__n_estimators</th>\n",
       "      <th>param_randomforestclassifier__min_samples_split</th>\n",
       "      <th>param_randomforestclassifier__min_samples_leaf</th>\n",
       "      <th>param_randomforestclassifier__max_features</th>\n",
       "      <th>params</th>\n",
       "      <th>split0_test_score</th>\n",
       "      <th>split1_test_score</th>\n",
       "      <th>split2_test_score</th>\n",
       "      <th>mean_test_score</th>\n",
       "      <th>std_test_score</th>\n",
       "      <th>rank_test_score</th>\n",
       "      <th>split0_train_score</th>\n",
       "      <th>split1_train_score</th>\n",
       "      <th>split2_train_score</th>\n",
       "      <th>mean_train_score</th>\n",
       "      <th>std_train_score</th>\n",
       "    </tr>\n",
       "  </thead>\n",
       "  <tbody>\n",
       "    <tr>\n",
       "      <th>9</th>\n",
       "      <td>569.288943</td>\n",
       "      <td>267.906683</td>\n",
       "      <td>5.439396</td>\n",
       "      <td>0.292203</td>\n",
       "      <td>1000</td>\n",
       "      <td>2</td>\n",
       "      <td>2</td>\n",
       "      <td>None</td>\n",
       "      <td>{'randomforestclassifier__n_estimators': 1000,...</td>\n",
       "      <td>0.512267</td>\n",
       "      <td>0.519709</td>\n",
       "      <td>0.506214</td>\n",
       "      <td>0.512730</td>\n",
       "      <td>0.005519</td>\n",
       "      <td>1</td>\n",
       "      <td>0.985557</td>\n",
       "      <td>0.988712</td>\n",
       "      <td>0.989970</td>\n",
       "      <td>0.988079</td>\n",
       "      <td>0.001856</td>\n",
       "    </tr>\n",
       "    <tr>\n",
       "      <th>6</th>\n",
       "      <td>417.513494</td>\n",
       "      <td>201.089227</td>\n",
       "      <td>3.986167</td>\n",
       "      <td>0.210407</td>\n",
       "      <td>800</td>\n",
       "      <td>10</td>\n",
       "      <td>10</td>\n",
       "      <td>None</td>\n",
       "      <td>{'randomforestclassifier__n_estimators': 800, ...</td>\n",
       "      <td>0.530888</td>\n",
       "      <td>0.518278</td>\n",
       "      <td>0.486427</td>\n",
       "      <td>0.511864</td>\n",
       "      <td>0.018709</td>\n",
       "      <td>2</td>\n",
       "      <td>0.849210</td>\n",
       "      <td>0.861309</td>\n",
       "      <td>0.852102</td>\n",
       "      <td>0.854207</td>\n",
       "      <td>0.005159</td>\n",
       "    </tr>\n",
       "    <tr>\n",
       "      <th>8</th>\n",
       "      <td>867.328239</td>\n",
       "      <td>413.786421</td>\n",
       "      <td>8.288466</td>\n",
       "      <td>0.281597</td>\n",
       "      <td>1600</td>\n",
       "      <td>5</td>\n",
       "      <td>5</td>\n",
       "      <td>None</td>\n",
       "      <td>{'randomforestclassifier__n_estimators': 1600,...</td>\n",
       "      <td>0.519220</td>\n",
       "      <td>0.519806</td>\n",
       "      <td>0.495765</td>\n",
       "      <td>0.511597</td>\n",
       "      <td>0.011198</td>\n",
       "      <td>3</td>\n",
       "      <td>0.912888</td>\n",
       "      <td>0.924729</td>\n",
       "      <td>0.922157</td>\n",
       "      <td>0.919925</td>\n",
       "      <td>0.005085</td>\n",
       "    </tr>\n",
       "    <tr>\n",
       "      <th>2</th>\n",
       "      <td>662.852054</td>\n",
       "      <td>318.806489</td>\n",
       "      <td>6.305778</td>\n",
       "      <td>0.332851</td>\n",
       "      <td>1200</td>\n",
       "      <td>5</td>\n",
       "      <td>5</td>\n",
       "      <td>None</td>\n",
       "      <td>{'randomforestclassifier__n_estimators': 1200,...</td>\n",
       "      <td>0.519245</td>\n",
       "      <td>0.519934</td>\n",
       "      <td>0.495479</td>\n",
       "      <td>0.511553</td>\n",
       "      <td>0.011370</td>\n",
       "      <td>4</td>\n",
       "      <td>0.912888</td>\n",
       "      <td>0.924588</td>\n",
       "      <td>0.922098</td>\n",
       "      <td>0.919858</td>\n",
       "      <td>0.005032</td>\n",
       "    </tr>\n",
       "    <tr>\n",
       "      <th>0</th>\n",
       "      <td>332.309383</td>\n",
       "      <td>159.214951</td>\n",
       "      <td>3.132338</td>\n",
       "      <td>0.169734</td>\n",
       "      <td>600</td>\n",
       "      <td>5</td>\n",
       "      <td>5</td>\n",
       "      <td>None</td>\n",
       "      <td>{'randomforestclassifier__n_estimators': 600, ...</td>\n",
       "      <td>0.520937</td>\n",
       "      <td>0.519043</td>\n",
       "      <td>0.493804</td>\n",
       "      <td>0.511261</td>\n",
       "      <td>0.012368</td>\n",
       "      <td>5</td>\n",
       "      <td>0.912181</td>\n",
       "      <td>0.924174</td>\n",
       "      <td>0.922094</td>\n",
       "      <td>0.919483</td>\n",
       "      <td>0.005233</td>\n",
       "    </tr>\n",
       "  </tbody>\n",
       "</table>\n",
       "</div>"
      ],
      "text/plain": [
       "   mean_fit_time  std_fit_time  mean_score_time  std_score_time  \\\n",
       "9     569.288943    267.906683         5.439396        0.292203   \n",
       "6     417.513494    201.089227         3.986167        0.210407   \n",
       "8     867.328239    413.786421         8.288466        0.281597   \n",
       "2     662.852054    318.806489         6.305778        0.332851   \n",
       "0     332.309383    159.214951         3.132338        0.169734   \n",
       "\n",
       "  param_randomforestclassifier__n_estimators  \\\n",
       "9                                       1000   \n",
       "6                                        800   \n",
       "8                                       1600   \n",
       "2                                       1200   \n",
       "0                                        600   \n",
       "\n",
       "  param_randomforestclassifier__min_samples_split  \\\n",
       "9                                               2   \n",
       "6                                              10   \n",
       "8                                               5   \n",
       "2                                               5   \n",
       "0                                               5   \n",
       "\n",
       "  param_randomforestclassifier__min_samples_leaf  \\\n",
       "9                                              2   \n",
       "6                                             10   \n",
       "8                                              5   \n",
       "2                                              5   \n",
       "0                                              5   \n",
       "\n",
       "  param_randomforestclassifier__max_features  \\\n",
       "9                                       None   \n",
       "6                                       None   \n",
       "8                                       None   \n",
       "2                                       None   \n",
       "0                                       None   \n",
       "\n",
       "                                              params  split0_test_score  \\\n",
       "9  {'randomforestclassifier__n_estimators': 1000,...           0.512267   \n",
       "6  {'randomforestclassifier__n_estimators': 800, ...           0.530888   \n",
       "8  {'randomforestclassifier__n_estimators': 1600,...           0.519220   \n",
       "2  {'randomforestclassifier__n_estimators': 1200,...           0.519245   \n",
       "0  {'randomforestclassifier__n_estimators': 600, ...           0.520937   \n",
       "\n",
       "   split1_test_score  split2_test_score  mean_test_score  std_test_score  \\\n",
       "9           0.519709           0.506214         0.512730        0.005519   \n",
       "6           0.518278           0.486427         0.511864        0.018709   \n",
       "8           0.519806           0.495765         0.511597        0.011198   \n",
       "2           0.519934           0.495479         0.511553        0.011370   \n",
       "0           0.519043           0.493804         0.511261        0.012368   \n",
       "\n",
       "   rank_test_score  split0_train_score  split1_train_score  \\\n",
       "9                1            0.985557            0.988712   \n",
       "6                2            0.849210            0.861309   \n",
       "8                3            0.912888            0.924729   \n",
       "2                4            0.912888            0.924588   \n",
       "0                5            0.912181            0.924174   \n",
       "\n",
       "   split2_train_score  mean_train_score  std_train_score  \n",
       "9            0.989970          0.988079         0.001856  \n",
       "6            0.852102          0.854207         0.005159  \n",
       "8            0.922157          0.919925         0.005085  \n",
       "2            0.922098          0.919858         0.005032  \n",
       "0            0.922094          0.919483         0.005233  "
      ]
     },
     "execution_count": 7,
     "metadata": {},
     "output_type": "execute_result"
    }
   ],
   "source": [
    "results = pd.DataFrame(search.cv_results_).sort_values('mean_test_score', ascending=False)\n",
    "results.head()"
   ]
  },
  {
   "cell_type": "code",
   "execution_count": 23,
   "metadata": {},
   "outputs": [
    {
     "data": {
      "text/plain": [
       "0.726967294616319"
      ]
     },
     "execution_count": 23,
     "metadata": {},
     "output_type": "execute_result"
    }
   ],
   "source": [
    "from sklearn.metrics import roc_auc_score\n",
    "\n",
    "y_pred_proba = search.predict_proba(X_test)[:,1]\n",
    "\n",
    "roc_auc_score(y_test, y_pred_proba)"
   ]
  },
  {
   "cell_type": "code",
   "execution_count": null,
   "metadata": {},
   "outputs": [],
   "source": [
    "# pretty tight ROC_AUC"
   ]
  },
  {
   "cell_type": "code",
   "execution_count": 11,
   "metadata": {},
   "outputs": [
    {
     "name": "stdout",
     "output_type": "stream",
     "text": [
      "{'randomforestclassifier__n_estimators': 1000, 'randomforestclassifier__min_samples_split': 2, 'randomforestclassifier__min_samples_leaf': 2, 'randomforestclassifier__max_features': None}\n",
      "{'randomforestclassifier__n_estimators': 800, 'randomforestclassifier__min_samples_split': 10, 'randomforestclassifier__min_samples_leaf': 10, 'randomforestclassifier__max_features': None}\n",
      "{'randomforestclassifier__n_estimators': 1600, 'randomforestclassifier__min_samples_split': 5, 'randomforestclassifier__min_samples_leaf': 5, 'randomforestclassifier__max_features': None}\n",
      "{'randomforestclassifier__n_estimators': 1200, 'randomforestclassifier__min_samples_split': 5, 'randomforestclassifier__min_samples_leaf': 5, 'randomforestclassifier__max_features': None}\n",
      "{'randomforestclassifier__n_estimators': 600, 'randomforestclassifier__min_samples_split': 5, 'randomforestclassifier__min_samples_leaf': 5, 'randomforestclassifier__max_features': None}\n",
      "{'randomforestclassifier__n_estimators': 1200, 'randomforestclassifier__min_samples_split': 2, 'randomforestclassifier__min_samples_leaf': 2, 'randomforestclassifier__max_features': 'auto'}\n",
      "{'randomforestclassifier__n_estimators': 800, 'randomforestclassifier__min_samples_split': 10, 'randomforestclassifier__min_samples_leaf': 2, 'randomforestclassifier__max_features': 'auto'}\n",
      "{'randomforestclassifier__n_estimators': 800, 'randomforestclassifier__min_samples_split': 5, 'randomforestclassifier__min_samples_leaf': 10, 'randomforestclassifier__max_features': 'auto'}\n",
      "{'randomforestclassifier__n_estimators': 1000, 'randomforestclassifier__min_samples_split': 10, 'randomforestclassifier__min_samples_leaf': 10, 'randomforestclassifier__max_features': 'log2'}\n",
      "{'randomforestclassifier__n_estimators': 1600, 'randomforestclassifier__min_samples_split': 5, 'randomforestclassifier__min_samples_leaf': 10, 'randomforestclassifier__max_features': 'log2'}\n"
     ]
    }
   ],
   "source": [
    "for result in results.params:\n",
    "    print(result)"
   ]
  },
  {
   "cell_type": "code",
   "execution_count": 18,
   "metadata": {},
   "outputs": [
    {
     "name": "stdout",
     "output_type": "stream",
     "text": [
      "Fitting 3 folds for each of 10 candidates, totalling 30 fits\n"
     ]
    },
    {
     "name": "stderr",
     "output_type": "stream",
     "text": [
      "[Parallel(n_jobs=-1)]: Using backend LokyBackend with 4 concurrent workers.\n",
      "[Parallel(n_jobs=-1)]: Done   5 tasks      | elapsed:   24.8s\n",
      "[Parallel(n_jobs=-1)]: Done  10 tasks      | elapsed:   40.8s\n",
      "[Parallel(n_jobs=-1)]: Done  17 tasks      | elapsed:  1.1min\n",
      "[Parallel(n_jobs=-1)]: Done  27 out of  30 | elapsed:  1.7min remaining:   11.1s\n",
      "[Parallel(n_jobs=-1)]: Done  30 out of  30 | elapsed:  2.6min finished\n"
     ]
    },
    {
     "data": {
      "text/plain": [
       "RandomizedSearchCV(cv=TimeSeriesSplit(max_train_size=None, n_splits=3),\n",
       "          error_score='raise-deprecating',\n",
       "          estimator=RandomForestClassifier(bootstrap=True, class_weight=None, criterion='gini',\n",
       "            max_depth=None, max_features='auto', max_leaf_nodes=None,\n",
       "            min_impurity_decrease=0.0, min_impurity_split=None,\n",
       "            min_samples_leaf=1, min_samples_split=2,\n",
       "            min_weight_fraction_leaf=0.0, n_estimators='warn', n_jobs=None,\n",
       "            oob_score=False, random_state=314, verbose=0, warm_start=False),\n",
       "          fit_params=None, iid='warn', n_iter=10, n_jobs=-1,\n",
       "          param_distributions={'n_estimators': [200, 400, 600, 800, 1000, 1200, 1600], 'max_features': ['auto', 'log2', None], 'min_samples_leaf': [2, 5, 10], 'min_samples_split': [2, 5, 10]},\n",
       "          pre_dispatch='2*n_jobs', random_state=None, refit=True,\n",
       "          return_train_score='warn', scoring='f1', verbose=10)"
      ]
     },
     "execution_count": 18,
     "metadata": {},
     "output_type": "execute_result"
    }
   ],
   "source": [
    "# try to speed up search by doing pipeline first\n",
    "\n",
    "X_train_fit = column_trans.fit_transform(X_train)\n",
    "X_test_fit = column_trans.transform(X_test)\n",
    "\n",
    "\n",
    "tscv = TimeSeriesSplit(n_splits=3)\n",
    "\n",
    "model =  RandomForestClassifier(random_state = random_state)\n",
    "\n",
    "rfc_hyperparameters = { \n",
    "    'n_estimators' : [200, 400, 600, 800, 1000, 1200, 1600],\n",
    "    'max_features' : ['auto', 'log2', None],\n",
    "    'min_samples_leaf' : [2, 5, 10],\n",
    "    'min_samples_split' : [2,5,10]\n",
    "}\n",
    "\n",
    "search = RandomizedSearchCV(estimator=model, cv=tscv, scoring='f1', n_jobs=-1,\n",
    "                           param_distributions=rfc_hyperparameters, verbose=10)\n",
    "\n",
    "search.fit(X_train_fit, y_train.values.ravel())"
   ]
  },
  {
   "cell_type": "code",
   "execution_count": 19,
   "metadata": {},
   "outputs": [
    {
     "data": {
      "text/plain": [
       "0.5188284518828452"
      ]
     },
     "execution_count": 19,
     "metadata": {},
     "output_type": "execute_result"
    }
   ],
   "source": [
    "search.score(X_test_fit, y_test)"
   ]
  },
  {
   "cell_type": "code",
   "execution_count": 21,
   "metadata": {},
   "outputs": [
    {
     "name": "stdout",
     "output_type": "stream",
     "text": [
      "<class 'pandas.core.frame.DataFrame'>\n",
      "RangeIndex: 1713 entries, 0 to 1712\n",
      "Data columns (total 16 columns):\n",
      "latitude      1713 non-null float64\n",
      "longitude     1713 non-null float64\n",
      "brightness    1713 non-null float64\n",
      "scan          1713 non-null float64\n",
      "track         1713 non-null float64\n",
      "acq_time      1713 non-null int64\n",
      "satellite     1713 non-null object\n",
      "confidence    1713 non-null int64\n",
      "bright_t31    1713 non-null float64\n",
      "frp           1713 non-null float64\n",
      "daynight      1713 non-null object\n",
      "type          1713 non-null int64\n",
      "FIRE_YEAR     1713 non-null int64\n",
      "MONTH         1713 non-null int64\n",
      "WEEK          1713 non-null int64\n",
      "DAY           1713 non-null int64\n",
      "dtypes: float64(7), int64(7), object(2)\n",
      "memory usage: 400.7 KB\n"
     ]
    }
   ],
   "source": [
    "X_test.info(memory_usage='deep')"
   ]
  },
  {
   "cell_type": "code",
   "execution_count": 22,
   "metadata": {},
   "outputs": [
    {
     "name": "stdout",
     "output_type": "stream",
     "text": [
      "<class 'pandas.core.frame.DataFrame'>\n",
      "RangeIndex: 18659 entries, 0 to 18658\n",
      "Data columns (total 16 columns):\n",
      "latitude      18659 non-null float64\n",
      "longitude     18659 non-null float64\n",
      "brightness    18659 non-null float64\n",
      "scan          18659 non-null float64\n",
      "track         18659 non-null float64\n",
      "acq_time      18659 non-null int64\n",
      "satellite     18659 non-null object\n",
      "confidence    18659 non-null int64\n",
      "bright_t31    18659 non-null float64\n",
      "frp           18659 non-null float64\n",
      "daynight      18659 non-null object\n",
      "type          18659 non-null int64\n",
      "FIRE_YEAR     18659 non-null int64\n",
      "MONTH         18659 non-null int64\n",
      "WEEK          18659 non-null int64\n",
      "DAY           18659 non-null int64\n",
      "dtypes: float64(7), int64(7), object(2)\n",
      "memory usage: 4.3 MB\n"
     ]
    }
   ],
   "source": [
    "X_train.info(memory_usage='deep')"
   ]
  },
  {
   "cell_type": "code",
   "execution_count": null,
   "metadata": {},
   "outputs": [],
   "source": []
  }
 ],
 "metadata": {
  "kernelspec": {
   "display_name": "Python 3",
   "language": "python",
   "name": "python3"
  },
  "language_info": {
   "codemirror_mode": {
    "name": "ipython",
    "version": 3
   },
   "file_extension": ".py",
   "mimetype": "text/x-python",
   "name": "python",
   "nbconvert_exporter": "python",
   "pygments_lexer": "ipython3",
   "version": "3.7.3"
  }
 },
 "nbformat": 4,
 "nbformat_minor": 2
}
