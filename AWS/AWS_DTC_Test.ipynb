{
 "cells": [
  {
   "cell_type": "markdown",
   "metadata": {},
   "source": [
    "## This notebook is a test of a 50% dataset to make sure this AWS instance will run and save a finished model"
   ]
  },
  {
   "cell_type": "code",
   "execution_count": 4,
   "metadata": {},
   "outputs": [
    {
     "name": "stdout",
     "output_type": "stream",
     "text": [
      "/bin/sh: 1: cd: can't cd to /Data-Science/Data\n"
     ]
    }
   ],
   "source": [
    "!cd /Data-Science/Data"
   ]
  },
  {
   "cell_type": "code",
   "execution_count": 5,
   "metadata": {},
   "outputs": [],
   "source": [
    "import numpy as np, pandas as pd\n",
    "import warnings\n",
    "import psutil, os\n",
    "warnings.filterwarnings('ignore')\n",
    "\n",
    "# X_train = pd.read_csv('X_train.csv')\n",
    "# y_train = pd.read_csv('y_train.csv')\n",
    "# X_test = pd.read_csv('X_test.csv')\n",
    "# y_test = pd.read_csv('y_test.csv')\n",
    "\n",
    "# X_train = pd.read_csv('X_train_small.csv')\n",
    "# y_train = pd.read_csv('y_train_small.csv')\n",
    "# X_test = pd.read_csv('X_test_small.csv')\n",
    "# y_test = pd.read_csv('y_test_small.csv')\n",
    "\n",
    "X_train = pd.read_pickle('/home/nedderlander/datascience/burn notice/Data-Science/Data/X_train_full.pkl')\n",
    "y_train = pd.read_pickle('/home/nedderlander/datascience/burn notice/Data-Science/Data/y_train_full.pkl')\n",
    "X_test = pd.read_pickle('/home/nedderlander/datascience/burn notice/Data-Science/Data/X_test_full.pkl')\n",
    "y_test = pd.read_pickle('/home/nedderlander/datascience/burn notice/Data-Science/Data/y_test_full.pkl')"
   ]
  },
  {
   "cell_type": "code",
   "execution_count": 4,
   "metadata": {},
   "outputs": [
    {
     "name": "stdout",
     "output_type": "stream",
     "text": [
      "Collecting category-encoders\n",
      "\u001b[?25l  Downloading https://files.pythonhosted.org/packages/6e/a1/f7a22f144f33be78afeb06bfa78478e8284a64263a3c09b1ef54e673841e/category_encoders-2.0.0-py2.py3-none-any.whl (87kB)\n",
      "\u001b[K    100% |████████████████████████████████| 92kB 5.3MB/s ta 0:00:011\n",
      "\u001b[?25hRequirement already satisfied: numpy>=1.11.3 in /home/ec2-user/anaconda3/envs/python3/lib/python3.6/site-packages (from category-encoders) (1.14.3)\n",
      "Requirement already satisfied: patsy>=0.4.1 in /home/ec2-user/anaconda3/envs/python3/lib/python3.6/site-packages (from category-encoders) (0.5.0)\n",
      "Requirement already satisfied: statsmodels>=0.6.1 in /home/ec2-user/anaconda3/envs/python3/lib/python3.6/site-packages (from category-encoders) (0.9.0)\n",
      "Requirement already satisfied: scipy>=0.19.0 in /home/ec2-user/anaconda3/envs/python3/lib/python3.6/site-packages (from category-encoders) (1.1.0)\n",
      "Requirement already satisfied: pandas>=0.21.1 in /home/ec2-user/anaconda3/envs/python3/lib/python3.6/site-packages (from category-encoders) (0.24.2)\n",
      "Requirement already satisfied: scikit-learn>=0.20.0 in /home/ec2-user/anaconda3/envs/python3/lib/python3.6/site-packages (from category-encoders) (0.20.3)\n",
      "Requirement already satisfied: six in /home/ec2-user/anaconda3/envs/python3/lib/python3.6/site-packages (from patsy>=0.4.1->category-encoders) (1.11.0)\n",
      "Requirement already satisfied: python-dateutil>=2.5.0 in /home/ec2-user/anaconda3/envs/python3/lib/python3.6/site-packages (from pandas>=0.21.1->category-encoders) (2.7.3)\n",
      "Requirement already satisfied: pytz>=2011k in /home/ec2-user/anaconda3/envs/python3/lib/python3.6/site-packages (from pandas>=0.21.1->category-encoders) (2018.4)\n",
      "Installing collected packages: category-encoders\n",
      "Successfully installed category-encoders-2.0.0\n",
      "\u001b[33mYou are using pip version 10.0.1, however version 19.2.3 is available.\n",
      "You should consider upgrading via the 'pip install --upgrade pip' command.\u001b[0m\n"
     ]
    }
   ],
   "source": [
    "!pip install category-encoders"
   ]
  },
  {
   "cell_type": "code",
   "execution_count": 6,
   "metadata": {},
   "outputs": [],
   "source": [
    "# X_train.drop(columns='DATE', inplace=True)\n",
    "# X_test.drop(columns='DATE', inplace=True)"
   ]
  },
  {
   "cell_type": "code",
   "execution_count": 7,
   "metadata": {},
   "outputs": [],
   "source": [
    "# Now I'll set up pipelines\n",
    "\n",
    "# scikit-learn pipelines\n",
    "from sklearn.pipeline import Pipeline, make_pipeline\n",
    "from sklearn.compose import ColumnTransformer\n",
    "from sklearn.preprocessing import FunctionTransformer\n",
    "\n",
    "# feature processing\n",
    "import category_encoders as ce\n",
    "from sklearn.preprocessing import StandardScaler\n",
    "\n",
    "# pre-processing pipeline\n",
    "column_trans = ColumnTransformer(\n",
    "    [('onehot', ce.OneHotEncoder(), ['satellite', 'daynight', 'type']),\n",
    "    ('scale', StandardScaler(), ['brightness', 'track', 'scan', 'acq_time', 'confidence', 'bright_t31', 'frp'])],\n",
    "    remainder='passthrough')\n",
    "\n",
    "# preprocess = make_pipeline(column_trans, FunctionTransformer(all_float_to_int))\n",
    "# # , \n",
    "# #                            FunctionTransformer(downcast_all, \"float\"),\n",
    "# #                           FunctionTransformer(downcast_all, \"integer\"),\n",
    "# #                           FunctionTransformer(downcast_all, target_type = \"unsigned\", \n",
    "# #                            inital_type = \"integer\"))\n"
   ]
  },
  {
   "cell_type": "code",
   "execution_count": 8,
   "metadata": {},
   "outputs": [
    {
     "name": "stdout",
     "output_type": "stream",
     "text": [
      "Fitting 5 folds for each of 20 candidates, totalling 100 fits\n"
     ]
    },
    {
     "name": "stderr",
     "output_type": "stream",
     "text": [
      "[Parallel(n_jobs=-1)]: Using backend LokyBackend with 4 concurrent workers.\n",
      "[Parallel(n_jobs=-1)]: Done   5 tasks      | elapsed:    7.5s\n",
      "[Parallel(n_jobs=-1)]: Done  10 tasks      | elapsed:   14.3s\n",
      "[Parallel(n_jobs=-1)]: Done  17 tasks      | elapsed:   25.4s\n",
      "[Parallel(n_jobs=-1)]: Done  24 tasks      | elapsed:   33.0s\n",
      "[Parallel(n_jobs=-1)]: Done  33 tasks      | elapsed:   45.8s\n",
      "[Parallel(n_jobs=-1)]: Done  42 tasks      | elapsed:  1.0min\n",
      "[Parallel(n_jobs=-1)]: Done  53 tasks      | elapsed:  1.6min\n",
      "[Parallel(n_jobs=-1)]: Done  64 tasks      | elapsed:  2.0min\n",
      "[Parallel(n_jobs=-1)]: Done  77 tasks      | elapsed:  2.7min\n",
      "[Parallel(n_jobs=-1)]: Done  90 tasks      | elapsed:  3.1min\n",
      "[Parallel(n_jobs=-1)]: Done 100 out of 100 | elapsed:  3.7min finished\n"
     ]
    },
    {
     "data": {
      "text/plain": [
       "RandomizedSearchCV(cv=TimeSeriesSplit(max_train_size=None, n_splits=5),\n",
       "          error_score='raise-deprecating',\n",
       "          estimator=Pipeline(memory=None,\n",
       "     steps=[('columntransformer', ColumnTransformer(n_jobs=None, remainder='passthrough', sparse_threshold=0.3,\n",
       "         transformer_weights=None,\n",
       "         transformers=[('onehot', OneHotEncoder(cols=None, drop_invariant=False, handle_unknown='impute',\n",
       "       impute_missing=True, return_df=True, use_cat_...       min_weight_fraction_leaf=0.0, presort=False, random_state=314,\n",
       "            splitter='best'))]),\n",
       "          fit_params=None, iid='warn', n_iter=20, n_jobs=-1,\n",
       "          param_distributions={'decisiontreeclassifier__criterion': ['gini', 'entropy'], 'decisiontreeclassifier__max_features': ['auto', 'log2', None], 'decisiontreeclassifier__min_samples_leaf': [1, 2, 3, 5, 10], 'decisiontreeclassifier__min_samples_split': [2, 5, 10]},\n",
       "          pre_dispatch='2*n_jobs', random_state=None, refit=True,\n",
       "          return_train_score='warn', scoring='roc_auc', verbose=10)"
      ]
     },
     "execution_count": 8,
     "metadata": {},
     "output_type": "execute_result"
    }
   ],
   "source": [
    "# try to tune RFC with timeseries split\n",
    "from sklearn.model_selection import TimeSeriesSplit, RandomizedSearchCV\n",
    "from sklearn.tree import DecisionTreeClassifier\n",
    "\n",
    "random_state = 314\n",
    "\n",
    "tscv = TimeSeriesSplit(n_splits=5)\n",
    "\n",
    "model =  make_pipeline(column_trans, DecisionTreeClassifier(random_state = random_state ))\n",
    "\n",
    "dtc_hyperparameters = { \n",
    "    'decisiontreeclassifier__criterion' : ['gini', 'entropy'],\n",
    "    'decisiontreeclassifier__max_features' : ['auto', 'log2', None],\n",
    "    'decisiontreeclassifier__min_samples_leaf' : [1, 2, 3, 5, 10],\n",
    "    'decisiontreeclassifier__min_samples_split' : [2,5,10]\n",
    "}\n",
    "\n",
    "search = RandomizedSearchCV(estimator=model, cv=tscv, scoring='roc_auc', n_iter=20,\n",
    "                           param_distributions=dtc_hyperparameters, n_jobs=-1, verbose=10)\n",
    "search.fit(X_train, y_train)"
   ]
  },
  {
   "cell_type": "code",
   "execution_count": 9,
   "metadata": {},
   "outputs": [
    {
     "data": {
      "text/plain": [
       "0.6494101730454533"
      ]
     },
     "execution_count": 9,
     "metadata": {},
     "output_type": "execute_result"
    }
   ],
   "source": [
    "search.score(X_test, y_test)"
   ]
  },
  {
   "cell_type": "code",
   "execution_count": 11,
   "metadata": {},
   "outputs": [
    {
     "name": "stdout",
     "output_type": "stream",
     "text": [
      "ROC:  0.6494101730454533\n",
      "f1:  0.5999447964686503\n"
     ]
    }
   ],
   "source": [
    "from sklearn.metrics import roc_auc_score, f1_score, confusion_matrix\n",
    "\n",
    "y_pred_proba = search.predict_proba(X_test)[:,1]\n",
    "y_pred = search.predict(X_test)\n",
    "print('ROC: ', roc_auc_score(y_test, y_pred_proba))\n",
    "print('f1: ', roc_auc_score(y_test, y_pred))\n"
   ]
  },
  {
   "cell_type": "code",
   "execution_count": 34,
   "metadata": {},
   "outputs": [
    {
     "data": {
      "image/png": "[encoded data removed]",
      "text/plain": [
       "<Figure size 432x288 with 2 Axes>"
      ]
     },
     "metadata": {},
     "output_type": "display_data"
    }
   ],
   "source": [
    "import seaborn as sn\n",
    "import pandas as pd\n",
    "import matplotlib.pyplot as plt\n",
    "\n",
    "cm = confusion_matrix(y_test, y_pred) \n",
    "#normalize cm\n",
    "array = cm.astype('float') / cm.sum(axis=1)[:, np.newaxis]\n",
    " \n",
    "df_cm = pd.DataFrame(array, range(2),\n",
    "                  range(2))\n",
    "#plt.figure(figsize = (10,7))\n",
    "sn.set(font_scale=1.4)#for label size\n",
    "ax = sn.heatmap(df_cm, annot=True,annot_kws={\"size\": 16})#.set_title('Normalized confusion matrix')# font size\n",
    "ax.set(xlabel='Predicted Fires', ylabel='True Fires', title = 'Normalized confusion matrix')\n",
    "plt.show()"
   ]
  },
  {
   "cell_type": "code",
   "execution_count": 10,
   "metadata": {},
   "outputs": [
    {
     "data": {
      "text/html": [
       "<div>\n",
       "<style scoped>\n",
       "    .dataframe tbody tr th:only-of-type {\n",
       "        vertical-align: middle;\n",
       "    }\n",
       "\n",
       "    .dataframe tbody tr th {\n",
       "        vertical-align: top;\n",
       "    }\n",
       "\n",
       "    .dataframe thead th {\n",
       "        text-align: right;\n",
       "    }\n",
       "</style>\n",
       "<table border=\"1\" class=\"dataframe\">\n",
       "  <thead>\n",
       "    <tr style=\"text-align: right;\">\n",
       "      <th></th>\n",
       "      <th>mean_fit_time</th>\n",
       "      <th>std_fit_time</th>\n",
       "      <th>mean_score_time</th>\n",
       "      <th>std_score_time</th>\n",
       "      <th>param_decisiontreeclassifier__min_samples_split</th>\n",
       "      <th>param_decisiontreeclassifier__min_samples_leaf</th>\n",
       "      <th>param_decisiontreeclassifier__max_features</th>\n",
       "      <th>param_decisiontreeclassifier__criterion</th>\n",
       "      <th>params</th>\n",
       "      <th>split0_test_score</th>\n",
       "      <th>...</th>\n",
       "      <th>mean_test_score</th>\n",
       "      <th>std_test_score</th>\n",
       "      <th>rank_test_score</th>\n",
       "      <th>split0_train_score</th>\n",
       "      <th>split1_train_score</th>\n",
       "      <th>split2_train_score</th>\n",
       "      <th>split3_train_score</th>\n",
       "      <th>split4_train_score</th>\n",
       "      <th>mean_train_score</th>\n",
       "      <th>std_train_score</th>\n",
       "    </tr>\n",
       "  </thead>\n",
       "  <tbody>\n",
       "    <tr>\n",
       "      <th>2</th>\n",
       "      <td>3.959990</td>\n",
       "      <td>2.007071</td>\n",
       "      <td>0.369521</td>\n",
       "      <td>0.013436</td>\n",
       "      <td>2</td>\n",
       "      <td>10</td>\n",
       "      <td>auto</td>\n",
       "      <td>entropy</td>\n",
       "      <td>{'decisiontreeclassifier__min_samples_split': ...</td>\n",
       "      <td>0.688530</td>\n",
       "      <td>...</td>\n",
       "      <td>0.652892</td>\n",
       "      <td>0.022128</td>\n",
       "      <td>1</td>\n",
       "      <td>0.981023</td>\n",
       "      <td>0.970069</td>\n",
       "      <td>0.970361</td>\n",
       "      <td>0.966765</td>\n",
       "      <td>0.959675</td>\n",
       "      <td>0.969578</td>\n",
       "      <td>0.006897</td>\n",
       "    </tr>\n",
       "    <tr>\n",
       "      <th>17</th>\n",
       "      <td>4.072366</td>\n",
       "      <td>2.205942</td>\n",
       "      <td>0.355209</td>\n",
       "      <td>0.012344</td>\n",
       "      <td>5</td>\n",
       "      <td>10</td>\n",
       "      <td>auto</td>\n",
       "      <td>entropy</td>\n",
       "      <td>{'decisiontreeclassifier__min_samples_split': ...</td>\n",
       "      <td>0.688530</td>\n",
       "      <td>...</td>\n",
       "      <td>0.652892</td>\n",
       "      <td>0.022128</td>\n",
       "      <td>1</td>\n",
       "      <td>0.981023</td>\n",
       "      <td>0.970069</td>\n",
       "      <td>0.970361</td>\n",
       "      <td>0.966765</td>\n",
       "      <td>0.959675</td>\n",
       "      <td>0.969578</td>\n",
       "      <td>0.006897</td>\n",
       "    </tr>\n",
       "    <tr>\n",
       "      <th>4</th>\n",
       "      <td>3.570925</td>\n",
       "      <td>1.975017</td>\n",
       "      <td>0.339915</td>\n",
       "      <td>0.027003</td>\n",
       "      <td>2</td>\n",
       "      <td>10</td>\n",
       "      <td>auto</td>\n",
       "      <td>gini</td>\n",
       "      <td>{'decisiontreeclassifier__min_samples_split': ...</td>\n",
       "      <td>0.654279</td>\n",
       "      <td>...</td>\n",
       "      <td>0.652509</td>\n",
       "      <td>0.017155</td>\n",
       "      <td>3</td>\n",
       "      <td>0.977015</td>\n",
       "      <td>0.973082</td>\n",
       "      <td>0.968727</td>\n",
       "      <td>0.959807</td>\n",
       "      <td>0.963699</td>\n",
       "      <td>0.968466</td>\n",
       "      <td>0.006199</td>\n",
       "    </tr>\n",
       "    <tr>\n",
       "      <th>5</th>\n",
       "      <td>3.550964</td>\n",
       "      <td>1.765290</td>\n",
       "      <td>0.375311</td>\n",
       "      <td>0.032532</td>\n",
       "      <td>2</td>\n",
       "      <td>10</td>\n",
       "      <td>log2</td>\n",
       "      <td>gini</td>\n",
       "      <td>{'decisiontreeclassifier__min_samples_split': ...</td>\n",
       "      <td>0.654279</td>\n",
       "      <td>...</td>\n",
       "      <td>0.652509</td>\n",
       "      <td>0.017155</td>\n",
       "      <td>3</td>\n",
       "      <td>0.977015</td>\n",
       "      <td>0.973082</td>\n",
       "      <td>0.968727</td>\n",
       "      <td>0.959807</td>\n",
       "      <td>0.963699</td>\n",
       "      <td>0.968466</td>\n",
       "      <td>0.006199</td>\n",
       "    </tr>\n",
       "    <tr>\n",
       "      <th>8</th>\n",
       "      <td>13.670416</td>\n",
       "      <td>7.646242</td>\n",
       "      <td>0.357637</td>\n",
       "      <td>0.026391</td>\n",
       "      <td>10</td>\n",
       "      <td>5</td>\n",
       "      <td>None</td>\n",
       "      <td>entropy</td>\n",
       "      <td>{'decisiontreeclassifier__min_samples_split': ...</td>\n",
       "      <td>0.658214</td>\n",
       "      <td>...</td>\n",
       "      <td>0.647370</td>\n",
       "      <td>0.015028</td>\n",
       "      <td>5</td>\n",
       "      <td>0.998886</td>\n",
       "      <td>0.998844</td>\n",
       "      <td>0.998526</td>\n",
       "      <td>0.998239</td>\n",
       "      <td>0.997952</td>\n",
       "      <td>0.998489</td>\n",
       "      <td>0.000357</td>\n",
       "    </tr>\n",
       "  </tbody>\n",
       "</table>\n",
       "<p>5 rows × 24 columns</p>\n",
       "</div>"
      ],
      "text/plain": [
       "    mean_fit_time  std_fit_time  mean_score_time  std_score_time  \\\n",
       "2        3.959990      2.007071         0.369521        0.013436   \n",
       "17       4.072366      2.205942         0.355209        0.012344   \n",
       "4        3.570925      1.975017         0.339915        0.027003   \n",
       "5        3.550964      1.765290         0.375311        0.032532   \n",
       "8       13.670416      7.646242         0.357637        0.026391   \n",
       "\n",
       "   param_decisiontreeclassifier__min_samples_split  \\\n",
       "2                                                2   \n",
       "17                                               5   \n",
       "4                                                2   \n",
       "5                                                2   \n",
       "8                                               10   \n",
       "\n",
       "   param_decisiontreeclassifier__min_samples_leaf  \\\n",
       "2                                              10   \n",
       "17                                             10   \n",
       "4                                              10   \n",
       "5                                              10   \n",
       "8                                               5   \n",
       "\n",
       "   param_decisiontreeclassifier__max_features  \\\n",
       "2                                        auto   \n",
       "17                                       auto   \n",
       "4                                        auto   \n",
       "5                                        log2   \n",
       "8                                        None   \n",
       "\n",
       "   param_decisiontreeclassifier__criterion  \\\n",
       "2                                  entropy   \n",
       "17                                 entropy   \n",
       "4                                     gini   \n",
       "5                                     gini   \n",
       "8                                  entropy   \n",
       "\n",
       "                                               params  split0_test_score  ...  \\\n",
       "2   {'decisiontreeclassifier__min_samples_split': ...           0.688530  ...   \n",
       "17  {'decisiontreeclassifier__min_samples_split': ...           0.688530  ...   \n",
       "4   {'decisiontreeclassifier__min_samples_split': ...           0.654279  ...   \n",
       "5   {'decisiontreeclassifier__min_samples_split': ...           0.654279  ...   \n",
       "8   {'decisiontreeclassifier__min_samples_split': ...           0.658214  ...   \n",
       "\n",
       "    mean_test_score  std_test_score  rank_test_score  split0_train_score  \\\n",
       "2          0.652892        0.022128                1            0.981023   \n",
       "17         0.652892        0.022128                1            0.981023   \n",
       "4          0.652509        0.017155                3            0.977015   \n",
       "5          0.652509        0.017155                3            0.977015   \n",
       "8          0.647370        0.015028                5            0.998886   \n",
       "\n",
       "    split1_train_score  split2_train_score  split3_train_score  \\\n",
       "2             0.970069            0.970361            0.966765   \n",
       "17            0.970069            0.970361            0.966765   \n",
       "4             0.973082            0.968727            0.959807   \n",
       "5             0.973082            0.968727            0.959807   \n",
       "8             0.998844            0.998526            0.998239   \n",
       "\n",
       "    split4_train_score  mean_train_score  std_train_score  \n",
       "2             0.959675          0.969578         0.006897  \n",
       "17            0.959675          0.969578         0.006897  \n",
       "4             0.963699          0.968466         0.006199  \n",
       "5             0.963699          0.968466         0.006199  \n",
       "8             0.997952          0.998489         0.000357  \n",
       "\n",
       "[5 rows x 24 columns]"
      ]
     },
     "execution_count": 10,
     "metadata": {},
     "output_type": "execute_result"
    }
   ],
   "source": [
    "results = pd.DataFrame(search.cv_results_).sort_values('mean_test_score', ascending=False)\n",
    "results.head()"
   ]
  },
  {
   "cell_type": "code",
   "execution_count": 14,
   "metadata": {},
   "outputs": [
    {
     "data": {
      "text/plain": [
       "{'decisiontreeclassifier__min_samples_split': 5,\n",
       " 'decisiontreeclassifier__min_samples_leaf': 2,\n",
       " 'decisiontreeclassifier__max_features': 'auto',\n",
       " 'decisiontreeclassifier__criterion': 'gini'}"
      ]
     },
     "execution_count": 14,
     "metadata": {},
     "output_type": "execute_result"
    }
   ],
   "source": [
    "results['params'][0]"
   ]
  },
  {
   "cell_type": "code",
   "execution_count": 18,
   "metadata": {},
   "outputs": [
    {
     "data": {
      "text/plain": [
       "sklearn.pipeline.Pipeline"
      ]
     },
     "execution_count": 18,
     "metadata": {},
     "output_type": "execute_result"
    }
   ],
   "source": [
    "type(search.best_estimator_)"
   ]
  },
  {
   "cell_type": "code",
   "execution_count": 37,
   "metadata": {},
   "outputs": [
    {
     "data": {
      "text/plain": [
       "('decisiontreeclassifier',\n",
       " DecisionTreeClassifier(class_weight=None, criterion='entropy', max_depth=None,\n",
       "             max_features='auto', max_leaf_nodes=None,\n",
       "             min_impurity_decrease=0.0, min_impurity_split=None,\n",
       "             min_samples_leaf=10, min_samples_split=2,\n",
       "             min_weight_fraction_leaf=0.0, presort=False, random_state=314,\n",
       "             splitter='best'))"
      ]
     },
     "execution_count": 37,
     "metadata": {},
     "output_type": "execute_result"
    }
   ],
   "source": [
    "search.best_estimator_.steps[1]"
   ]
  },
  {
   "cell_type": "code",
   "execution_count": 38,
   "metadata": {},
   "outputs": [],
   "source": [
    "model = DecisionTreeClassifier(class_weight=None, criterion='entropy', max_depth=None,\n",
    "             max_features='auto', max_leaf_nodes=None,\n",
    "             min_impurity_decrease=0.0, min_impurity_split=None,\n",
    "             min_samples_leaf=10, min_samples_split=2,\n",
    "             min_weight_fraction_leaf=0.0, presort=False, random_state=314,\n",
    "             splitter='best')"
   ]
  },
  {
   "cell_type": "code",
   "execution_count": 41,
   "metadata": {},
   "outputs": [
    {
     "name": "stderr",
     "output_type": "stream",
     "text": [
      "/home/nedderlander/anaconda3/lib/python3.7/site-packages/sklearn/preprocessing/data.py:645: DataConversionWarning: Data with input dtype uint8, uint16, float32 were all converted to float64 by StandardScaler.\n",
      "  return self.partial_fit(X, y)\n",
      "/home/nedderlander/anaconda3/lib/python3.7/site-packages/sklearn/base.py:464: DataConversionWarning: Data with input dtype uint8, uint16, float32 were all converted to float64 by StandardScaler.\n",
      "  return self.fit(X, **fit_params).transform(X)\n"
     ]
    },
    {
     "data": {
      "text/plain": [
       "DecisionTreeClassifier(class_weight=None, criterion='entropy', max_depth=None,\n",
       "            max_features='auto', max_leaf_nodes=None,\n",
       "            min_impurity_decrease=0.0, min_impurity_split=None,\n",
       "            min_samples_leaf=10, min_samples_split=2,\n",
       "            min_weight_fraction_leaf=0.0, presort=False, random_state=314,\n",
       "            splitter='best')"
      ]
     },
     "execution_count": 41,
     "metadata": {},
     "output_type": "execute_result"
    }
   ],
   "source": [
    "model.fit(column_trans.fit_transform(X_train), y_train)"
   ]
  },
  {
   "cell_type": "code",
   "execution_count": 44,
   "metadata": {},
   "outputs": [
    {
     "name": "stderr",
     "output_type": "stream",
     "text": [
      "/home/nedderlander/anaconda3/lib/python3.7/site-packages/sklearn/pipeline.py:605: DataConversionWarning: Data with input dtype uint8, uint16, float32 were all converted to float64 by StandardScaler.\n",
      "  res = transformer.transform(X)\n",
      "/home/nedderlander/anaconda3/lib/python3.7/site-packages/sklearn/pipeline.py:605: DataConversionWarning: Data with input dtype uint8, uint16, float32 were all converted to float64 by StandardScaler.\n",
      "  res = transformer.transform(X)\n"
     ]
    },
    {
     "name": "stdout",
     "output_type": "stream",
     "text": [
      "model score:  0.6635708781843229\n",
      "ROC:  0.6494101730454533\n",
      "f1:  0.5999447964686503\n"
     ]
    },
    {
     "name": "stderr",
     "output_type": "stream",
     "text": [
      "/home/nedderlander/anaconda3/lib/python3.7/site-packages/sklearn/pipeline.py:605: DataConversionWarning: Data with input dtype uint8, uint16, float32 were all converted to float64 by StandardScaler.\n",
      "  res = transformer.transform(X)\n"
     ]
    }
   ],
   "source": [
    "# now that I've trained a naked model, I'll score it to check\n",
    "\n",
    "print('model score: ', model.score(column_trans.transform(X_test), y_test))\n",
    "\n",
    "y_pred_proba = model.predict_proba(column_trans.transform(X_test))[:,1]\n",
    "y_pred = model.predict(column_trans.transform(X_test))\n",
    "print('ROC: ', roc_auc_score(y_test, y_pred_proba))\n",
    "print('f1: ', roc_auc_score(y_test, y_pred))"
   ]
  },
  {
   "cell_type": "code",
   "execution_count": 45,
   "metadata": {},
   "outputs": [
    {
     "data": {
      "text/plain": [
       "['/home/nedderlander/datascience/burn notice/Data-Science/Models/dtc_baseline_full_naked_model.pkl']"
      ]
     },
     "execution_count": 45,
     "metadata": {},
     "output_type": "execute_result"
    }
   ],
   "source": [
    "# it looks good so I'm going to try to save the naked model\n",
    "from sklearn.externals import joblib\n",
    "\n",
    "# save to Models Directory\n",
    "joblib_file = '/home/nedderlander/datascience/burn notice/Data-Science/Models/dtc_baseline_full_naked_model.pkl'\n",
    "joblib.dump(model, joblib_file)"
   ]
  },
  {
   "cell_type": "markdown",
   "metadata": {},
   "source": [
    "## The attempts to save below have not worked so I am going to extract my model, retrain it, then save it 'naked'"
   ]
  },
  {
   "cell_type": "code",
   "execution_count": 13,
   "metadata": {},
   "outputs": [],
   "source": [
    "# save the model to disk, this code didn't work, possibly due to the pipeline/rscv interaction\n",
    "# import pickle\n",
    "# filename = 'Models/dtc_full_fire_baseline.sav'\n",
    "# pickle.dump(search.best_estimator_ , open(filename, 'wb'))"
   ]
  },
  {
   "cell_type": "code",
   "execution_count": 14,
   "metadata": {},
   "outputs": [
    {
     "name": "stderr",
     "output_type": "stream",
     "text": [
      "/home/ec2-user/anaconda3/envs/python3/lib/python3.6/site-packages/sklearn/preprocessing/data.py:645: DataConversionWarning: Data with input dtype uint8, uint16, float32 were all converted to float64 by StandardScaler.\n",
      "  return self.partial_fit(X, y)\n",
      "/home/ec2-user/anaconda3/envs/python3/lib/python3.6/site-packages/sklearn/base.py:467: DataConversionWarning: Data with input dtype uint8, uint16, float32 were all converted to float64 by StandardScaler.\n",
      "  return self.fit(X, y, **fit_params).transform(X)\n"
     ]
    },
    {
     "data": {
      "text/plain": [
       "Pipeline(memory=None,\n",
       "     steps=[('columntransformer', ColumnTransformer(n_jobs=None, remainder='passthrough', sparse_threshold=0.3,\n",
       "         transformer_weights=None,\n",
       "         transformers=[('onehot', OneHotEncoder(cols=None, drop_invariant=False, handle_missing='value',\n",
       "       handle_unknown='value', return_df=True, use_ca...       min_weight_fraction_leaf=0.0, presort=False, random_state=314,\n",
       "            splitter='best'))])"
      ]
     },
     "execution_count": 14,
     "metadata": {},
     "output_type": "execute_result"
    }
   ],
   "source": [
    "# I will refit the pipeline, confirm scores, then serialize using joblib\n",
    "# this also didn't work as the pipelin doesn't save cleanly, I will try to extract the model\n",
    "model = search.best_estimator_\n",
    "model.fit(X_train, y_train)"
   ]
  },
  {
   "cell_type": "code",
   "execution_count": 15,
   "metadata": {},
   "outputs": [
    {
     "name": "stderr",
     "output_type": "stream",
     "text": [
      "/home/ec2-user/anaconda3/envs/python3/lib/python3.6/site-packages/sklearn/pipeline.py:605: DataConversionWarning: Data with input dtype uint8, uint16, float32 were all converted to float64 by StandardScaler.\n",
      "  res = transformer.transform(X)\n"
     ]
    },
    {
     "data": {
      "text/plain": [
       "0.6731734653372873"
      ]
     },
     "execution_count": 15,
     "metadata": {},
     "output_type": "execute_result"
    }
   ],
   "source": [
    "model.score(X_test, y_test)"
   ]
  },
  {
   "cell_type": "code",
   "execution_count": 16,
   "metadata": {},
   "outputs": [
    {
     "name": "stdout",
     "output_type": "stream",
     "text": [
      "ROC:  0.6604433630358475\n",
      "f1:  0.6325758776396339\n"
     ]
    },
    {
     "name": "stderr",
     "output_type": "stream",
     "text": [
      "/home/ec2-user/anaconda3/envs/python3/lib/python3.6/site-packages/sklearn/pipeline.py:605: DataConversionWarning: Data with input dtype uint8, uint16, float32 were all converted to float64 by StandardScaler.\n",
      "  res = transformer.transform(X)\n",
      "/home/ec2-user/anaconda3/envs/python3/lib/python3.6/site-packages/sklearn/pipeline.py:605: DataConversionWarning: Data with input dtype uint8, uint16, float32 were all converted to float64 by StandardScaler.\n",
      "  res = transformer.transform(X)\n"
     ]
    }
   ],
   "source": [
    "y_pred_proba = model.predict_proba(X_test)[:,1]\n",
    "y_pred = model.predict(X_test)\n",
    "print('ROC: ', roc_auc_score(y_test, y_pred_proba))\n",
    "print('f1: ', roc_auc_score(y_test, y_pred))"
   ]
  },
  {
   "cell_type": "code",
   "execution_count": 17,
   "metadata": {},
   "outputs": [
    {
     "data": {
      "image/png": "[encoded data removed]",
      "text/plain": [
       "<Figure size 432x288 with 2 Axes>"
      ]
     },
     "metadata": {},
     "output_type": "display_data"
    }
   ],
   "source": [
    "cm = confusion_matrix(y_test, y_pred) \n",
    "#normalize cm\n",
    "array = cm.astype('float') / cm.sum(axis=1)[:, np.newaxis]\n",
    " \n",
    "df_cm = pd.DataFrame(array, range(2),\n",
    "                  range(2))\n",
    "#plt.figure(figsize = (10,7))\n",
    "sn.set(font_scale=1.4)#for label size\n",
    "ax = sn.heatmap(df_cm, annot=True,annot_kws={\"size\": 16})#.set_title('Normalized confusion matrix')# font size\n",
    "ax.set(xlabel='Predicted Fires', ylabel='True Fires', title = 'Normalized confusion matrix for ')\n",
    "plt.show();"
   ]
  },
  {
   "cell_type": "code",
   "execution_count": 18,
   "metadata": {},
   "outputs": [
    {
     "data": {
      "text/plain": [
       "['Models/dtc_baseline_full.pkl']"
      ]
     },
     "execution_count": 18,
     "metadata": {},
     "output_type": "execute_result"
    }
   ],
   "source": [
    "# it looks good so I'm going to try to save the entire pipeline:\n",
    "from sklearn.externals import joblib\n",
    "\n",
    "# save to Models Directory\n",
    "joblib_file = 'Models/dtc_baseline_full.pkl'\n",
    "joblib.dump(model, joblib_file)"
   ]
  },
  {
   "cell_type": "code",
   "execution_count": 19,
   "metadata": {},
   "outputs": [
    {
     "name": "stderr",
     "output_type": "stream",
     "text": [
      "/home/ec2-user/anaconda3/envs/python3/lib/python3.6/site-packages/sklearn/pipeline.py:605: DataConversionWarning: Data with input dtype uint8, uint16, float32 were all converted to float64 by StandardScaler.\n",
      "  res = transformer.transform(X)\n"
     ]
    },
    {
     "data": {
      "text/plain": [
       "0.6731734653372873"
      ]
     },
     "execution_count": 19,
     "metadata": {},
     "output_type": "execute_result"
    }
   ],
   "source": [
    "# now I'll reload it and calculate ROC\n",
    "joblib_model = joblib.load(joblib_file)\n",
    "\n",
    "joblib_model.score(X_test, y_test)"
   ]
  },
  {
   "cell_type": "code",
   "execution_count": 20,
   "metadata": {},
   "outputs": [],
   "source": [
    "# aaaand that worked. Now I'll try it locally."
   ]
  }
 ],
 "metadata": {
  "kernelspec": {
   "display_name": "Python 3",
   "language": "python",
   "name": "python3"
  },
  "language_info": {
   "codemirror_mode": {
    "name": "ipython",
    "version": 3
   },
   "file_extension": ".py",
   "mimetype": "text/x-python",
   "name": "python",
   "nbconvert_exporter": "python",
   "pygments_lexer": "ipython3",
   "version": "3.7.3"
  }
 },
 "nbformat": 4,
 "nbformat_minor": 4
}
