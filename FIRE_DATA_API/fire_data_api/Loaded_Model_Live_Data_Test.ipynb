{
 "cells": [
  {
   "cell_type": "code",
   "execution_count": 1,
   "metadata": {},
   "outputs": [],
   "source": [
    "## This notebook is to test our saved model pipeline on live data and then save the results"
   ]
  },
  {
   "cell_type": "code",
   "execution_count": 93,
   "metadata": {},
   "outputs": [
    {
     "data": {
      "text/plain": [
       "sklearn.pipeline.Pipeline"
      ]
     },
     "execution_count": 93,
     "metadata": {},
     "output_type": "execute_result"
    }
   ],
   "source": [
    "from sklearn.externals import joblib\n",
    "\n",
    "dtc_file = 'dtc_pipeline_baseline_full_v2.pkl'\n",
    "dtc = joblib.load(dtc_file)\n",
    "type(dtc)"
   ]
  },
  {
   "cell_type": "code",
   "execution_count": 109,
   "metadata": {},
   "outputs": [],
   "source": [
    "import pandas as pd\n",
    "# test the pipeline on live data\n",
    "modis_url = 'https://firms.modaps.eosdis.nasa.gov/data/active_fire/c6/csv/MODIS_C6_USA_contiguous_and_Hawaii_24h.csv'\n",
    "live_modis = pd.read_csv(modis_url)"
   ]
  },
  {
   "cell_type": "code",
   "execution_count": 110,
   "metadata": {},
   "outputs": [
    {
     "data": {
      "text/plain": [
       "T    254\n",
       "A    168\n",
       "Name: satellite, dtype: int64"
      ]
     },
     "execution_count": 110,
     "metadata": {},
     "output_type": "execute_result"
    }
   ],
   "source": [
    "live_modis.satellite.value_counts()"
   ]
  },
  {
   "cell_type": "code",
   "execution_count": 111,
   "metadata": {},
   "outputs": [
    {
     "data": {
      "text/plain": [
       "2019-09-17    394\n",
       "2019-09-18     28\n",
       "Name: acq_date, dtype: int64"
      ]
     },
     "execution_count": 111,
     "metadata": {},
     "output_type": "execute_result"
    }
   ],
   "source": [
    "live_modis.acq_date.value_counts()"
   ]
  },
  {
   "cell_type": "raw",
   "metadata": {},
   "source": [
    "live_modis['acq_time_min'] = (live_modis['acq_time']//100)*60 +(live_modis['acq_time']%100)"
   ]
  },
  {
   "cell_type": "raw",
   "metadata": {},
   "source": [
    "import datetime\n",
    "live_modis['timestamp'] = live_modis.apply(lambda x: datetime.datetime.strptime(x['acq_date'], '%Y-%m-%d') + datetime.timedelta(minutes=x['acq_time_min']) , axis=1)"
   ]
  },
  {
   "cell_type": "raw",
   "metadata": {},
   "source": [
    "live_modis[['acq_date', 'acq_time', 'acq_time_min', 'timestamp']].head()"
   ]
  },
  {
   "cell_type": "code",
   "execution_count": 112,
   "metadata": {},
   "outputs": [],
   "source": [
    "def process_live_data(original_df):\n",
    "    \"\"\"\n",
    "    Pre processes live data to match pipeline expectations.\n",
    "    \"\"\"\n",
    "    df = original_df.copy()\n",
    "    #process satellite labels\n",
    "    df['satellite'] = df['satellite'].replace({'T':'Terra', 'A': 'Aqua'})\n",
    "    \n",
    "    #process time features\n",
    "    df['acq_time'] = (df['acq_time']//100)*60 +(df['acq_time']%100)\n",
    "    df['timestamp'] = df.apply(lambda x: datetime.datetime.strptime(x['acq_date'],\n",
    "                        '%Y-%m-%d') + datetime.timedelta(minutes=x['acq_time']), axis=1)\n",
    "    df['month'] = df['timestamp'].dt.month\n",
    "    df['week'] = df['timestamp'].dt.weekofyear\n",
    "    df.drop(columns=['acq_date', 'acq_time'], inplace=True)\n",
    "    return df"
   ]
  },
  {
   "cell_type": "code",
   "execution_count": 113,
   "metadata": {},
   "outputs": [],
   "source": [
    "df = process_live_data(live_modis)"
   ]
  },
  {
   "cell_type": "code",
   "execution_count": 114,
   "metadata": {},
   "outputs": [
    {
     "data": {
      "text/html": [
       "<div>\n",
       "<style scoped>\n",
       "    .dataframe tbody tr th:only-of-type {\n",
       "        vertical-align: middle;\n",
       "    }\n",
       "\n",
       "    .dataframe tbody tr th {\n",
       "        vertical-align: top;\n",
       "    }\n",
       "\n",
       "    .dataframe thead th {\n",
       "        text-align: right;\n",
       "    }\n",
       "</style>\n",
       "<table border=\"1\" class=\"dataframe\">\n",
       "  <thead>\n",
       "    <tr style=\"text-align: right;\">\n",
       "      <th></th>\n",
       "      <th>latitude</th>\n",
       "      <th>longitude</th>\n",
       "      <th>brightness</th>\n",
       "      <th>scan</th>\n",
       "      <th>track</th>\n",
       "      <th>satellite</th>\n",
       "      <th>confidence</th>\n",
       "      <th>version</th>\n",
       "      <th>bright_t31</th>\n",
       "      <th>frp</th>\n",
       "      <th>daynight</th>\n",
       "      <th>timestamp</th>\n",
       "      <th>month</th>\n",
       "      <th>week</th>\n",
       "    </tr>\n",
       "  </thead>\n",
       "  <tbody>\n",
       "    <tr>\n",
       "      <th>0</th>\n",
       "      <td>18.930</td>\n",
       "      <td>-70.351</td>\n",
       "      <td>313.1</td>\n",
       "      <td>1.4</td>\n",
       "      <td>1.2</td>\n",
       "      <td>Terra</td>\n",
       "      <td>86</td>\n",
       "      <td>6.0NRT</td>\n",
       "      <td>283.9</td>\n",
       "      <td>20.1</td>\n",
       "      <td>N</td>\n",
       "      <td>2019-09-17 02:40:00</td>\n",
       "      <td>9</td>\n",
       "      <td>38</td>\n",
       "    </tr>\n",
       "    <tr>\n",
       "      <th>1</th>\n",
       "      <td>18.927</td>\n",
       "      <td>-70.365</td>\n",
       "      <td>302.0</td>\n",
       "      <td>1.4</td>\n",
       "      <td>1.2</td>\n",
       "      <td>Terra</td>\n",
       "      <td>46</td>\n",
       "      <td>6.0NRT</td>\n",
       "      <td>283.9</td>\n",
       "      <td>7.5</td>\n",
       "      <td>N</td>\n",
       "      <td>2019-09-17 02:40:00</td>\n",
       "      <td>9</td>\n",
       "      <td>38</td>\n",
       "    </tr>\n",
       "    <tr>\n",
       "      <th>2</th>\n",
       "      <td>19.754</td>\n",
       "      <td>-70.624</td>\n",
       "      <td>304.7</td>\n",
       "      <td>1.4</td>\n",
       "      <td>1.2</td>\n",
       "      <td>Terra</td>\n",
       "      <td>61</td>\n",
       "      <td>6.0NRT</td>\n",
       "      <td>292.0</td>\n",
       "      <td>7.8</td>\n",
       "      <td>N</td>\n",
       "      <td>2019-09-17 02:40:00</td>\n",
       "      <td>9</td>\n",
       "      <td>38</td>\n",
       "    </tr>\n",
       "    <tr>\n",
       "      <th>3</th>\n",
       "      <td>27.452</td>\n",
       "      <td>-98.116</td>\n",
       "      <td>311.2</td>\n",
       "      <td>1.6</td>\n",
       "      <td>1.2</td>\n",
       "      <td>Terra</td>\n",
       "      <td>81</td>\n",
       "      <td>6.0NRT</td>\n",
       "      <td>293.1</td>\n",
       "      <td>17.1</td>\n",
       "      <td>N</td>\n",
       "      <td>2019-09-17 04:25:00</td>\n",
       "      <td>9</td>\n",
       "      <td>38</td>\n",
       "    </tr>\n",
       "    <tr>\n",
       "      <th>4</th>\n",
       "      <td>27.453</td>\n",
       "      <td>-98.121</td>\n",
       "      <td>307.1</td>\n",
       "      <td>1.6</td>\n",
       "      <td>1.2</td>\n",
       "      <td>Terra</td>\n",
       "      <td>68</td>\n",
       "      <td>6.0NRT</td>\n",
       "      <td>292.9</td>\n",
       "      <td>12.4</td>\n",
       "      <td>N</td>\n",
       "      <td>2019-09-17 04:25:00</td>\n",
       "      <td>9</td>\n",
       "      <td>38</td>\n",
       "    </tr>\n",
       "  </tbody>\n",
       "</table>\n",
       "</div>"
      ],
      "text/plain": [
       "   latitude  longitude  brightness  scan  track satellite  confidence version  \\\n",
       "0    18.930    -70.351       313.1   1.4    1.2     Terra          86  6.0NRT   \n",
       "1    18.927    -70.365       302.0   1.4    1.2     Terra          46  6.0NRT   \n",
       "2    19.754    -70.624       304.7   1.4    1.2     Terra          61  6.0NRT   \n",
       "3    27.452    -98.116       311.2   1.6    1.2     Terra          81  6.0NRT   \n",
       "4    27.453    -98.121       307.1   1.6    1.2     Terra          68  6.0NRT   \n",
       "\n",
       "   bright_t31   frp daynight           timestamp  month  week  \n",
       "0       283.9  20.1        N 2019-09-17 02:40:00      9    38  \n",
       "1       283.9   7.5        N 2019-09-17 02:40:00      9    38  \n",
       "2       292.0   7.8        N 2019-09-17 02:40:00      9    38  \n",
       "3       293.1  17.1        N 2019-09-17 04:25:00      9    38  \n",
       "4       292.9  12.4        N 2019-09-17 04:25:00      9    38  "
      ]
     },
     "execution_count": 114,
     "metadata": {},
     "output_type": "execute_result"
    }
   ],
   "source": [
    "df.head()"
   ]
  },
  {
   "cell_type": "code",
   "execution_count": 106,
   "metadata": {},
   "outputs": [
    {
     "data": {
      "text/plain": [
       "latitude               float64\n",
       "longitude              float64\n",
       "brightness             float64\n",
       "scan                   float64\n",
       "track                  float64\n",
       "satellite               object\n",
       "confidence               int64\n",
       "version                 object\n",
       "bright_t31             float64\n",
       "frp                    float64\n",
       "daynight                object\n",
       "acq_time_min             int64\n",
       "timestamp       datetime64[ns]\n",
       "month                    int64\n",
       "week                     int64\n",
       "dtype: object"
      ]
     },
     "execution_count": 106,
     "metadata": {},
     "output_type": "execute_result"
    }
   ],
   "source": [
    "df.dtypes"
   ]
  },
  {
   "cell_type": "code",
   "execution_count": 11,
   "metadata": {},
   "outputs": [
    {
     "data": {
      "text/plain": [
       "array([0, 0, 0, 0, 0, 0, 0, 1, 0, 0, 0, 1, 1, 0, 0, 0, 1, 0, 1, 0, 0, 1,\n",
       "       1, 0, 0, 0, 0, 1, 1, 1, 1, 1, 0, 1, 0, 0, 0, 0, 0, 0, 0, 1, 0, 0,\n",
       "       0, 0, 0, 0, 0, 0, 0, 0, 1, 0, 0, 0, 0, 1, 0, 0, 0, 0, 0, 0, 1, 0,\n",
       "       0, 0, 0, 0, 0, 0, 0, 0, 0, 0, 0, 1, 0, 0, 0, 0, 1, 0, 0, 0, 0, 0,\n",
       "       0, 0, 0, 0, 0, 0, 0, 0, 0, 0, 0, 0, 0, 0, 0, 0, 0, 0, 0, 0, 0, 0,\n",
       "       0, 0, 0, 1, 1, 1, 0, 0, 0, 0, 0, 0, 0, 0, 0, 0, 0, 0, 0, 0, 1, 0,\n",
       "       1, 0, 0, 0, 0, 0, 0, 0, 0, 0, 0, 0, 0, 0, 0, 0, 0, 0, 0, 0, 0, 0,\n",
       "       0, 0, 0, 1, 0, 0, 0, 0, 0, 0, 0, 0, 0, 0, 0, 0, 0, 0, 0, 0, 0, 0,\n",
       "       0, 0, 0, 0, 0, 0, 0, 0, 0, 0, 0, 0, 0, 0, 0, 0, 0, 0, 0, 1, 0, 0,\n",
       "       0, 0, 0, 0, 0, 0, 0, 0, 0, 0, 0, 0, 0, 0, 0, 0, 0, 0, 0, 0, 0, 0,\n",
       "       0, 1, 0, 0, 0, 0, 0, 0, 0, 0, 0, 0, 0, 1, 0, 0, 0, 0, 0, 1, 0, 0,\n",
       "       0, 0, 0, 1, 0, 0, 0, 0, 0, 0, 0, 0, 0, 0, 0, 0, 0, 0, 0, 0, 1, 0,\n",
       "       0, 1, 0, 1, 0, 0, 0, 0, 1, 0, 0, 0, 0, 0, 0, 0, 0, 0, 0, 0, 0, 0,\n",
       "       0, 1, 0, 0, 0, 0, 0, 0, 0, 0, 0, 0, 1, 1, 0, 0, 0, 1, 0, 0, 0, 0,\n",
       "       0, 0, 0, 0, 0, 0, 1, 1, 1, 0, 0, 0, 1, 0, 0, 1, 1, 1, 0, 1, 0, 0,\n",
       "       0, 0, 0, 0, 0, 0, 0, 0, 0, 0, 0, 0, 1, 1, 0, 0, 0, 0, 0, 0, 1, 1,\n",
       "       0, 1, 0, 0, 0, 0, 0, 0, 0, 0, 0, 0, 0, 1, 0, 0, 1, 0, 0, 0, 0, 0,\n",
       "       0, 0, 0, 0, 0, 0, 0, 0, 0, 0, 0, 0, 0, 1, 0, 0, 0, 0, 0, 0, 0, 0,\n",
       "       1, 1, 1, 1, 0, 0, 0, 0, 1, 0, 0, 0, 0, 0, 0, 1, 0, 1, 0, 1, 0, 0,\n",
       "       0, 1, 0, 0, 1, 0, 1, 1, 0, 1, 0, 0, 0, 0, 0, 1, 1, 0, 0, 0, 0, 0,\n",
       "       0, 0, 1, 0, 0, 0, 0, 0, 0, 0, 0, 1, 1, 1, 1, 0, 1, 1, 0, 0, 1, 0,\n",
       "       0, 0, 0, 0, 0, 0, 0, 0, 0, 0, 0, 0, 0, 0, 0, 0, 0, 0, 0, 0, 0, 0,\n",
       "       1, 0, 0, 0, 0, 0, 0, 0, 0, 0, 0, 0, 0, 0, 0, 0, 0, 0, 0, 0, 0, 0,\n",
       "       0, 0, 0, 0, 0, 0, 0, 0, 0, 0, 0, 0, 0, 0, 0, 0, 0, 0, 1, 0, 0, 0,\n",
       "       0, 0, 0, 0, 0, 0, 0, 0, 0, 0, 0, 1, 0, 0, 0, 0, 0, 0, 0, 0, 0, 0,\n",
       "       0, 1, 1, 0, 0, 0, 0, 0, 0, 0, 0, 0, 0, 0, 0, 0, 0, 0, 0, 0, 0, 0,\n",
       "       0, 0, 0, 0, 0, 0, 1, 0, 1, 0, 0, 0, 0, 0, 0, 0, 0, 0, 0, 0, 0, 0,\n",
       "       0, 0, 0, 0, 0, 0, 0, 0, 0, 0, 0, 0, 0, 0, 0, 0, 0, 0, 0, 0, 0, 0,\n",
       "       0, 0, 0, 0, 0, 0, 0, 0, 0, 0], dtype=uint8)"
      ]
     },
     "execution_count": 11,
     "metadata": {},
     "output_type": "execute_result"
    }
   ],
   "source": [
    "dtc.predict(df)"
   ]
  },
  {
   "cell_type": "code",
   "execution_count": 12,
   "metadata": {},
   "outputs": [],
   "source": [
    "# success!\n",
    "live_modis['fire'] = dtc.predict(df)"
   ]
  },
  {
   "cell_type": "code",
   "execution_count": 13,
   "metadata": {},
   "outputs": [],
   "source": [
    "# this is what we will save into our database\n",
    "results = live_modis[['latitude', 'longitude', 'fire']]"
   ]
  },
  {
   "cell_type": "code",
   "execution_count": 12,
   "metadata": {},
   "outputs": [],
   "source": [
    "# now we will try to save the results to a db\n",
    "import sqlite3\n",
    "\n",
    "sl_conn = sqlite3.connect('fire_predictions_db.sqlite3')\n",
    "sl_curs = sl_conn.cursor()"
   ]
  },
  {
   "cell_type": "code",
   "execution_count": 13,
   "metadata": {},
   "outputs": [],
   "source": [
    "create_modus_table = \"\"\"\n",
    "CREATE TABLE modus(\n",
    "    id INTEGER PRIMARY KEY,\n",
    "    latitude NUMERIC(3,1),\n",
    "    longitude NUMERIC(3,1),\n",
    "    fire SMALLINT\n",
    ")\n",
    "\"\"\"\n"
   ]
  },
  {
   "cell_type": "code",
   "execution_count": 14,
   "metadata": {},
   "outputs": [],
   "source": [
    "# try a table representation\n",
    "# next create table in postgresql\n",
    "# make a schema\n",
    "\n",
    "create_modus_table = \"\"\"\n",
    "CREATE TABLE modus(\n",
    "    id INTEGER PRIMARY KEY,\n",
    "    latitude NUMERIC(6,2),\n",
    "    longitude NUMERIC(6,2),\n",
    "    fire SMALLINT\n",
    ")\n",
    "\"\"\"\n",
    "\n",
    "drop_table = \"\"\"\n",
    "DROP TABLE modus\n",
    "\"\"\""
   ]
  },
  {
   "cell_type": "code",
   "execution_count": 16,
   "metadata": {},
   "outputs": [
    {
     "data": {
      "text/plain": [
       "<sqlite3.Cursor at 0x7f4428698030>"
      ]
     },
     "execution_count": 16,
     "metadata": {},
     "output_type": "execute_result"
    }
   ],
   "source": [
    "# sl_curs.execute(drop_table)\n",
    "sl_curs.execute(create_modus_table)"
   ]
  },
  {
   "cell_type": "code",
   "execution_count": 17,
   "metadata": {},
   "outputs": [],
   "source": [
    "results.to_sql('modus', con=sl_conn, if_exists='replace')"
   ]
  },
  {
   "cell_type": "code",
   "execution_count": 18,
   "metadata": {},
   "outputs": [],
   "source": [
    "# for row in results.values:\n",
    "    attempted_insert = \"\"\"\n",
    "    INSERT INTO modus (latitude, longitude, fire)\n",
    "    VALUES \"\"\"+ str(tuple(row))\n",
    "    sl_curs.execute(attempted_insert)"
   ]
  },
  {
   "cell_type": "code",
   "execution_count": 19,
   "metadata": {},
   "outputs": [
    {
     "data": {
      "text/plain": [
       "[(0, 31.148000000000003, -87.993, 0),\n",
       " (1, 37.236999999999995, -82.042, 0),\n",
       " (2, 39.483000000000004, -84.385, 0),\n",
       " (3, 38.69, -90.135, 0),\n",
       " (4, 41.183, -87.86200000000001, 0),\n",
       " (5, 41.628, -87.147, 0),\n",
       " (6, 42.68600000000001, -111.587, 0),\n",
       " (7, 47.92100000000001, -115.726, 1),\n",
       " (8, 26.889, -101.454, 0),\n",
       " (9, 30.5, -109.63799999999999, 0)]"
      ]
     },
     "execution_count": 19,
     "metadata": {},
     "output_type": "execute_result"
    }
   ],
   "source": [
    "# check results\n",
    "sl_curs.execute(\"SELECT * FROM modus LIMIT 10\").fetchall()\n",
    "# rows = sl_curs.fetchall()\n",
    " \n",
    "# for row in rows:\n",
    "#     print(row)"
   ]
  },
  {
   "cell_type": "code",
   "execution_count": 20,
   "metadata": {},
   "outputs": [
    {
     "data": {
      "text/html": [
       "<div>\n",
       "<style scoped>\n",
       "    .dataframe tbody tr th:only-of-type {\n",
       "        vertical-align: middle;\n",
       "    }\n",
       "\n",
       "    .dataframe tbody tr th {\n",
       "        vertical-align: top;\n",
       "    }\n",
       "\n",
       "    .dataframe thead th {\n",
       "        text-align: right;\n",
       "    }\n",
       "</style>\n",
       "<table border=\"1\" class=\"dataframe\">\n",
       "  <thead>\n",
       "    <tr style=\"text-align: right;\">\n",
       "      <th></th>\n",
       "      <th>latitude</th>\n",
       "      <th>longitude</th>\n",
       "      <th>fire</th>\n",
       "    </tr>\n",
       "  </thead>\n",
       "  <tbody>\n",
       "    <tr>\n",
       "      <th>0</th>\n",
       "      <td>31.148</td>\n",
       "      <td>-87.993</td>\n",
       "      <td>0</td>\n",
       "    </tr>\n",
       "    <tr>\n",
       "      <th>1</th>\n",
       "      <td>37.237</td>\n",
       "      <td>-82.042</td>\n",
       "      <td>0</td>\n",
       "    </tr>\n",
       "    <tr>\n",
       "      <th>2</th>\n",
       "      <td>39.483</td>\n",
       "      <td>-84.385</td>\n",
       "      <td>0</td>\n",
       "    </tr>\n",
       "    <tr>\n",
       "      <th>3</th>\n",
       "      <td>38.690</td>\n",
       "      <td>-90.135</td>\n",
       "      <td>0</td>\n",
       "    </tr>\n",
       "    <tr>\n",
       "      <th>4</th>\n",
       "      <td>41.183</td>\n",
       "      <td>-87.862</td>\n",
       "      <td>0</td>\n",
       "    </tr>\n",
       "    <tr>\n",
       "      <th>5</th>\n",
       "      <td>41.628</td>\n",
       "      <td>-87.147</td>\n",
       "      <td>0</td>\n",
       "    </tr>\n",
       "    <tr>\n",
       "      <th>6</th>\n",
       "      <td>42.686</td>\n",
       "      <td>-111.587</td>\n",
       "      <td>0</td>\n",
       "    </tr>\n",
       "    <tr>\n",
       "      <th>7</th>\n",
       "      <td>47.921</td>\n",
       "      <td>-115.726</td>\n",
       "      <td>1</td>\n",
       "    </tr>\n",
       "    <tr>\n",
       "      <th>8</th>\n",
       "      <td>26.889</td>\n",
       "      <td>-101.454</td>\n",
       "      <td>0</td>\n",
       "    </tr>\n",
       "    <tr>\n",
       "      <th>9</th>\n",
       "      <td>30.500</td>\n",
       "      <td>-109.638</td>\n",
       "      <td>0</td>\n",
       "    </tr>\n",
       "  </tbody>\n",
       "</table>\n",
       "</div>"
      ],
      "text/plain": [
       "   latitude  longitude  fire\n",
       "0    31.148    -87.993     0\n",
       "1    37.237    -82.042     0\n",
       "2    39.483    -84.385     0\n",
       "3    38.690    -90.135     0\n",
       "4    41.183    -87.862     0\n",
       "5    41.628    -87.147     0\n",
       "6    42.686   -111.587     0\n",
       "7    47.921   -115.726     1\n",
       "8    26.889   -101.454     0\n",
       "9    30.500   -109.638     0"
      ]
     },
     "execution_count": 20,
     "metadata": {},
     "output_type": "execute_result"
    }
   ],
   "source": [
    "results.head(10)"
   ]
  },
  {
   "cell_type": "markdown",
   "metadata": {},
   "source": [
    "## Live flask testing code"
   ]
  },
  {
   "cell_type": "raw",
   "metadata": {},
   "source": [
    "from fire_data_api.datascience import *\n",
    "from fire_data_api.models import *\n",
    "db.drop_all()\n",
    "db.create_all()\n",
    "df = pull_modis()\n",
    "df = process_live_data(df)\n",
    "model = load_model()\n",
    "results = classify_fires(df, model)\n",
    "add_fires(results)\n",
    "Fire.query.all()"
   ]
  },
  {
   "cell_type": "raw",
   "metadata": {},
   "source": [
    "\n",
    "u = Fire(latitude=1, longitude=2, fire=0)\n",
    "b.session.add(u)\n",
    "db.session.commit()\n",
    "\n",
    "for row in results.values:\n",
    "    u = FireObservation(latitude=(row[0]), longitude=(row[1]), fire=(row[2]))\n",
    "    db.session.add(fire)\n",
    "db.session.commit()\n"
   ]
  },
  {
   "cell_type": "code",
   "execution_count": 119,
   "metadata": {},
   "outputs": [
    {
     "name": "stdout",
     "output_type": "stream",
     "text": [
      "timestamp:  2019-09-18 09:59:47.124957\n",
      "datatype:  <class 'datetime.datetime'>\n"
     ]
    }
   ],
   "source": [
    "ts = datetime.datetime.now()\n",
    "\n",
    "print('timestamp: ', ts)\n",
    "print('datatype: ', type(ts))"
   ]
  },
  {
   "cell_type": "raw",
   "metadata": {},
   "source": [
    "from fire_data_api.models import *\n",
    "db.drop_all()\n",
    "db.create_all()"
   ]
  },
  {
   "cell_type": "raw",
   "metadata": {},
   "source": [
    "from fire_data_api.datascience import *\n",
    "from fire_data_api.models import *\n",
    "db.drop_all()\n",
    "db.create_all()\n",
    "df = check_new_df()\n",
    "df = process_live_data(df)\n",
    "model = load_model()\n",
    "results = classify_fires(df)\n",
    "add_fires(results)\n",
    "Fire.query.all()\n",
    "FrameHash.query.all()"
   ]
  },
  {
   "cell_type": "raw",
   "metadata": {},
   "source": [
    "from fire_data_api.datascience import *\n",
    "from fire_data_api.models import *\n",
    "df = check_new_df()\n",
    "df = process_live_data(df)\n",
    "model = load_model()\n",
    "results = classify_fires(df, model)\n",
    "add_fires(results)\n",
    "Fire.query.all()\n",
    "FrameHash.query.all()"
   ]
  },
  {
   "cell_type": "code",
   "execution_count": 120,
   "metadata": {},
   "outputs": [
    {
     "data": {
      "text/plain": [
       "20"
      ]
     },
     "execution_count": 120,
     "metadata": {},
     "output_type": "execute_result"
    }
   ],
   "source": [
    "len(str(-3555917140992459748))"
   ]
  },
  {
   "cell_type": "code",
   "execution_count": null,
   "metadata": {},
   "outputs": [],
   "source": []
  }
 ],
 "metadata": {
  "kernelspec": {
   "display_name": "Python 3",
   "language": "python",
   "name": "python3"
  },
  "language_info": {
   "codemirror_mode": {
    "name": "ipython",
    "version": 3
   },
   "file_extension": ".py",
   "mimetype": "text/x-python",
   "name": "python",
   "nbconvert_exporter": "python",
   "pygments_lexer": "ipython3",
   "version": "3.7.3"
  }
 },
 "nbformat": 4,
 "nbformat_minor": 2
}
