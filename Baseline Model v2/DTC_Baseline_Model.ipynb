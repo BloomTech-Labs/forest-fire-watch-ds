{
 "cells": [
  {
   "cell_type": "markdown",
   "metadata": {},
   "source": [
    "## This notebook is to produce a trained Decision Tree Classifier to test deployment to our data science api"
   ]
  },
  {
   "cell_type": "code",
   "execution_count": 3,
   "metadata": {},
   "outputs": [],
   "source": [
    "import numpy as np, pandas as pd\n",
    "import warnings\n",
    "import psutil, os\n",
    "warnings.filterwarnings('ignore')\n",
    "\n",
    "data_path = '/home/nedderlander/datascience/burn notice/Data-Science/Data/Cleaned_Modus_Historical/labeled_mh_r1.pkl'\n",
    "\n",
    "df = pd.read_pickle(data_path)"
   ]
  },
  {
   "cell_type": "markdown",
   "metadata": {},
   "source": [
    "# Confirm Training Dataset and Live Datast have identicle features"
   ]
  },
  {
   "cell_type": "code",
   "execution_count": 4,
   "metadata": {},
   "outputs": [
    {
     "data": {
      "text/plain": [
       "True"
      ]
     },
     "execution_count": 4,
     "metadata": {},
     "output_type": "execute_result"
    }
   ],
   "source": [
    "# I'm going to import the live data stream just to make sure that my training features and live data match\n",
    "modis_url = 'https://firms.modaps.eosdis.nasa.gov/data/active_fire/c6/csv/MODIS_C6_USA_contiguous_and_Hawaii_24h.csv'\n",
    "modis = pd.read_csv(modis_url)\n",
    "\n",
    "# test to see if our features are the same\n",
    "modis_columns = set(modis.columns.tolist())\n",
    "\n",
    "# we have to drop the fire feature as this is the label that the live data will not have\n",
    "df_columns = set(df.drop(columns='fire').columns.tolist())\n",
    "\n",
    "modis_columns == df_columns"
   ]
  },
  {
   "cell_type": "code",
   "execution_count": 5,
   "metadata": {},
   "outputs": [
    {
     "name": "stdout",
     "output_type": "stream",
     "text": [
      "<class 'pandas.core.frame.DataFrame'>\n",
      "RangeIndex: 308 entries, 0 to 307\n",
      "Data columns (total 13 columns):\n",
      "latitude      308 non-null float64\n",
      "longitude     308 non-null float64\n",
      "brightness    308 non-null float64\n",
      "scan          308 non-null float64\n",
      "track         308 non-null float64\n",
      "acq_date      308 non-null object\n",
      "acq_time      308 non-null int64\n",
      "satellite     308 non-null object\n",
      "confidence    308 non-null int64\n",
      "version       308 non-null object\n",
      "bright_t31    308 non-null float64\n",
      "frp           308 non-null float64\n",
      "daynight      308 non-null object\n",
      "dtypes: float64(7), int64(2), object(4)\n",
      "memory usage: 100.5 KB\n"
     ]
    }
   ],
   "source": [
    "modis.info(memory_usage='deep')"
   ]
  },
  {
   "cell_type": "code",
   "execution_count": 6,
   "metadata": {},
   "outputs": [
    {
     "name": "stdout",
     "output_type": "stream",
     "text": [
      "<class 'pandas.core.frame.DataFrame'>\n",
      "Int64Index: 2540268 entries, 0 to 2540267\n",
      "Data columns (total 14 columns):\n",
      "latitude      float32\n",
      "longitude     float32\n",
      "brightness    float32\n",
      "scan          float32\n",
      "track         float32\n",
      "acq_date      datetime64[ns]\n",
      "acq_time      uint16\n",
      "satellite     object\n",
      "confidence    uint8\n",
      "version       object\n",
      "bright_t31    float32\n",
      "frp           float32\n",
      "daynight      object\n",
      "fire          uint8\n",
      "dtypes: datetime64[ns](1), float32(7), object(3), uint16(1), uint8(2)\n",
      "memory usage: 575.3 MB\n"
     ]
    }
   ],
   "source": [
    "df.info(memory_usage='deep')"
   ]
  },
  {
   "cell_type": "markdown",
   "metadata": {},
   "source": [
    "The dataset feature names and data types match.\n",
    "\n",
    "Now we will build a function that can be used for pre-processing our data for our classification pipeline. It is important that this function work for both live data and our training data."
   ]
  },
  {
   "cell_type": "code",
   "execution_count": 7,
   "metadata": {},
   "outputs": [],
   "source": [
    "# scikit-learn pipelines\n",
    "from sklearn.pipeline import make_pipeline\n",
    "from sklearn.compose import make_column_transformer\n",
    "\n",
    "# feature processing\n",
    "from sklearn.preprocessing import StandardScaler, OneHotEncoder\n",
    "\n",
    "# I will handle the time features of the dataframe in an external function that I can build into the api\n",
    "\n",
    "def process_live_data(original_df):\n",
    "    \"\"\"\n",
    "    Pre processes live data to match pipeline expectations.\n",
    "    \"\"\"\n",
    "    df = original_df.copy()\n",
    "    df['acq_date'] = pd.to_datetime(df['acq_date'])\n",
    "    df['satellite'] = df['satellite'].replace({'T':'Terra', 'A': 'Aqua'})\n",
    "    \n",
    "    df['month'] = df['acq_date'].dt.month\n",
    "    df['week'] = df['acq_date'].dt.weekofyear\n",
    "    df.drop(columns=['acq_date', 'acq_time'], inplace=True)\n",
    "    \n",
    "    return df"
   ]
  },
  {
   "cell_type": "markdown",
   "metadata": {},
   "source": [
    "## One Hot Encoding and Scaling"
   ]
  },
  {
   "cell_type": "code",
   "execution_count": 8,
   "metadata": {},
   "outputs": [],
   "source": [
    "# deals with one hot encoding\n",
    "ohe_features = ['satellite', 'daynight', 'month', 'week']\n",
    "\n",
    "# scaler\n",
    "scale_features = ['brightness', 'track', 'scan', 'bright_t31', 'frp'] #removed confidence\n",
    "\n",
    "preprocessor = make_column_transformer(\n",
    "    (OneHotEncoder(), ohe_features),\n",
    "    (StandardScaler(), scale_features), remainder='drop')"
   ]
  },
  {
   "cell_type": "markdown",
   "metadata": {},
   "source": [
    "## Test and Training Set Split\n",
    "\n",
    "Because this is a time series, we cannot randomly shuffle our train and test sets because there is a chronological relationship between observations.\n",
    "\n",
    "So we take observations after 2014 and use them as our test set."
   ]
  },
  {
   "cell_type": "code",
   "execution_count": 9,
   "metadata": {},
   "outputs": [],
   "source": [
    "# test and train\n",
    "\n",
    "random_state = 314\n",
    "cutoffYear = 2014\n",
    "\n",
    "X = df.drop(columns = 'fire')\n",
    "y = df[['acq_date', 'fire']]\n",
    "\n",
    "#process time at this step\n",
    "X_train = process_live_data(X[X['acq_date'].dt.year <= cutoffYear])\n",
    "y_train = y[y['acq_date'].dt.year <= cutoffYear].drop(columns='acq_date')\n",
    "\n",
    "#process time at this step\n",
    "X_test = process_live_data(X[X['acq_date'].dt.year > cutoffYear])\n",
    "y_test = y[y['acq_date'].dt.year > cutoffYear].drop(columns='acq_date')"
   ]
  },
  {
   "cell_type": "markdown",
   "metadata": {},
   "source": [
    "We verify that our set shapes are compatible and that there are not major class imbalances between the train and test sets."
   ]
  },
  {
   "cell_type": "code",
   "execution_count": 10,
   "metadata": {},
   "outputs": [
    {
     "data": {
      "text/plain": [
       "((2301316, 13), (2301316, 1), 0    0.565838\n",
       " 1    0.434162\n",
       " Name: fire, dtype: float64)"
      ]
     },
     "execution_count": 10,
     "metadata": {},
     "output_type": "execute_result"
    }
   ],
   "source": [
    "X_train.shape, y_train.shape, y_train['fire'].value_counts(normalize=True)"
   ]
  },
  {
   "cell_type": "code",
   "execution_count": 11,
   "metadata": {},
   "outputs": [
    {
     "data": {
      "text/plain": [
       "((238952, 13), (238952, 1), 1    0.531002\n",
       " 0    0.468998\n",
       " Name: fire, dtype: float64)"
      ]
     },
     "execution_count": 11,
     "metadata": {},
     "output_type": "execute_result"
    }
   ],
   "source": [
    "X_test.shape, y_test.shape, y_test['fire'].value_counts(normalize=True)"
   ]
  },
  {
   "cell_type": "code",
   "execution_count": 12,
   "metadata": {},
   "outputs": [
    {
     "data": {
      "text/html": [
       "<div>\n",
       "<style scoped>\n",
       "    .dataframe tbody tr th:only-of-type {\n",
       "        vertical-align: middle;\n",
       "    }\n",
       "\n",
       "    .dataframe tbody tr th {\n",
       "        vertical-align: top;\n",
       "    }\n",
       "\n",
       "    .dataframe thead th {\n",
       "        text-align: right;\n",
       "    }\n",
       "</style>\n",
       "<table border=\"1\" class=\"dataframe\">\n",
       "  <thead>\n",
       "    <tr style=\"text-align: right;\">\n",
       "      <th></th>\n",
       "      <th>latitude</th>\n",
       "      <th>longitude</th>\n",
       "      <th>brightness</th>\n",
       "      <th>scan</th>\n",
       "      <th>track</th>\n",
       "      <th>satellite</th>\n",
       "      <th>confidence</th>\n",
       "      <th>version</th>\n",
       "      <th>bright_t31</th>\n",
       "      <th>frp</th>\n",
       "      <th>daynight</th>\n",
       "      <th>month</th>\n",
       "      <th>week</th>\n",
       "    </tr>\n",
       "  </thead>\n",
       "  <tbody>\n",
       "    <tr>\n",
       "      <th>0</th>\n",
       "      <td>19.353001</td>\n",
       "      <td>-155.057602</td>\n",
       "      <td>400.100006</td>\n",
       "      <td>1.0</td>\n",
       "      <td>1.0</td>\n",
       "      <td>Terra</td>\n",
       "      <td>100</td>\n",
       "      <td>modis</td>\n",
       "      <td>311.799988</td>\n",
       "      <td>255.800003</td>\n",
       "      <td>N</td>\n",
       "      <td>1</td>\n",
       "      <td>1</td>\n",
       "    </tr>\n",
       "    <tr>\n",
       "      <th>1</th>\n",
       "      <td>19.337799</td>\n",
       "      <td>-155.035995</td>\n",
       "      <td>311.600006</td>\n",
       "      <td>1.0</td>\n",
       "      <td>1.0</td>\n",
       "      <td>Terra</td>\n",
       "      <td>83</td>\n",
       "      <td>modis</td>\n",
       "      <td>296.899994</td>\n",
       "      <td>9.800000</td>\n",
       "      <td>N</td>\n",
       "      <td>1</td>\n",
       "      <td>1</td>\n",
       "    </tr>\n",
       "    <tr>\n",
       "      <th>2</th>\n",
       "      <td>19.354401</td>\n",
       "      <td>-155.048203</td>\n",
       "      <td>322.200012</td>\n",
       "      <td>1.0</td>\n",
       "      <td>1.0</td>\n",
       "      <td>Terra</td>\n",
       "      <td>100</td>\n",
       "      <td>modis</td>\n",
       "      <td>293.600006</td>\n",
       "      <td>19.600000</td>\n",
       "      <td>N</td>\n",
       "      <td>1</td>\n",
       "      <td>1</td>\n",
       "    </tr>\n",
       "    <tr>\n",
       "      <th>3</th>\n",
       "      <td>19.346800</td>\n",
       "      <td>-155.037506</td>\n",
       "      <td>362.500000</td>\n",
       "      <td>1.0</td>\n",
       "      <td>1.0</td>\n",
       "      <td>Terra</td>\n",
       "      <td>100</td>\n",
       "      <td>modis</td>\n",
       "      <td>303.100006</td>\n",
       "      <td>92.900002</td>\n",
       "      <td>N</td>\n",
       "      <td>1</td>\n",
       "      <td>1</td>\n",
       "    </tr>\n",
       "    <tr>\n",
       "      <th>4</th>\n",
       "      <td>19.351601</td>\n",
       "      <td>-155.067001</td>\n",
       "      <td>313.600006</td>\n",
       "      <td>1.0</td>\n",
       "      <td>1.0</td>\n",
       "      <td>Terra</td>\n",
       "      <td>87</td>\n",
       "      <td>modis</td>\n",
       "      <td>291.399994</td>\n",
       "      <td>11.800000</td>\n",
       "      <td>N</td>\n",
       "      <td>1</td>\n",
       "      <td>1</td>\n",
       "    </tr>\n",
       "  </tbody>\n",
       "</table>\n",
       "</div>"
      ],
      "text/plain": [
       "    latitude   longitude  brightness  scan  track satellite  confidence  \\\n",
       "0  19.353001 -155.057602  400.100006   1.0    1.0     Terra         100   \n",
       "1  19.337799 -155.035995  311.600006   1.0    1.0     Terra          83   \n",
       "2  19.354401 -155.048203  322.200012   1.0    1.0     Terra         100   \n",
       "3  19.346800 -155.037506  362.500000   1.0    1.0     Terra         100   \n",
       "4  19.351601 -155.067001  313.600006   1.0    1.0     Terra          87   \n",
       "\n",
       "  version  bright_t31         frp daynight  month  week  \n",
       "0   modis  311.799988  255.800003        N      1     1  \n",
       "1   modis  296.899994    9.800000        N      1     1  \n",
       "2   modis  293.600006   19.600000        N      1     1  \n",
       "3   modis  303.100006   92.900002        N      1     1  \n",
       "4   modis  291.399994   11.800000        N      1     1  "
      ]
     },
     "execution_count": 12,
     "metadata": {},
     "output_type": "execute_result"
    }
   ],
   "source": [
    "X_train.head()"
   ]
  },
  {
   "cell_type": "markdown",
   "metadata": {},
   "source": [
    "### Completed Pipeline\n",
    "\n",
    "raw_data -> process_live_data (create time features) -> preprocessor (scale and OHE) -> DecisionTreeClassifier\n"
   ]
  },
  {
   "cell_type": "code",
   "execution_count": 13,
   "metadata": {},
   "outputs": [
    {
     "data": {
      "text/plain": [
       "Pipeline(memory=None,\n",
       "     steps=[('columntransformer', ColumnTransformer(n_jobs=None, remainder='drop', sparse_threshold=0.3,\n",
       "         transformer_weights=None,\n",
       "         transformers=[('onehotencoder', OneHotEncoder(categorical_features=None, categories=None,\n",
       "       dtype=<class 'numpy.float64'>, handle_unknown='error',\n",
       "    ...       min_weight_fraction_leaf=0.0, presort=False, random_state=314,\n",
       "            splitter='best'))])"
      ]
     },
     "execution_count": 13,
     "metadata": {},
     "output_type": "execute_result"
    }
   ],
   "source": [
    "from sklearn.tree import DecisionTreeClassifier\n",
    "\n",
    "pipe =  make_pipeline(preprocessor,\n",
    "            DecisionTreeClassifier(class_weight=None, criterion='entropy', max_depth=None,\n",
    "             max_features='auto', max_leaf_nodes=None,\n",
    "             min_impurity_decrease=0.0, min_impurity_split=None,\n",
    "             min_samples_leaf=10, min_samples_split=2,\n",
    "             min_weight_fraction_leaf=0.0, presort=False, random_state=random_state,\n",
    "             splitter='best'))\n",
    "            \n",
    "pipe.fit(X_train, y_train)\n",
    "\n",
    "# model.fit(preprocessor.fit_transform(X_train), y_train)"
   ]
  },
  {
   "cell_type": "code",
   "execution_count": 14,
   "metadata": {},
   "outputs": [
    {
     "name": "stdout",
     "output_type": "stream",
     "text": [
      "ROC:  0.5898134252832419\n",
      "f1:  0.561177245546099\n"
     ]
    }
   ],
   "source": [
    "from sklearn.metrics import roc_auc_score, f1_score, confusion_matrix\n",
    "\n",
    "y_pred_proba = pipe.predict_proba(X_test)[:,1]\n",
    "y_pred = pipe.predict(X_test)\n",
    "\n",
    "print('ROC: ', roc_auc_score(y_test, y_pred_proba))\n",
    "print('f1: ', roc_auc_score(y_test, y_pred))"
   ]
  },
  {
   "cell_type": "code",
   "execution_count": 15,
   "metadata": {},
   "outputs": [
    {
     "data": {
      "text/plain": [
       "0.5457874384813687"
      ]
     },
     "execution_count": 15,
     "metadata": {},
     "output_type": "execute_result"
    }
   ],
   "source": [
    "pipe.score(X_test, y_test)"
   ]
  },
  {
   "cell_type": "markdown",
   "metadata": {},
   "source": [
    "The above scoring shows that our baseline model and a lot of room for improvement. Our ROC-AUC score measures the ability of our model to seperate True and False Positives (btw 0.5 is a coinflip model so we are very close to that) and f1 is a weighted measure of the precision and recall of our model. \n",
    "\n",
    "Precision - True positive / total predicted positive\n",
    "\n",
    "Recall - True positive / total actual positive\n",
    "\n",
    "This gives us a sense of our True Positive / False positive rate."
   ]
  },
  {
   "cell_type": "code",
   "execution_count": 16,
   "metadata": {},
   "outputs": [],
   "source": [
    "import seaborn as sn\n",
    "import pandas as pd\n",
    "import matplotlib.pyplot as plt\n",
    "\n",
    "def normalized_confusion_matrix(y_test, y_pred, title):\n",
    "    cm = confusion_matrix(y_test, y_pred) \n",
    "    #normalize cm\n",
    "    array = cm.astype('float') / cm.sum(axis=1)[:, np.newaxis]\n",
    "    df_cm = pd.DataFrame(array, range(2),\n",
    "                      range(2))\n",
    "    #plt.figure(figsize = (10,7))\n",
    "    sn.set(font_scale=1.4)#for label size\n",
    "    ax = sn.heatmap(df_cm, annot=True,annot_kws={\"size\": 16})#.set_title('Normalized confusion matrix')# font size\n",
    "    ax.set(xlabel='Predicted Fires', ylabel='True Fires', title = title)\n",
    "    plt.show();"
   ]
  },
  {
   "cell_type": "code",
   "execution_count": 17,
   "metadata": {},
   "outputs": [
    {
     "data": {
      "image/png": "[encoded data removed]",
      "text/plain": [
       "<Figure size 432x288 with 2 Axes>"
      ]
     },
     "metadata": {},
     "output_type": "display_data"
    }
   ],
   "source": [
    "normalized_confusion_matrix(y_test, y_pred, 'DTC confusion matrix')"
   ]
  },
  {
   "cell_type": "markdown",
   "metadata": {},
   "source": [
    "The above confusion matrix shows quite poor model performance, but this is a baseline so that is not necessarily a bad thing.\n",
    "\n",
    "We can also compare this simple model to Nasa's built in Confidence metric."
   ]
  },
  {
   "cell_type": "code",
   "execution_count": 30,
   "metadata": {},
   "outputs": [],
   "source": [
    "# now I'll evaluate a fire prediction metric of confidence > 90 vs the model\n",
    "\n",
    "def predict_90(row):\n",
    "    if row['confidence'] > 90:\n",
    "        return 1\n",
    "    else:\n",
    "        return 0\n",
    "y_pred_c90 = X_test.apply(lambda row : predict_90(row), axis=1)"
   ]
  },
  {
   "cell_type": "code",
   "execution_count": 31,
   "metadata": {},
   "outputs": [
    {
     "data": {
      "image/png": "[encoded data removed]",
      "text/plain": [
       "<Figure size 432x288 with 2 Axes>"
      ]
     },
     "metadata": {},
     "output_type": "display_data"
    }
   ],
   "source": [
    "normalized_confusion_matrix(y_test, y_pred_c90, 'Normalized confusion matrix for y_pred>90')"
   ]
  },
  {
   "cell_type": "markdown",
   "metadata": {},
   "source": [
    "While our baseline model has a low f1 score, it performs better than the NASA confidence model, so we can deploy it knowing that it is better than no model."
   ]
  },
  {
   "cell_type": "code",
   "execution_count": 34,
   "metadata": {},
   "outputs": [
    {
     "data": {
      "text/plain": [
       "['dtc_pipeline_baseline_full_v2.pkl']"
      ]
     },
     "execution_count": 34,
     "metadata": {},
     "output_type": "execute_result"
    }
   ],
   "source": [
    "# it looks good so I'm going to try to save the entire pipeline:\n",
    "from sklearn.externals import joblib\n",
    "\n",
    "# save to Models Directory\n",
    "joblib_file = 'dtc_pipeline_baseline_full_v2.pkl'\n",
    "joblib.dump(pipe, joblib_file)"
   ]
  }
 ],
 "metadata": {
  "kernelspec": {
   "display_name": "Python 3",
   "language": "python",
   "name": "python3"
  },
  "language_info": {
   "codemirror_mode": {
    "name": "ipython",
    "version": 3
   },
   "file_extension": ".py",
   "mimetype": "text/x-python",
   "name": "python",
   "nbconvert_exporter": "python",
   "pygments_lexer": "ipython3",
   "version": "3.7.3"
  }
 },
 "nbformat": 4,
 "nbformat_minor": 4
}
