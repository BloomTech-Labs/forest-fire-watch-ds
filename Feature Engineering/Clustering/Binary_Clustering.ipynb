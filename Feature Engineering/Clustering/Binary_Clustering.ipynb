{
 "cells": [
  {
   "cell_type": "markdown",
   "metadata": {},
   "source": [
    "### Feature Engineering - Geo Clustering\n",
    "\n",
    "We want to capture the geographic relationship between observations, however, if we create labelled clusters, we will have to OHE them before apply our model. This will create issues with live data because when we run our clustering algorithm on live data, the dataset is much smaller and will be unlikely to create as many clusters or the same clusters as our training data set, this will break our model.\n",
    "\n",
    "So we decided to create clustsers using HDBScan, but only save the binary information of \"does this observation belong to a cluster?\"\n",
    "\n",
    "This means that we know that some points have relationships with other points, and this feature is unlikely to break our model."
   ]
  },
  {
   "cell_type": "code",
   "execution_count": 1,
   "metadata": {},
   "outputs": [],
   "source": [
    "import pandas as pd\n",
    "import numpy as np\n",
    "import warnings\n",
    "import hdbscan\n",
    "warnings.filterwarnings('ignore')\n",
    "\n",
    "def process_live_data_and_cluster(original_df):\n",
    "    \"\"\"\n",
    "    Pre processes live data to match pipeline expectations.\n",
    "    \"\"\"\n",
    "    df = original_df.copy()\n",
    "    df['acq_date'] = pd.to_datetime(df['acq_date'])\n",
    "    df['satellite'] = df['satellite'].replace({'T':'Terra', 'A': 'Aqua'})\n",
    "    df['latitude'] = df['latitude'].round(2)\n",
    "    df['longitude'] = df['longitude'].round(2) \n",
    "    \n",
    "    df['month'] = df['acq_date'].dt.month\n",
    "    df['week'] = df['acq_date'].dt.weekofyear\n",
    "    df.drop(columns=['acq_date', 'acq_time'], inplace=True)\n",
    "    \n",
    "    #add binary cluster label\n",
    "    clusterer = hdbscan.HDBSCAN(min_cluster_size=50, min_samples=20, gen_min_span_tree=True)\n",
    "    df['clusters'] = clusterer.fit(df[['latitude','longitude']]).labels_\n",
    "    df['clusters'] = df['clusters'].apply(lambda x: False if x == -1 else True)\n",
    "    \n",
    "    \n",
    "    return df\n",
    "\n",
    "\n",
    "\n",
    "X_train = process_live_data_and_cluster(pd.read_pickle('~/datascience/burn notice/Data-Science/Data/Cleaned_Modus_Historical/X_train_small.pkl'))\n",
    "y_train = (pd.read_pickle('~/datascience/burn notice/Data-Science/Data/Cleaned_Modus_Historical/y_train_small.pkl'))\n",
    "X_test = process_live_data_and_cluster(pd.read_pickle('~/datascience/burn notice/Data-Science/Data/Cleaned_Modus_Historical/X_test_small.pkl'))\n",
    "y_test = (pd.read_pickle('~/datascience/burn notice/Data-Science/Data/Cleaned_Modus_Historical/y_test_small.pkl'))"
   ]
  },
  {
   "cell_type": "markdown",
   "metadata": {},
   "source": [
    "### Add clustering to our OHE column transformer"
   ]
  },
  {
   "cell_type": "code",
   "execution_count": 2,
   "metadata": {},
   "outputs": [],
   "source": [
    "# scikit-learn pipelines\n",
    "from sklearn.pipeline import make_pipeline\n",
    "from sklearn.compose import make_column_transformer\n",
    "\n",
    "# feature processing\n",
    "from sklearn.preprocessing import StandardScaler, OneHotEncoder\n",
    "\n",
    "# deals with one hot encoding\n",
    "ohe_features = ['satellite', 'daynight', 'month', 'week', 'clusters']\n",
    "# scaler\n",
    "scale_features = ['brightness', 'track', 'scan', 'bright_t31', 'frp'] #removed confidence\n",
    "\n",
    "preprocessor = make_column_transformer(\n",
    "    (OneHotEncoder(), ohe_features),\n",
    "    (StandardScaler(), scale_features), remainder='drop')"
   ]
  },
  {
   "cell_type": "markdown",
   "metadata": {},
   "source": [
    "### Pipeline with the same DTC as our baseline model"
   ]
  },
  {
   "cell_type": "code",
   "execution_count": 3,
   "metadata": {},
   "outputs": [
    {
     "data": {
      "text/plain": [
       "Pipeline(memory=None,\n",
       "     steps=[('columntransformer', ColumnTransformer(n_jobs=None, remainder='drop', sparse_threshold=0.3,\n",
       "         transformer_weights=None,\n",
       "         transformers=[('onehotencoder', OneHotEncoder(categorical_features=None, categories=None,\n",
       "       dtype=<class 'numpy.float64'>, handle_unknown='error',\n",
       "    ...       min_weight_fraction_leaf=0.0, presort=False, random_state=314,\n",
       "            splitter='best'))])"
      ]
     },
     "execution_count": 3,
     "metadata": {},
     "output_type": "execute_result"
    }
   ],
   "source": [
    "from sklearn.tree import DecisionTreeClassifier\n",
    "\n",
    "random_state = 314\n",
    "\n",
    "pipe =  make_pipeline(preprocessor,\n",
    "            DecisionTreeClassifier(class_weight=None, criterion='entropy', max_depth=None,\n",
    "             max_features='auto', max_leaf_nodes=None,\n",
    "             min_impurity_decrease=0.0, min_impurity_split=None,\n",
    "             min_samples_leaf=10, min_samples_split=2,\n",
    "             min_weight_fraction_leaf=0.0, presort=False, random_state=random_state,\n",
    "             splitter='best'))\n",
    "            \n",
    "pipe.fit(X_train, y_train)"
   ]
  },
  {
   "cell_type": "code",
   "execution_count": 4,
   "metadata": {},
   "outputs": [
    {
     "name": "stdout",
     "output_type": "stream",
     "text": [
      "ROC:  0.6433774117769712\n",
      "f1:  0.6055546227753781\n",
      "recall:  0.46081898923209935\n"
     ]
    }
   ],
   "source": [
    "from sklearn.metrics import roc_auc_score, f1_score, confusion_matrix, recall_score\n",
    "\n",
    "y_pred_proba = pipe.predict_proba(X_test)[:,1]\n",
    "y_pred = pipe.predict(X_test)\n",
    "\n",
    "print('ROC: ', roc_auc_score(y_test, y_pred_proba))\n",
    "print('f1: ', roc_auc_score(y_test, y_pred))\n",
    "print('recall: ', recall_score(y_test, y_pred))"
   ]
  },
  {
   "cell_type": "markdown",
   "metadata": {},
   "source": [
    "Our scoring is significantly better than our baseline model, so the clustering metric has improved our model."
   ]
  },
  {
   "cell_type": "code",
   "execution_count": 5,
   "metadata": {},
   "outputs": [],
   "source": [
    "import seaborn as sn\n",
    "import pandas as pd\n",
    "import matplotlib.pyplot as plt\n",
    "\n",
    "def normalized_confusion_matrix(y_test, y_pred, title):\n",
    "    cm = confusion_matrix(y_test, y_pred) \n",
    "    #normalize cm\n",
    "    array = cm.astype('float') / cm.sum(axis=1)[:, np.newaxis]\n",
    "    df_cm = pd.DataFrame(array, range(2),\n",
    "                      range(2))\n",
    "    #plt.figure(figsize = (10,7))\n",
    "    sn.set(font_scale=1.4)#for label size\n",
    "    ax = sn.heatmap(df_cm, annot=True,annot_kws={\"size\": 16})#.set_title('Normalized confusion matrix')# font size\n",
    "    ax.set(xlabel='Predicted Fires', ylabel='True Fires', title = title)\n",
    "    plt.show();"
   ]
  },
  {
   "cell_type": "code",
   "execution_count": 6,
   "metadata": {},
   "outputs": [
    {
     "data": {
      "image/png": "[encoded data removed]",
      "text/plain": [
       "<Figure size 432x288 with 2 Axes>"
      ]
     },
     "metadata": {},
     "output_type": "display_data"
    }
   ],
   "source": [
    "normalized_confusion_matrix(y_test, y_pred, 'DTC confusion matrix clusters')"
   ]
  },
  {
   "cell_type": "markdown",
   "metadata": {},
   "source": [
    "This is significantly better than our baseline confusion matrix in terms of our true positive rate, so the feature is usefule.\n",
    "\n",
    "![alt text](DTC_Baseline_CM.png)"
   ]
  },
  {
   "cell_type": "markdown",
   "metadata": {},
   "source": [
    "### Now confirm that this feature doesn't break with live data"
   ]
  },
  {
   "cell_type": "code",
   "execution_count": 7,
   "metadata": {},
   "outputs": [],
   "source": [
    "# let's test this on new data and see if the pipeline breaks\n",
    "modis_url = 'https://firms.modaps.eosdis.nasa.gov/data/active_fire/c6/csv/MODIS_C6_USA_contiguous_and_Hawaii_24h.csv'\n",
    "modis = process_live_data_and_cluster(pd.read_csv(modis_url))"
   ]
  },
  {
   "cell_type": "code",
   "execution_count": 11,
   "metadata": {},
   "outputs": [
    {
     "data": {
      "text/plain": [
       "True     147897\n",
       "False     70107\n",
       "Name: clusters, dtype: int64"
      ]
     },
     "execution_count": 11,
     "metadata": {},
     "output_type": "execute_result"
    }
   ],
   "source": [
    "X_train.clusters.value_counts()"
   ]
  },
  {
   "cell_type": "code",
   "execution_count": 10,
   "metadata": {},
   "outputs": [
    {
     "data": {
      "text/plain": [
       "True     480\n",
       "False     93\n",
       "Name: clusters, dtype: int64"
      ]
     },
     "execution_count": 10,
     "metadata": {},
     "output_type": "execute_result"
    }
   ],
   "source": [
    "modis.clusters.value_counts()"
   ]
  },
  {
   "cell_type": "code",
   "execution_count": 13,
   "metadata": {},
   "outputs": [
    {
     "data": {
      "text/plain": [
       "array([0, 0, 1, 1, 1, 0, 1, 1, 0, 0, 0, 0, 1, 1, 1, 1, 1, 1, 1, 1, 1, 1,\n",
       "       1, 0, 0, 1, 0, 0, 0, 1, 0, 1, 0, 1, 0, 0, 0, 0, 0, 0, 0, 1, 0, 0,\n",
       "       0, 1, 0, 0, 0, 0, 0, 0, 0, 0, 0, 0, 0, 0, 1, 0, 0, 0, 0, 0, 0, 0,\n",
       "       1, 0, 1, 1, 1, 0, 0, 0, 0, 0, 0, 0, 0, 0, 1, 0, 1, 0, 0, 1, 0, 0,\n",
       "       0, 0, 0, 0, 0, 0, 1, 1, 0, 0, 1, 0, 0, 0, 1, 0, 0, 0, 0, 0, 0, 0,\n",
       "       0, 0, 0, 0, 0, 0, 0, 0, 0, 0, 0, 1, 0, 0, 0, 0, 1, 1, 0, 1, 0, 1,\n",
       "       1, 1, 1, 0, 1, 0, 0, 0, 0, 0, 0, 1, 0, 1, 0, 0, 0, 0, 1, 0, 0, 0,\n",
       "       0, 0, 0, 1, 0, 0, 0, 0, 0, 0, 0, 0, 0, 0, 0, 0, 0, 0, 0, 1, 1, 1,\n",
       "       1, 0, 1, 0, 0, 0, 0, 0, 1, 0, 1, 0, 0, 0, 0, 0, 0, 0, 0, 0, 0, 0,\n",
       "       0, 0, 0, 0, 0, 0, 0, 0, 0, 1, 0, 0, 0, 0, 0, 0, 0, 0, 0, 0, 0, 0,\n",
       "       0, 0, 1, 1, 0, 0, 1, 1, 0, 0, 0, 1, 0, 0, 0, 0, 0, 0, 0, 0, 0, 1,\n",
       "       0, 0, 1, 0, 0, 0, 0, 0, 0, 0, 0, 0, 1, 1, 0, 0, 0, 1, 0, 0, 0, 0,\n",
       "       0, 1, 1, 0, 0, 0, 0, 0, 0, 0, 0, 0, 1, 0, 0, 0, 0, 0, 0, 0, 0, 0,\n",
       "       0, 0, 0, 0, 0, 1, 0, 0, 0, 0, 0, 0, 0, 0, 1, 0, 0, 0, 0, 0, 0, 0,\n",
       "       0, 0, 0, 0, 0, 0, 0, 0, 0, 0, 0, 0, 0, 0, 0, 0, 0, 0, 0, 0, 1, 0,\n",
       "       0, 0, 0, 0, 0, 0, 0, 0, 0, 0, 0, 1, 0, 0, 0, 0, 0, 0, 0, 0, 0, 1,\n",
       "       1, 1, 1, 1, 1, 0, 0, 1, 0, 1, 1, 1, 0, 1, 1, 0, 0, 0, 0, 0, 0, 0,\n",
       "       1, 0, 1, 0, 0, 0, 0, 0, 0, 0, 0, 0, 0, 0, 0, 0, 0, 0, 1, 0, 0, 0,\n",
       "       0, 0, 0, 0, 0, 0, 1, 0, 0, 0, 0, 0, 0, 0, 0, 1, 0, 1, 0, 1, 0, 0,\n",
       "       1, 0, 0, 0, 0, 0, 0, 0, 0, 1, 0, 1, 0, 0, 0, 0, 0, 1, 0, 1, 0, 0,\n",
       "       0, 0, 0, 0, 0, 0, 0, 0, 0, 0, 1, 0, 0, 0, 0, 0, 0, 1, 0, 0, 0, 0,\n",
       "       0, 0, 0, 0, 0, 0, 0, 0, 0, 0, 0, 0, 0, 0, 0, 0, 0, 0, 1, 0, 1, 1,\n",
       "       0, 0, 0, 0, 0, 1, 0, 0, 0, 0, 0, 0, 0, 0, 1, 0, 0, 1, 0, 0, 0, 0,\n",
       "       0, 1, 0, 0, 0, 0, 1, 0, 0, 1, 0, 0, 0, 0, 0, 0, 0, 0, 0, 0, 0, 0,\n",
       "       0, 1, 0, 1, 1, 0, 0, 0, 0, 0, 1, 0, 0, 0, 0, 1, 0, 0, 0, 0, 0, 1,\n",
       "       0, 1, 1, 1, 0, 0, 1, 0, 0, 1, 0, 0, 1, 1, 1, 1, 1, 1, 0, 0, 0, 0,\n",
       "       0], dtype=uint8)"
      ]
     },
     "execution_count": 13,
     "metadata": {},
     "output_type": "execute_result"
    }
   ],
   "source": [
    "# y_pred = \n",
    "pipe.predict(modis)"
   ]
  },
  {
   "cell_type": "markdown",
   "metadata": {},
   "source": [
    "Binary Clustering improved DTC model performance by a significant amount and doesn't kill our live model. We will deploy this."
   ]
  }
 ],
 "metadata": {
  "kernelspec": {
   "display_name": "Python 3",
   "language": "python",
   "name": "python3"
  },
  "language_info": {
   "codemirror_mode": {
    "name": "ipython",
    "version": 3
   },
   "file_extension": ".py",
   "mimetype": "text/x-python",
   "name": "python",
   "nbconvert_exporter": "python",
   "pygments_lexer": "ipython3",
   "version": "3.7.3"
  }
 },
 "nbformat": 4,
 "nbformat_minor": 2
}
