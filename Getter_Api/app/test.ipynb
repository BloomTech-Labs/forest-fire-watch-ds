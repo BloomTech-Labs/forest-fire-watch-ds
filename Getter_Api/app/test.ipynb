{
 "cells": [
  {
   "cell_type": "code",
   "execution_count": 1,
   "metadata": {},
   "outputs": [],
   "source": [
    "# System Imports\n",
    "import os\n",
    "import requests\n",
    "import json \n",
    "import time\n",
    "import datetime\n",
    "\n",
    "# API Tokens \n",
    "# Add api keys to Heroku config vars to access them\n",
    "# Using Openweather API\n",
    "open_weather_token = os.environ.get('WEATHER_KEY')\n",
    "\n",
    "# DS Logic imports\n",
    "import pandas as pd\n",
    "import numpy as np\n",
    "from math import radians, cos, sin, asin, sqrt\n",
    "from sklearn.cluster import DBSCAN\n",
    "from geopy.distance import great_circle\n",
    "from shapely.geometry import MultiPoint\n",
    "import feedparser"
   ]
  },
  {
   "cell_type": "code",
   "execution_count": 3,
   "metadata": {},
   "outputs": [],
   "source": [
    "def get_modis_data():\n",
    "    modis_url = \"https://firms.modaps.eosdis.nasa.gov/data/active_fire/c6/csv/MODIS_C6_USA_contiguous_and_Hawaii_24h.csv\"\n",
    "    modis_data = pd.read_csv(modis_url)\n",
    "    return modis_data\n",
    "\n",
    "def process_live_data(original_df):\n",
    "    \"\"\"\n",
    "    Pre processes live data to match pipeline expectations.\n",
    "    \"\"\"\n",
    "    print(\"process_live_data!\")\n",
    "    df = original_df.copy()\n",
    "    # process satellite labels\n",
    "    df[\"satellite\"] = df[\"satellite\"].replace({\"T\": \"Terra\", \"A\": \"Aqua\"})\n",
    "\n",
    "    # process time features\n",
    "    df[\"acq_time\"] = (df[\"acq_time\"] // 100) * 60 + (df[\"acq_time\"] % 100)\n",
    "    df[\"timestamp\"] = df.apply(\n",
    "        lambda x: datetime.datetime.strptime(x[\"acq_date\"], \"%Y-%m-%d\")\n",
    "        + datetime.timedelta(minutes=x[\"acq_time\"]),\n",
    "        axis=1,\n",
    "    )\n",
    "    # df['version'] = df['version'].apply(str)\n",
    "    df[\"month\"] = df[\"timestamp\"].dt.month\n",
    "    df[\"week\"] = df[\"timestamp\"].dt.weekofyear\n",
    "    df.drop(columns=[\"acq_date\", \"acq_time\", \"timestamp\"], inplace=True)\n",
    "\n",
    "    return df"
   ]
  },
  {
   "cell_type": "code",
   "execution_count": 13,
   "metadata": {},
   "outputs": [],
   "source": [
    "from functions import (\n",
    "    get_weather, get_modis_data, reduce_points, \n",
    "    add_weather_columns, populate_weather, label_fires,\n",
    "    process_live_data, clean_df, fires_list\n",
    "    )\n",
    "import time\n",
    "import psycopg2\n",
    "import urllib.parse as up\n",
    "import datetime\n",
    "import os\n",
    "\n",
    "import feedparser"
   ]
  },
  {
   "cell_type": "code",
   "execution_count": 6,
   "metadata": {},
   "outputs": [
    {
     "name": "stdout",
     "output_type": "stream",
     "text": [
      "process_live_data!\n"
     ]
    }
   ],
   "source": [
    "# Get the modis data\n",
    "df = get_modis_data()\n",
    "df = process_live_data(df)"
   ]
  },
  {
   "cell_type": "code",
   "execution_count": 7,
   "metadata": {},
   "outputs": [
    {
     "name": "stderr",
     "output_type": "stream",
     "text": [
      "/Users/Eric/Lambda/Labs/forest-fire-watch-ds/Getter_Api/app/functions.py:74: FutureWarning: Method .as_matrix will be removed in a future version. Use .values instead.\n",
      "  coords = df.as_matrix(columns=['lat', 'lon'])\n"
     ]
    }
   ],
   "source": [
    "# Reduce number of points\n",
    "df = reduce_points(df)\n",
    "\n",
    "# Add empty weather columns\n",
    "df = add_weather_columns(df)"
   ]
  },
  {
   "cell_type": "code",
   "execution_count": 18,
   "metadata": {},
   "outputs": [],
   "source": [
    "# Label data\n",
    "def label_fires(df):\n",
    "    # Instantiate labels list\n",
    "    labels = []\n",
    "    \n",
    "    # Get lats and lons from df\n",
    "    lats = df['lat'].tolist()\n",
    "    lons = df['lon'].tolist()\n",
    "    \n",
    "    # Pull confirmed fires\n",
    "    fires = fires_list()\n",
    "    locations = [entry['location'] for entry in fires]\n",
    "    \n",
    "    # loop data points\n",
    "    for n in range(len(lats)):\n",
    "\n",
    "        # Get position\n",
    "        lat = lats[n]\n",
    "        lon = lons[n]\n",
    "\n",
    "        # loop fires\n",
    "        for fire in locations:\n",
    "\n",
    "            # Get fire position\n",
    "            fire_lat = fire[1]\n",
    "            fire_lon = fire[0]\n",
    "\n",
    "            # Impose domain restraints on latitude\n",
    "            if -90 <= lat <= 90:\n",
    "                pass\n",
    "            else:\n",
    "                print('yee')\n",
    "            if -90 <= fire_lat <= 90:\n",
    "                pass\n",
    "            else:\n",
    "                print(fire_lat)\n",
    "\n",
    "            distance = great_circle((lat, lon), (fire_lat, fire_lon)).miles # haversine(lons[n], lats[n], fire[1], fire[0])\n",
    "            label = 0\n",
    "            if distance < 0.3:\n",
    "                label = 1\n",
    "                labels.append(label)\n",
    "                break\n",
    "            else:\n",
    "                pass\n",
    "\n",
    "        if label != 1:\n",
    "            labels.append(label)\n",
    "            \n",
    "    # append labels to df\n",
    "    labelled_df = df.copy()\n",
    "    labelled_df['fire'] = labels\n",
    "    \n",
    "    return labelled_df"
   ]
  },
  {
   "cell_type": "code",
   "execution_count": 19,
   "metadata": {},
   "outputs": [
    {
     "name": "stdout",
     "output_type": "stream",
     "text": [
      "labeling fires...\n",
      "done!\n"
     ]
    }
   ],
   "source": [
    "# Label the data\n",
    "print('labeling fires...')\n",
    "df = label_fires(df)\n",
    "print('done!')"
   ]
  },
  {
   "cell_type": "code",
   "execution_count": 21,
   "metadata": {},
   "outputs": [
    {
     "data": {
      "text/plain": [
       "[{'name': 'Martinez 3 Fire (Wildfire)', 'location': (-116.14222222222, 33.64)},\n",
       " {'name': 'Brushy Mountain/Buskirk Prescribed Burn (Prescribed Fire)',\n",
       "  'location': (-80.228888888889, 37.832777777778)},\n",
       " {'name': '2019 Malheur NF Prescribed Fire (Prescribed Fire)',\n",
       "  'location': (-118.95138888889, 44.417777777778)},\n",
       " {'name': 'Taboose Fire (Wildfire)',\n",
       "  'location': (-118.34527777778, 37.034166666667)},\n",
       " {'name': 'Ranch Fire (Wildfire)',\n",
       "  'location': (-122.60944444444, 40.040277777778)},\n",
       " {'name': 'Kaibab NF South Zone Rx Fire (Prescribed Fire)',\n",
       "  'location': (-112.19805555556, 35.290833333333)},\n",
       " {'name': 'Hillside Fire (Wildfire)',\n",
       "  'location': (-117.28527777778, 34.183333333333)},\n",
       " {'name': 'Decker Fire (Wildfire)',\n",
       "  'location': (-106.00388888889, 38.409444444444)},\n",
       " {'name': '2019 Fall Rx Burns for Flagstaff Dist. (Prescribed Fire)',\n",
       "  'location': (-111.70972222222, 35.1125)},\n",
       " {'name': 'Caples Fire (Wildfire)',\n",
       "  'location': (-120.14527777778, 38.723888888889)},\n",
       " {'name': 'San Juan NF Prescribed Fire Program (Prescribed Fire)',\n",
       "  'location': (-107.88222222222, 37.278888888889)},\n",
       " {'name': 'Middle Mamm Fire (Wildfire)',\n",
       "  'location': (-107.7875, 39.368888888889)},\n",
       " {'name': 'Molino Fire (Wildfire)', 'location': (-110.70444444444, 32.3275)},\n",
       " {'name': 'Ikes Fire (Wildfire)',\n",
       "  'location': (-112.28527777778, 36.348611111111)},\n",
       " {'name': 'Cow Creek Fire (Wildfire)',\n",
       "  'location': (-107.60138888889, 38.1125)},\n",
       " {'name': 'Slash Pile Burning 2019 (Prescribed Fire)',\n",
       "  'location': (-105.08611111111, 40.558888888889)},\n",
       " {'name': 'Kincade Fire (Wildfire)',\n",
       "  'location': (-122.76666666667, 38.796111111111)},\n",
       " {'name': 'Hunter Fire (Wildfire)',\n",
       "  'location': (-116.09694444444, 40.896666666667)},\n",
       " {'name': 'Fishhawk Fire (Wildfire)',\n",
       "  'location': (-109.88083333333, 44.376944444444)},\n",
       " {'name': 'Klamath NF Fall RX Burning (Prescribed Fire)',\n",
       "  'location': (-122.64388888889, 41.706666666667)},\n",
       " {'name': 'Red Feather Prescribed Burn (Prescribed Fire)',\n",
       "  'location': (-105.57555555556, 40.852222222222)},\n",
       " {'name': 'Middle Fire (Wildfire)',\n",
       "  'location': (-123.01388888889, 40.886944444444)},\n",
       " {'name': 'South Fire (Wildfire)',\n",
       "  'location': (-122.78888888889, 40.108888888889)},\n",
       " {'name': 'Shasta-Trinity Prescribed Fires 2019-20 (Prescribed Fire)',\n",
       "  'location': (-122.0, 41.333333333333)},\n",
       " {'name': 'Valles Caldera Fall Rx (Prescribed Fire)',\n",
       "  'location': (-106.57138888889, 35.845555555556)},\n",
       " {'name': 'Kanab Creek Rx (Prescribed Fire)',\n",
       "  'location': (-112.61972222222, 36.766944444444)},\n",
       " {'name': 'Ramshorn/SHF Lightning Fires 2019 (Wildfire)',\n",
       "  'location': (-122.63805555556, 41.063333333333)},\n",
       " {'name': '2019 Umatilla NF Prescribed Fire (Prescribed Fire)',\n",
       "  'location': (-118.87, 45.67)},\n",
       " {'name': 'Blue Creek Prescribed Burn (Prescribed Fire)',\n",
       "  'location': (-105.69472222222, 39.767777777778)},\n",
       " {'name': 'Blue Ridge Prescribed Burn (Prescribed Fire)',\n",
       "  'location': (-106.08916666667, 40.041388888889)},\n",
       " {'name': 'Sherman Prescribed Burn (Prescribed Fire)',\n",
       "  'location': (-118.75416666667, 36.582777777778)},\n",
       " {'name': 'Pine Creek Rx units F and G (Prescribed Fire)',\n",
       "  'location': (-82.681944444444, 38.724722222222)},\n",
       " {'name': 'Long Ridge SE units 1-10 (Prescribed Fire)',\n",
       "  'location': (-82.167222222222, 39.488055555556)},\n",
       " {'name': 'Museum Fire BAER (Burned Area Emergency Response)',\n",
       "  'location': (-111.64305555556, 35.257777777778)},\n",
       " {'name': 'Payette Fall Prescribed Fire 2019 (Prescribed Fire)',\n",
       "  'location': (-116.0975, 44.911111111111)},\n",
       " {'name': 'Liberty Rx (Prescribed Fire)',\n",
       "  'location': (-105.65361111111, 37.916944444444)},\n",
       " {'name': 'Wallowa-Whitman 2019 Prescribed Fire (Prescribed Fire)',\n",
       "  'location': (-117.83, 44.773055555556)},\n",
       " {'name': 'Left Hand Fire - BAER (Burned Area Emergency Response)',\n",
       "  'location': (-120.99277777778, 46.932777777778)},\n",
       " {'name': 'Newman Fire BAER Info (Burned Area Emergency Response)',\n",
       "  'location': (-111.525, 35.0225)},\n",
       " {'name': 'Woodbury Fire - BAER (Burned Area Emergency Response)',\n",
       "  'location': (-111.16583333333, 33.442777777778)}]"
      ]
     },
     "execution_count": 21,
     "metadata": {},
     "output_type": "execute_result"
    }
   ],
   "source": [
    "fires_list()"
   ]
  },
  {
   "cell_type": "code",
   "execution_count": null,
   "metadata": {},
   "outputs": [],
   "source": []
  }
 ],
 "metadata": {
  "kernelspec": {
   "display_name": "Python 3",
   "language": "python",
   "name": "python3"
  },
  "language_info": {
   "codemirror_mode": {
    "name": "ipython",
    "version": 3
   },
   "file_extension": ".py",
   "mimetype": "text/x-python",
   "name": "python",
   "nbconvert_exporter": "python",
   "pygments_lexer": "ipython3",
   "version": "3.7.3"
  }
 },
 "nbformat": 4,
 "nbformat_minor": 2
}
