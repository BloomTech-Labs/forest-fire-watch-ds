{
 "cells": [
  {
   "cell_type": "code",
   "execution_count": 6,
   "metadata": {},
   "outputs": [],
   "source": [
    "# access lat/lon coordinates from user database\n",
    "\n",
    "#SELECT location\n",
    "#FROM user_db;"
   ]
  },
  {
   "cell_type": "code",
   "execution_count": 38,
   "metadata": {},
   "outputs": [
    {
     "data": {
      "text/plain": [
       "(464, 13)"
      ]
     },
     "execution_count": 38,
     "metadata": {},
     "output_type": "execute_result"
    }
   ],
   "source": [
    "# import modis data\n",
    "\n",
    "import pandas as pd\n",
    "\n",
    "df = pd.read_csv(\"https://firms.modaps.eosdis.nasa.gov/data/active_fire/c6/csv/MODIS_C6_USA_contiguous_and_Hawaii_24h.csv\")\n",
    "df.shape"
   ]
  },
  {
   "cell_type": "code",
   "execution_count": 46,
   "metadata": {},
   "outputs": [
    {
     "data": {
      "image/png": "[encoded data removed]",
      "text/plain": [
       "<Figure size 432x288 with 1 Axes>"
      ]
     },
     "metadata": {
      "needs_background": "light"
     },
     "output_type": "display_data"
    }
   ],
   "source": [
    "import matplotlib.pyplot as plt\n",
    "\n",
    "plt.scatter(df[\"longitude\"], df[\"latitude\"])\n",
    "plt.show()"
   ]
  },
  {
   "cell_type": "code",
   "execution_count": 39,
   "metadata": {},
   "outputs": [
    {
     "data": {
      "text/plain": [
       "(52, 13)"
      ]
     },
     "execution_count": 39,
     "metadata": {},
     "output_type": "execute_result"
    }
   ],
   "source": [
    "# limit dataframe to > 90 confidence fires\n",
    "\n",
    "confident_df = df[df[\"confidence\"] > 90]\n",
    "confident_df.shape"
   ]
  },
  {
   "cell_type": "code",
   "execution_count": 40,
   "metadata": {},
   "outputs": [
    {
     "name": "stdout",
     "output_type": "stream",
     "text": [
      "52\n",
      "[1128.1395669732742, 518.6182035902089, 120.13766090172093, 120.24208718168323, 120.21830982484163, 836.7107129788578, 836.9020773138495, 850.8532416943232, 899.8460554402928, 940.9531239360725, 941.2089378227597, 947.9638687757362, 946.1823341665906, 946.3715031850888, 1783.7789232981102, 35.90412767071876, 36.01824273454101, 53.38114362982344, 1540.6871558964694, 1540.0157349912624, 1536.2523544888638, 1526.1271481311942, 1525.5290167365756, 1279.1180591738453, 1266.603895806908, 1265.9721757856648, 444.3080981812837, 1022.9118439163665, 1023.1954433806598, 1145.5239267038332, 1128.0859665485932, 1540.3381463957276, 1540.4991025637507, 120.33773377076872, 120.78192983704116, 120.28303150424641, 945.8900583867564, 1023.1288841770386, 1036.0530401539384, 1036.6413291561553, 1440.083232605979, 837.3772127938481, 946.2866491859374, 946.6161863754029, 120.23766005216874, 120.87304519700302, 1309.5554791027291, 1069.60069730568, 1069.6202362398244, 1070.3526283396536, 1076.7241496791182, 1035.6380492366281]\n"
     ]
    }
   ],
   "source": [
    "# check distance between user and active fires\n",
    "\n",
    "from geopy.distance import geodesic\n",
    "\n",
    "user_coordinates = (31.523871, -94.690719)\n",
    "\n",
    "fire_lat = confident_df[\"latitude\"].tolist()\n",
    "fire_lon = confident_df[\"longitude\"].tolist()\n",
    "\n",
    "fire_coordinates = tuple(zip(fire_lat, fire_lon))\n",
    "\n",
    "distances = []\n",
    "\n",
    "for fire in fire_coordinates:\n",
    "    distances.append(geodesic(fire, user_coordinates).miles)\n",
    "    \n",
    "print(len(distances))\n",
    "print(distances)"
   ]
  },
  {
   "cell_type": "code",
   "execution_count": 41,
   "metadata": {},
   "outputs": [
    {
     "data": {
      "text/plain": [
       "35.90412767071876"
      ]
     },
     "execution_count": 41,
     "metadata": {},
     "output_type": "execute_result"
    }
   ],
   "source": [
    "# get list of distances, sort from smallest to largest\n",
    "\n",
    "distances.sort()\n",
    "distances[0]"
   ]
  },
  {
   "cell_type": "code",
   "execution_count": 4,
   "metadata": {},
   "outputs": [],
   "source": [
    "# determine range for alerting of fire"
   ]
  },
  {
   "cell_type": "code",
   "execution_count": 5,
   "metadata": {},
   "outputs": [],
   "source": [
    "# create list of users where distance[0] < range"
   ]
  },
  {
   "cell_type": "code",
   "execution_count": null,
   "metadata": {},
   "outputs": [],
   "source": [
    "# provide this list to web folks to alert users"
   ]
  },
  {
   "cell_type": "code",
   "execution_count": null,
   "metadata": {},
   "outputs": [],
   "source": [
    "# set up to repeat process daily"
   ]
  }
 ],
 "metadata": {
  "kernelspec": {
   "display_name": "Python 3",
   "language": "python",
   "name": "python3"
  },
  "language_info": {
   "codemirror_mode": {
    "name": "ipython",
    "version": 3
   },
   "file_extension": ".py",
   "mimetype": "text/x-python",
   "name": "python",
   "nbconvert_exporter": "python",
   "pygments_lexer": "ipython3",
   "version": "3.7.3"
  }
 },
 "nbformat": 4,
 "nbformat_minor": 4
}
