{
 "cells": [
  {
   "cell_type": "code",
   "execution_count": 2,
   "metadata": {},
   "outputs": [],
   "source": [
    "import sqlite3\n",
    "\n",
    "sl_conn = sqlite3.connect('test_fire_db.sqlite3')\n",
    "sl_curs = sl_conn.cursor()"
   ]
  },
  {
   "cell_type": "code",
   "execution_count": 64,
   "metadata": {},
   "outputs": [],
   "source": [
    "# try a table representation\n",
    "# next create table in postgresql\n",
    "# make a schema\n",
    "\n",
    "create_modus_table = \"\"\"\n",
    "CREATE TABLE modus(\n",
    "    id INTEGER PRIMARY KEY,\n",
    "    latitude NUMERIC(6,3),\n",
    "    longitude NUMERIC(6,3),\n",
    "    brightness NUMERIC(4,1),\n",
    "    scan NUMERIC(2,1)\n",
    ")\n",
    "\"\"\"\n",
    "\n",
    "drop_table = \"\"\"\n",
    "DROP TABLE modus\n",
    "\"\"\""
   ]
  },
  {
   "cell_type": "code",
   "execution_count": 67,
   "metadata": {},
   "outputs": [
    {
     "data": {
      "text/plain": [
       "<sqlite3.Cursor at 0x7fafbc1b9810>"
      ]
     },
     "execution_count": 67,
     "metadata": {},
     "output_type": "execute_result"
    }
   ],
   "source": [
    "sl_curs.execute(create_modus_table)\n",
    "# drop table to reinitializie\n",
    "# sl_curs.execute(drop_table)\n",
    "# sl_curs.commit()"
   ]
  },
  {
   "cell_type": "code",
   "execution_count": 7,
   "metadata": {},
   "outputs": [],
   "source": [
    "# weird that worked...\n",
    "# now try to put in a dataframe row?\n",
    "import pandas as pd\n",
    "\n",
    "url = 'https://firms.modaps.eosdis.nasa.gov/data/active_fire/c6/csv/MODIS_C6_USA_contiguous_and_Hawaii_24h.csv'\n",
    "df = pd.read_csv(url)"
   ]
  },
  {
   "cell_type": "code",
   "execution_count": 8,
   "metadata": {},
   "outputs": [
    {
     "data": {
      "text/html": [
       "<div>\n",
       "<style scoped>\n",
       "    .dataframe tbody tr th:only-of-type {\n",
       "        vertical-align: middle;\n",
       "    }\n",
       "\n",
       "    .dataframe tbody tr th {\n",
       "        vertical-align: top;\n",
       "    }\n",
       "\n",
       "    .dataframe thead th {\n",
       "        text-align: right;\n",
       "    }\n",
       "</style>\n",
       "<table border=\"1\" class=\"dataframe\">\n",
       "  <thead>\n",
       "    <tr style=\"text-align: right;\">\n",
       "      <th></th>\n",
       "      <th>latitude</th>\n",
       "      <th>longitude</th>\n",
       "      <th>brightness</th>\n",
       "      <th>scan</th>\n",
       "      <th>track</th>\n",
       "      <th>acq_date</th>\n",
       "      <th>acq_time</th>\n",
       "      <th>satellite</th>\n",
       "      <th>confidence</th>\n",
       "      <th>version</th>\n",
       "      <th>bright_t31</th>\n",
       "      <th>frp</th>\n",
       "      <th>daynight</th>\n",
       "    </tr>\n",
       "  </thead>\n",
       "  <tbody>\n",
       "    <tr>\n",
       "      <th>0</th>\n",
       "      <td>18.924</td>\n",
       "      <td>-70.361</td>\n",
       "      <td>301.3</td>\n",
       "      <td>2.2</td>\n",
       "      <td>1.4</td>\n",
       "      <td>2019-09-02</td>\n",
       "      <td>325</td>\n",
       "      <td>T</td>\n",
       "      <td>40</td>\n",
       "      <td>6.0NRT</td>\n",
       "      <td>290.6</td>\n",
       "      <td>10.2</td>\n",
       "      <td>N</td>\n",
       "    </tr>\n",
       "    <tr>\n",
       "      <th>1</th>\n",
       "      <td>33.021</td>\n",
       "      <td>-86.008</td>\n",
       "      <td>313.4</td>\n",
       "      <td>1.6</td>\n",
       "      <td>1.2</td>\n",
       "      <td>2019-09-02</td>\n",
       "      <td>330</td>\n",
       "      <td>T</td>\n",
       "      <td>87</td>\n",
       "      <td>6.0NRT</td>\n",
       "      <td>290.0</td>\n",
       "      <td>23.4</td>\n",
       "      <td>N</td>\n",
       "    </tr>\n",
       "    <tr>\n",
       "      <th>2</th>\n",
       "      <td>33.024</td>\n",
       "      <td>-85.998</td>\n",
       "      <td>308.2</td>\n",
       "      <td>1.6</td>\n",
       "      <td>1.2</td>\n",
       "      <td>2019-09-02</td>\n",
       "      <td>330</td>\n",
       "      <td>T</td>\n",
       "      <td>74</td>\n",
       "      <td>6.0NRT</td>\n",
       "      <td>290.4</td>\n",
       "      <td>15.6</td>\n",
       "      <td>N</td>\n",
       "    </tr>\n",
       "    <tr>\n",
       "      <th>3</th>\n",
       "      <td>33.021</td>\n",
       "      <td>-86.014</td>\n",
       "      <td>305.5</td>\n",
       "      <td>1.6</td>\n",
       "      <td>1.2</td>\n",
       "      <td>2019-09-02</td>\n",
       "      <td>330</td>\n",
       "      <td>T</td>\n",
       "      <td>64</td>\n",
       "      <td>6.0NRT</td>\n",
       "      <td>290.1</td>\n",
       "      <td>12.1</td>\n",
       "      <td>N</td>\n",
       "    </tr>\n",
       "    <tr>\n",
       "      <th>4</th>\n",
       "      <td>37.238</td>\n",
       "      <td>-82.041</td>\n",
       "      <td>300.6</td>\n",
       "      <td>1.0</td>\n",
       "      <td>1.0</td>\n",
       "      <td>2019-09-02</td>\n",
       "      <td>330</td>\n",
       "      <td>T</td>\n",
       "      <td>30</td>\n",
       "      <td>6.0NRT</td>\n",
       "      <td>288.7</td>\n",
       "      <td>4.5</td>\n",
       "      <td>N</td>\n",
       "    </tr>\n",
       "  </tbody>\n",
       "</table>\n",
       "</div>"
      ],
      "text/plain": [
       "   latitude  longitude  brightness  scan  track    acq_date  acq_time  \\\n",
       "0    18.924    -70.361       301.3   2.2    1.4  2019-09-02       325   \n",
       "1    33.021    -86.008       313.4   1.6    1.2  2019-09-02       330   \n",
       "2    33.024    -85.998       308.2   1.6    1.2  2019-09-02       330   \n",
       "3    33.021    -86.014       305.5   1.6    1.2  2019-09-02       330   \n",
       "4    37.238    -82.041       300.6   1.0    1.0  2019-09-02       330   \n",
       "\n",
       "  satellite  confidence version  bright_t31   frp daynight  \n",
       "0         T          40  6.0NRT       290.6  10.2        N  \n",
       "1         T          87  6.0NRT       290.0  23.4        N  \n",
       "2         T          74  6.0NRT       290.4  15.6        N  \n",
       "3         T          64  6.0NRT       290.1  12.1        N  \n",
       "4         T          30  6.0NRT       288.7   4.5        N  "
      ]
     },
     "execution_count": 8,
     "metadata": {},
     "output_type": "execute_result"
    }
   ],
   "source": [
    "df.head()"
   ]
  },
  {
   "cell_type": "code",
   "execution_count": 27,
   "metadata": {},
   "outputs": [
    {
     "data": {
      "text/plain": [
       "latitude      18.924\n",
       "longitude    -70.361\n",
       "brightness     301.3\n",
       "scan             2.2\n",
       "Name: 0, dtype: object"
      ]
     },
     "execution_count": 27,
     "metadata": {},
     "output_type": "execute_result"
    }
   ],
   "source": [
    "df.loc[0, target_columns]"
   ]
  },
  {
   "cell_type": "code",
   "execution_count": 58,
   "metadata": {},
   "outputs": [
    {
     "data": {
      "text/plain": [
       "(18.924, -70.361, 301.3, 2.2)"
      ]
     },
     "execution_count": 58,
     "metadata": {},
     "output_type": "execute_result"
    }
   ],
   "source": [
    "target_columns = ['latitude', 'longitude', 'brightness', 'scan']\n",
    "\n",
    "insert1 = tuple(x for x in df.loc[0, target_columns])\n",
    "\n",
    "# for x in df.loc[0, target_columns]:\n",
    "#     print(x)\n",
    "insert1"
   ]
  },
  {
   "cell_type": "code",
   "execution_count": 70,
   "metadata": {},
   "outputs": [
    {
     "data": {
      "text/plain": [
       "'\\n    INSERT INTO modus (latitude, longitude, brightness, scan)\\n    VALUES (18.924, -70.361, 301.3, 2.2)'"
      ]
     },
     "execution_count": 70,
     "metadata": {},
     "output_type": "execute_result"
    }
   ],
   "source": [
    "attempted_insert = \"\"\"\n",
    "    INSERT INTO modus (latitude, longitude, brightness, scan)\n",
    "    VALUES \"\"\"+ str(insert1)\n",
    "attempted_insert"
   ]
  },
  {
   "cell_type": "code",
   "execution_count": 72,
   "metadata": {},
   "outputs": [
    {
     "data": {
      "text/plain": [
       "<sqlite3.Cursor at 0x7fafbc1b9810>"
      ]
     },
     "execution_count": 72,
     "metadata": {},
     "output_type": "execute_result"
    }
   ],
   "source": [
    "# test the insert\n",
    "sl_curs.execute(attempted_insert)"
   ]
  },
  {
   "cell_type": "code",
   "execution_count": 84,
   "metadata": {},
   "outputs": [
    {
     "data": {
      "text/plain": [
       "<sqlite3.Cursor at 0x7fafbc1b9810>"
      ]
     },
     "execution_count": 84,
     "metadata": {},
     "output_type": "execute_result"
    }
   ],
   "source": [
    "sl_curs.execute(\"SELECT * FROM modus\")"
   ]
  },
  {
   "cell_type": "code",
   "execution_count": 85,
   "metadata": {},
   "outputs": [],
   "source": [
    "rows = sl_curs.fetchall()\n",
    " \n",
    "for row in rows:\n",
    "    print(row)"
   ]
  },
  {
   "cell_type": "code",
   "execution_count": 86,
   "metadata": {},
   "outputs": [],
   "source": [
    "# # reset db, don't do this at home\n",
    "# sl_curs.execute(\"\"\"\n",
    "# DELETE FROM modus \n",
    "# \"\"\")"
   ]
  },
  {
   "cell_type": "code",
   "execution_count": 96,
   "metadata": {},
   "outputs": [],
   "source": [
    "# now I will load our entire dataframe into the sqlite3 db\n",
    "for row in df[target_columns].values:\n",
    "    attempted_insert = \"\"\"\n",
    "    INSERT INTO modus (latitude, longitude, brightness, scan)\n",
    "    VALUES \"\"\"+ str(tuple(row))\n",
    "    sl_curs.execute(attempted_insert)"
   ]
  },
  {
   "cell_type": "code",
   "execution_count": 100,
   "metadata": {},
   "outputs": [
    {
     "name": "stdout",
     "output_type": "stream",
     "text": [
      "(1, 18.924, -70.361, 301.3, 2.2)\n",
      "(2, 33.021, -86.008, 313.4, 1.6)\n",
      "(3, 33.024, -85.99799999999999, 308.2, 1.6)\n",
      "(4, 33.021, -86.014, 305.5, 1.6)\n",
      "(5, 37.238, -82.041, 300.6, 1)\n",
      "(6, 36.804, -84.78299999999999, 304.9, 1.2)\n",
      "(7, 43.519, -89.29299999999999, 300.5, 1.4)\n",
      "(8, 41.901, -96.321, 303, 3.9)\n",
      "(9, 42.294, -106.87100000000001, 321.2, 1)\n",
      "(10, 42.292, -106.883, 332.4, 1)\n"
     ]
    }
   ],
   "source": [
    "# check results\n",
    "sl_curs.execute(\"SELECT * FROM modus LIMIT 10\")\n",
    "rows = sl_curs.fetchall()\n",
    " \n",
    "for row in rows:\n",
    "    print(row)"
   ]
  },
  {
   "cell_type": "code",
   "execution_count": null,
   "metadata": {},
   "outputs": [],
   "source": []
  }
 ],
 "metadata": {
  "kernelspec": {
   "display_name": "Python 3",
   "language": "python",
   "name": "python3"
  },
  "language_info": {
   "codemirror_mode": {
    "name": "ipython",
    "version": 3
   },
   "file_extension": ".py",
   "mimetype": "text/x-python",
   "name": "python",
   "nbconvert_exporter": "python",
   "pygments_lexer": "ipython3",
   "version": "3.7.3"
  }
 },
 "nbformat": 4,
 "nbformat_minor": 2
}
