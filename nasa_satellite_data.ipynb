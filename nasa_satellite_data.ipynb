{
 "cells": [
  {
   "cell_type": "code",
   "execution_count": 1,
   "metadata": {},
   "outputs": [],
   "source": [
    "import pandas as pd\n",
    "import numpy as np"
   ]
  },
  {
   "cell_type": "code",
   "execution_count": 2,
   "metadata": {},
   "outputs": [],
   "source": [
    "viirs_url = 'https://firms.modaps.eosdis.nasa.gov/data/active_fire/viirs/csv/VNP14IMGTDL_NRT_USA_contiguous_and_Hawaii_24h.csv'\n",
    "modis_url = 'https://firms.modaps.eosdis.nasa.gov/data/active_fire/c6/csv/MODIS_C6_USA_contiguous_and_Hawaii_24h.csv'"
   ]
  },
  {
   "cell_type": "code",
   "execution_count": 4,
   "metadata": {},
   "outputs": [],
   "source": [
    "v_df = pd.read_csv(viirs_url, sep=',')"
   ]
  },
  {
   "cell_type": "code",
   "execution_count": 5,
   "metadata": {},
   "outputs": [
    {
     "data": {
      "text/html": [
       "<div>\n",
       "<style scoped>\n",
       "    .dataframe tbody tr th:only-of-type {\n",
       "        vertical-align: middle;\n",
       "    }\n",
       "\n",
       "    .dataframe tbody tr th {\n",
       "        vertical-align: top;\n",
       "    }\n",
       "\n",
       "    .dataframe thead th {\n",
       "        text-align: right;\n",
       "    }\n",
       "</style>\n",
       "<table border=\"1\" class=\"dataframe\">\n",
       "  <thead>\n",
       "    <tr style=\"text-align: right;\">\n",
       "      <th></th>\n",
       "      <th>latitude</th>\n",
       "      <th>longitude</th>\n",
       "      <th>bright_ti4</th>\n",
       "      <th>scan</th>\n",
       "      <th>track</th>\n",
       "      <th>acq_date</th>\n",
       "      <th>acq_time</th>\n",
       "      <th>satellite</th>\n",
       "      <th>confidence</th>\n",
       "      <th>version</th>\n",
       "      <th>bright_ti5</th>\n",
       "      <th>frp</th>\n",
       "      <th>daynight</th>\n",
       "    </tr>\n",
       "  </thead>\n",
       "  <tbody>\n",
       "    <tr>\n",
       "      <th>0</th>\n",
       "      <td>22.95622</td>\n",
       "      <td>-81.00756</td>\n",
       "      <td>306.3</td>\n",
       "      <td>0.46</td>\n",
       "      <td>0.64</td>\n",
       "      <td>2019-08-14</td>\n",
       "      <td>618</td>\n",
       "      <td>N</td>\n",
       "      <td>nominal</td>\n",
       "      <td>1.0NRT</td>\n",
       "      <td>285.4</td>\n",
       "      <td>1.2</td>\n",
       "      <td>N</td>\n",
       "    </tr>\n",
       "    <tr>\n",
       "      <th>1</th>\n",
       "      <td>21.81250</td>\n",
       "      <td>-72.29272</td>\n",
       "      <td>316.0</td>\n",
       "      <td>0.42</td>\n",
       "      <td>0.38</td>\n",
       "      <td>2019-08-14</td>\n",
       "      <td>618</td>\n",
       "      <td>N</td>\n",
       "      <td>nominal</td>\n",
       "      <td>1.0NRT</td>\n",
       "      <td>294.3</td>\n",
       "      <td>4.9</td>\n",
       "      <td>N</td>\n",
       "    </tr>\n",
       "    <tr>\n",
       "      <th>2</th>\n",
       "      <td>20.14683</td>\n",
       "      <td>-75.89905</td>\n",
       "      <td>317.9</td>\n",
       "      <td>0.40</td>\n",
       "      <td>0.45</td>\n",
       "      <td>2019-08-14</td>\n",
       "      <td>618</td>\n",
       "      <td>N</td>\n",
       "      <td>nominal</td>\n",
       "      <td>1.0NRT</td>\n",
       "      <td>290.9</td>\n",
       "      <td>1.4</td>\n",
       "      <td>N</td>\n",
       "    </tr>\n",
       "    <tr>\n",
       "      <th>3</th>\n",
       "      <td>18.60232</td>\n",
       "      <td>-70.97865</td>\n",
       "      <td>313.1</td>\n",
       "      <td>0.38</td>\n",
       "      <td>0.36</td>\n",
       "      <td>2019-08-14</td>\n",
       "      <td>618</td>\n",
       "      <td>N</td>\n",
       "      <td>nominal</td>\n",
       "      <td>1.0NRT</td>\n",
       "      <td>292.2</td>\n",
       "      <td>0.9</td>\n",
       "      <td>N</td>\n",
       "    </tr>\n",
       "    <tr>\n",
       "      <th>4</th>\n",
       "      <td>18.52915</td>\n",
       "      <td>-72.59291</td>\n",
       "      <td>308.9</td>\n",
       "      <td>0.41</td>\n",
       "      <td>0.37</td>\n",
       "      <td>2019-08-14</td>\n",
       "      <td>618</td>\n",
       "      <td>N</td>\n",
       "      <td>nominal</td>\n",
       "      <td>1.0NRT</td>\n",
       "      <td>293.8</td>\n",
       "      <td>1.1</td>\n",
       "      <td>N</td>\n",
       "    </tr>\n",
       "  </tbody>\n",
       "</table>\n",
       "</div>"
      ],
      "text/plain": [
       "   latitude  longitude  bright_ti4  scan  track    acq_date  acq_time  \\\n",
       "0  22.95622  -81.00756       306.3  0.46   0.64  2019-08-14       618   \n",
       "1  21.81250  -72.29272       316.0  0.42   0.38  2019-08-14       618   \n",
       "2  20.14683  -75.89905       317.9  0.40   0.45  2019-08-14       618   \n",
       "3  18.60232  -70.97865       313.1  0.38   0.36  2019-08-14       618   \n",
       "4  18.52915  -72.59291       308.9  0.41   0.37  2019-08-14       618   \n",
       "\n",
       "  satellite confidence version  bright_ti5  frp daynight  \n",
       "0         N    nominal  1.0NRT       285.4  1.2        N  \n",
       "1         N    nominal  1.0NRT       294.3  4.9        N  \n",
       "2         N    nominal  1.0NRT       290.9  1.4        N  \n",
       "3         N    nominal  1.0NRT       292.2  0.9        N  \n",
       "4         N    nominal  1.0NRT       293.8  1.1        N  "
      ]
     },
     "execution_count": 5,
     "metadata": {},
     "output_type": "execute_result"
    }
   ],
   "source": [
    "v_df.head()"
   ]
  },
  {
   "cell_type": "code",
   "execution_count": 30,
   "metadata": {},
   "outputs": [
    {
     "data": {
      "image/png": "[encoded data removed]",
      "text/plain": [
       "<Figure size 432x288 with 1 Axes>"
      ]
     },
     "metadata": {
      "needs_background": "light"
     },
     "output_type": "display_data"
    }
   ],
   "source": [
    "v_df[v_df['confidence'] == 'high'].plot(x='longitude', y='latitude', style='rx');"
   ]
  },
  {
   "cell_type": "code",
   "execution_count": 18,
   "metadata": {},
   "outputs": [
    {
     "data": {
      "text/plain": [
       "nominal    2611\n",
       "low          90\n",
       "high         41\n",
       "Name: confidence, dtype: int64"
      ]
     },
     "execution_count": 18,
     "metadata": {},
     "output_type": "execute_result"
    }
   ],
   "source": [
    "v_df['confidence'].value_counts()"
   ]
  },
  {
   "cell_type": "code",
   "execution_count": 22,
   "metadata": {},
   "outputs": [],
   "source": [
    "m_df = pd.read_csv(modis_url, sep=',')"
   ]
  },
  {
   "cell_type": "code",
   "execution_count": 23,
   "metadata": {},
   "outputs": [
    {
     "data": {
      "text/html": [
       "<div>\n",
       "<style scoped>\n",
       "    .dataframe tbody tr th:only-of-type {\n",
       "        vertical-align: middle;\n",
       "    }\n",
       "\n",
       "    .dataframe tbody tr th {\n",
       "        vertical-align: top;\n",
       "    }\n",
       "\n",
       "    .dataframe thead th {\n",
       "        text-align: right;\n",
       "    }\n",
       "</style>\n",
       "<table border=\"1\" class=\"dataframe\">\n",
       "  <thead>\n",
       "    <tr style=\"text-align: right;\">\n",
       "      <th></th>\n",
       "      <th>latitude</th>\n",
       "      <th>longitude</th>\n",
       "      <th>brightness</th>\n",
       "      <th>scan</th>\n",
       "      <th>track</th>\n",
       "      <th>acq_date</th>\n",
       "      <th>acq_time</th>\n",
       "      <th>satellite</th>\n",
       "      <th>confidence</th>\n",
       "      <th>version</th>\n",
       "      <th>bright_t31</th>\n",
       "      <th>frp</th>\n",
       "      <th>daynight</th>\n",
       "    </tr>\n",
       "  </thead>\n",
       "  <tbody>\n",
       "    <tr>\n",
       "      <th>0</th>\n",
       "      <td>17.599</td>\n",
       "      <td>-88.307</td>\n",
       "      <td>336.1</td>\n",
       "      <td>1.8</td>\n",
       "      <td>1.3</td>\n",
       "      <td>2019-08-14</td>\n",
       "      <td>430</td>\n",
       "      <td>T</td>\n",
       "      <td>100</td>\n",
       "      <td>6.0NRT</td>\n",
       "      <td>296.5</td>\n",
       "      <td>77.6</td>\n",
       "      <td>N</td>\n",
       "    </tr>\n",
       "    <tr>\n",
       "      <th>1</th>\n",
       "      <td>17.597</td>\n",
       "      <td>-88.324</td>\n",
       "      <td>320.3</td>\n",
       "      <td>1.8</td>\n",
       "      <td>1.3</td>\n",
       "      <td>2019-08-14</td>\n",
       "      <td>430</td>\n",
       "      <td>T</td>\n",
       "      <td>100</td>\n",
       "      <td>6.0NRT</td>\n",
       "      <td>295.8</td>\n",
       "      <td>32.3</td>\n",
       "      <td>N</td>\n",
       "    </tr>\n",
       "    <tr>\n",
       "      <th>2</th>\n",
       "      <td>18.038</td>\n",
       "      <td>-88.255</td>\n",
       "      <td>309.5</td>\n",
       "      <td>1.8</td>\n",
       "      <td>1.3</td>\n",
       "      <td>2019-08-14</td>\n",
       "      <td>430</td>\n",
       "      <td>T</td>\n",
       "      <td>76</td>\n",
       "      <td>6.0NRT</td>\n",
       "      <td>294.7</td>\n",
       "      <td>16.4</td>\n",
       "      <td>N</td>\n",
       "    </tr>\n",
       "    <tr>\n",
       "      <th>3</th>\n",
       "      <td>17.893</td>\n",
       "      <td>-92.492</td>\n",
       "      <td>321.7</td>\n",
       "      <td>1.0</td>\n",
       "      <td>1.0</td>\n",
       "      <td>2019-08-14</td>\n",
       "      <td>435</td>\n",
       "      <td>T</td>\n",
       "      <td>100</td>\n",
       "      <td>6.0NRT</td>\n",
       "      <td>286.4</td>\n",
       "      <td>19.7</td>\n",
       "      <td>N</td>\n",
       "    </tr>\n",
       "    <tr>\n",
       "      <th>4</th>\n",
       "      <td>17.835</td>\n",
       "      <td>-93.121</td>\n",
       "      <td>307.8</td>\n",
       "      <td>1.0</td>\n",
       "      <td>1.0</td>\n",
       "      <td>2019-08-14</td>\n",
       "      <td>435</td>\n",
       "      <td>T</td>\n",
       "      <td>68</td>\n",
       "      <td>6.0NRT</td>\n",
       "      <td>294.8</td>\n",
       "      <td>5.1</td>\n",
       "      <td>N</td>\n",
       "    </tr>\n",
       "  </tbody>\n",
       "</table>\n",
       "</div>"
      ],
      "text/plain": [
       "   latitude  longitude  brightness  scan  track    acq_date  acq_time  \\\n",
       "0    17.599    -88.307       336.1   1.8    1.3  2019-08-14       430   \n",
       "1    17.597    -88.324       320.3   1.8    1.3  2019-08-14       430   \n",
       "2    18.038    -88.255       309.5   1.8    1.3  2019-08-14       430   \n",
       "3    17.893    -92.492       321.7   1.0    1.0  2019-08-14       435   \n",
       "4    17.835    -93.121       307.8   1.0    1.0  2019-08-14       435   \n",
       "\n",
       "  satellite  confidence version  bright_t31   frp daynight  \n",
       "0         T         100  6.0NRT       296.5  77.6        N  \n",
       "1         T         100  6.0NRT       295.8  32.3        N  \n",
       "2         T          76  6.0NRT       294.7  16.4        N  \n",
       "3         T         100  6.0NRT       286.4  19.7        N  \n",
       "4         T          68  6.0NRT       294.8   5.1        N  "
      ]
     },
     "execution_count": 23,
     "metadata": {},
     "output_type": "execute_result"
    }
   ],
   "source": [
    "m_df.head()"
   ]
  },
  {
   "cell_type": "code",
   "execution_count": 38,
   "metadata": {},
   "outputs": [
    {
     "data": {
      "image/png": "[encoded data removed]",
      "text/plain": [
       "<Figure size 432x288 with 1 Axes>"
      ]
     },
     "metadata": {
      "needs_background": "light"
     },
     "output_type": "display_data"
    }
   ],
   "source": [
    "m_df.loc[m_df['confidence'] > 75].plot(x='longitude', y='latitude', style='rx');"
   ]
  },
  {
   "cell_type": "code",
   "execution_count": null,
   "metadata": {},
   "outputs": [],
   "source": []
  }
 ],
 "metadata": {
  "kernelspec": {
   "display_name": "Python 3",
   "language": "python",
   "name": "python3"
  },
  "language_info": {
   "codemirror_mode": {
    "name": "ipython",
    "version": 3
   },
   "file_extension": ".py",
   "mimetype": "text/x-python",
   "name": "python",
   "nbconvert_exporter": "python",
   "pygments_lexer": "ipython3",
   "version": "3.7.3"
  }
 },
 "nbformat": 4,
 "nbformat_minor": 2
}
