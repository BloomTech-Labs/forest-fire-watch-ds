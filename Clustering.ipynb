{
 "cells": [
  {
   "cell_type": "code",
   "execution_count": 28,
   "metadata": {},
   "outputs": [
    {
     "data": {
      "text/plain": [
       "(2540268, 14)"
      ]
     },
     "execution_count": 28,
     "metadata": {},
     "output_type": "execute_result"
    }
   ],
   "source": [
    "import pandas as pd\n",
    "import numpy as np\n",
    "\n",
    "import warnings\n",
    "import psutil, os\n",
    "warnings.filterwarnings('ignore')\n",
    "\n",
    "X = pd.read_pickle('labeled_mh_r1.pkl')\n",
    "X.shape"
   ]
  },
  {
   "cell_type": "code",
   "execution_count": 29,
   "metadata": {},
   "outputs": [
    {
     "data": {
      "text/plain": [
       "(254027, 14)"
      ]
     },
     "execution_count": 29,
     "metadata": {},
     "output_type": "execute_result"
    }
   ],
   "source": [
    "# get a sample of ten percent of the data\n",
    "\n",
    "X_sample = X.sample(frac=.1, random_state=37)\n",
    "X_sample.shape"
   ]
  },
  {
   "cell_type": "code",
   "execution_count": 36,
   "metadata": {},
   "outputs": [],
   "source": [
    "# going to only cluster lat/long values\n",
    "\n",
    "coords = X_sample[[\"latitude\", \"longitude\"]]"
   ]
  },
  {
   "cell_type": "code",
   "execution_count": 37,
   "metadata": {},
   "outputs": [
    {
     "data": {
      "text/html": [
       "<div>\n",
       "<style scoped>\n",
       "    .dataframe tbody tr th:only-of-type {\n",
       "        vertical-align: middle;\n",
       "    }\n",
       "\n",
       "    .dataframe tbody tr th {\n",
       "        vertical-align: top;\n",
       "    }\n",
       "\n",
       "    .dataframe thead th {\n",
       "        text-align: right;\n",
       "    }\n",
       "</style>\n",
       "<table border=\"1\" class=\"dataframe\">\n",
       "  <thead>\n",
       "    <tr style=\"text-align: right;\">\n",
       "      <th></th>\n",
       "      <th>latitude</th>\n",
       "      <th>longitude</th>\n",
       "    </tr>\n",
       "  </thead>\n",
       "  <tbody>\n",
       "    <tr>\n",
       "      <th>284501</th>\n",
       "      <td>44.405499</td>\n",
       "      <td>-121.777298</td>\n",
       "    </tr>\n",
       "    <tr>\n",
       "      <th>189876</th>\n",
       "      <td>38.113899</td>\n",
       "      <td>-96.793297</td>\n",
       "    </tr>\n",
       "    <tr>\n",
       "      <th>2367015</th>\n",
       "      <td>64.370796</td>\n",
       "      <td>-155.065094</td>\n",
       "    </tr>\n",
       "    <tr>\n",
       "      <th>1195401</th>\n",
       "      <td>29.773001</td>\n",
       "      <td>-90.734596</td>\n",
       "    </tr>\n",
       "    <tr>\n",
       "      <th>892436</th>\n",
       "      <td>39.016800</td>\n",
       "      <td>-97.508598</td>\n",
       "    </tr>\n",
       "  </tbody>\n",
       "</table>\n",
       "</div>"
      ],
      "text/plain": [
       "          latitude   longitude\n",
       "284501   44.405499 -121.777298\n",
       "189876   38.113899  -96.793297\n",
       "2367015  64.370796 -155.065094\n",
       "1195401  29.773001  -90.734596\n",
       "892436   39.016800  -97.508598"
      ]
     },
     "execution_count": 37,
     "metadata": {},
     "output_type": "execute_result"
    }
   ],
   "source": [
    "coords.head()"
   ]
  },
  {
   "cell_type": "code",
   "execution_count": 8,
   "metadata": {},
   "outputs": [
    {
     "name": "stdout",
     "output_type": "stream",
     "text": [
      "Requirement already satisfied: hdbscan in /Users/ljohnson/anaconda3/lib/python3.7/site-packages (0.8.22)\n",
      "Requirement already satisfied: scikit-learn>=0.17 in /Users/ljohnson/anaconda3/lib/python3.7/site-packages (from hdbscan) (0.20.3)\n",
      "Requirement already satisfied: scipy>=0.9 in /Users/ljohnson/anaconda3/lib/python3.7/site-packages (from hdbscan) (1.2.1)\n",
      "Requirement already satisfied: joblib in /Users/ljohnson/anaconda3/lib/python3.7/site-packages (from hdbscan) (0.8.4)\n",
      "Requirement already satisfied: numpy>=1.16.0 in /Users/ljohnson/anaconda3/lib/python3.7/site-packages (from hdbscan) (1.16.2)\n",
      "Requirement already satisfied: cython>=0.27 in /Users/ljohnson/anaconda3/lib/python3.7/site-packages (from hdbscan) (0.29.6)\n"
     ]
    }
   ],
   "source": [
    "!pip install hdbscan"
   ]
  },
  {
   "cell_type": "code",
   "execution_count": 38,
   "metadata": {},
   "outputs": [
    {
     "data": {
      "text/plain": [
       "HDBSCAN(algorithm='best', allow_single_cluster=False, alpha=1.0,\n",
       "    approx_min_span_tree=True, cluster_selection_method='eom',\n",
       "    core_dist_n_jobs=4, gen_min_span_tree=True, leaf_size=40,\n",
       "    match_reference_implementation=False, memory=Memory(cachedir=None),\n",
       "    metric='euclidean', min_cluster_size=50, min_samples=20, p=None,\n",
       "    prediction_data=False)"
      ]
     },
     "execution_count": 38,
     "metadata": {},
     "output_type": "execute_result"
    }
   ],
   "source": [
    "# hdbscan\n",
    "\n",
    "import hdbscan\n",
    "\n",
    "clusterer = hdbscan.HDBSCAN(min_cluster_size=50, min_samples=20, gen_min_span_tree=True)\n",
    "clusterer.fit(coords)"
   ]
  },
  {
   "cell_type": "code",
   "execution_count": 39,
   "metadata": {},
   "outputs": [
    {
     "name": "stdout",
     "output_type": "stream",
     "text": [
      "Estimated number of clusters: 930\n",
      "Estimated number of noise points: 82312\n"
     ]
    }
   ],
   "source": [
    "labels = clusterer.labels_\n",
    "\n",
    "# Number of clusters in labels, ignoring noise if present.\n",
    "n_clusters_ = len(set(labels)) - (1 if -1 in labels else 0)\n",
    "n_noise_ = list(labels).count(-1)\n",
    "\n",
    "print('Estimated number of clusters: %d' % n_clusters_)\n",
    "print('Estimated number of noise points: %d' % n_noise_)"
   ]
  },
  {
   "cell_type": "code",
   "execution_count": 40,
   "metadata": {},
   "outputs": [],
   "source": [
    "# add column of cluster labels to dataframe\n",
    "\n",
    "coords['clusters'] = clusterer.labels_"
   ]
  },
  {
   "cell_type": "code",
   "execution_count": 41,
   "metadata": {},
   "outputs": [
    {
     "data": {
      "text/html": [
       "<div>\n",
       "<style scoped>\n",
       "    .dataframe tbody tr th:only-of-type {\n",
       "        vertical-align: middle;\n",
       "    }\n",
       "\n",
       "    .dataframe tbody tr th {\n",
       "        vertical-align: top;\n",
       "    }\n",
       "\n",
       "    .dataframe thead th {\n",
       "        text-align: right;\n",
       "    }\n",
       "</style>\n",
       "<table border=\"1\" class=\"dataframe\">\n",
       "  <thead>\n",
       "    <tr style=\"text-align: right;\">\n",
       "      <th></th>\n",
       "      <th>latitude</th>\n",
       "      <th>longitude</th>\n",
       "      <th>clusters</th>\n",
       "    </tr>\n",
       "  </thead>\n",
       "  <tbody>\n",
       "    <tr>\n",
       "      <th>284501</th>\n",
       "      <td>44.405499</td>\n",
       "      <td>-121.777298</td>\n",
       "      <td>534</td>\n",
       "    </tr>\n",
       "    <tr>\n",
       "      <th>189876</th>\n",
       "      <td>38.113899</td>\n",
       "      <td>-96.793297</td>\n",
       "      <td>-1</td>\n",
       "    </tr>\n",
       "    <tr>\n",
       "      <th>2367015</th>\n",
       "      <td>64.370796</td>\n",
       "      <td>-155.065094</td>\n",
       "      <td>73</td>\n",
       "    </tr>\n",
       "    <tr>\n",
       "      <th>1195401</th>\n",
       "      <td>29.773001</td>\n",
       "      <td>-90.734596</td>\n",
       "      <td>-1</td>\n",
       "    </tr>\n",
       "    <tr>\n",
       "      <th>892436</th>\n",
       "      <td>39.016800</td>\n",
       "      <td>-97.508598</td>\n",
       "      <td>774</td>\n",
       "    </tr>\n",
       "  </tbody>\n",
       "</table>\n",
       "</div>"
      ],
      "text/plain": [
       "          latitude   longitude  clusters\n",
       "284501   44.405499 -121.777298       534\n",
       "189876   38.113899  -96.793297        -1\n",
       "2367015  64.370796 -155.065094        73\n",
       "1195401  29.773001  -90.734596        -1\n",
       "892436   39.016800  -97.508598       774"
      ]
     },
     "execution_count": 41,
     "metadata": {},
     "output_type": "execute_result"
    }
   ],
   "source": [
    "coords.head()"
   ]
  },
  {
   "cell_type": "code",
   "execution_count": 55,
   "metadata": {},
   "outputs": [
    {
     "data": {
      "image/png": "[encoded data removed]",
      "text/plain": [
       "<Figure size 432x288 with 1 Axes>"
      ]
     },
     "metadata": {
      "needs_background": "light"
     },
     "output_type": "display_data"
    }
   ],
   "source": [
    "# attempting to visualize our clusters\n",
    "\n",
    "import matplotlib.pyplot as plt\n",
    "\n",
    "plt.scatter(coords[\"longitude\"], coords[\"latitude\"], alpha=.5, marker=',', c=coords[\"clusters\"])\n",
    "plt.show()"
   ]
  },
  {
   "cell_type": "code",
   "execution_count": 72,
   "metadata": {},
   "outputs": [
    {
     "data": {
      "image/png": "[encoded data removed]",
      "text/plain": [
       "<Figure size 432x288 with 1 Axes>"
      ]
     },
     "metadata": {
      "needs_background": "light"
     },
     "output_type": "display_data"
    }
   ],
   "source": [
    "import seaborn as sns\n",
    "\n",
    "ax = sns.scatterplot(x=\"longitude\", y=\"latitude\", hue=\"clusters\", \n",
    "                     data=coords, markers=\",\", alpha=.5, palette=\"RdBu\")"
   ]
  },
  {
   "cell_type": "code",
   "execution_count": 42,
   "metadata": {},
   "outputs": [
    {
     "data": {
      "text/html": [
       "<div>\n",
       "<style scoped>\n",
       "    .dataframe tbody tr th:only-of-type {\n",
       "        vertical-align: middle;\n",
       "    }\n",
       "\n",
       "    .dataframe tbody tr th {\n",
       "        vertical-align: top;\n",
       "    }\n",
       "\n",
       "    .dataframe thead th {\n",
       "        text-align: right;\n",
       "    }\n",
       "</style>\n",
       "<table border=\"1\" class=\"dataframe\">\n",
       "  <thead>\n",
       "    <tr style=\"text-align: right;\">\n",
       "      <th></th>\n",
       "      <th>latitude</th>\n",
       "      <th>longitude</th>\n",
       "      <th>brightness</th>\n",
       "      <th>scan</th>\n",
       "      <th>track</th>\n",
       "      <th>acq_date</th>\n",
       "      <th>acq_time</th>\n",
       "      <th>satellite</th>\n",
       "      <th>confidence</th>\n",
       "      <th>version</th>\n",
       "      <th>bright_t31</th>\n",
       "      <th>frp</th>\n",
       "      <th>daynight</th>\n",
       "      <th>fire</th>\n",
       "      <th>clusters</th>\n",
       "    </tr>\n",
       "  </thead>\n",
       "  <tbody>\n",
       "    <tr>\n",
       "      <th>0</th>\n",
       "      <td>44.405499</td>\n",
       "      <td>-121.777298</td>\n",
       "      <td>365.200012</td>\n",
       "      <td>1.2</td>\n",
       "      <td>1.1</td>\n",
       "      <td>2003-08-20</td>\n",
       "      <td>2123</td>\n",
       "      <td>Aqua</td>\n",
       "      <td>100</td>\n",
       "      <td>modis</td>\n",
       "      <td>305.700012</td>\n",
       "      <td>126.699997</td>\n",
       "      <td>D</td>\n",
       "      <td>1</td>\n",
       "      <td>534</td>\n",
       "    </tr>\n",
       "    <tr>\n",
       "      <th>1</th>\n",
       "      <td>38.113899</td>\n",
       "      <td>-96.793297</td>\n",
       "      <td>304.500000</td>\n",
       "      <td>3.9</td>\n",
       "      <td>1.8</td>\n",
       "      <td>2003-04-21</td>\n",
       "      <td>1635</td>\n",
       "      <td>Terra</td>\n",
       "      <td>59</td>\n",
       "      <td>modis</td>\n",
       "      <td>291.899994</td>\n",
       "      <td>30.600000</td>\n",
       "      <td>D</td>\n",
       "      <td>0</td>\n",
       "      <td>-1</td>\n",
       "    </tr>\n",
       "    <tr>\n",
       "      <th>2</th>\n",
       "      <td>64.370796</td>\n",
       "      <td>-155.065094</td>\n",
       "      <td>318.899994</td>\n",
       "      <td>1.0</td>\n",
       "      <td>1.0</td>\n",
       "      <td>2015-06-24</td>\n",
       "      <td>2235</td>\n",
       "      <td>Aqua</td>\n",
       "      <td>57</td>\n",
       "      <td>modis</td>\n",
       "      <td>300.399994</td>\n",
       "      <td>12.700000</td>\n",
       "      <td>D</td>\n",
       "      <td>1</td>\n",
       "      <td>73</td>\n",
       "    </tr>\n",
       "    <tr>\n",
       "      <th>3</th>\n",
       "      <td>29.773001</td>\n",
       "      <td>-90.734596</td>\n",
       "      <td>301.799988</td>\n",
       "      <td>1.5</td>\n",
       "      <td>1.2</td>\n",
       "      <td>2007-12-04</td>\n",
       "      <td>1900</td>\n",
       "      <td>Aqua</td>\n",
       "      <td>38</td>\n",
       "      <td>modis</td>\n",
       "      <td>288.799988</td>\n",
       "      <td>7.600000</td>\n",
       "      <td>D</td>\n",
       "      <td>0</td>\n",
       "      <td>-1</td>\n",
       "    </tr>\n",
       "    <tr>\n",
       "      <th>4</th>\n",
       "      <td>39.016800</td>\n",
       "      <td>-97.508598</td>\n",
       "      <td>330.399994</td>\n",
       "      <td>1.3</td>\n",
       "      <td>1.1</td>\n",
       "      <td>2006-07-15</td>\n",
       "      <td>1742</td>\n",
       "      <td>Terra</td>\n",
       "      <td>70</td>\n",
       "      <td>modis</td>\n",
       "      <td>308.299988</td>\n",
       "      <td>23.400000</td>\n",
       "      <td>D</td>\n",
       "      <td>0</td>\n",
       "      <td>774</td>\n",
       "    </tr>\n",
       "  </tbody>\n",
       "</table>\n",
       "</div>"
      ],
      "text/plain": [
       "    latitude   longitude  brightness  scan  track   acq_date  acq_time  \\\n",
       "0  44.405499 -121.777298  365.200012   1.2    1.1 2003-08-20      2123   \n",
       "1  38.113899  -96.793297  304.500000   3.9    1.8 2003-04-21      1635   \n",
       "2  64.370796 -155.065094  318.899994   1.0    1.0 2015-06-24      2235   \n",
       "3  29.773001  -90.734596  301.799988   1.5    1.2 2007-12-04      1900   \n",
       "4  39.016800  -97.508598  330.399994   1.3    1.1 2006-07-15      1742   \n",
       "\n",
       "  satellite  confidence version  bright_t31         frp daynight  fire  \\\n",
       "0      Aqua         100   modis  305.700012  126.699997        D     1   \n",
       "1     Terra          59   modis  291.899994   30.600000        D     0   \n",
       "2      Aqua          57   modis  300.399994   12.700000        D     1   \n",
       "3      Aqua          38   modis  288.799988    7.600000        D     0   \n",
       "4     Terra          70   modis  308.299988   23.400000        D     0   \n",
       "\n",
       "   clusters  \n",
       "0       534  \n",
       "1        -1  \n",
       "2        73  \n",
       "3        -1  \n",
       "4       774  "
      ]
     },
     "execution_count": 42,
     "metadata": {},
     "output_type": "execute_result"
    }
   ],
   "source": [
    "# merge coords back onto sample dataframe including cluster column\n",
    "\n",
    "X_sample = pd.merge(X_sample, coords, how=\"left\", on=[\"latitude\", \"longitude\"])\n",
    "X_sample.head()"
   ]
  },
  {
   "cell_type": "code",
   "execution_count": 74,
   "metadata": {},
   "outputs": [
    {
     "name": "stdout",
     "output_type": "stream",
     "text": [
      "(543, 13)\n"
     ]
    },
    {
     "data": {
      "text/html": [
       "<div>\n",
       "<style scoped>\n",
       "    .dataframe tbody tr th:only-of-type {\n",
       "        vertical-align: middle;\n",
       "    }\n",
       "\n",
       "    .dataframe tbody tr th {\n",
       "        vertical-align: top;\n",
       "    }\n",
       "\n",
       "    .dataframe thead th {\n",
       "        text-align: right;\n",
       "    }\n",
       "</style>\n",
       "<table border=\"1\" class=\"dataframe\">\n",
       "  <thead>\n",
       "    <tr style=\"text-align: right;\">\n",
       "      <th></th>\n",
       "      <th>latitude</th>\n",
       "      <th>longitude</th>\n",
       "      <th>brightness</th>\n",
       "      <th>scan</th>\n",
       "      <th>track</th>\n",
       "      <th>acq_date</th>\n",
       "      <th>acq_time</th>\n",
       "      <th>satellite</th>\n",
       "      <th>confidence</th>\n",
       "      <th>version</th>\n",
       "      <th>bright_t31</th>\n",
       "      <th>frp</th>\n",
       "      <th>daynight</th>\n",
       "    </tr>\n",
       "  </thead>\n",
       "  <tbody>\n",
       "    <tr>\n",
       "      <th>0</th>\n",
       "      <td>38.696</td>\n",
       "      <td>-90.138</td>\n",
       "      <td>308.1</td>\n",
       "      <td>1.1</td>\n",
       "      <td>1.1</td>\n",
       "      <td>2019-09-19</td>\n",
       "      <td>415</td>\n",
       "      <td>T</td>\n",
       "      <td>74</td>\n",
       "      <td>6.0NRT</td>\n",
       "      <td>295.2</td>\n",
       "      <td>8.7</td>\n",
       "      <td>N</td>\n",
       "    </tr>\n",
       "    <tr>\n",
       "      <th>1</th>\n",
       "      <td>38.285</td>\n",
       "      <td>-94.528</td>\n",
       "      <td>317.6</td>\n",
       "      <td>1.0</td>\n",
       "      <td>1.0</td>\n",
       "      <td>2019-09-19</td>\n",
       "      <td>415</td>\n",
       "      <td>T</td>\n",
       "      <td>95</td>\n",
       "      <td>6.0NRT</td>\n",
       "      <td>293.0</td>\n",
       "      <td>16.0</td>\n",
       "      <td>N</td>\n",
       "    </tr>\n",
       "    <tr>\n",
       "      <th>2</th>\n",
       "      <td>19.018</td>\n",
       "      <td>-88.364</td>\n",
       "      <td>324.4</td>\n",
       "      <td>1.0</td>\n",
       "      <td>1.0</td>\n",
       "      <td>2019-09-19</td>\n",
       "      <td>410</td>\n",
       "      <td>T</td>\n",
       "      <td>100</td>\n",
       "      <td>6.0NRT</td>\n",
       "      <td>293.8</td>\n",
       "      <td>21.1</td>\n",
       "      <td>N</td>\n",
       "    </tr>\n",
       "    <tr>\n",
       "      <th>3</th>\n",
       "      <td>18.946</td>\n",
       "      <td>-88.982</td>\n",
       "      <td>304.9</td>\n",
       "      <td>1.0</td>\n",
       "      <td>1.0</td>\n",
       "      <td>2019-09-19</td>\n",
       "      <td>410</td>\n",
       "      <td>T</td>\n",
       "      <td>62</td>\n",
       "      <td>6.0NRT</td>\n",
       "      <td>294.9</td>\n",
       "      <td>4.6</td>\n",
       "      <td>N</td>\n",
       "    </tr>\n",
       "    <tr>\n",
       "      <th>4</th>\n",
       "      <td>18.956</td>\n",
       "      <td>-88.974</td>\n",
       "      <td>310.7</td>\n",
       "      <td>1.0</td>\n",
       "      <td>1.0</td>\n",
       "      <td>2019-09-19</td>\n",
       "      <td>410</td>\n",
       "      <td>T</td>\n",
       "      <td>81</td>\n",
       "      <td>6.0NRT</td>\n",
       "      <td>295.2</td>\n",
       "      <td>8.4</td>\n",
       "      <td>N</td>\n",
       "    </tr>\n",
       "  </tbody>\n",
       "</table>\n",
       "</div>"
      ],
      "text/plain": [
       "   latitude  longitude  brightness  scan  track    acq_date  acq_time  \\\n",
       "0    38.696    -90.138       308.1   1.1    1.1  2019-09-19       415   \n",
       "1    38.285    -94.528       317.6   1.0    1.0  2019-09-19       415   \n",
       "2    19.018    -88.364       324.4   1.0    1.0  2019-09-19       410   \n",
       "3    18.946    -88.982       304.9   1.0    1.0  2019-09-19       410   \n",
       "4    18.956    -88.974       310.7   1.0    1.0  2019-09-19       410   \n",
       "\n",
       "  satellite  confidence version  bright_t31   frp daynight  \n",
       "0         T          74  6.0NRT       295.2   8.7        N  \n",
       "1         T          95  6.0NRT       293.0  16.0        N  \n",
       "2         T         100  6.0NRT       293.8  21.1        N  \n",
       "3         T          62  6.0NRT       294.9   4.6        N  \n",
       "4         T          81  6.0NRT       295.2   8.4        N  "
      ]
     },
     "execution_count": 74,
     "metadata": {},
     "output_type": "execute_result"
    }
   ],
   "source": [
    "# now lets bring in sample real time data and see if it clusters similarly\n",
    "\n",
    "modis_url = 'https://firms.modaps.eosdis.nasa.gov/data/active_fire/c6/csv/MODIS_C6_USA_contiguous_and_Hawaii_24h.csv'\n",
    "\n",
    "rt_data = pd.read_csv(modis_url)\n",
    "print(rt_data.shape)\n",
    "rt_data.head()"
   ]
  },
  {
   "cell_type": "code",
   "execution_count": 85,
   "metadata": {},
   "outputs": [
    {
     "data": {
      "text/plain": [
       "array([330,  -1,  -1,  -1,  -1,  -1,  -1,  -1,  -1, 854, 884, 804,  -1,\n",
       "        -1,  -1, 170,  -1,  -1, 157,  -1,  -1, 378, 378, 378, 378, 378,\n",
       "       378,  -1,  -1,  -1,  -1,  -1,  -1,  -1,  -1,  -1,  -1,  -1,  -1,\n",
       "        -1,  -1, 378,  -1,  15,  -1,  -1,  -1, 277, 277,  -1, 277,  -1,\n",
       "        -1, 138, 138, 206, 206, 276, 307, 276,  -1,  -1,  -1,  -1,  -1,\n",
       "        -1, 624, 624,  -1,  -1,  -1,  -1, 796, 742, 742, 742,  -1,  -1,\n",
       "       742,  -1,  -1, 796, 796,  -1, 736,  -1,  -1,  -1,  -1,  -1,  -1,\n",
       "       821,  -1, 917, 899,  -1,  -1, 899, 783, 783, 897, 897,  -1,  -1,\n",
       "        -1,  -1,  -1,  -1,  -1,  -1,  -1,  -1,  -1, 927,  -1,  -1,  -1,\n",
       "        -1,  -1, 922, 922,  -1, 921,  -1, 877,  -1,  -1,  -1,  -1,  -1,\n",
       "        -1,  -1,  -1,  -1,  -1,  -1,  -1,  -1,  -1,  -1, 294, 294,  -1,\n",
       "        -1,  -1,  -1,  -1,  -1,  -1,  -1,  -1, 178, 178, 159, 159,  -1,\n",
       "        -1,  -1,   7,   7,   7,   7,   7, 134, 624,  -1,  -1,  51, 277,\n",
       "        -1,  25,  -1,  -1, 742,  -1,  -1,  -1,  -1,  -1,  -1,  -1,  -1,\n",
       "        -1,  -1,  -1,  -1,  -1,  -1,  -1,  -1,  -1,  -1,  -1,  -1,  -1,\n",
       "        -1,  -1,  -1,  -1,  -1,  -1,  -1,  -1,  -1,  -1,  -1,  -1,  -1,\n",
       "        -1,  -1, 692, 692, 692,  -1,  -1,  -1, 601, 601,  -1,  -1,  -1,\n",
       "        -1, 530, 530, 530, 530, 530, 530, 569, 569, 569,  -1,  -1,  -1,\n",
       "        -1, 692,  -1,  -1,  -1,  -1,  -1,  -1, 781, 792,  -1,  -1,  -1,\n",
       "       792, 792, 789, 789,  -1,  -1, 776, 789, 789, 776, 776,  -1,  -1,\n",
       "        -1,  -1,  -1,  -1, 796, 796, 796, 796, 796, 796,  -1, 798, 796,\n",
       "        -1,  -1, 876, 876, 751, 751,  -1,  -1, 330,  -1,  -1, 774, 294,\n",
       "       294,  -1, 328,  -1,  -1, 328, 328,  -1,  -1,  -1,  -1, 341, 141,\n",
       "       141, 172,  -1,  -1,  -1,  -1, 543, 569, 569, 569,  -1,  -1,  -1,\n",
       "       517, 530, 530, 530, 530, 530, 530, 530, 530, 530, 530,  -1,  -1,\n",
       "        -1,  -1, 159,  -1, 199, 206,  -1,  -1,  -1,  -1,  -1,  -1,  -1,\n",
       "        -1,  -1,  -1,  -1,  -1,  -1,  -1,  -1,  -1,  -1,  -1,  -1,  -1,\n",
       "        -1,  -1,  -1,  -1,  -1,  -1, 692, 692,  -1,  -1,  -1,  -1,  -1,\n",
       "        -1,  -1,  -1,  -1,  -1,  -1,  -1,  -1,  -1,  -1,  -1,  -1,  -1,\n",
       "        -1,  -1,  -1,  -1,  -1,  -1,  -1,  -1,  -1, 138, 199, 199,  -1,\n",
       "       307,  -1,  -1,  -1, 796, 796, 796,  -1, 809, 709,  -1, 710, 710,\n",
       "       731,  -1, 782, 837,  -1,  -1,  -1,  -1,  -1,  -1,  -1,  -1,  -1,\n",
       "        -1, 707, 707, 691, 691, 691, 691, 691, 692, 692,  -1,  -1,  -1,\n",
       "        -1,  -1,  -1,  -1,  -1,  -1,  -1,  -1,  -1,  -1,  -1,  -1,  -1,\n",
       "        -1,  -1,  -1,  -1,  -1,  -1, 199, 139,  -1,  -1,  -1,  -1, 347,\n",
       "        -1,  -1,  -1,  -1,  -1,  -1, 530, 517,  -1,  -1,  -1,  -1,  -1,\n",
       "        -1,  -1,  -1,  -1, 517,  -1, 569, 569,  -1,  -1,  -1,  -1,  -1,\n",
       "        -1,  -1,  -1,  -1,  -1,  -1,  -1,  -1, 178, 178, 178, 165, 165,\n",
       "        -1, 141, 134,  -1, 754,  -1,  -1,  -1,  -1,  -1,  -1,  -1, 927,\n",
       "       927,  -1,  -1,  -1,  -1,  -1, 900, 900,  -1,  -1,  -1, 913, 913,\n",
       "        -1,  -1,  -1,  -1,  -1,  -1,  -1, 809, 710, 710,  -1,  -1,  -1,\n",
       "       606,  -1, 682, 785, 785,  -1, 205, 307, 199,  -1])"
      ]
     },
     "execution_count": 85,
     "metadata": {},
     "output_type": "execute_result"
    }
   ],
   "source": [
    "# trying to classify the cluster for rt data based on trained clusters\n",
    "\n",
    "from sklearn.ensemble import RandomForestClassifier\n",
    "\n",
    "features = [\"latitude\", \"longitude\"]\n",
    "\n",
    "X_train = X_sample[features]\n",
    "y_train = X_sample[\"clusters\"]\n",
    "\n",
    "X_test = rt_data[features]\n",
    "#y_test = rt_data[\"clusters\"]\n",
    "\n",
    "clf = RandomForestClassifier(n_estimators=100)\n",
    "clf.fit(X_train, y_train)\n",
    "clf.predict(X_test)"
   ]
  },
  {
   "cell_type": "code",
   "execution_count": 86,
   "metadata": {},
   "outputs": [
    {
     "data": {
      "text/html": [
       "<div>\n",
       "<style scoped>\n",
       "    .dataframe tbody tr th:only-of-type {\n",
       "        vertical-align: middle;\n",
       "    }\n",
       "\n",
       "    .dataframe tbody tr th {\n",
       "        vertical-align: top;\n",
       "    }\n",
       "\n",
       "    .dataframe thead th {\n",
       "        text-align: right;\n",
       "    }\n",
       "</style>\n",
       "<table border=\"1\" class=\"dataframe\">\n",
       "  <thead>\n",
       "    <tr style=\"text-align: right;\">\n",
       "      <th></th>\n",
       "      <th>latitude</th>\n",
       "      <th>longitude</th>\n",
       "      <th>brightness</th>\n",
       "      <th>scan</th>\n",
       "      <th>track</th>\n",
       "      <th>acq_date</th>\n",
       "      <th>acq_time</th>\n",
       "      <th>satellite</th>\n",
       "      <th>confidence</th>\n",
       "      <th>version</th>\n",
       "      <th>bright_t31</th>\n",
       "      <th>frp</th>\n",
       "      <th>daynight</th>\n",
       "      <th>clusters</th>\n",
       "    </tr>\n",
       "  </thead>\n",
       "  <tbody>\n",
       "    <tr>\n",
       "      <th>0</th>\n",
       "      <td>38.696</td>\n",
       "      <td>-90.138</td>\n",
       "      <td>308.1</td>\n",
       "      <td>1.1</td>\n",
       "      <td>1.1</td>\n",
       "      <td>2019-09-19</td>\n",
       "      <td>415</td>\n",
       "      <td>T</td>\n",
       "      <td>74</td>\n",
       "      <td>6.0NRT</td>\n",
       "      <td>295.2</td>\n",
       "      <td>8.7</td>\n",
       "      <td>N</td>\n",
       "      <td>330</td>\n",
       "    </tr>\n",
       "    <tr>\n",
       "      <th>1</th>\n",
       "      <td>38.285</td>\n",
       "      <td>-94.528</td>\n",
       "      <td>317.6</td>\n",
       "      <td>1.0</td>\n",
       "      <td>1.0</td>\n",
       "      <td>2019-09-19</td>\n",
       "      <td>415</td>\n",
       "      <td>T</td>\n",
       "      <td>95</td>\n",
       "      <td>6.0NRT</td>\n",
       "      <td>293.0</td>\n",
       "      <td>16.0</td>\n",
       "      <td>N</td>\n",
       "      <td>-1</td>\n",
       "    </tr>\n",
       "    <tr>\n",
       "      <th>2</th>\n",
       "      <td>19.018</td>\n",
       "      <td>-88.364</td>\n",
       "      <td>324.4</td>\n",
       "      <td>1.0</td>\n",
       "      <td>1.0</td>\n",
       "      <td>2019-09-19</td>\n",
       "      <td>410</td>\n",
       "      <td>T</td>\n",
       "      <td>100</td>\n",
       "      <td>6.0NRT</td>\n",
       "      <td>293.8</td>\n",
       "      <td>21.1</td>\n",
       "      <td>N</td>\n",
       "      <td>-1</td>\n",
       "    </tr>\n",
       "    <tr>\n",
       "      <th>3</th>\n",
       "      <td>18.946</td>\n",
       "      <td>-88.982</td>\n",
       "      <td>304.9</td>\n",
       "      <td>1.0</td>\n",
       "      <td>1.0</td>\n",
       "      <td>2019-09-19</td>\n",
       "      <td>410</td>\n",
       "      <td>T</td>\n",
       "      <td>62</td>\n",
       "      <td>6.0NRT</td>\n",
       "      <td>294.9</td>\n",
       "      <td>4.6</td>\n",
       "      <td>N</td>\n",
       "      <td>-1</td>\n",
       "    </tr>\n",
       "    <tr>\n",
       "      <th>4</th>\n",
       "      <td>18.956</td>\n",
       "      <td>-88.974</td>\n",
       "      <td>310.7</td>\n",
       "      <td>1.0</td>\n",
       "      <td>1.0</td>\n",
       "      <td>2019-09-19</td>\n",
       "      <td>410</td>\n",
       "      <td>T</td>\n",
       "      <td>81</td>\n",
       "      <td>6.0NRT</td>\n",
       "      <td>295.2</td>\n",
       "      <td>8.4</td>\n",
       "      <td>N</td>\n",
       "      <td>-1</td>\n",
       "    </tr>\n",
       "  </tbody>\n",
       "</table>\n",
       "</div>"
      ],
      "text/plain": [
       "   latitude  longitude  brightness  scan  track    acq_date  acq_time  \\\n",
       "0    38.696    -90.138       308.1   1.1    1.1  2019-09-19       415   \n",
       "1    38.285    -94.528       317.6   1.0    1.0  2019-09-19       415   \n",
       "2    19.018    -88.364       324.4   1.0    1.0  2019-09-19       410   \n",
       "3    18.946    -88.982       304.9   1.0    1.0  2019-09-19       410   \n",
       "4    18.956    -88.974       310.7   1.0    1.0  2019-09-19       410   \n",
       "\n",
       "  satellite  confidence version  bright_t31   frp daynight  clusters  \n",
       "0         T          74  6.0NRT       295.2   8.7        N       330  \n",
       "1         T          95  6.0NRT       293.0  16.0        N        -1  \n",
       "2         T         100  6.0NRT       293.8  21.1        N        -1  \n",
       "3         T          62  6.0NRT       294.9   4.6        N        -1  \n",
       "4         T          81  6.0NRT       295.2   8.4        N        -1  "
      ]
     },
     "execution_count": 86,
     "metadata": {},
     "output_type": "execute_result"
    }
   ],
   "source": [
    "rt_data[\"clusters\"] = clf.predict(X_test)\n",
    "rt_data.head()"
   ]
  },
  {
   "cell_type": "code",
   "execution_count": 88,
   "metadata": {},
   "outputs": [
    {
     "data": {
      "image/png": "[encoded data removed]",
      "text/plain": [
       "<Figure size 432x288 with 1 Axes>"
      ]
     },
     "metadata": {
      "needs_background": "light"
     },
     "output_type": "display_data"
    }
   ],
   "source": [
    "# visualize new clusters\n",
    "\n",
    "ax = sns.scatterplot(x=\"longitude\", y=\"latitude\", hue=\"clusters\", \n",
    "                     data=rt_data, markers=\",\", alpha=.5, palette=\"RdBu\")"
   ]
  },
  {
   "cell_type": "code",
   "execution_count": 99,
   "metadata": {},
   "outputs": [],
   "source": [
    "# lets cross validate before trying on real time data\n",
    "\n",
    "# imports\n",
    "from sklearn.metrics import f1_score\n",
    "from sklearn.metrics import roc_auc_score\n",
    "from sklearn.model_selection import TimeSeriesSplit\n",
    "from sklearn.model_selection import cross_validate\n",
    "from statistics import mean\n",
    "\n",
    "# defaults\n",
    "tscv = TimeSeriesSplit(n_splits=3)\n",
    "scoring = ['accuracy', 'f1', 'roc_auc', 'recall']\n",
    "\n",
    "X = X_sample.drop(columns=\"fire\")\n",
    "y = X_sample[\"fire\"]\n",
    "\n",
    "from sklearn.model_selection import train_test_split\n",
    "X_train, X_test, y_train, y_test = train_test_split(X, y, test_size=0.33, random_state=42)"
   ]
  },
  {
   "cell_type": "code",
   "execution_count": 97,
   "metadata": {},
   "outputs": [
    {
     "name": "stdout",
     "output_type": "stream",
     "text": [
      "Average Test Accuracy:  0.9064081706435285\n",
      "Average Test F1:  0.9500631448520486\n",
      "Average Test ROC AUC:  0.7966799963813539\n",
      "Average Test Recall:  0.9880076760601023\n"
     ]
    }
   ],
   "source": [
    "# Logistic Regression Model\n",
    "from sklearn.linear_model import LogisticRegression\n",
    "\n",
    "features = [\"latitude\", \"longitude\", \"brightness\", \"scan\", \"track\", \"acq_time\", \"confidence\", \"bright_t31\", \"frp\", \"clusters\"]\n",
    "\n",
    "X_train = X_train[features]\n",
    "#y_train = y_train[\"fire\"]\n",
    "\n",
    "X_test = X_test[features]\n",
    "#y_test = y_test[\"fire\"]\n",
    "\n",
    "lr = LogisticRegression()\n",
    "lr.fit(X_train, y_train)\n",
    "scores = cross_validate(lr, X_test, y_test, scoring=scoring, cv=tscv)\n",
    "\n",
    "lr_accuracy = scores[\"test_accuracy\"].mean()\n",
    "lr_f1 = scores[\"test_f1\"].mean()\n",
    "lr_roc_auc = scores[\"test_roc_auc\"].mean()\n",
    "lr_recall = scores[\"test_recall\"].mean()\n",
    "\n",
    "print(\"Average Test Accuracy: \", lr_accuracy)\n",
    "print(\"Average Test F1: \", lr_f1)\n",
    "print(\"Average Test ROC AUC: \", lr_roc_auc)\n",
    "print(\"Average Test Recall: \", lr_recall)"
   ]
  },
  {
   "cell_type": "code",
   "execution_count": 100,
   "metadata": {},
   "outputs": [
    {
     "name": "stdout",
     "output_type": "stream",
     "text": [
      "Average Test Accuracy:  0.9036458333333334\n",
      "Average Test F1:  0.9492053363063763\n",
      "Average Test ROC AUC:  0.772483265266151\n",
      "Average Test Recall:  0.9990878865087538\n"
     ]
    }
   ],
   "source": [
    "# lets look at scores without using our clusters data\n",
    "\n",
    "# Logistic Regression Model\n",
    "from sklearn.linear_model import LogisticRegression\n",
    "\n",
    "features = [\"latitude\", \"longitude\", \"brightness\", \"scan\", \"track\", \"acq_time\", \"confidence\", \"bright_t31\", \"frp\"]\n",
    "\n",
    "X_train = X_train[features]\n",
    "#y_train = y_train[\"fire\"]\n",
    "\n",
    "X_test = X_test[features]\n",
    "#y_test = y_test[\"fire\"]\n",
    "\n",
    "lr = LogisticRegression()\n",
    "lr.fit(X_train, y_train)\n",
    "scores = cross_validate(lr, X_test, y_test, scoring=scoring, cv=tscv)\n",
    "\n",
    "lr_accuracy = scores[\"test_accuracy\"].mean()\n",
    "lr_f1 = scores[\"test_f1\"].mean()\n",
    "lr_roc_auc = scores[\"test_roc_auc\"].mean()\n",
    "lr_recall = scores[\"test_recall\"].mean()\n",
    "\n",
    "print(\"Average Test Accuracy: \", lr_accuracy)\n",
    "print(\"Average Test F1: \", lr_f1)\n",
    "print(\"Average Test ROC AUC: \", lr_roc_auc)\n",
    "print(\"Average Test Recall: \", lr_recall)"
   ]
  },
  {
   "cell_type": "code",
   "execution_count": 98,
   "metadata": {},
   "outputs": [
    {
     "data": {
      "text/plain": [
       "array([1, 1, 0, 0, 0, 0, 0, 0, 1, 1, 1, 1, 0, 0, 0, 1, 1, 1, 1, 1, 1, 1,\n",
       "       1, 1, 1, 1, 1, 0, 0, 0, 0, 0, 0, 0, 0, 0, 0, 0, 0, 1, 1, 1, 1, 1,\n",
       "       1, 1, 1, 1, 1, 1, 1, 1, 1, 1, 1, 1, 1, 1, 1, 1, 1, 1, 1, 1, 1, 1,\n",
       "       1, 1, 1, 1, 1, 1, 1, 1, 1, 1, 1, 1, 1, 1, 1, 1, 1, 1, 1, 1, 1, 1,\n",
       "       1, 1, 1, 1, 1, 1, 1, 0, 1, 1, 1, 1, 1, 1, 1, 0, 0, 1, 1, 0, 0, 0,\n",
       "       0, 0, 0, 1, 0, 0, 0, 0, 0, 1, 1, 0, 1, 0, 1, 0, 0, 0, 0, 0, 0, 0,\n",
       "       0, 0, 0, 1, 1, 1, 1, 1, 1, 1, 1, 1, 1, 1, 1, 1, 1, 1, 0, 1, 1, 1,\n",
       "       1, 0, 0, 0, 0, 0, 0, 0, 0, 0, 1, 1, 1, 1, 1, 1, 1, 1, 1, 1, 1, 1,\n",
       "       1, 1, 1, 0, 0, 0, 0, 0, 0, 0, 0, 0, 0, 0, 0, 0, 0, 0, 0, 0, 0, 0,\n",
       "       0, 0, 0, 0, 0, 0, 0, 0, 0, 0, 0, 0, 1, 1, 1, 0, 0, 1, 1, 1, 1, 1,\n",
       "       1, 1, 1, 1, 1, 1, 1, 1, 1, 1, 1, 1, 1, 0, 0, 1, 0, 0, 0, 0, 0, 1,\n",
       "       1, 1, 0, 1, 1, 1, 1, 1, 1, 1, 1, 1, 1, 1, 1, 1, 1, 1, 0, 0, 0, 0,\n",
       "       1, 1, 1, 1, 1, 1, 1, 1, 1, 1, 0, 1, 1, 1, 1, 1, 0, 1, 1, 1, 1, 1,\n",
       "       1, 1, 1, 1, 1, 1, 1, 1, 1, 1, 1, 1, 0, 0, 1, 1, 0, 0, 0, 1, 1, 1,\n",
       "       1, 1, 1, 1, 1, 1, 1, 1, 1, 1, 1, 1, 1, 1, 1, 1, 1, 0, 0, 1, 0, 1,\n",
       "       1, 1, 0, 0, 0, 0, 0, 0, 0, 0, 0, 1, 0, 0, 0, 0, 0, 0, 0, 0, 0, 0,\n",
       "       0, 0, 0, 0, 0, 1, 1, 0, 0, 0, 1, 1, 1, 1, 1, 0, 0, 0, 0, 0, 0, 0,\n",
       "       0, 0, 0, 0, 0, 0, 0, 0, 0, 0, 0, 0, 1, 1, 1, 1, 1, 1, 1, 0, 1, 1,\n",
       "       1, 1, 1, 1, 1, 1, 1, 1, 1, 1, 1, 1, 0, 1, 1, 1, 1, 1, 1, 1, 1, 1,\n",
       "       1, 1, 1, 1, 1, 1, 1, 1, 0, 0, 0, 0, 0, 0, 0, 0, 0, 0, 0, 0, 0, 0,\n",
       "       0, 0, 0, 0, 0, 0, 0, 0, 1, 1, 1, 1, 1, 1, 1, 1, 1, 0, 0, 1, 0, 1,\n",
       "       1, 0, 0, 0, 0, 0, 0, 0, 0, 0, 1, 0, 1, 1, 0, 0, 0, 0, 0, 0, 0, 0,\n",
       "       0, 0, 0, 0, 0, 1, 1, 1, 1, 1, 0, 0, 0, 0, 1, 0, 0, 0, 0, 0, 0, 0,\n",
       "       1, 1, 0, 0, 0, 1, 0, 1, 1, 1, 1, 1, 1, 1, 1, 1, 1, 1, 1, 1, 1, 1,\n",
       "       1, 1, 1, 1, 1, 1, 1, 1, 1, 1, 1, 1, 1, 1, 1], dtype=uint8)"
      ]
     },
     "execution_count": 98,
     "metadata": {},
     "output_type": "execute_result"
    }
   ],
   "source": [
    "# now lets try on real time data\n",
    "\n",
    "X_train = X_sample[features]\n",
    "y_train = X_sample[\"fire\"]\n",
    "\n",
    "X_test = rt_data[features]\n",
    "#y_test = y_test[\"fire\"]\n",
    "\n",
    "lr = LogisticRegression()\n",
    "lr.fit(X_train, y_train)\n",
    "lr.predict(X_test)"
   ]
  },
  {
   "cell_type": "code",
   "execution_count": null,
   "metadata": {},
   "outputs": [],
   "source": []
  },
  {
   "cell_type": "code",
   "execution_count": null,
   "metadata": {},
   "outputs": [],
   "source": []
  }
 ],
 "metadata": {
  "kernelspec": {
   "display_name": "Python 3",
   "language": "python",
   "name": "python3"
  },
  "language_info": {
   "codemirror_mode": {
    "name": "ipython",
    "version": 3
   },
   "file_extension": ".py",
   "mimetype": "text/x-python",
   "name": "python",
   "nbconvert_exporter": "python",
   "pygments_lexer": "ipython3",
   "version": "3.7.3"
  }
 },
 "nbformat": 4,
 "nbformat_minor": 4
}
