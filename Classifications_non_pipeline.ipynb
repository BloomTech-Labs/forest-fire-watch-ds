{
 "cells": [
  {
   "cell_type": "code",
   "execution_count": 1,
   "metadata": {},
   "outputs": [],
   "source": [
    "import numpy as np, pandas as pd\n",
    "import warnings\n",
    "import psutil, os\n",
    "warnings.filterwarnings('ignore')\n",
    "\n",
    "X_train = pd.read_pickle('X_train_small.pkl')\n",
    "y_train = pd.read_pickle('y_train_small.pkl')\n",
    "X_test = pd.read_pickle('X_test_small.pkl')\n",
    "y_test = pd.read_pickle('y_test_small.pkl')"
   ]
  },
  {
   "cell_type": "code",
   "execution_count": 2,
   "metadata": {},
   "outputs": [],
   "source": [
    "# Get dummies\n",
    "X_train = pd.get_dummies(X_train, prefix_sep='_', drop_first=True)\n",
    "X_test = pd.get_dummies(X_test, prefix_sep='_', drop_first=True)"
   ]
  },
  {
   "cell_type": "code",
   "execution_count": 3,
   "metadata": {},
   "outputs": [
    {
     "data": {
      "text/html": [
       "<div>\n",
       "<style scoped>\n",
       "    .dataframe tbody tr th:only-of-type {\n",
       "        vertical-align: middle;\n",
       "    }\n",
       "\n",
       "    .dataframe tbody tr th {\n",
       "        vertical-align: top;\n",
       "    }\n",
       "\n",
       "    .dataframe thead th {\n",
       "        text-align: right;\n",
       "    }\n",
       "</style>\n",
       "<table border=\"1\" class=\"dataframe\">\n",
       "  <thead>\n",
       "    <tr style=\"text-align: right;\">\n",
       "      <th></th>\n",
       "      <th>latitude</th>\n",
       "      <th>longitude</th>\n",
       "      <th>brightness</th>\n",
       "      <th>scan</th>\n",
       "      <th>track</th>\n",
       "      <th>acq_time</th>\n",
       "      <th>confidence</th>\n",
       "      <th>bright_t31</th>\n",
       "      <th>frp</th>\n",
       "      <th>type</th>\n",
       "      <th>FIRE_YEAR</th>\n",
       "      <th>MONTH</th>\n",
       "      <th>WEEK</th>\n",
       "      <th>DAY</th>\n",
       "      <th>satellite_Terra</th>\n",
       "      <th>daynight_N</th>\n",
       "    </tr>\n",
       "  </thead>\n",
       "  <tbody>\n",
       "    <tr>\n",
       "      <th>9</th>\n",
       "      <td>19.345400</td>\n",
       "      <td>-155.046906</td>\n",
       "      <td>368.200012</td>\n",
       "      <td>1.0</td>\n",
       "      <td>1.0</td>\n",
       "      <td>849</td>\n",
       "      <td>100</td>\n",
       "      <td>309.299988</td>\n",
       "      <td>110.300003</td>\n",
       "      <td>2</td>\n",
       "      <td>2001</td>\n",
       "      <td>1</td>\n",
       "      <td>1</td>\n",
       "      <td>1</td>\n",
       "      <td>1</td>\n",
       "      <td>1</td>\n",
       "    </tr>\n",
       "    <tr>\n",
       "      <th>19</th>\n",
       "      <td>19.355200</td>\n",
       "      <td>-155.055206</td>\n",
       "      <td>366.200012</td>\n",
       "      <td>1.3</td>\n",
       "      <td>1.1</td>\n",
       "      <td>2100</td>\n",
       "      <td>100</td>\n",
       "      <td>314.799988</td>\n",
       "      <td>137.899994</td>\n",
       "      <td>2</td>\n",
       "      <td>2001</td>\n",
       "      <td>1</td>\n",
       "      <td>1</td>\n",
       "      <td>1</td>\n",
       "      <td>1</td>\n",
       "      <td>0</td>\n",
       "    </tr>\n",
       "    <tr>\n",
       "      <th>29</th>\n",
       "      <td>31.253700</td>\n",
       "      <td>-84.508698</td>\n",
       "      <td>310.399994</td>\n",
       "      <td>1.0</td>\n",
       "      <td>1.0</td>\n",
       "      <td>1643</td>\n",
       "      <td>70</td>\n",
       "      <td>278.500000</td>\n",
       "      <td>13.600000</td>\n",
       "      <td>0</td>\n",
       "      <td>2001</td>\n",
       "      <td>1</td>\n",
       "      <td>1</td>\n",
       "      <td>2</td>\n",
       "      <td>1</td>\n",
       "      <td>0</td>\n",
       "    </tr>\n",
       "    <tr>\n",
       "      <th>39</th>\n",
       "      <td>30.946100</td>\n",
       "      <td>-84.917099</td>\n",
       "      <td>304.399994</td>\n",
       "      <td>1.0</td>\n",
       "      <td>1.0</td>\n",
       "      <td>1643</td>\n",
       "      <td>59</td>\n",
       "      <td>280.899994</td>\n",
       "      <td>8.600000</td>\n",
       "      <td>0</td>\n",
       "      <td>2001</td>\n",
       "      <td>1</td>\n",
       "      <td>1</td>\n",
       "      <td>2</td>\n",
       "      <td>1</td>\n",
       "      <td>0</td>\n",
       "    </tr>\n",
       "    <tr>\n",
       "      <th>49</th>\n",
       "      <td>26.872299</td>\n",
       "      <td>-81.117996</td>\n",
       "      <td>342.600006</td>\n",
       "      <td>1.6</td>\n",
       "      <td>1.3</td>\n",
       "      <td>1644</td>\n",
       "      <td>93</td>\n",
       "      <td>290.500000</td>\n",
       "      <td>96.800003</td>\n",
       "      <td>0</td>\n",
       "      <td>2001</td>\n",
       "      <td>1</td>\n",
       "      <td>1</td>\n",
       "      <td>2</td>\n",
       "      <td>1</td>\n",
       "      <td>0</td>\n",
       "    </tr>\n",
       "  </tbody>\n",
       "</table>\n",
       "</div>"
      ],
      "text/plain": [
       "     latitude   longitude  brightness  scan  track  acq_time  confidence  \\\n",
       "9   19.345400 -155.046906  368.200012   1.0    1.0       849         100   \n",
       "19  19.355200 -155.055206  366.200012   1.3    1.1      2100         100   \n",
       "29  31.253700  -84.508698  310.399994   1.0    1.0      1643          70   \n",
       "39  30.946100  -84.917099  304.399994   1.0    1.0      1643          59   \n",
       "49  26.872299  -81.117996  342.600006   1.6    1.3      1644          93   \n",
       "\n",
       "    bright_t31         frp  type  FIRE_YEAR  MONTH  WEEK  DAY  \\\n",
       "9   309.299988  110.300003     2       2001      1     1    1   \n",
       "19  314.799988  137.899994     2       2001      1     1    1   \n",
       "29  278.500000   13.600000     0       2001      1     1    2   \n",
       "39  280.899994    8.600000     0       2001      1     1    2   \n",
       "49  290.500000   96.800003     0       2001      1     1    2   \n",
       "\n",
       "    satellite_Terra  daynight_N  \n",
       "9                 1           1  \n",
       "19                1           0  \n",
       "29                1           0  \n",
       "39                1           0  \n",
       "49                1           0  "
      ]
     },
     "execution_count": 3,
     "metadata": {},
     "output_type": "execute_result"
    }
   ],
   "source": [
    "X_train.head()"
   ]
  },
  {
   "cell_type": "code",
   "execution_count": 16,
   "metadata": {},
   "outputs": [],
   "source": [
    "# imports\n",
    "from sklearn.metrics import f1_score\n",
    "from sklearn.metrics import roc_auc_score\n",
    "from sklearn.model_selection import TimeSeriesSplit\n",
    "from sklearn.model_selection import cross_validate\n",
    "from statistics import mean\n",
    "\n",
    "# defaults\n",
    "tscv = TimeSeriesSplit(n_splits=3)\n",
    "scoring = ['accuracy', 'f1', 'roc_auc']"
   ]
  },
  {
   "cell_type": "code",
   "execution_count": 19,
   "metadata": {},
   "outputs": [
    {
     "name": "stdout",
     "output_type": "stream",
     "text": [
      "Average Test Accuracy:  0.5297368830764441\n",
      "Average Test F1:  0.15222430648298016\n",
      "Average Test ROC AUC:  0.5586340848308216\n"
     ]
    }
   ],
   "source": [
    "# Logistic Regression Model\n",
    "from sklearn.linear_model import LogisticRegression\n",
    "\n",
    "lr = LogisticRegression()\n",
    "lr.fit(X_train, y_train)\n",
    "scores = cross_validate(lr, X_test, y_test, scoring=scoring, cv=tscv)\n",
    "\n",
    "lr_accuracy = scores[\"test_accuracy\"].mean()\n",
    "lr_f1 = scores[\"test_f1\"].mean()\n",
    "lr_roc_auc = scores[\"test_roc_auc\"].mean()\n",
    "\n",
    "print(\"Average Test Accuracy: \", lr_accuracy)\n",
    "print(\"Average Test F1: \", lr_f1)\n",
    "print(\"Average Test ROC AUC: \", lr_roc_auc)"
   ]
  },
  {
   "cell_type": "code",
   "execution_count": 20,
   "metadata": {},
   "outputs": [
    {
     "name": "stdout",
     "output_type": "stream",
     "text": [
      "Average Test Accuracy:  0.5144792153199439\n",
      "Average Test F1:  0.3232249711931816\n",
      "Average Test ROC AUC:  0.5970993402364742\n"
     ]
    }
   ],
   "source": [
    "# Naive Bayes Model\n",
    "from sklearn.naive_bayes import GaussianNB\n",
    "\n",
    "nb = GaussianNB()\n",
    "nb.fit(X_train, y_train)\n",
    "scores = cross_validate(nb, X_test, y_test, scoring=scoring, cv=tscv)\n",
    "\n",
    "nb_accuracy = scores[\"test_accuracy\"].mean()\n",
    "nb_f1 = scores[\"test_f1\"].mean()\n",
    "nb_roc_auc = scores[\"test_roc_auc\"].mean()\n",
    "\n",
    "print(\"Average Test Accuracy: \", nb_accuracy)\n",
    "print(\"Average Test F1: \", nb_f1)\n",
    "print(\"Average Test ROC AUC: \", nb_roc_auc)"
   ]
  },
  {
   "cell_type": "code",
   "execution_count": 21,
   "metadata": {},
   "outputs": [
    {
     "name": "stdout",
     "output_type": "stream",
     "text": [
      "Average Test Accuracy:  0.47929316518760706\n",
      "Average Test F1:  0.13447675863783246\n",
      "Average Test ROC AUC:  0.5327763942500136\n"
     ]
    }
   ],
   "source": [
    "# SGD Model\n",
    "from sklearn.linear_model import SGDClassifier\n",
    "\n",
    "sgd = SGDClassifier(loss=\"modified_huber\")\n",
    "sgd.fit(X_train, y_train)\n",
    "scores = cross_validate(sgd, X_test, y_test, scoring=scoring, cv=tscv)\n",
    "\n",
    "sgd_accuracy = scores[\"test_accuracy\"].mean()\n",
    "sgd_f1 = scores[\"test_f1\"].mean()\n",
    "sgd_roc_auc = scores[\"test_roc_auc\"].mean()\n",
    "\n",
    "print(\"Average Test Accuracy: \", sgd_accuracy)\n",
    "print(\"Average Test F1: \", sgd_f1)\n",
    "print(\"Average Test ROC AUC: \", sgd_roc_auc)"
   ]
  },
  {
   "cell_type": "code",
   "execution_count": 22,
   "metadata": {},
   "outputs": [
    {
     "name": "stdout",
     "output_type": "stream",
     "text": [
      "Average Test Accuracy:  0.6420675696714931\n",
      "Average Test F1:  0.3514979807053045\n",
      "Average Test ROC AUC:  0.5885315132962211\n"
     ]
    }
   ],
   "source": [
    "# KNN Model\n",
    "from sklearn.neighbors import KNeighborsClassifier\n",
    "\n",
    "knn = KNeighborsClassifier()\n",
    "knn.fit(X_train, y_train)\n",
    "scores = cross_validate(knn, X_test, y_test, scoring=scoring, cv=tscv)\n",
    "\n",
    "knn_accuracy = scores[\"test_accuracy\"].mean()\n",
    "knn_f1 = scores[\"test_f1\"].mean()\n",
    "knn_roc_auc = scores[\"test_roc_auc\"].mean()\n",
    "\n",
    "print(\"Average Test Accuracy: \", knn_accuracy)\n",
    "print(\"Average Test F1: \", knn_f1)\n",
    "print(\"Average Test ROC AUC: \", knn_roc_auc)"
   ]
  },
  {
   "cell_type": "code",
   "execution_count": 23,
   "metadata": {},
   "outputs": [
    {
     "name": "stdout",
     "output_type": "stream",
     "text": [
      "Average Test Accuracy:  0.6269655924023042\n",
      "Average Test F1:  0.40366193621216695\n",
      "Average Test ROC AUC:  0.5660844225882432\n"
     ]
    }
   ],
   "source": [
    "# Decision Tree Model\n",
    "from sklearn.tree import DecisionTreeClassifier\n",
    "\n",
    "dt = DecisionTreeClassifier()\n",
    "dt.fit(X_train, y_train)\n",
    "scores = cross_validate(dt, X_test, y_test, scoring=scoring, cv=tscv)\n",
    "\n",
    "dt_accuracy = scores[\"test_accuracy\"].mean()\n",
    "dt_f1 = scores[\"test_f1\"].mean()\n",
    "dt_roc_auc = scores[\"test_roc_auc\"].mean()\n",
    "\n",
    "print(\"Average Test Accuracy: \", dt_accuracy)\n",
    "print(\"Average Test F1: \", dt_f1)\n",
    "print(\"Average Test ROC AUC: \", dt_roc_auc)"
   ]
  },
  {
   "cell_type": "code",
   "execution_count": 24,
   "metadata": {},
   "outputs": [
    {
     "name": "stdout",
     "output_type": "stream",
     "text": [
      "Average Test Accuracy:  0.6700918573875136\n",
      "Average Test F1:  0.33285664115339425\n",
      "Average Test ROC AUC:  0.6525407086101808\n"
     ]
    }
   ],
   "source": [
    "# Random Forest Model\n",
    "from sklearn.ensemble import RandomForestClassifier\n",
    "\n",
    "rfc = RandomForestClassifier()\n",
    "rfc.fit(X_train, y_train)\n",
    "scores = cross_validate(rfc, X_test, y_test, scoring=scoring, cv=tscv)\n",
    "\n",
    "rfc_accuracy = scores[\"test_accuracy\"].mean()\n",
    "rfc_f1 = scores[\"test_f1\"].mean()\n",
    "rfc_roc_auc = scores[\"test_roc_auc\"].mean()\n",
    "\n",
    "print(\"Average Test Accuracy: \", rfc_accuracy)\n",
    "print(\"Average Test F1: \", rfc_f1)\n",
    "print(\"Average Test ROC AUC: \", rfc_roc_auc)"
   ]
  },
  {
   "cell_type": "code",
   "execution_count": 25,
   "metadata": {},
   "outputs": [
    {
     "name": "stdout",
     "output_type": "stream",
     "text": [
      "Average Test Accuracy:  0.5336291452592247\n",
      "Average Test F1:  0.15258063694071797\n",
      "Average Test ROC AUC:  0.5741491849914188\n"
     ]
    }
   ],
   "source": [
    "# LDA Model\n",
    "from sklearn.discriminant_analysis import LinearDiscriminantAnalysis\n",
    "\n",
    "lda = LinearDiscriminantAnalysis()\n",
    "lda.fit(X_train, y_train)\n",
    "scores = cross_validate(lda, X_test, y_test, scoring=scoring, cv=tscv)\n",
    "\n",
    "lda_accuracy = scores[\"test_accuracy\"].mean()\n",
    "lda_f1 = scores[\"test_f1\"].mean()\n",
    "lda_roc_auc = scores[\"test_roc_auc\"].mean()\n",
    "\n",
    "print(\"Average Test Accuracy: \", lda_accuracy)\n",
    "print(\"Average Test F1: \", lda_f1)\n",
    "print(\"Average Test ROC AUC: \", lda_roc_auc)"
   ]
  },
  {
   "cell_type": "code",
   "execution_count": 26,
   "metadata": {},
   "outputs": [
    {
     "name": "stdout",
     "output_type": "stream",
     "text": [
      "Average Test Accuracy:  0.44457418651720376\n",
      "Average Test F1:  0.48703796900845053\n",
      "Average Test ROC AUC:  0.48581603894093545\n"
     ]
    }
   ],
   "source": [
    "# QDA Model\n",
    "from sklearn.discriminant_analysis import QuadraticDiscriminantAnalysis\n",
    "\n",
    "qda = QuadraticDiscriminantAnalysis()\n",
    "qda.fit(X_train, y_train)\n",
    "scores = cross_validate(qda, X_test, y_test, scoring=scoring, cv=tscv)\n",
    "\n",
    "qda_accuracy = scores[\"test_accuracy\"].mean()\n",
    "qda_f1 = scores[\"test_f1\"].mean()\n",
    "qda_roc_auc = scores[\"test_roc_auc\"].mean()\n",
    "\n",
    "print(\"Average Test Accuracy: \", qda_accuracy)\n",
    "print(\"Average Test F1: \", qda_f1)\n",
    "print(\"Average Test ROC AUC: \", qda_roc_auc)"
   ]
  },
  {
   "cell_type": "code",
   "execution_count": 29,
   "metadata": {},
   "outputs": [
    {
     "name": "stdout",
     "output_type": "stream",
     "text": [
      "Average Test Accuracy:  0.6619959520473299\n",
      "Average Test F1:  0.3735380440799003\n",
      "Average Test ROC AUC:  0.6214343299231487\n"
     ]
    }
   ],
   "source": [
    "# XGB Model\n",
    "from xgboost import XGBClassifier \n",
    "\n",
    "xgb = XGBClassifier()\n",
    "xgb.fit(X_train, y_train)\n",
    "scores = cross_validate(xgb, X_test, y_test, scoring=scoring, cv=tscv)\n",
    "\n",
    "xgb_accuracy = scores[\"test_accuracy\"].mean()\n",
    "xgb_f1 = scores[\"test_f1\"].mean()\n",
    "xgb_roc_auc = scores[\"test_roc_auc\"].mean()\n",
    "\n",
    "print(\"Average Test Accuracy: \", xgb_accuracy)\n",
    "print(\"Average Test F1: \", xgb_f1)\n",
    "print(\"Average Test ROC AUC: \", xgb_roc_auc)"
   ]
  },
  {
   "cell_type": "code",
   "execution_count": 33,
   "metadata": {},
   "outputs": [
    {
     "name": "stdout",
     "output_type": "stream",
     "text": [
      "Average Test Accuracy:  0.6628522497275416\n",
      "Average Test F1:  0.3689051738507024\n",
      "Average Test ROC AUC:  0.6244599017832141\n"
     ]
    }
   ],
   "source": [
    "from sklearn.ensemble import GradientBoostingClassifier\n",
    "\n",
    "gb = GradientBoostingClassifier()\n",
    "gb.fit(X_train, y_train)\n",
    "scores = cross_validate(gb, X_test, y_test, scoring=scoring, cv=tscv)\n",
    "\n",
    "gb_accuracy = scores[\"test_accuracy\"].mean()\n",
    "gb_f1 = scores[\"test_f1\"].mean()\n",
    "gb_roc_auc = scores[\"test_roc_auc\"].mean()\n",
    "\n",
    "print(\"Average Test Accuracy: \", gb_accuracy)\n",
    "print(\"Average Test F1: \", gb_f1)\n",
    "print(\"Average Test ROC AUC: \", gb_roc_auc)"
   ]
  },
  {
   "cell_type": "code",
   "execution_count": 34,
   "metadata": {},
   "outputs": [
    {
     "name": "stdout",
     "output_type": "stream",
     "text": [
      "Average Test Accuracy:  0.6227619492449011\n",
      "Average Test F1:  0.21930469355629467\n",
      "Average Test ROC AUC:  0.6388755391994043\n"
     ]
    }
   ],
   "source": [
    "from sklearn.ensemble import AdaBoostClassifier\n",
    "\n",
    "ab = AdaBoostClassifier()\n",
    "ab.fit(X_train, y_train)\n",
    "scores = cross_validate(ab, X_test, y_test, scoring=scoring, cv=tscv)\n",
    "\n",
    "ab_accuracy = scores[\"test_accuracy\"].mean()\n",
    "ab_f1 = scores[\"test_f1\"].mean()\n",
    "ab_roc_auc = scores[\"test_roc_auc\"].mean()\n",
    "\n",
    "print(\"Average Test Accuracy: \", ab_accuracy)\n",
    "print(\"Average Test F1: \", ab_f1)\n",
    "print(\"Average Test ROC AUC: \", ab_roc_auc)"
   ]
  },
  {
   "cell_type": "code",
   "execution_count": 36,
   "metadata": {},
   "outputs": [
    {
     "name": "stdout",
     "output_type": "stream",
     "text": [
      "Average Test Accuracy:  0.6606725829051845\n",
      "Average Test F1:  0.4442132511287414\n",
      "Average Test ROC AUC:  0.6456626700655507\n"
     ]
    }
   ],
   "source": [
    "from sklearn.ensemble import BaggingClassifier\n",
    "\n",
    "bag = BaggingClassifier()\n",
    "bag.fit(X_train, y_train)\n",
    "scores = cross_validate(bag, X_test, y_test, scoring=scoring, cv=tscv)\n",
    "\n",
    "bag_accuracy = scores[\"test_accuracy\"].mean()\n",
    "bag_f1 = scores[\"test_f1\"].mean()\n",
    "bag_roc_auc = scores[\"test_roc_auc\"].mean()\n",
    "\n",
    "print(\"Average Test Accuracy: \", bag_accuracy)\n",
    "print(\"Average Test F1: \", bag_f1)\n",
    "print(\"Average Test ROC AUC: \", bag_roc_auc)"
   ]
  },
  {
   "cell_type": "code",
   "execution_count": 38,
   "metadata": {},
   "outputs": [
    {
     "name": "stdout",
     "output_type": "stream",
     "text": [
      "Average Test Accuracy:  0.6712595360423478\n",
      "Average Test F1:  0.3692414360072885\n",
      "Average Test ROC AUC:  0.6555576633448229\n"
     ]
    }
   ],
   "source": [
    "from sklearn.ensemble import ExtraTreesClassifier\n",
    "\n",
    "etc = ExtraTreesClassifier()\n",
    "etc.fit(X_train, y_train)\n",
    "scores = cross_validate(etc, X_test, y_test, scoring=scoring, cv=tscv)\n",
    "\n",
    "etc_accuracy = scores[\"test_accuracy\"].mean()\n",
    "etc_f1 = scores[\"test_f1\"].mean()\n",
    "etc_roc_auc = scores[\"test_roc_auc\"].mean()\n",
    "\n",
    "print(\"Average Test Accuracy: \", etc_accuracy)\n",
    "print(\"Average Test F1: \", etc_f1)\n",
    "print(\"Average Test ROC AUC: \", etc_roc_auc)"
   ]
  },
  {
   "cell_type": "code",
   "execution_count": 40,
   "metadata": {},
   "outputs": [
    {
     "data": {
      "text/html": [
       "<div>\n",
       "<style scoped>\n",
       "    .dataframe tbody tr th:only-of-type {\n",
       "        vertical-align: middle;\n",
       "    }\n",
       "\n",
       "    .dataframe tbody tr th {\n",
       "        vertical-align: top;\n",
       "    }\n",
       "\n",
       "    .dataframe thead th {\n",
       "        text-align: right;\n",
       "    }\n",
       "</style>\n",
       "<table border=\"1\" class=\"dataframe\">\n",
       "  <thead>\n",
       "    <tr style=\"text-align: right;\">\n",
       "      <th></th>\n",
       "      <th>Model</th>\n",
       "      <th>Accuracy</th>\n",
       "      <th>F1</th>\n",
       "      <th>ROC_AUC</th>\n",
       "    </tr>\n",
       "  </thead>\n",
       "  <tbody>\n",
       "    <tr>\n",
       "      <th>7</th>\n",
       "      <td>Quadratic Discriminant Analysis</td>\n",
       "      <td>0.444574</td>\n",
       "      <td>0.487038</td>\n",
       "      <td>0.485816</td>\n",
       "    </tr>\n",
       "    <tr>\n",
       "      <th>11</th>\n",
       "      <td>Bagging Classifier</td>\n",
       "      <td>0.660673</td>\n",
       "      <td>0.444213</td>\n",
       "      <td>0.645663</td>\n",
       "    </tr>\n",
       "    <tr>\n",
       "      <th>4</th>\n",
       "      <td>Decision Tree</td>\n",
       "      <td>0.626966</td>\n",
       "      <td>0.403662</td>\n",
       "      <td>0.566084</td>\n",
       "    </tr>\n",
       "    <tr>\n",
       "      <th>8</th>\n",
       "      <td>XGBoost Classifier</td>\n",
       "      <td>0.661996</td>\n",
       "      <td>0.373538</td>\n",
       "      <td>0.621434</td>\n",
       "    </tr>\n",
       "    <tr>\n",
       "      <th>12</th>\n",
       "      <td>Extra Trees Classifier</td>\n",
       "      <td>0.671260</td>\n",
       "      <td>0.369241</td>\n",
       "      <td>0.655558</td>\n",
       "    </tr>\n",
       "    <tr>\n",
       "      <th>9</th>\n",
       "      <td>Gradient Boosting Classifier</td>\n",
       "      <td>0.662852</td>\n",
       "      <td>0.368905</td>\n",
       "      <td>0.624460</td>\n",
       "    </tr>\n",
       "    <tr>\n",
       "      <th>3</th>\n",
       "      <td>K-Nearest Neighbors</td>\n",
       "      <td>0.642068</td>\n",
       "      <td>0.351498</td>\n",
       "      <td>0.588532</td>\n",
       "    </tr>\n",
       "    <tr>\n",
       "      <th>5</th>\n",
       "      <td>Random Forest</td>\n",
       "      <td>0.670092</td>\n",
       "      <td>0.332857</td>\n",
       "      <td>0.652541</td>\n",
       "    </tr>\n",
       "    <tr>\n",
       "      <th>1</th>\n",
       "      <td>Naive Bayes</td>\n",
       "      <td>0.514479</td>\n",
       "      <td>0.323225</td>\n",
       "      <td>0.597099</td>\n",
       "    </tr>\n",
       "    <tr>\n",
       "      <th>10</th>\n",
       "      <td>Ada Boost Classifier</td>\n",
       "      <td>0.622762</td>\n",
       "      <td>0.219305</td>\n",
       "      <td>0.638876</td>\n",
       "    </tr>\n",
       "    <tr>\n",
       "      <th>6</th>\n",
       "      <td>Linear Discriminant Analysis</td>\n",
       "      <td>0.533629</td>\n",
       "      <td>0.152581</td>\n",
       "      <td>0.574149</td>\n",
       "    </tr>\n",
       "    <tr>\n",
       "      <th>0</th>\n",
       "      <td>Logistic Regression</td>\n",
       "      <td>0.529737</td>\n",
       "      <td>0.152224</td>\n",
       "      <td>0.558634</td>\n",
       "    </tr>\n",
       "    <tr>\n",
       "      <th>2</th>\n",
       "      <td>Stochastic Gradient Descent</td>\n",
       "      <td>0.479293</td>\n",
       "      <td>0.134477</td>\n",
       "      <td>0.532776</td>\n",
       "    </tr>\n",
       "  </tbody>\n",
       "</table>\n",
       "</div>"
      ],
      "text/plain": [
       "                              Model  Accuracy        F1   ROC_AUC\n",
       "7   Quadratic Discriminant Analysis  0.444574  0.487038  0.485816\n",
       "11               Bagging Classifier  0.660673  0.444213  0.645663\n",
       "4                     Decision Tree  0.626966  0.403662  0.566084\n",
       "8                XGBoost Classifier  0.661996  0.373538  0.621434\n",
       "12           Extra Trees Classifier  0.671260  0.369241  0.655558\n",
       "9      Gradient Boosting Classifier  0.662852  0.368905  0.624460\n",
       "3               K-Nearest Neighbors  0.642068  0.351498  0.588532\n",
       "5                     Random Forest  0.670092  0.332857  0.652541\n",
       "1                       Naive Bayes  0.514479  0.323225  0.597099\n",
       "10             Ada Boost Classifier  0.622762  0.219305  0.638876\n",
       "6      Linear Discriminant Analysis  0.533629  0.152581  0.574149\n",
       "0               Logistic Regression  0.529737  0.152224  0.558634\n",
       "2       Stochastic Gradient Descent  0.479293  0.134477  0.532776"
      ]
     },
     "execution_count": 40,
     "metadata": {},
     "output_type": "execute_result"
    }
   ],
   "source": [
    "models_df = pd.DataFrame({\n",
    "    'Model':[\"Logistic Regression\", \"Naive Bayes\", \"Stochastic Gradient Descent\", \"K-Nearest Neighbors\", \"Decision Tree\", \"Random Forest\", \"Linear Discriminant Analysis\", \"Quadratic Discriminant Analysis\", \"XGBoost Classifier\", \"Gradient Boosting Classifier\", \"Ada Boost Classifier\", \"Bagging Classifier\", \"Extra Trees Classifier\"],\n",
    "    'Accuracy':[lr_accuracy, nb_accuracy, sgd_accuracy, knn_accuracy, dt_accuracy, rfc_accuracy, lda_accuracy, qda_accuracy, xgb_accuracy, gb_accuracy, ab_accuracy, bag_accuracy, etc_accuracy],\n",
    "    'F1':[lr_f1, nb_f1, sgd_f1, knn_f1, dt_f1, rfc_f1, lda_f1, qda_f1, xgb_f1, gb_f1, ab_f1, bag_f1, etc_f1],\n",
    "    'ROC_AUC':[lr_roc_auc, nb_roc_auc, sgd_roc_auc, knn_roc_auc, dt_roc_auc, rfc_roc_auc, lda_roc_auc, qda_roc_auc, xgb_roc_auc, gb_roc_auc, ab_roc_auc, bag_roc_auc, etc_roc_auc],\n",
    "}, columns = [\"Model\", \"Accuracy\", \"F1\", \"ROC_AUC\"])\n",
    "\n",
    "models_df.sort_values(by='F1', ascending=False)"
   ]
  },
  {
   "cell_type": "code",
   "execution_count": null,
   "metadata": {},
   "outputs": [],
   "source": []
  }
 ],
 "metadata": {
  "kernelspec": {
   "display_name": "Python 3",
   "language": "python",
   "name": "python3"
  },
  "language_info": {
   "codemirror_mode": {
    "name": "ipython",
    "version": 3
   },
   "file_extension": ".py",
   "mimetype": "text/x-python",
   "name": "python",
   "nbconvert_exporter": "python",
   "pygments_lexer": "ipython3",
   "version": "3.7.3"
  }
 },
 "nbformat": 4,
 "nbformat_minor": 4
}
