{
 "cells": [
  {
   "cell_type": "code",
   "execution_count": 2,
   "metadata": {},
   "outputs": [],
   "source": [
    "import pandas as pd\n",
    "import numpy as np\n",
    "import matplotlib.pyplot as plt\n",
    "\n",
    "viirs_url = 'https://firms.modaps.eosdis.nasa.gov/data/active_fire/viirs/csv/VNP14IMGTDL_NRT_USA_contiguous_and_Hawaii_24h.csv'\n",
    "modis_url = 'https://firms.modaps.eosdis.nasa.gov/data/active_fire/c6/csv/MODIS_C6_USA_contiguous_and_Hawaii_24h.csv'"
   ]
  },
  {
   "cell_type": "code",
   "execution_count": 3,
   "metadata": {},
   "outputs": [],
   "source": [
    "v = pd.read_csv(viirs_url)\n",
    "m = pd.read_csv(modis_url)"
   ]
  },
  {
   "cell_type": "code",
   "execution_count": 12,
   "metadata": {},
   "outputs": [
    {
     "data": {
      "text/plain": [
       "((2092, 13), (523, 13))"
      ]
     },
     "execution_count": 12,
     "metadata": {},
     "output_type": "execute_result"
    }
   ],
   "source": [
    "v.shape, m.shape"
   ]
  },
  {
   "cell_type": "code",
   "execution_count": 14,
   "metadata": {},
   "outputs": [
    {
     "data": {
      "image/png": "[encoded data removed]",
      "text/plain": [
       "<Figure size 432x288 with 1 Axes>"
      ]
     },
     "metadata": {
      "needs_background": "light"
     },
     "output_type": "display_data"
    }
   ],
   "source": [
    "plt.hist(v['bright_ti4'], alpha=0.8)\n",
    "plt.hist(m['brightness'], alpha=0.8)\n",
    "plt.show()"
   ]
  },
  {
   "cell_type": "code",
   "execution_count": 15,
   "metadata": {},
   "outputs": [
    {
     "data": {
      "image/png": "[encoded data removed]",
      "text/plain": [
       "<Figure size 432x288 with 1 Axes>"
      ]
     },
     "metadata": {
      "needs_background": "light"
     },
     "output_type": "display_data"
    }
   ],
   "source": [
    "plt.hist(v['bright_ti5'], alpha=0.8)\n",
    "plt.hist(m['bright_t31'], alpha=0.8)\n",
    "plt.show()"
   ]
  },
  {
   "cell_type": "code",
   "execution_count": 16,
   "metadata": {},
   "outputs": [
    {
     "data": {
      "text/plain": [
       "((3623813, 14), (1780524, 15))"
      ]
     },
     "execution_count": 16,
     "metadata": {},
     "output_type": "execute_result"
    }
   ],
   "source": [
    "# historical modus and viirs data\n",
    "\n",
    "mh = pd.read_csv('fire_archive_M6_66499.csv')\n",
    "vh = pd.read_csv('fire_archive_V1_67178.csv')\n",
    "vh.shape, mh.shape"
   ]
  },
  {
   "cell_type": "code",
   "execution_count": 47,
   "metadata": {},
   "outputs": [
    {
     "data": {
      "text/plain": [
       "1.0NRT    2092\n",
       "Name: version, dtype: int64"
      ]
     },
     "execution_count": 47,
     "metadata": {},
     "output_type": "execute_result"
    }
   ],
   "source": [
    "v.version.value_counts()"
   ]
  },
  {
   "cell_type": "code",
   "execution_count": 48,
   "metadata": {},
   "outputs": [
    {
     "data": {
      "text/plain": [
       "1    3623813\n",
       "Name: version, dtype: int64"
      ]
     },
     "execution_count": 48,
     "metadata": {},
     "output_type": "execute_result"
    }
   ],
   "source": [
    "vh.version.value_counts()"
   ]
  },
  {
   "cell_type": "code",
   "execution_count": 49,
   "metadata": {},
   "outputs": [
    {
     "data": {
      "text/plain": [
       "6.2    1780524\n",
       "Name: version, dtype: int64"
      ]
     },
     "execution_count": 49,
     "metadata": {},
     "output_type": "execute_result"
    }
   ],
   "source": [
    "mh.version.value_counts()"
   ]
  },
  {
   "cell_type": "code",
   "execution_count": 50,
   "metadata": {},
   "outputs": [
    {
     "data": {
      "text/plain": [
       "6.0NRT    523\n",
       "Name: version, dtype: int64"
      ]
     },
     "execution_count": 50,
     "metadata": {},
     "output_type": "execute_result"
    }
   ],
   "source": [
    "m.version.value_counts()"
   ]
  },
  {
   "cell_type": "code",
   "execution_count": 40,
   "metadata": {},
   "outputs": [
    {
     "data": {
      "image/png": "[encoded data removed]",
      "text/plain": [
       "<Figure size 720x432 with 1 Axes>"
      ]
     },
     "metadata": {
      "needs_background": "light"
     },
     "output_type": "display_data"
    }
   ],
   "source": [
    "from matplotlib.pyplot import figure\n",
    "figure(num=1, figsize=(10,6))\n",
    "\n",
    "# set width of bar\n",
    "barWidth = 0.15\n",
    " \n",
    "# set height of bar\n",
    "bars1 = [v.bright_ti4.mean(), v.bright_ti5.mean()]\n",
    "bars2 = [vh.bright_ti4.mean(), vh.bright_ti5.mean()]\n",
    "bars3 = [m.brightness.mean(), m.bright_t31.mean()]\n",
    "bars4 = [mh.brightness.mean(), mh.bright_t31.mean()]\n",
    "\n",
    "#set error bars\n",
    "error1 = [v.bright_ti4.std(), v.bright_ti5.std()]\n",
    "error2 = [vh.bright_ti4.std(), vh.bright_ti5.std()]\n",
    "error3 = [m.brightness.std(), m.bright_t31.std()]\n",
    "error4 = [mh.brightness.std(), mh.bright_t31.std()]\n",
    " \n",
    "# Set position of bar on X axis\n",
    "r1 = np.arange(len(bars1))\n",
    "r2 = [x + barWidth for x in r1]\n",
    "r3 = [x + barWidth for x in r2]\n",
    "r4 = [x + barWidth for x in r3]\n",
    " \n",
    "# Make the plot\n",
    "plt.bar(r1, bars1, yerr=error1, color='#7f6d5f', width=barWidth, edgecolor='white', label='viirs_current')\n",
    "plt.bar(r2, bars2, yerr=error2, color='#557f2d', width=barWidth, edgecolor='white', label='viirs_historical')\n",
    "plt.bar(r3, bars3, yerr=error3, color='#2d7f5e', width=barWidth, edgecolor='white', label='modis_current')\n",
    "plt.bar(r4, bars4, yerr=error4, color='#bab86c', width=barWidth, edgecolor='white', label='modis_historical')\n",
    " \n",
    "# Add xticks on the middle of the group bars\n",
    "plt.xlabel('group', fontweight='bold')\n",
    "plt.xticks([r + barWidth for r in range(len(bars1))], ['bright_ti4/brightness', 'bright_ti5/bright_t31'])\n",
    " \n",
    "# Create legend & Show graphic\n",
    "plt.legend()\n",
    "plt.show()"
   ]
  },
  {
   "cell_type": "code",
   "execution_count": 41,
   "metadata": {},
   "outputs": [
    {
     "data": {
      "image/png": "[encoded data removed]",
      "text/plain": [
       "<Figure size 720x432 with 1 Axes>"
      ]
     },
     "metadata": {
      "needs_background": "light"
     },
     "output_type": "display_data"
    }
   ],
   "source": [
    "figure(num=1, figsize=(10,6))\n",
    "\n",
    "# set width of bar\n",
    "barWidth = 0.15\n",
    " \n",
    "# set height of bar\n",
    "bars1 = [v.scan.mean(), v.track.mean()]\n",
    "bars2 = [vh.scan.mean(), vh.track.mean()]\n",
    "bars3 = [m.scan.mean(), m.track.mean()]\n",
    "bars4 = [mh.scan.mean(), mh.track.mean()]\n",
    "\n",
    "#set error bars\n",
    "error1 = [v.scan.std(), v.track.std()]\n",
    "error2 = [vh.scan.std(), vh.track.std()]\n",
    "error3 = [m.scan.std(), m.track.std()]\n",
    "error4 = [mh.scan.std(), mh.track.std()]\n",
    " \n",
    "# Set position of bar on X axis\n",
    "r1 = np.arange(len(bars1))\n",
    "r2 = [x + barWidth for x in r1]\n",
    "r3 = [x + barWidth for x in r2]\n",
    "r4 = [x + barWidth for x in r3]\n",
    " \n",
    "# Make the plot\n",
    "plt.bar(r1, bars1, yerr=error1, color='#7f6d5f', width=barWidth, edgecolor='white', label='viirs_current')\n",
    "plt.bar(r2, bars2, yerr=error2, color='#557f2d', width=barWidth, edgecolor='white', label='viirs_historical')\n",
    "plt.bar(r3, bars3, yerr=error3, color='#2d7f5e', width=barWidth, edgecolor='white', label='modis_current')\n",
    "plt.bar(r4, bars4, yerr=error4, color='#bab86c', width=barWidth, edgecolor='white', label='modis_historical')\n",
    " \n",
    "# Add xticks on the middle of the group bars\n",
    "plt.xlabel('group', fontweight='bold')\n",
    "plt.xticks([r + barWidth for r in range(len(bars1))], ['scan', 'track'])\n",
    " \n",
    "# Create legend & Show graphic\n",
    "plt.legend()\n",
    "plt.show()"
   ]
  },
  {
   "cell_type": "code",
   "execution_count": 44,
   "metadata": {},
   "outputs": [
    {
     "data": {
      "image/png": "[encoded data removed]",
      "text/plain": [
       "<Figure size 432x288 with 1 Axes>"
      ]
     },
     "metadata": {
      "needs_background": "light"
     },
     "output_type": "display_data"
    }
   ],
   "source": [
    "#figure(num=1, figsize=(8,4))\n",
    "\n",
    "# set width of bar\n",
    "barWidth = 0.15\n",
    " \n",
    "# set height of bar\n",
    "bars1 = [v.frp.mean()]\n",
    "bars2 = [vh.frp.mean()]\n",
    "bars3 = [m.frp.mean()]\n",
    "bars4 = [mh.frp.mean()]\n",
    "\n",
    "#set error bars\n",
    "error1 = [v.frp.std()]\n",
    "error2 = [vh.frp.std()]\n",
    "error3 = [m.frp.std()]\n",
    "error4 = [mh.frp.std()]\n",
    " \n",
    "# Set position of bar on X axis\n",
    "r1 = np.arange(len(bars1))\n",
    "r2 = [x + barWidth for x in r1]\n",
    "r3 = [x + barWidth for x in r2]\n",
    "r4 = [x + barWidth for x in r3]\n",
    " \n",
    "# Make the plot\n",
    "plt.bar(r1, bars1, yerr=error1, color='#7f6d5f', width=barWidth, edgecolor='white', label='viirs_current')\n",
    "plt.bar(r2, bars2, yerr=error2, color='#557f2d', width=barWidth, edgecolor='white', label='viirs_historical')\n",
    "plt.bar(r3, bars3, yerr=error3, color='#2d7f5e', width=barWidth, edgecolor='white', label='modis_current')\n",
    "plt.bar(r4, bars4, yerr=error4, color='#bab86c', width=barWidth, edgecolor='white', label='modis_historical')\n",
    " \n",
    "# Add xticks on the middle of the group bars\n",
    "plt.xlabel('group', fontweight='bold')\n",
    "plt.xticks([r + barWidth for r in range(len(bars1))], ['frp'])\n",
    " \n",
    "# Create legend & Show graphic\n",
    "plt.legend(loc='upper left')\n",
    "plt.show()"
   ]
  }
 ],
 "metadata": {
  "kernelspec": {
   "display_name": "Python 3",
   "language": "python",
   "name": "python3"
  },
  "language_info": {
   "codemirror_mode": {
    "name": "ipython",
    "version": 3
   },
   "file_extension": ".py",
   "mimetype": "text/x-python",
   "name": "python",
   "nbconvert_exporter": "python",
   "pygments_lexer": "ipython3",
   "version": "3.7.3"
  }
 },
 "nbformat": 4,
 "nbformat_minor": 4
}
